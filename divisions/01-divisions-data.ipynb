{
 "cells": [
  {
   "cell_type": "markdown",
   "metadata": {},
   "source": [
    "# Votes (Divisions) in the Oireachtas: 01 - Data\n",
    "\n",
    "An API is now available, see https://data.oireachtas.ie/ for documentation."
   ]
  },
  {
   "cell_type": "code",
   "execution_count": 1,
   "metadata": {
    "collapsed": true
   },
   "outputs": [],
   "source": [
    "# Commonly useful notebook functions:\n",
    "import sys\n",
    "sys.path.insert(0,'../lib')\n",
    "from common import *"
   ]
  },
  {
   "cell_type": "code",
   "execution_count": 2,
   "metadata": {},
   "outputs": [
    {
     "data": {
      "application/vnd.jupyter.widget-view+json": {
       "model_id": "24d798fcec6f430398483c4f616bb5cf"
      }
     },
     "metadata": {},
     "output_type": "display_data"
    },
    {
     "name": "stdout",
     "output_type": "stream",
     "text": [
      "\n",
      "\n"
     ]
    }
   ],
   "source": [
    "# Save json from https://api.oireachtas.ie/\n",
    "# Max results available for paging through with limit & skip is 10,000 so splitting by years works best\n",
    "def save_page(year, overwrite=False):\n",
    "    save_page_year('divisions', year, overwrite)\n",
    "    \n",
    "# Entire dataset: 11475 as of 15-12-2017, starts at 1922\n",
    "years = range(1922, datetime.now().year + 1)\n",
    "process_with_progress(save_page, years)\n",
    "print()"
   ]
  },
  {
   "cell_type": "code",
   "execution_count": 3,
   "metadata": {
    "collapsed": true
   },
   "outputs": [],
   "source": [
    "# To update after loading everything already: Grab the latest year and overwrite it:\n",
    "save_page(datetime.now().year, True)"
   ]
  },
  {
   "cell_type": "code",
   "execution_count": 7,
   "metadata": {
    "collapsed": true
   },
   "outputs": [],
   "source": [
    "# Explore an example year of results (2002 has very few votes for some reason):\n",
    "with lzma.open('data/year/2002.json.xz', 'rb') as f:\n",
    "    preview = json.loads(f.read().decode('utf-8'))"
   ]
  },
  {
   "cell_type": "code",
   "execution_count": 8,
   "metadata": {},
   "outputs": [
    {
     "data": {
      "text/html": [
       "<style>\n",
       "          .renderjson a { text-decoration: none; }\n",
       "          .renderjson .disclosure { color: grey; text-decoration: none; }\n",
       "          .renderjson .syntax { color: grey; }\n",
       "          .renderjson .string { color: darkred; }\n",
       "          .renderjson .number { color: darkcyan; }\n",
       "          .renderjson .boolean { color: blueviolet; }\n",
       "          .renderjson .key    { color: darkblue; }\n",
       "          .renderjson .keyword { color: blue; }\n",
       "          .renderjson .object.syntax { color: lightseagreen; }\n",
       "          .renderjson .array.syntax  { color: orange; }\n",
       "          </style><div id=\"43ed4ef9-89a1-4ab6-af27-5e19557507ca\" style=\"height: 100%; width:100%;\"></div>"
      ]
     },
     "metadata": {},
     "output_type": "display_data"
    },
    {
     "data": {
      "application/javascript": [
       "\n",
       "          require([\"https://rawgit.com/caldwell/renderjson/master/renderjson.js\"], function() {\n",
       "          renderjson.set_show_to_level(1)\n",
       "          renderjson.set_sort_objects(true)\n",
       "          renderjson.set_icons('▶', '▼')\n",
       "          document.getElementById('43ed4ef9-89a1-4ab6-af27-5e19557507ca').appendChild(renderjson({\"head\": {\"counts\": {\"divisionCount\": 11, \"resultCount\": 11}, \"dateRange\": {\"start\": \"2002-01-01T00:00:00.000Z\", \"end\": \"2003-01-01T00:00:00.000Z\"}, \"lang\": \"mul\"}, \"results\": [{\"division\": {\"isBill\": false, \"tellers\": \"\", \"datetime\": null, \"subject\": {\"showAs\": \"The Committee divided: T\\u00e1, \", \"uri\": null}, \"date\": \"2002-12-11\", \"voteId\": \"vote_2\", \"outcome\": \"_\", \"debate\": {\"debateSection\": \"dbsect_3\", \"formats\": {\"xml\": {\"uri\": \"/akn/ie/debateRecord/select_committee_on_arts_sport_tourism_community_rural_and_gaeltacht_affairs/2002-12-11/debate/mul@/main.xml\"}, \"pdf\": null}, \"showAs\": \"Arts Bill, 2002: Committee Stage.\", \"uri\": \"/akn/ie/debateRecord/select_committee_on_arts_sport_tourism_community_rural_and_gaeltacht_affairs/2002-12-11/debate/main\"}, \"chamber\": {\"showAs\": \"SELECT COMMITTEE ON ARTS, SPORT, TOURISM, COMMUNITY, RURAL AND GAELTACHT AFFAIRS\", \"uri\": \"/ie/oireachtas/committee\"}, \"category\": \"Division\", \"tallies\": {\"taVotes\": {\"tally\": 2, \"members\": [{\"member\": {\"memberCode\": \"Jimmy-Deenihan.S.1983-02-23\", \"showAs\": \"Deenihan, Jimmy.\", \"uri\": \"/ie/oireachtas/member/id/Jimmy-Deenihan.S.1983-02-23\"}}, {\"member\": {\"memberCode\": \"Damien-English.D.2002-06-06\", \"showAs\": \"English, Damien.\", \"uri\": \"/ie/oireachtas/member/id/Damien-English.D.2002-06-06\"}}], \"showAs\": \"T\\u00e1\"}, \"nilVotes\": {\"tally\": 8, \"members\": [{\"member\": {\"memberCode\": \"James-Breen.D.2002-06-06\", \"showAs\": \"Breen, James.\", \"uri\": \"/ie/oireachtas/member/id/James-Breen.D.2002-06-06\"}}, {\"member\": {\"memberCode\": \"Michael-Collins.D.1997-06-26\", \"showAs\": \"Collins, Michael.\", \"uri\": \"/ie/oireachtas/member/id/Michael-Collins.D.1997-06-26\"}}, {\"member\": {\"memberCode\": \"Jim-Glennon.S.2000-06-09\", \"showAs\": \"Glennon, Jim.\", \"uri\": \"/ie/oireachtas/member/id/Jim-Glennon.S.2000-06-09\"}}, {\"member\": {\"memberCode\": \"Cecilia-Keaveney.D.1996-04-02\", \"showAs\": \"Keaveney, Cecilia.\", \"uri\": \"/ie/oireachtas/member/id/Cecilia-Keaveney.D.1996-04-02\"}}, {\"member\": {\"memberCode\": \"Peter-Kelly.D.2002-06-06\", \"showAs\": \"Kelly, Peter.\", \"uri\": \"/ie/oireachtas/member/id/Peter-Kelly.D.2002-06-06\"}}, {\"member\": {\"memberCode\": \"John-O'Donoghue.D.1987-03-10\", \"showAs\": \"O\\u2019Donoghue, John.\", \"uri\": \"/ie/oireachtas/member/id/John-O'Donoghue.D.1987-03-10\"}}, {\"member\": {\"memberCode\": \"Fiona-O'Malley.D.2002-06-06\", \"showAs\": \"O\\u2019Malley, Fiona.\", \"uri\": \"/ie/oireachtas/member/id/Fiona-O'Malley.D.2002-06-06\"}}, {\"member\": {\"memberCode\": \"G-V-Wright.S.1982-05-13\", \"showAs\": \"Wright, G. V.\", \"uri\": \"/ie/oireachtas/member/id/G-V-Wright.S.1982-05-13\"}}], \"showAs\": \"N\\u00edl\"}, \"staonVotes\": null}, \"house\": {\"chamberType\": \"committee\", \"houseCode\": \"dail\", \"houseNo\": \"29\", \"committeeCode\": \"select_committee_on_arts,_sport,_tourism,_community,_rural_and_gaeltacht_affairs\", \"showAs\": \"SELECT COMMITTEE ON ARTS, SPORT, TOURISM, COMMUNITY, RURAL AND GAELTACHT AFFAIRS\", \"uri\": \"/ie/oireachtas/committee/dail/29/select_committee_on_arts,_sport,_tourism,_community,_rural_and_gaeltacht_affairs\"}, \"uri\": \"/ie/oireachtas/division/committee/dail/29/select_committee_on_arts,_sport,_tourism,_community,_rural_and_gaeltacht_affairs/2002-12-11/vote_2\"}}, {\"division\": {\"chamber\": {\"uri\": \"/ie/oireachtas/house/seanad\", \"showAs\": \"Seanad \\u00c9ireann\"}, \"voteId\": \"vote_1\", \"uri\": \"/ie/oireachtas/division/house/seanad/22/2002-12-11/vote_1\", \"date\": \"2002-12-11\", \"house\": {\"houseCode\": \"seanad\", \"committeeCode\": \"\", \"chamberType\": \"house\", \"showAs\": \"22nd Seanad\", \"houseNo\": \"22\", \"uri\": \"/ie/oireachtas/house/seanad/22\"}, \"tellers\": \"Tellers: T\\u00e1, Senators Minihan and Moylan; N\\u00edl, Senators U. Burke and Feighan.\", \"subject\": {\"uri\": null, \"showAs\": \"Amendment put.\"}, \"debate\": {\"formats\": {\"pdf\": null, \"xml\": {\"uri\": \"/akn/ie/debateRecord/seanad/2002-12-11/debate/mul@/main.xml\"}}, \"showAs\": \"Primary Education: Motion.\", \"debateSection\": \"dbsect_7\", \"uri\": \"/akn/ie/debateRecord/seanad/2002-12-11/debate/main\"}, \"tallies\": {\"taVotes\": {\"showAs\": \"T\\u00e1\", \"tally\": 30, \"members\": []}, \"nilVotes\": {\"showAs\": \"N\\u00edl\", \"tally\": 19, \"members\": []}, \"staonVotes\": null}, \"datetime\": null, \"isBill\": false, \"outcome\": \"Carried\", \"category\": \"Division\"}}, {\"division\": {\"isBill\": false, \"tellers\": \"\", \"datetime\": null, \"subject\": {\"showAs\": \"The Select Committee divided: T\\u00e1, \", \"uri\": null}, \"date\": \"2002-12-11\", \"voteId\": \"vote_1\", \"outcome\": \"_\", \"debate\": {\"debateSection\": \"dbsect_3\", \"formats\": {\"xml\": {\"uri\": \"/akn/ie/debateRecord/select_committee_on_arts_sport_tourism_community_rural_and_gaeltacht_affairs/2002-12-11/debate/mul@/main.xml\"}, \"pdf\": null}, \"showAs\": \"Arts Bill, 2002: Committee Stage.\", \"uri\": \"/akn/ie/debateRecord/select_committee_on_arts_sport_tourism_community_rural_and_gaeltacht_affairs/2002-12-11/debate/main\"}, \"chamber\": {\"showAs\": \"SELECT COMMITTEE ON ARTS, SPORT, TOURISM, COMMUNITY, RURAL AND GAELTACHT AFFAIRS\", \"uri\": \"/ie/oireachtas/committee\"}, \"category\": \"Division\", \"tallies\": {\"taVotes\": {\"tally\": 4, \"members\": [{\"member\": {\"memberCode\": \"Jimmy-Deenihan.S.1983-02-23\", \"showAs\": \"Deenihan, Jimmy.\", \"uri\": \"/ie/oireachtas/member/id/Jimmy-Deenihan.S.1983-02-23\"}}, {\"member\": {\"memberCode\": \"Damien-English.D.2002-06-06\", \"showAs\": \"English, Damien.\", \"uri\": \"/ie/oireachtas/member/id/Damien-English.D.2002-06-06\"}}, {\"member\": {\"memberCode\": \"Brian-O'Shea.S.1987-04-25\", \"showAs\": \"O\\u2019Shea, Brian.\", \"uri\": \"/ie/oireachtas/member/id/Brian-O'Shea.S.1987-04-25\"}}, {\"member\": {\"memberCode\": \"Jack-Wall.S.1993-02-17\", \"showAs\": \"Wall, Jack.\", \"uri\": \"/ie/oireachtas/member/id/Jack-Wall.S.1993-02-17\"}}], \"showAs\": \"T\\u00e1\"}, \"nilVotes\": {\"tally\": 8, \"members\": [{\"member\": {\"memberCode\": \"James-Breen.D.2002-06-06\", \"showAs\": \"Breen, James.\", \"uri\": \"/ie/oireachtas/member/id/James-Breen.D.2002-06-06\"}}, {\"member\": {\"memberCode\": \"Michael-Collins.D.1997-06-26\", \"showAs\": \"Collins, Michael.\", \"uri\": \"/ie/oireachtas/member/id/Michael-Collins.D.1997-06-26\"}}, {\"member\": {\"memberCode\": \"Jim-Glennon.S.2000-06-09\", \"showAs\": \"Glennon, Jim.\", \"uri\": \"/ie/oireachtas/member/id/Jim-Glennon.S.2000-06-09\"}}, {\"member\": {\"memberCode\": \"Cecilia-Keaveney.D.1996-04-02\", \"showAs\": \"Keaveney, Cecilia.\", \"uri\": \"/ie/oireachtas/member/id/Cecilia-Keaveney.D.1996-04-02\"}}, {\"member\": {\"memberCode\": \"Peter-Kelly.D.2002-06-06\", \"showAs\": \"Kelly, Peter.\", \"uri\": \"/ie/oireachtas/member/id/Peter-Kelly.D.2002-06-06\"}}, {\"member\": {\"memberCode\": \"John-O'Donoghue.D.1987-03-10\", \"showAs\": \"O\\u2019Donoghue, John.\", \"uri\": \"/ie/oireachtas/member/id/John-O'Donoghue.D.1987-03-10\"}}, {\"member\": {\"memberCode\": \"Fiona-O'Malley.D.2002-06-06\", \"showAs\": \"O\\u2019Malley, Fiona.\", \"uri\": \"/ie/oireachtas/member/id/Fiona-O'Malley.D.2002-06-06\"}}, {\"member\": {\"memberCode\": \"G-V-Wright.S.1982-05-13\", \"showAs\": \"Wright, G. V.\", \"uri\": \"/ie/oireachtas/member/id/G-V-Wright.S.1982-05-13\"}}], \"showAs\": \"N\\u00edl\"}, \"staonVotes\": null}, \"house\": {\"chamberType\": \"committee\", \"houseCode\": \"dail\", \"houseNo\": \"29\", \"committeeCode\": \"select_committee_on_arts,_sport,_tourism,_community,_rural_and_gaeltacht_affairs\", \"showAs\": \"SELECT COMMITTEE ON ARTS, SPORT, TOURISM, COMMUNITY, RURAL AND GAELTACHT AFFAIRS\", \"uri\": \"/ie/oireachtas/committee/dail/29/select_committee_on_arts,_sport,_tourism,_community,_rural_and_gaeltacht_affairs\"}, \"uri\": \"/ie/oireachtas/division/committee/dail/29/select_committee_on_arts,_sport,_tourism,_community,_rural_and_gaeltacht_affairs/2002-12-11/vote_1\"}}, {\"division\": {\"isBill\": false, \"tellers\": \"\", \"datetime\": null, \"subject\": {\"showAs\": \"The Select Committee divided: T\\u00e1, \", \"uri\": null}, \"date\": \"2002-12-10\", \"voteId\": \"vote_1\", \"outcome\": \"Carried\", \"debate\": {\"debateSection\": \"dbsect_2\", \"formats\": {\"xml\": {\"uri\": \"/akn/ie/debateRecord/select_committee_on_finance_and_the_public_service/2002-12-10/debate/mul@/main.xml\"}, \"pdf\": null}, \"showAs\": \"National Development Finance Agency Bill, 2002: Committee Stage.\", \"uri\": \"/akn/ie/debateRecord/select_committee_on_finance_and_the_public_service/2002-12-10/debate/main\"}, \"chamber\": {\"showAs\": \"SELECT COMMITTEE ON FINANCE AND THE PUBLIC SERVICE\", \"uri\": \"/ie/oireachtas/committee\"}, \"category\": \"Division\", \"tallies\": {\"taVotes\": {\"tally\": 7, \"members\": [{\"member\": {\"memberCode\": \"Michael-Finneran.S.1989-10-01\", \"showAs\": \"Finneran, Michael.\", \"uri\": \"/ie/oireachtas/member/id/Michael-Finneran.S.1989-10-01\"}}, {\"member\": {\"memberCode\": \"Se\\u00e1n-Fleming.D.1997-06-26\", \"showAs\": \"Fleming, Se\\u00e1n.\", \"uri\": \"/ie/oireachtas/member/id/Se\\u00e1n-Fleming.D.1997-06-26\"}}, {\"member\": {\"memberCode\": \"Conor-Lenihan.D.1997-06-26\", \"showAs\": \"Lenihan, Conor.\", \"uri\": \"/ie/oireachtas/member/id/Conor-Lenihan.D.1997-06-26\"}}, {\"member\": {\"memberCode\": \"Charlie-McCreevy.D.1977-07-05\", \"showAs\": \"McCreevy, Charlie.\", \"uri\": \"/ie/oireachtas/member/id/Charlie-McCreevy.D.1977-07-05\"}}, {\"member\": {\"memberCode\": \"John-McGuinness.D.1997-06-26\", \"showAs\": \"McGuinness, John.\", \"uri\": \"/ie/oireachtas/member/id/John-McGuinness.D.1997-06-26\"}}, {\"member\": {\"memberCode\": \"M-J-Nolan.S.1982-05-13\", \"showAs\": \"Nolan, M. J.\", \"uri\": \"/ie/oireachtas/member/id/M-J-Nolan.S.1982-05-13\"}}, {\"member\": {\"memberCode\": \"Ned-O'Keeffe.S.1982-05-13\", \"showAs\": \"O\\u2019Keeffe, Ned.\", \"uri\": \"/ie/oireachtas/member/id/Ned-O'Keeffe.S.1982-05-13\"}}], \"showAs\": \"T\\u00e1\"}, \"nilVotes\": {\"tally\": 5, \"members\": [{\"member\": {\"memberCode\": \"Richard-Bruton.S.1981-10-08\", \"showAs\": \"Bruton, Richard,\", \"uri\": \"/ie/oireachtas/member/id/Richard-Bruton.S.1981-10-08\"}}, {\"member\": {\"memberCode\": \"Joan-Burton.D.1992-12-14\", \"showAs\": \"Burton, Joan.\", \"uri\": \"/ie/oireachtas/member/id/Joan-Burton.D.1992-12-14\"}}, {\"member\": {\"memberCode\": \"Paul-McGrath.D.1989-06-29\", \"showAs\": \"McGrath, Paul.\", \"uri\": \"/ie/oireachtas/member/id/Paul-McGrath.D.1989-06-29\"}}, {\"member\": {\"memberCode\": \"Caoimhgh\\u00edn-\\u00d3-Caol\\u00e1in.D.1997-06-26\", \"showAs\": \"\\u00d3 Caol\\u00e1in, Caoimhgh\\u00edn.\", \"uri\": \"/ie/oireachtas/member/id/Caoimhgh\\u00edn-\\u00d3-Caol\\u00e1in.D.1997-06-26\"}}, {\"member\": {\"memberCode\": \"Liam-Twomey.D.2002-06-06\", \"showAs\": \"Twomey, Liam.\", \"uri\": \"/ie/oireachtas/member/id/Liam-Twomey.D.2002-06-06\"}}], \"showAs\": \"N\\u00edl\"}, \"staonVotes\": null}, \"house\": {\"chamberType\": \"committee\", \"houseCode\": \"dail\", \"houseNo\": \"29\", \"committeeCode\": \"select_committee_on_finance_and_the_public_service\", \"showAs\": \"SELECT COMMITTEE ON FINANCE AND THE PUBLIC SERVICE\", \"uri\": \"/ie/oireachtas/committee/dail/29/select_committee_on_finance_and_the_public_service\"}, \"uri\": \"/ie/oireachtas/division/committee/dail/29/select_committee_on_finance_and_the_public_service/2002-12-10/vote_1\"}}, {\"division\": {\"chamber\": {\"uri\": \"/ie/oireachtas/house/seanad\", \"showAs\": \"Seanad \\u00c9ireann\"}, \"voteId\": \"vote_1\", \"uri\": \"/ie/oireachtas/division/house/seanad/22/2002-12-10/vote_1\", \"date\": \"2002-12-10\", \"house\": {\"houseCode\": \"seanad\", \"committeeCode\": \"\", \"chamberType\": \"house\", \"showAs\": \"22nd Seanad\", \"houseNo\": \"22\", \"uri\": \"/ie/oireachtas/house/seanad/22\"}, \"tellers\": \"Tellers: T\\u00e1, Senators Minihan and Moylan; N\\u00edl, Senators McCarthy and O'Meara.\", \"subject\": {\"uri\": null, \"showAs\": \"Question put.\"}, \"debate\": {\"formats\": {\"pdf\": null, \"xml\": {\"uri\": \"/akn/ie/debateRecord/seanad/2002-12-10/debate/mul@/main.xml\"}}, \"showAs\": \"Planning and Development (Amendment) Bill, 2002: Second Stage.\", \"debateSection\": \"dbsect_5\", \"uri\": \"/akn/ie/debateRecord/seanad/2002-12-10/debate/main\"}, \"tallies\": {\"taVotes\": {\"showAs\": \"T\\u00e1\", \"tally\": 19, \"members\": []}, \"nilVotes\": {\"showAs\": \"N\\u00edl\", \"tally\": 9, \"members\": []}, \"staonVotes\": null}, \"datetime\": null, \"isBill\": false, \"outcome\": \"Carried\", \"category\": \"Division\"}}, {\"division\": {\"tallies\": {\"taVotes\": {\"members\": [{\"member\": {\"uri\": null, \"memberCode\": null, \"showAs\": \"Brady, Cyprian.\"}}, {\"member\": {\"uri\": null, \"memberCode\": null, \"showAs\": \"Brennan, Michael.\"}}, {\"member\": {\"uri\": null, \"memberCode\": null, \"showAs\": \"Cox, Margaret.\"}}, {\"member\": {\"uri\": null, \"memberCode\": null, \"showAs\": \"Daly, Brendan.\"}}, {\"member\": {\"uri\": null, \"memberCode\": null, \"showAs\": \"Dooley, Timmy.\"}}, {\"member\": {\"uri\": null, \"memberCode\": null, \"showAs\": \"Feeney, Geraldine.\"}}, {\"member\": {\"uri\": null, \"memberCode\": null, \"showAs\": \"Fitzgerald, Liam.\"}}, {\"member\": {\"uri\": null, \"memberCode\": null, \"showAs\": \"Glynn, Camillus.\"}}, {\"member\": {\"uri\": null, \"memberCode\": null, \"showAs\": \"Hanafin, John.\"}}, {\"member\": {\"uri\": null, \"memberCode\": null, \"showAs\": \"Kenneally, Brendan.\"}}, {\"member\": {\"uri\": null, \"memberCode\": null, \"showAs\": \"Kitt, Michael P.\"}}, {\"member\": {\"uri\": null, \"memberCode\": null, \"showAs\": \"Lydon, Don.\"}}, {\"member\": {\"uri\": null, \"memberCode\": null, \"showAs\": \"MacSharry, Marc.\"}}, {\"member\": {\"uri\": null, \"memberCode\": null, \"showAs\": \"Mansergh, Martin.\"}}, {\"member\": {\"uri\": null, \"memberCode\": null, \"showAs\": \"Minihan, John.\"}}, {\"member\": {\"uri\": null, \"memberCode\": null, \"showAs\": \"Mooney, Paschal C.\"}}, {\"member\": {\"uri\": null, \"memberCode\": null, \"showAs\": \"Morrisey, Tom.\"}}, {\"member\": {\"uri\": null, \"memberCode\": null, \"showAs\": \"Moylan, Pat.\"}}, {\"member\": {\"uri\": null, \"memberCode\": null, \"showAs\": \"O'Brien, Francis.\"}}, {\"member\": {\"uri\": null, \"memberCode\": null, \"showAs\": \"\\u00d3 Murch\\u00fa, Labhr\\u00e1s.\"}}, {\"member\": {\"uri\": null, \"memberCode\": null, \"showAs\": \"Ormonde, Ann.\"}}, {\"member\": {\"uri\": null, \"memberCode\": null, \"showAs\": \"Phelan, Kieran.\"}}, {\"member\": {\"uri\": null, \"memberCode\": null, \"showAs\": \"Scanlon, Eamon.\"}}, {\"member\": {\"uri\": null, \"memberCode\": null, \"showAs\": \"Walsh, Jim.\"}}, {\"member\": {\"uri\": null, \"memberCode\": null, \"showAs\": \"Walsh, Kate.\"}}, {\"member\": {\"uri\": null, \"memberCode\": null, \"showAs\": \"White, Mary M.\"}}, {\"member\": {\"uri\": null, \"memberCode\": null, \"showAs\": \"Wilson, Diarmuid.\"}}], \"tally\": 27, \"showAs\": \"T\\u00e1\"}, \"staonVotes\": null, \"nilVotes\": {\"members\": [{\"member\": {\"uri\": null, \"memberCode\": null, \"showAs\": \"Bannon, James.\"}}, {\"member\": {\"uri\": null, \"memberCode\": null, \"showAs\": \"Bradford, Paul.\"}}, {\"member\": {\"uri\": null, \"memberCode\": null, \"showAs\": \"Burke, Paddy.\"}}, {\"member\": {\"uri\": null, \"memberCode\": null, \"showAs\": \"Burke, Ulick.\"}}, {\"member\": {\"uri\": null, \"memberCode\": null, \"showAs\": \"Coghlan, Paul.\"}}, {\"member\": {\"uri\": null, \"memberCode\": null, \"showAs\": \"Coonan, Noel.\"}}, {\"member\": {\"uri\": null, \"memberCode\": null, \"showAs\": \"Cummins, Maurice.\"}}, {\"member\": {\"uri\": null, \"memberCode\": null, \"showAs\": \"Feighan, Frank.\"}}, {\"member\": {\"uri\": null, \"memberCode\": null, \"showAs\": \"Finucane, Michael.\"}}, {\"member\": {\"uri\": null, \"memberCode\": null, \"showAs\": \"Hayes, Brian.\"}}, {\"member\": {\"uri\": null, \"memberCode\": null, \"showAs\": \"Henry, Mary.\"}}, {\"member\": {\"uri\": null, \"memberCode\": null, \"showAs\": \"Higgins, Jim.\"}}, {\"member\": {\"uri\": null, \"memberCode\": null, \"showAs\": \"McHugh, Joe.\"}}, {\"member\": {\"uri\": null, \"memberCode\": null, \"showAs\": \"Norris, David.\"}}, {\"member\": {\"uri\": null, \"memberCode\": null, \"showAs\": \"O'Meara, Kathleen.\"}}, {\"member\": {\"uri\": null, \"memberCode\": null, \"showAs\": \"O'Toole, Joe.\"}}, {\"member\": {\"uri\": null, \"memberCode\": null, \"showAs\": \"Phelan, John.\"}}, {\"member\": {\"uri\": null, \"memberCode\": null, \"showAs\": \"Ross, Shane.\"}}, {\"member\": {\"uri\": null, \"memberCode\": null, \"showAs\": \"Ryan, Brendan.\"}}, {\"member\": {\"uri\": null, \"memberCode\": null, \"showAs\": \"Terry, Sheila.\"}}, {\"member\": {\"uri\": null, \"memberCode\": null, \"showAs\": \"Tuffy, Joanna.\"}}], \"tally\": 21, \"showAs\": \"N\\u00edl\"}}, \"isBill\": false, \"chamber\": {\"uri\": \"/ie/oireachtas/house/seanad\", \"showAs\": \"Seanad \\u00c9ireann\"}, \"voteId\": \"vote_1\", \"subject\": {\"uri\": null, \"showAs\": \"Amendment put.\"}, \"debate\": {\"showAs\": \"Health Services: Motion.\", \"debateSection\": \"dbsect_11\", \"uri\": \"/akn/ie/debateRecord/seanad/2002-10-23/debate/main\", \"formats\": {\"xml\": {\"uri\": \"/akn/ie/debateRecord/seanad/2002-10-23/debate/mul@/main.xml\"}, \"pdf\": null}}, \"tellers\": \"Tellers: T\\u00e1, Senators Moylan and Minihan; N\\u00edl, Senators Ryan and O'Meara.\", \"outcome\": \"Carried\", \"uri\": \"/ie/oireachtas/division/house/seanad/22/2002-10-23/vote_1\", \"date\": \"2002-10-23\", \"category\": \"Division\", \"house\": {\"chamberType\": \"house\", \"houseNo\": \"22\", \"uri\": \"/ie/oireachtas/house/seanad/22\", \"houseCode\": \"seanad\", \"committeeCode\": \"\", \"showAs\": \"22nd Seanad\"}, \"datetime\": null}}, {\"division\": {\"debate\": {\"formats\": {\"pdf\": null, \"xml\": {\"uri\": \"/akn/ie/debateRecord/dail/2002-04-24/debate/mul@/main.xml\"}}, \"uri\": \"/akn/ie/debateRecord/dail/2002-04-24/debate/main\", \"debateSection\": \"dbsect_4\", \"showAs\": \"Ombudsman for Children Bill, 2002  [  Seanad ]  : Committee and Remaining Stages.\"}, \"subject\": {\"uri\": null, \"showAs\": \"Amendment put.\"}, \"chamber\": {\"uri\": \"/ie/oireachtas/house/dail\", \"showAs\": \"D\\u00e1il \\u00c9ireann\"}, \"tallies\": {\"nilVotes\": {\"tally\": 71, \"members\": [], \"showAs\": \"N\\u00edl\"}, \"staonVotes\": null, \"taVotes\": {\"tally\": 48, \"members\": [], \"showAs\": \"T\\u00e1\"}}, \"voteId\": \"vote_1\", \"uri\": \"/ie/oireachtas/division/house/dail/28/2002-04-24/vote_1\", \"tellers\": \"Tellers: T\\u00e1, Deputies Bradford and Shortall; N\\u00edl, Deputies S. Brennan and Power\", \"category\": \"Division\", \"datetime\": null, \"isBill\": false, \"house\": {\"houseCode\": \"dail\", \"houseNo\": \"28\", \"chamberType\": \"house\", \"committeeCode\": \"\", \"uri\": \"/ie/oireachtas/house/dail/28\", \"showAs\": \"28th D\\u00e1il\"}, \"date\": \"2002-04-24\", \"outcome\": \"Lost\"}}, {\"division\": {\"debate\": {\"uri\": \"/akn/ie/debateRecord/dail/2002-03-27/debate/main\", \"showAs\": \"Order of Business.\", \"formats\": {\"pdf\": null, \"xml\": {\"uri\": \"/akn/ie/debateRecord/dail/2002-03-27/debate/mul@/main.xml\"}}, \"debateSection\": \"dbsect_3\"}, \"uri\": \"/ie/oireachtas/division/house/dail/28/2002-03-27/vote_1\", \"subject\": {\"uri\": null, \"showAs\": \"Question put: \\\"That Nos. 25 to 30, inclusive, 30\"}, \"voteId\": \"vote_1\", \"date\": \"2002-03-27\", \"outcome\": \"Carried\", \"category\": \"Division\", \"house\": {\"uri\": \"/ie/oireachtas/house/dail/28\", \"committeeCode\": \"\", \"houseNo\": \"28\", \"chamberType\": \"house\", \"showAs\": \"28th D\\u00e1il\", \"houseCode\": \"dail\"}, \"tallies\": {\"nilVotes\": {\"showAs\": \"N\\u00edl\", \"tally\": 53, \"members\": [{\"member\": {\"uri\": null, \"showAs\": \"Allen, Bernard.\", \"memberCode\": null}}, {\"member\": {\"uri\": null, \"showAs\": \"Bell, Michael.\", \"memberCode\": null}}, {\"member\": {\"uri\": null, \"showAs\": \"Belton, Louis J.\", \"memberCode\": null}}, {\"member\": {\"uri\": null, \"showAs\": \"Bradford, Paul.\", \"memberCode\": null}}, {\"member\": {\"uri\": null, \"showAs\": \"Browne, John (Carlow-Kilkenny).\", \"memberCode\": null}}, {\"member\": {\"uri\": null, \"showAs\": \"Bruton, Richard.\", \"memberCode\": null}}, {\"member\": {\"uri\": null, \"showAs\": \"Carey, Donal.\", \"memberCode\": null}}, {\"member\": {\"uri\": null, \"showAs\": \"Clune, Deirdre.\", \"memberCode\": null}}, {\"member\": {\"uri\": null, \"showAs\": \"Connaughton, Paul.\\nCoveney, Simon.\", \"memberCode\": null}}]}, \"taVotes\": {\"showAs\": \"T\\u00e1\", \"tally\": 71, \"members\": [{\"member\": {\"uri\": null, \"showAs\": \"Ahern, Dermot.\", \"memberCode\": null}}, {\"member\": {\"uri\": null, \"showAs\": \"Ahern, Michael.\", \"memberCode\": null}}, {\"member\": {\"uri\": null, \"showAs\": \"Ahern, Noel.\", \"memberCode\": null}}, {\"member\": {\"uri\": null, \"showAs\": \"Andrews, David.\", \"memberCode\": null}}, {\"member\": {\"uri\": null, \"showAs\": \"Aylward, Liam.\", \"memberCode\": null}}, {\"member\": {\"uri\": null, \"showAs\": \"Brady, Johnny.\", \"memberCode\": null}}, {\"member\": {\"uri\": null, \"showAs\": \"Brady, Martin.\", \"memberCode\": null}}, {\"member\": {\"uri\": null, \"showAs\": \"Brennan, S\\u00e9amus.\", \"memberCode\": null}}, {\"member\": {\"uri\": null, \"showAs\": \"Briscoe, Ben.\", \"memberCode\": null}}, {\"member\": {\"uri\": null, \"showAs\": \"Browne, John (Wexford).\", \"memberCode\": null}}, {\"member\": {\"uri\": null, \"showAs\": \"Byrne, Hugh.\", \"memberCode\": null}}, {\"member\": {\"uri\": null, \"showAs\": \"Callely, Ivor.\", \"memberCode\": null}}, {\"member\": {\"uri\": null, \"showAs\": \"Carey, Pat.\", \"memberCode\": null}}, {\"member\": {\"uri\": null, \"showAs\": \"Collins, Michael.\", \"memberCode\": null}}, {\"member\": {\"uri\": null, \"showAs\": \"Cooper-Flynn, Beverley.\", \"memberCode\": null}}, {\"member\": {\"uri\": null, \"showAs\": \"Coughlan, Mary.\", \"memberCode\": null}}, {\"member\": {\"uri\": null, \"showAs\": \"Cowen, Brian.\", \"memberCode\": null}}, {\"member\": {\"uri\": null, \"showAs\": \"Cullen, Martin.\", \"memberCode\": null}}, {\"member\": {\"uri\": null, \"showAs\": \"Daly, Brendan.\", \"memberCode\": null}}, {\"member\": {\"uri\": null, \"showAs\": \"Davern, Noel.\", \"memberCode\": null}}, {\"member\": {\"uri\": null, \"showAs\": \"de Valera, S\\u00edle.\", \"memberCode\": null}}, {\"member\": {\"uri\": null, \"showAs\": \"Dennehy, John.\", \"memberCode\": null}}, {\"member\": {\"uri\": null, \"showAs\": \"Doherty, Se\\u00e1n.\", \"memberCode\": null}}, {\"member\": {\"uri\": null, \"showAs\": \"Ellis, John.\", \"memberCode\": null}}, {\"member\": {\"uri\": null, \"showAs\": \"Fahey, Frank.\", \"memberCode\": null}}, {\"member\": {\"uri\": null, \"showAs\": \"Fleming, Se\\u00e1n.\", \"memberCode\": null}}, {\"member\": {\"uri\": null, \"showAs\": \"Flood, Chris.\", \"memberCode\": null}}, {\"member\": {\"uri\": null, \"showAs\": \"Fox, Mildred.\", \"memberCode\": null}}, {\"member\": {\"uri\": null, \"showAs\": \"Gildea, Thomas.\", \"memberCode\": null}}, {\"member\": {\"uri\": null, \"showAs\": \"Hanafin, Mary.\", \"memberCode\": null}}, {\"member\": {\"uri\": null, \"showAs\": \"Harney, Mary.\", \"memberCode\": null}}, {\"member\": {\"uri\": null, \"showAs\": \"Haughey, Se\\u00e1n.\", \"memberCode\": null}}, {\"member\": {\"uri\": null, \"showAs\": \"Healy-Rae, Jackie.\", \"memberCode\": null}}, {\"member\": {\"uri\": null, \"showAs\": \"Jacob, Joe.\", \"memberCode\": null}}, {\"member\": {\"uri\": null, \"showAs\": \"Keaveney, Cecilia.\", \"memberCode\": null}}, {\"member\": {\"uri\": null, \"showAs\": \"Kelleher, Billy.\", \"memberCode\": null}}, {\"member\": {\"uri\": null, \"showAs\": \"Kenneally, Brendan.\", \"memberCode\": null}}, {\"member\": {\"uri\": null, \"showAs\": \"Killeen, Tony.\", \"memberCode\": null}}, {\"member\": {\"uri\": null, \"showAs\": \"Kirk, S\\u00e9amus.\", \"memberCode\": null}}, {\"member\": {\"uri\": null, \"showAs\": \"Kitt, Michael P.\", \"memberCode\": null}}, {\"member\": {\"uri\": null, \"showAs\": \"Kitt, Tom.\", \"memberCode\": null}}, {\"member\": {\"uri\": null, \"showAs\": \"Lenihan, Brian.\", \"memberCode\": null}}, {\"member\": {\"uri\": null, \"showAs\": \"Lenihan, Conor.\", \"memberCode\": null}}, {\"member\": {\"uri\": null, \"showAs\": \"McCreevy, Charlie.\", \"memberCode\": null}}, {\"member\": {\"uri\": null, \"showAs\": \"McDaid, James.\", \"memberCode\": null}}, {\"member\": {\"uri\": null, \"showAs\": \"McGuinness, John J.\", \"memberCode\": null}}, {\"member\": {\"uri\": null, \"showAs\": \"Martin, Miche\\u00e1l.\", \"memberCode\": null}}, {\"member\": {\"uri\": null, \"showAs\": \"Moffatt, Thomas.\", \"memberCode\": null}}, {\"member\": {\"uri\": null, \"showAs\": \"Moloney, John.\", \"memberCode\": null}}, {\"member\": {\"uri\": null, \"showAs\": \"Moynihan, Donal.\", \"memberCode\": null}}, {\"member\": {\"uri\": null, \"showAs\": \"Moynihan, Michael.\", \"memberCode\": null}}, {\"member\": {\"uri\": null, \"showAs\": \"\\u00d3 Cu\\u00edv, \\u00c9amon.\", \"memberCode\": null}}, {\"member\": {\"uri\": null, \"showAs\": \"O'Dea, Willie.\", \"memberCode\": null}}, {\"member\": {\"uri\": null, \"showAs\": \"O'Donnell, Liz.\", \"memberCode\": null}}, {\"member\": {\"uri\": null, \"showAs\": \"O'Donoghue, John.\", \"memberCode\": null}}, {\"member\": {\"uri\": null, \"showAs\": \"O'Flynn, Noel.\", \"memberCode\": null}}, {\"member\": {\"uri\": null, \"showAs\": \"O'Hanlon, Rory.\", \"memberCode\": null}}, {\"member\": {\"uri\": null, \"showAs\": \"O'Keeffe, Batt.\", \"memberCode\": null}}, {\"member\": {\"uri\": null, \"showAs\": \"O'Kennedy, Michael.\", \"memberCode\": null}}, {\"member\": {\"uri\": null, \"showAs\": \"O'Rourke, Mary.\", \"memberCode\": null}}, {\"member\": {\"uri\": null, \"showAs\": \"Power, Se\\u00e1n.\", \"memberCode\": null}}, {\"member\": {\"uri\": null, \"showAs\": \"Roche, Dick.\", \"memberCode\": null}}, {\"member\": {\"uri\": null, \"showAs\": \"Ryan, Eoin.\", \"memberCode\": null}}, {\"member\": {\"uri\": null, \"showAs\": \"Smith, Michael.\", \"memberCode\": null}}, {\"member\": {\"uri\": null, \"showAs\": \"Treacy, Noel.\", \"memberCode\": null}}, {\"member\": {\"uri\": null, \"showAs\": \"Wade, Eddie.\", \"memberCode\": null}}, {\"member\": {\"uri\": null, \"showAs\": \"Wallace, Dan.\", \"memberCode\": null}}, {\"member\": {\"uri\": null, \"showAs\": \"Wallace, Mary.\", \"memberCode\": null}}, {\"member\": {\"uri\": null, \"showAs\": \"Walsh, Joe.\", \"memberCode\": null}}, {\"member\": {\"uri\": null, \"showAs\": \"Woods, Michael.\", \"memberCode\": null}}, {\"member\": {\"uri\": null, \"showAs\": \"Wright, G. V.\", \"memberCode\": null}}]}, \"staonVotes\": null}, \"datetime\": null, \"isBill\": false, \"chamber\": {\"uri\": \"/ie/oireachtas/house/dail\", \"showAs\": \"D\\u00e1il \\u00c9ireann\"}, \"tellers\": \"Tellers: T\\u00e1, Deputies S. Brennan and Power; N\\u00edl, Deputies Bradford and Stagg.\"}}, {\"division\": {\"outcome\": \"_\", \"chamber\": {\"uri\": \"/ie/oireachtas/committee\", \"showAs\": \"SELECT COMMITTEE ON FAMILY, COMMUNITY AND SOCIAL AFFAIRS\"}, \"category\": \"Division\", \"date\": \"2002-03-21\", \"house\": {\"chamberType\": \"committee\", \"houseNo\": \"28\", \"showAs\": \"SELECT COMMITTEE ON FAMILY, COMMUNITY AND SOCIAL AFFAIRS\", \"committeeCode\": \"select_committee_on_family,_community_and_social_affairs\", \"uri\": \"/ie/oireachtas/committee/dail/28/select_committee_on_family,_community_and_social_affairs\", \"houseCode\": \"dail\"}, \"voteId\": \"vote_1\", \"isBill\": false, \"debate\": {\"uri\": \"/akn/ie/debateRecord/select_committee_on_family_community_and_social_affairs/2002-03-21/debate/main\", \"formats\": {\"pdf\": null, \"xml\": {\"uri\": \"/akn/ie/debateRecord/select_committee_on_family_community_and_social_affairs/2002-03-21/debate/mul@/main.xml\"}}, \"showAs\": \"Pensions (Amendment) Bill, 2001 [Seanad]: Committee Stage.\", \"debateSection\": \"dbsect_2\"}, \"tellers\": \"\", \"tallies\": {\"nilVotes\": {\"showAs\": \"N\\u00edl\", \"members\": [{\"member\": {\"uri\": \"/ie/oireachtas/member/id/Dermot-Ahern.D.1987-03-10\", \"memberCode\": \"Dermot-Ahern.D.1987-03-10\", \"showAs\": \"Ahern, Dermot.\"}}, {\"member\": {\"uri\": \"/ie/oireachtas/member/id/Noel-Ahern.D.1992-12-14\", \"memberCode\": \"Noel-Ahern.D.1992-12-14\", \"showAs\": \"Ahern, Noel.\"}}, {\"member\": {\"uri\": \"/ie/oireachtas/member/id/Johnny-Brady.D.1997-06-26\", \"memberCode\": \"Johnny-Brady.D.1997-06-26\", \"showAs\": \"Brady, John.\"}}, {\"member\": {\"uri\": \"/ie/oireachtas/member/id/John-Ellis.S.1977-10-27\", \"memberCode\": \"John-Ellis.S.1977-10-27\", \"showAs\": \"Ellis, John.\"}}, {\"member\": {\"uri\": \"/ie/oireachtas/member/id/Denis-Foley.D.1981-06-30\", \"memberCode\": \"Denis-Foley.D.1981-06-30\", \"showAs\": \"Foley, Denis\"}}, {\"member\": {\"uri\": \"/ie/oireachtas/member/id/Tony-Killeen.D.1992-12-14\", \"memberCode\": \"Tony-Killeen.D.1992-12-14\", \"showAs\": \"Killeen, Tony.\"}}, {\"member\": {\"uri\": \"/ie/oireachtas/member/id/John-Moloney.D.1997-06-26\", \"memberCode\": \"John-Moloney.D.1997-06-26\", \"showAs\": \"Moloney, John.\"}}, {\"member\": {\"uri\": \"/ie/oireachtas/member/id/Eddie-Wade.D.1997-06-26\", \"memberCode\": \"Eddie-Wade.D.1997-06-26\", \"showAs\": \"Wade, Eddie.\"}}], \"tally\": 8}, \"taVotes\": {\"showAs\": \"T\\u00e1\", \"members\": [{\"member\": {\"uri\": \"/ie/oireachtas/member/id/Thomas-P-Broughan.D.1992-12-14\", \"memberCode\": \"Thomas-P-Broughan.D.1992-12-14\", \"showAs\": \"Broughan, Tommy.\"}}, {\"member\": {\"uri\": \"/ie/oireachtas/member/id/Brian-Hayes.S.1995-12-20\", \"memberCode\": \"Brian-Hayes.S.1995-12-20\", \"showAs\": \"Hayes, Brian.\"}}, {\"member\": {\"uri\": \"/ie/oireachtas/member/id/Simon-Coveney.D.1998-10-23\", \"memberCode\": \"Simon-Coveney.D.1998-10-23\", \"showAs\": \"Coveney, Simon.\"}}, {\"member\": {\"uri\": \"/ie/oireachtas/member/id/Mary-Upton.D.1999-10-27\", \"memberCode\": \"Mary-Upton.D.1999-10-27\", \"showAs\": \"Upton, Mary.\"}}], \"tally\": 4}, \"staonVotes\": null}, \"datetime\": null, \"subject\": {\"uri\": null, \"showAs\": \"The Select Committee divided: T\\u00e1, \"}, \"uri\": \"/ie/oireachtas/division/committee/dail/28/select_committee_on_family,_community_and_social_affairs/2002-03-21/vote_1\"}}, {\"division\": {\"tellers\": \"Tellers: T\\u00e1, Senators Gibbons and Lanigan; N\\u00edl, Senators Burke and Coogan.\", \"debate\": {\"uri\": \"/akn/ie/debateRecord/seanad/2002-03-20/debate/main\", \"showAs\": \"Order of Business.\", \"debateSection\": \"dbsect_3\", \"formats\": {\"pdf\": null, \"xml\": {\"uri\": \"/akn/ie/debateRecord/seanad/2002-03-20/debate/mul@/main.xml\"}}}, \"house\": {\"houseCode\": \"seanad\", \"chamberType\": \"house\", \"houseNo\": \"21\", \"uri\": \"/ie/oireachtas/house/seanad/21\", \"committeeCode\": \"\", \"showAs\": \"21st Seanad\"}, \"isBill\": false, \"datetime\": null, \"outcome\": \"Carried\", \"uri\": \"/ie/oireachtas/division/house/seanad/21/2002-03-20/vote_1\", \"tallies\": {\"nilVotes\": {\"tally\": 12, \"members\": [{\"member\": {\"uri\": null, \"memberCode\": null, \"showAs\": \"Burke, Paddy.\"}}, {\"member\": {\"uri\": null, \"memberCode\": null, \"showAs\": \"Caffrey, Ernie.\"}}, {\"member\": {\"uri\": null, \"memberCode\": null, \"showAs\": \"Coghlan, Paul.\"}}, {\"member\": {\"uri\": null, \"memberCode\": null, \"showAs\": \"Connor, John.\"}}, {\"member\": {\"uri\": null, \"memberCode\": null, \"showAs\": \"Coogan, Fintan.\"}}, {\"member\": {\"uri\": null, \"memberCode\": null, \"showAs\": \"Costello, Joe.\"}}, {\"member\": {\"uri\": null, \"memberCode\": null, \"showAs\": \"Doyle, Joe.\"}}, {\"member\": {\"uri\": null, \"memberCode\": null, \"showAs\": \"Henry, Mary.\"}}, {\"member\": {\"uri\": null, \"memberCode\": null, \"showAs\": \"Jackman, Mary.\"}}, {\"member\": {\"uri\": null, \"memberCode\": null, \"showAs\": \"O'Toole, Joe.\"}}, {\"member\": {\"uri\": null, \"memberCode\": null, \"showAs\": \"Ross, Shane.\"}}, {\"member\": {\"uri\": null, \"memberCode\": null, \"showAs\": \"Ryan, Brendan.\"}}], \"showAs\": \"N\\u00edl\"}, \"taVotes\": {\"tally\": 25, \"members\": [{\"member\": {\"uri\": null, \"memberCode\": null, \"showAs\": \"Bonner, Enda.\"}}, {\"member\": {\"uri\": null, \"memberCode\": null, \"showAs\": \"Callanan, Peter.\"}}, {\"member\": {\"uri\": null, \"memberCode\": null, \"showAs\": \"Cassidy, Donie.\"}}, {\"member\": {\"uri\": null, \"memberCode\": null, \"showAs\": \"Chambers, Frank.\"}}, {\"member\": {\"uri\": null, \"memberCode\": null, \"showAs\": \"Cox, Margaret.\"}}, {\"member\": {\"uri\": null, \"memberCode\": null, \"showAs\": \"Cregan, John\"}}, {\"member\": {\"uri\": null, \"memberCode\": null, \"showAs\": \"Dardis, John.\"}}, {\"member\": {\"uri\": null, \"memberCode\": null, \"showAs\": \"Farrell, Willie.\"}}, {\"member\": {\"uri\": null, \"memberCode\": null, \"showAs\": \"Finneran, Michael.\"}}, {\"member\": {\"uri\": null, \"memberCode\": null, \"showAs\": \"Fitzgerald, Liam.\"}}, {\"member\": {\"uri\": null, \"memberCode\": null, \"showAs\": \"Gibbons, Jim.\"}}, {\"member\": {\"uri\": null, \"memberCode\": null, \"showAs\": \"Glennon, Jim.\"}}, {\"member\": {\"uri\": null, \"memberCode\": null, \"showAs\": \"Glynn, Camillus.\"}}, {\"member\": {\"uri\": null, \"memberCode\": null, \"showAs\": \"Hayes, Maurice.\"}}, {\"member\": {\"uri\": null, \"memberCode\": null, \"showAs\": \"Kiely, Daniel.\"}}, {\"member\": {\"uri\": null, \"memberCode\": null, \"showAs\": \"Kiely, Rory.\"}}, {\"member\": {\"uri\": null, \"memberCode\": null, \"showAs\": \"Lanigan, Mick.\"}}, {\"member\": {\"uri\": null, \"memberCode\": null, \"showAs\": \"Leonard, Ann.\"}}, {\"member\": {\"uri\": null, \"memberCode\": null, \"showAs\": \"Mooney, Paschal.\"}}, {\"member\": {\"uri\": null, \"memberCode\": null, \"showAs\": \"Moylan, Pat.\"}}, {\"member\": {\"uri\": null, \"memberCode\": null, \"showAs\": \"Nolan, M. J.\"}}, {\"member\": {\"uri\": null, \"memberCode\": null, \"showAs\": \"O'Brien, Francis.\"}}, {\"member\": {\"uri\": null, \"memberCode\": null, \"showAs\": \"\\u00d3 Fearghail, Se\\u00e1n.\"}}, {\"member\": {\"uri\": null, \"memberCode\": null, \"showAs\": \"\\u00d3 Murch\\u00fa, Labhr\\u00e1s.\"}}, {\"member\": {\"uri\": null, \"memberCode\": null, \"showAs\": \"Ormonde, Ann.\"}}], \"showAs\": \"T\\u00e1\"}, \"staonVotes\": null}, \"voteId\": \"vote_1\", \"category\": \"Division\", \"chamber\": {\"uri\": \"/ie/oireachtas/house/seanad\", \"showAs\": \"Seanad \\u00c9ireann\"}, \"subject\": {\"uri\": null, \"showAs\": \"Question put: \\\"That the Order of Business be agreed to.\\\"\"}, \"date\": \"2002-03-20\"}}, {\"division\": {\"subject\": {\"uri\": null, \"showAs\": \"The Committee divided: T\\u00e1, \"}, \"isBill\": false, \"category\": \"Division\", \"voteId\": \"vote_1\", \"datetime\": null, \"house\": {\"houseNo\": \"28\", \"uri\": \"/ie/oireachtas/committee/dail/28/select_committee_on_public_enterprise_and_transport\", \"committeeCode\": \"select_committee_on_public_enterprise_and_transport\", \"houseCode\": \"dail\", \"chamberType\": \"committee\", \"showAs\": \"SELECT COMMITTEE ON PUBLIC ENTERPRISE AND TRANSPORT\"}, \"tellers\": \"\", \"uri\": \"/ie/oireachtas/division/committee/dail/28/select_committee_on_public_enterprise_and_transport/2002-01-16/vote_1\", \"outcome\": \"_\", \"date\": \"2002-01-16\", \"debate\": {\"showAs\": \"Sustainable Energy Bill, 2001: Committee Stage.\", \"debateSection\": \"dbsect_2\", \"uri\": \"/akn/ie/debateRecord/select_committee_on_public_enterprise_and_transport/2002-01-16/debate/main\", \"formats\": {\"pdf\": null, \"xml\": {\"uri\": \"/akn/ie/debateRecord/select_committee_on_public_enterprise_and_transport/2002-01-16/debate/mul@/main.xml\"}}}, \"tallies\": {\"taVotes\": {\"tally\": 6, \"members\": [{\"member\": {\"memberCode\": \"Richard-Bruton.S.1981-10-08\", \"uri\": \"/ie/oireachtas/member/id/Richard-Bruton.S.1981-10-08\", \"showAs\": \"Bruton, Richard.\"}}, {\"member\": {\"memberCode\": \"Donal-Carey.S.1981-10-08\", \"uri\": \"/ie/oireachtas/member/id/Donal-Carey.S.1981-10-08\", \"showAs\": \"Carey, Donal.\"}}, {\"member\": {\"memberCode\": \"Phil-Hogan.S.1987-04-25\", \"uri\": \"/ie/oireachtas/member/id/Phil-Hogan.S.1987-04-25\", \"showAs\": \"Hogan, Phil.\"}}, {\"member\": {\"memberCode\": \"Jim-Higgins.S.1981-10-08\", \"uri\": \"/ie/oireachtas/member/id/Jim-Higgins.S.1981-10-08\", \"showAs\": \"Higgins, Jim (\"}}, {\"member\": {\"memberCode\": \"David-Stanton.D.1997-06-26\", \"uri\": \"/ie/oireachtas/member/id/David-Stanton.D.1997-06-26\", \"showAs\": \"Stanton, David.\"}}, {\"member\": {\"memberCode\": \"Trevor-Sargent.D.1992-12-14\", \"uri\": \"/ie/oireachtas/member/id/Trevor-Sargent.D.1992-12-14\", \"showAs\": \"Sargent, Trevor.\"}}], \"showAs\": \"T\\u00e1\"}, \"nilVotes\": {\"tally\": 8, \"members\": [{\"member\": {\"memberCode\": \"Liam-Aylward.D.1977-07-05\", \"uri\": \"/ie/oireachtas/member/id/Liam-Aylward.D.1977-07-05\", \"showAs\": \"Aylward, Liam.\"}}, {\"member\": {\"memberCode\": \"John-Ellis.S.1977-10-27\", \"uri\": \"/ie/oireachtas/member/id/John-Ellis.S.1977-10-27\", \"showAs\": \"Ellis, John.\"}}, {\"member\": {\"memberCode\": \"Brendan-Daly.D.1973-03-14\", \"uri\": \"/ie/oireachtas/member/id/Brendan-Daly.D.1973-03-14\", \"showAs\": \"Daly, Brendan.\"}}, {\"member\": {\"memberCode\": \"Se\\u00e1n-Doherty.D.1977-07-05\", \"uri\": \"/ie/oireachtas/member/id/Se\\u00e1n-Doherty.D.1977-07-05\", \"showAs\": \"Doherty, Se\\u00e1n.\"}}, {\"member\": {\"memberCode\": \"Se\\u00e1n-Power.D.1989-06-29\", \"uri\": \"/ie/oireachtas/member/id/Se\\u00e1n-Power.D.1989-06-29\", \"showAs\": \"Power, Se\\u00e1n.\"}}, {\"member\": {\"memberCode\": \"Matt-Brennan.D.1982-03-09\", \"uri\": \"/ie/oireachtas/member/id/Matt-Brennan.D.1982-03-09\", \"showAs\": \"Brennan, Mattie.\"}}, {\"member\": {\"memberCode\": \"Joe-Jacob.D.1987-03-10\", \"uri\": \"/ie/oireachtas/member/id/Joe-Jacob.D.1987-03-10\", \"showAs\": \"Jacob, Joe.\"}}, {\"member\": {\"memberCode\": \"Cecilia-Keaveney.D.1996-04-02\", \"uri\": \"/ie/oireachtas/member/id/Cecilia-Keaveney.D.1996-04-02\", \"showAs\": \"Keaveney, Cecilia.\"}}], \"showAs\": \"N\\u00edl\"}, \"staonVotes\": null}, \"chamber\": {\"uri\": \"/ie/oireachtas/committee\", \"showAs\": \"SELECT COMMITTEE ON PUBLIC ENTERPRISE AND TRANSPORT\"}}}]}))\n",
       "        });\n",
       "        "
      ]
     },
     "metadata": {},
     "output_type": "display_data"
    }
   ],
   "source": [
    "RenderJSON(preview) # Preview all"
   ]
  },
  {
   "cell_type": "code",
   "execution_count": 9,
   "metadata": {
    "scrolled": false
   },
   "outputs": [
    {
     "data": {
      "text/html": [
       "<style>\n",
       "          .renderjson a { text-decoration: none; }\n",
       "          .renderjson .disclosure { color: grey; text-decoration: none; }\n",
       "          .renderjson .syntax { color: grey; }\n",
       "          .renderjson .string { color: darkred; }\n",
       "          .renderjson .number { color: darkcyan; }\n",
       "          .renderjson .boolean { color: blueviolet; }\n",
       "          .renderjson .key    { color: darkblue; }\n",
       "          .renderjson .keyword { color: blue; }\n",
       "          .renderjson .object.syntax { color: lightseagreen; }\n",
       "          .renderjson .array.syntax  { color: orange; }\n",
       "          </style><div id=\"2131299c-09e7-46aa-bd71-8acb65487909\" style=\"height: 100%; width:100%;\"></div>"
      ]
     },
     "metadata": {},
     "output_type": "display_data"
    },
    {
     "data": {
      "application/javascript": [
       "\n",
       "          require([\"https://rawgit.com/caldwell/renderjson/master/renderjson.js\"], function() {\n",
       "          renderjson.set_show_to_level(1)\n",
       "          renderjson.set_sort_objects(true)\n",
       "          renderjson.set_icons('▶', '▼')\n",
       "          document.getElementById('2131299c-09e7-46aa-bd71-8acb65487909').appendChild(renderjson({\"isBill\": false, \"tellers\": \"\", \"datetime\": null, \"subject\": {\"showAs\": \"The Committee divided: T\\u00e1, \", \"uri\": null}, \"date\": \"2002-12-11\", \"voteId\": \"vote_2\", \"outcome\": \"_\", \"debate\": {\"debateSection\": \"dbsect_3\", \"formats\": {\"xml\": {\"uri\": \"/akn/ie/debateRecord/select_committee_on_arts_sport_tourism_community_rural_and_gaeltacht_affairs/2002-12-11/debate/mul@/main.xml\"}, \"pdf\": null}, \"showAs\": \"Arts Bill, 2002: Committee Stage.\", \"uri\": \"/akn/ie/debateRecord/select_committee_on_arts_sport_tourism_community_rural_and_gaeltacht_affairs/2002-12-11/debate/main\"}, \"chamber\": {\"showAs\": \"SELECT COMMITTEE ON ARTS, SPORT, TOURISM, COMMUNITY, RURAL AND GAELTACHT AFFAIRS\", \"uri\": \"/ie/oireachtas/committee\"}, \"category\": \"Division\", \"tallies\": {\"taVotes\": {\"tally\": 2, \"members\": [{\"member\": {\"memberCode\": \"Jimmy-Deenihan.S.1983-02-23\", \"showAs\": \"Deenihan, Jimmy.\", \"uri\": \"/ie/oireachtas/member/id/Jimmy-Deenihan.S.1983-02-23\"}}, {\"member\": {\"memberCode\": \"Damien-English.D.2002-06-06\", \"showAs\": \"English, Damien.\", \"uri\": \"/ie/oireachtas/member/id/Damien-English.D.2002-06-06\"}}], \"showAs\": \"T\\u00e1\"}, \"nilVotes\": {\"tally\": 8, \"members\": [{\"member\": {\"memberCode\": \"James-Breen.D.2002-06-06\", \"showAs\": \"Breen, James.\", \"uri\": \"/ie/oireachtas/member/id/James-Breen.D.2002-06-06\"}}, {\"member\": {\"memberCode\": \"Michael-Collins.D.1997-06-26\", \"showAs\": \"Collins, Michael.\", \"uri\": \"/ie/oireachtas/member/id/Michael-Collins.D.1997-06-26\"}}, {\"member\": {\"memberCode\": \"Jim-Glennon.S.2000-06-09\", \"showAs\": \"Glennon, Jim.\", \"uri\": \"/ie/oireachtas/member/id/Jim-Glennon.S.2000-06-09\"}}, {\"member\": {\"memberCode\": \"Cecilia-Keaveney.D.1996-04-02\", \"showAs\": \"Keaveney, Cecilia.\", \"uri\": \"/ie/oireachtas/member/id/Cecilia-Keaveney.D.1996-04-02\"}}, {\"member\": {\"memberCode\": \"Peter-Kelly.D.2002-06-06\", \"showAs\": \"Kelly, Peter.\", \"uri\": \"/ie/oireachtas/member/id/Peter-Kelly.D.2002-06-06\"}}, {\"member\": {\"memberCode\": \"John-O'Donoghue.D.1987-03-10\", \"showAs\": \"O\\u2019Donoghue, John.\", \"uri\": \"/ie/oireachtas/member/id/John-O'Donoghue.D.1987-03-10\"}}, {\"member\": {\"memberCode\": \"Fiona-O'Malley.D.2002-06-06\", \"showAs\": \"O\\u2019Malley, Fiona.\", \"uri\": \"/ie/oireachtas/member/id/Fiona-O'Malley.D.2002-06-06\"}}, {\"member\": {\"memberCode\": \"G-V-Wright.S.1982-05-13\", \"showAs\": \"Wright, G. V.\", \"uri\": \"/ie/oireachtas/member/id/G-V-Wright.S.1982-05-13\"}}], \"showAs\": \"N\\u00edl\"}, \"staonVotes\": null}, \"house\": {\"chamberType\": \"committee\", \"houseCode\": \"dail\", \"houseNo\": \"29\", \"committeeCode\": \"select_committee_on_arts,_sport,_tourism,_community,_rural_and_gaeltacht_affairs\", \"showAs\": \"SELECT COMMITTEE ON ARTS, SPORT, TOURISM, COMMUNITY, RURAL AND GAELTACHT AFFAIRS\", \"uri\": \"/ie/oireachtas/committee/dail/29/select_committee_on_arts,_sport,_tourism,_community,_rural_and_gaeltacht_affairs\"}, \"uri\": \"/ie/oireachtas/division/committee/dail/29/select_committee_on_arts,_sport,_tourism,_community,_rural_and_gaeltacht_affairs/2002-12-11/vote_2\"}))\n",
       "        });\n",
       "        "
      ]
     },
     "metadata": {},
     "output_type": "display_data"
    }
   ],
   "source": [
    "RenderJSON(preview['results'][0]['division']) # Preview single vote"
   ]
  },
  {
   "cell_type": "code",
   "execution_count": 4,
   "metadata": {
    "collapsed": true
   },
   "outputs": [],
   "source": [
    "# Load Data from a single file and return dataframe\n",
    "def divisions_df(fname):\n",
    "    with lzma.open(fname, 'rb') as f:\n",
    "        data = json.loads(f.read().decode('utf-8'))\n",
    "        #print(fname, len(data['results']))\n",
    "        \n",
    "        # We don't care about the \"head\" part for now, just \"results\"\n",
    "        records = json.dumps([r['division'] for r in data['results']])\n",
    "        df = pd.read_json(records, orient='records', dtype=False)\n",
    "        return df"
   ]
  },
  {
   "cell_type": "code",
   "execution_count": 5,
   "metadata": {},
   "outputs": [
    {
     "data": {
      "application/vnd.jupyter.widget-view+json": {
       "model_id": "1b2ba571af1243df8b8bd0ea6f4151ad"
      }
     },
     "metadata": {},
     "output_type": "display_data"
    },
    {
     "name": "stdout",
     "output_type": "stream",
     "text": [
      "\n"
     ]
    }
   ],
   "source": [
    "# Process all the files and stick them together in a single dataframe:\n",
    "files = glob('data/year/*.json.xz')\n",
    "\n",
    "data_frames = process_with_progress(divisions_df, files)\n",
    "df_raw = pd.concat(data_frames, axis=0)"
   ]
  },
  {
   "cell_type": "code",
   "execution_count": 6,
   "metadata": {},
   "outputs": [
    {
     "data": {
      "text/html": [
       "<div>\n",
       "<style>\n",
       "    .dataframe thead tr:only-child th {\n",
       "        text-align: right;\n",
       "    }\n",
       "\n",
       "    .dataframe thead th {\n",
       "        text-align: left;\n",
       "    }\n",
       "\n",
       "    .dataframe tbody tr th {\n",
       "        vertical-align: top;\n",
       "    }\n",
       "</style>\n",
       "<table border=\"1\" class=\"dataframe\">\n",
       "  <thead>\n",
       "    <tr style=\"text-align: right;\">\n",
       "      <th></th>\n",
       "      <th>category</th>\n",
       "      <th>chamber</th>\n",
       "      <th>date</th>\n",
       "      <th>datetime</th>\n",
       "      <th>debate</th>\n",
       "      <th>house</th>\n",
       "      <th>isBill</th>\n",
       "      <th>outcome</th>\n",
       "      <th>subject</th>\n",
       "      <th>tallies</th>\n",
       "      <th>tellers</th>\n",
       "      <th>uri</th>\n",
       "      <th>voteId</th>\n",
       "    </tr>\n",
       "  </thead>\n",
       "  <tbody>\n",
       "    <tr>\n",
       "      <th>207</th>\n",
       "      <td>Division</td>\n",
       "      <td>{'showAs': 'Seanad Éireann', 'uri': '/ie/oirea...</td>\n",
       "      <td>1991-03-13</td>\n",
       "      <td>NaT</td>\n",
       "      <td>{'debateSection': 'dbsect_3', 'showAs': 'Order...</td>\n",
       "      <td>{'showAs': '19th Seanad', 'houseNo': '19', 'ch...</td>\n",
       "      <td>False</td>\n",
       "      <td>Carried</td>\n",
       "      <td>{'showAs': 'Question put.', 'uri': None}</td>\n",
       "      <td>{'staonVotes': None, 'taVotes': {'showAs': 'Tá...</td>\n",
       "      <td>Tellers: Tá, Senators Wright and Fitzgerald; N...</td>\n",
       "      <td>/ie/oireachtas/division/house/seanad/19/1991-0...</td>\n",
       "      <td>vote_1</td>\n",
       "    </tr>\n",
       "    <tr>\n",
       "      <th>40</th>\n",
       "      <td>Division</td>\n",
       "      <td>{'showAs': 'Dáil Éireann', 'uri': '/ie/oireach...</td>\n",
       "      <td>1982-03-24</td>\n",
       "      <td>NaT</td>\n",
       "      <td>{'showAs': 'Private Members' Business. - Emplo...</td>\n",
       "      <td>{'chamberType': 'house', 'showAs': '23rd Dáil'...</td>\n",
       "      <td>False</td>\n",
       "      <td>Carried</td>\n",
       "      <td>{'showAs': 'Amendment put.', 'uri': None}</td>\n",
       "      <td>{'taVotes': {'members': [{'member': {'memberCo...</td>\n",
       "      <td>Tellers: Tá, Deputies B. Ahern and Briscoe; Ní...</td>\n",
       "      <td>/ie/oireachtas/division/house/dail/23/1982-03-...</td>\n",
       "      <td>vote_1</td>\n",
       "    </tr>\n",
       "    <tr>\n",
       "      <th>5</th>\n",
       "      <td>Division</td>\n",
       "      <td>{'showAs': 'Dáil Éireann', 'uri': '/ie/oireach...</td>\n",
       "      <td>1928-11-29</td>\n",
       "      <td>NaT</td>\n",
       "      <td>{'debateSection': 'dbsect_16', 'showAs': 'PUBL...</td>\n",
       "      <td>{'committeeCode': '', 'houseNo': '6', 'showAs'...</td>\n",
       "      <td>False</td>\n",
       "      <td>_</td>\n",
       "      <td>{'showAs': 'Amendment put.', 'uri': None}</td>\n",
       "      <td>{'nilVotes': {'showAs': 'Níl', 'members': [{'m...</td>\n",
       "      <td>Tellers:—Tá: Deputies Boland and Allen.  Níl: ...</td>\n",
       "      <td>/ie/oireachtas/division/house/dail/6/1928-11-2...</td>\n",
       "      <td>vote_2</td>\n",
       "    </tr>\n",
       "  </tbody>\n",
       "</table>\n",
       "</div>"
      ],
      "text/plain": [
       "     category                                            chamber       date  \\\n",
       "207  Division  {'showAs': 'Seanad Éireann', 'uri': '/ie/oirea... 1991-03-13   \n",
       "40   Division  {'showAs': 'Dáil Éireann', 'uri': '/ie/oireach... 1982-03-24   \n",
       "5    Division  {'showAs': 'Dáil Éireann', 'uri': '/ie/oireach... 1928-11-29   \n",
       "\n",
       "    datetime                                             debate  \\\n",
       "207      NaT  {'debateSection': 'dbsect_3', 'showAs': 'Order...   \n",
       "40       NaT  {'showAs': 'Private Members' Business. - Emplo...   \n",
       "5        NaT  {'debateSection': 'dbsect_16', 'showAs': 'PUBL...   \n",
       "\n",
       "                                                 house  isBill  outcome  \\\n",
       "207  {'showAs': '19th Seanad', 'houseNo': '19', 'ch...   False  Carried   \n",
       "40   {'chamberType': 'house', 'showAs': '23rd Dáil'...   False  Carried   \n",
       "5    {'committeeCode': '', 'houseNo': '6', 'showAs'...   False        _   \n",
       "\n",
       "                                       subject  \\\n",
       "207   {'showAs': 'Question put.', 'uri': None}   \n",
       "40   {'showAs': 'Amendment put.', 'uri': None}   \n",
       "5    {'showAs': 'Amendment put.', 'uri': None}   \n",
       "\n",
       "                                               tallies  \\\n",
       "207  {'staonVotes': None, 'taVotes': {'showAs': 'Tá...   \n",
       "40   {'taVotes': {'members': [{'member': {'memberCo...   \n",
       "5    {'nilVotes': {'showAs': 'Níl', 'members': [{'m...   \n",
       "\n",
       "                                               tellers  \\\n",
       "207  Tellers: Tá, Senators Wright and Fitzgerald; N...   \n",
       "40   Tellers: Tá, Deputies B. Ahern and Briscoe; Ní...   \n",
       "5    Tellers:—Tá: Deputies Boland and Allen.  Níl: ...   \n",
       "\n",
       "                                                   uri  voteId  \n",
       "207  /ie/oireachtas/division/house/seanad/19/1991-0...  vote_1  \n",
       "40   /ie/oireachtas/division/house/dail/23/1982-03-...  vote_1  \n",
       "5    /ie/oireachtas/division/house/dail/6/1928-11-2...  vote_2  "
      ]
     },
     "execution_count": 6,
     "metadata": {},
     "output_type": "execute_result"
    }
   ],
   "source": [
    "# Not all the columns are useful, we can transform and drop the redundant ones:\n",
    "df_raw.sample(3)"
   ]
  },
  {
   "cell_type": "code",
   "execution_count": 7,
   "metadata": {
    "collapsed": true
   },
   "outputs": [],
   "source": [
    "flatten_columns = ['chamber','debate','house','subject'] # deal with tallies later\n",
    "df_raw = flatten_dataframe_columns(df_raw, flatten_columns)\n",
    "\n",
    "# category is always \"Division\", isBill is always False, not used in \"Divisions\"\n",
    "# debate.formats.pdf, subject.uri are always empty for this data\n",
    "df_raw.drop(['category','isBill','debate.formats.pdf','subject.uri'], axis=1, inplace=True)"
   ]
  },
  {
   "cell_type": "code",
   "execution_count": 8,
   "metadata": {},
   "outputs": [
    {
     "data": {
      "text/html": [
       "<div>\n",
       "<style>\n",
       "    .dataframe thead tr:only-child th {\n",
       "        text-align: right;\n",
       "    }\n",
       "\n",
       "    .dataframe thead th {\n",
       "        text-align: left;\n",
       "    }\n",
       "\n",
       "    .dataframe tbody tr th {\n",
       "        vertical-align: top;\n",
       "    }\n",
       "</style>\n",
       "<table border=\"1\" class=\"dataframe\">\n",
       "  <thead>\n",
       "    <tr style=\"text-align: right;\">\n",
       "      <th></th>\n",
       "      <th>chamber.showAs</th>\n",
       "      <th>chamber.uri</th>\n",
       "      <th>debate.debateSection</th>\n",
       "      <th>debate.formats.xml.uri</th>\n",
       "      <th>debate.showAs</th>\n",
       "      <th>debate.uri</th>\n",
       "      <th>house.chamberType</th>\n",
       "      <th>house.committeeCode</th>\n",
       "      <th>house.houseCode</th>\n",
       "      <th>house.houseNo</th>\n",
       "      <th>house.showAs</th>\n",
       "      <th>house.uri</th>\n",
       "      <th>subject.showAs</th>\n",
       "      <th>date</th>\n",
       "      <th>datetime</th>\n",
       "      <th>outcome</th>\n",
       "      <th>tallies</th>\n",
       "      <th>tellers</th>\n",
       "      <th>uri</th>\n",
       "      <th>voteId</th>\n",
       "    </tr>\n",
       "  </thead>\n",
       "  <tbody>\n",
       "    <tr>\n",
       "      <th>150</th>\n",
       "      <td>Seanad Éireann</td>\n",
       "      <td>/ie/oireachtas/house/seanad</td>\n",
       "      <td>dbsect_6</td>\n",
       "      <td>/akn/ie/debateRecord/seanad/2010-03-31/debate/...</td>\n",
       "      <td>Lost at Sea Scheme: Motion.</td>\n",
       "      <td>/akn/ie/debateRecord/seanad/2010-03-31/debate/...</td>\n",
       "      <td>house</td>\n",
       "      <td></td>\n",
       "      <td>seanad</td>\n",
       "      <td>23</td>\n",
       "      <td>23rd Seanad</td>\n",
       "      <td>/ie/oireachtas/house/seanad/23</td>\n",
       "      <td>The Seanad divided: Tá,</td>\n",
       "      <td>2010-03-31</td>\n",
       "      <td>NaT</td>\n",
       "      <td>Carried</td>\n",
       "      <td>{'taVotes': {'showAs': 'Tá', 'tally': 29, 'mem...</td>\n",
       "      <td>Tellers: Tá, Senators Niall Ó Brolcháin and Di...</td>\n",
       "      <td>/ie/oireachtas/division/house/seanad/23/2010-0...</td>\n",
       "      <td>vote_1</td>\n",
       "    </tr>\n",
       "    <tr>\n",
       "      <th>38</th>\n",
       "      <td>Dáil Éireann</td>\n",
       "      <td>/ie/oireachtas/house/dail</td>\n",
       "      <td>dbsect_10</td>\n",
       "      <td>/akn/ie/debateRecord/dail/1924-11-20/debate/mu...</td>\n",
       "      <td>LOCAL GOVERNMENT BILL, 1924,—THIRD STAGE (RESU...</td>\n",
       "      <td>/akn/ie/debateRecord/dail/1924-11-20/debate/main</td>\n",
       "      <td>house</td>\n",
       "      <td></td>\n",
       "      <td>dail</td>\n",
       "      <td>4</td>\n",
       "      <td>4th Dáil</td>\n",
       "      <td>/ie/oireachtas/house/dail/4</td>\n",
       "      <td>The Committee divided: Tá,</td>\n",
       "      <td>1924-11-20</td>\n",
       "      <td>NaT</td>\n",
       "      <td>_</td>\n",
       "      <td>{'nilVotes': {'tally': 37, 'members': [{'membe...</td>\n",
       "      <td></td>\n",
       "      <td>/ie/oireachtas/division/house/dail/4/1924-11-2...</td>\n",
       "      <td>vote_1</td>\n",
       "    </tr>\n",
       "    <tr>\n",
       "      <th>127</th>\n",
       "      <td>Dáil Éireann</td>\n",
       "      <td>/ie/oireachtas/house/dail</td>\n",
       "      <td>dbsect_19</td>\n",
       "      <td>/akn/ie/debateRecord/dail/2005-03-01/debate/mu...</td>\n",
       "      <td>Social Welfare and Pensions Bill 2005: Report ...</td>\n",
       "      <td>/akn/ie/debateRecord/dail/2005-03-01/debate/main</td>\n",
       "      <td>house</td>\n",
       "      <td></td>\n",
       "      <td>dail</td>\n",
       "      <td>29</td>\n",
       "      <td>29th Dáil</td>\n",
       "      <td>/ie/oireachtas/house/dail/29</td>\n",
       "      <td>The Dáil divided: Tá,</td>\n",
       "      <td>2005-03-01</td>\n",
       "      <td>NaT</td>\n",
       "      <td>Carried</td>\n",
       "      <td>{'staonVotes': None, 'nilVotes': {'members': [...</td>\n",
       "      <td>Tellers: Tá, Deputies Kitt and Kelleher; Níl, ...</td>\n",
       "      <td>/ie/oireachtas/division/house/dail/29/2005-03-...</td>\n",
       "      <td>vote_1</td>\n",
       "    </tr>\n",
       "  </tbody>\n",
       "</table>\n",
       "</div>"
      ],
      "text/plain": [
       "     chamber.showAs                  chamber.uri debate.debateSection  \\\n",
       "150  Seanad Éireann  /ie/oireachtas/house/seanad             dbsect_6   \n",
       "38     Dáil Éireann    /ie/oireachtas/house/dail            dbsect_10   \n",
       "127    Dáil Éireann    /ie/oireachtas/house/dail            dbsect_19   \n",
       "\n",
       "                                debate.formats.xml.uri  \\\n",
       "150  /akn/ie/debateRecord/seanad/2010-03-31/debate/...   \n",
       "38   /akn/ie/debateRecord/dail/1924-11-20/debate/mu...   \n",
       "127  /akn/ie/debateRecord/dail/2005-03-01/debate/mu...   \n",
       "\n",
       "                                         debate.showAs  \\\n",
       "150                        Lost at Sea Scheme: Motion.   \n",
       "38   LOCAL GOVERNMENT BILL, 1924,—THIRD STAGE (RESU...   \n",
       "127  Social Welfare and Pensions Bill 2005: Report ...   \n",
       "\n",
       "                                            debate.uri house.chamberType  \\\n",
       "150  /akn/ie/debateRecord/seanad/2010-03-31/debate/...             house   \n",
       "38    /akn/ie/debateRecord/dail/1924-11-20/debate/main             house   \n",
       "127   /akn/ie/debateRecord/dail/2005-03-01/debate/main             house   \n",
       "\n",
       "    house.committeeCode house.houseCode house.houseNo house.showAs  \\\n",
       "150                              seanad            23  23rd Seanad   \n",
       "38                                 dail             4     4th Dáil   \n",
       "127                                dail            29    29th Dáil   \n",
       "\n",
       "                          house.uri               subject.showAs       date  \\\n",
       "150  /ie/oireachtas/house/seanad/23     The Seanad divided: Tá,  2010-03-31   \n",
       "38      /ie/oireachtas/house/dail/4  The Committee divided: Tá,  1924-11-20   \n",
       "127    /ie/oireachtas/house/dail/29       The Dáil divided: Tá,  2005-03-01   \n",
       "\n",
       "    datetime  outcome                                            tallies  \\\n",
       "150      NaT  Carried  {'taVotes': {'showAs': 'Tá', 'tally': 29, 'mem...   \n",
       "38       NaT        _  {'nilVotes': {'tally': 37, 'members': [{'membe...   \n",
       "127      NaT  Carried  {'staonVotes': None, 'nilVotes': {'members': [...   \n",
       "\n",
       "                                               tellers  \\\n",
       "150  Tellers: Tá, Senators Niall Ó Brolcháin and Di...   \n",
       "38                                                       \n",
       "127  Tellers: Tá, Deputies Kitt and Kelleher; Níl, ...   \n",
       "\n",
       "                                                   uri  voteId  \n",
       "150  /ie/oireachtas/division/house/seanad/23/2010-0...  vote_1  \n",
       "38   /ie/oireachtas/division/house/dail/4/1924-11-2...  vote_1  \n",
       "127  /ie/oireachtas/division/house/dail/29/2005-03-...  vote_1  "
      ]
     },
     "execution_count": 8,
     "metadata": {},
     "output_type": "execute_result"
    }
   ],
   "source": [
    "df_raw.sample(3)"
   ]
  },
  {
   "cell_type": "code",
   "execution_count": 9,
   "metadata": {
    "scrolled": false
   },
   "outputs": [
    {
     "data": {
      "text/markdown": [
       "----------"
      ],
      "text/plain": [
       "<IPython.core.display.Markdown object>"
      ]
     },
     "metadata": {},
     "output_type": "display_data"
    },
    {
     "data": {
      "text/markdown": [
       "# chamber.showAs"
      ],
      "text/plain": [
       "<IPython.core.display.Markdown object>"
      ]
     },
     "metadata": {},
     "output_type": "display_data"
    },
    {
     "data": {
      "text/markdown": [
       "###  Stats:"
      ],
      "text/plain": [
       "<IPython.core.display.Markdown object>"
      ]
     },
     "metadata": {},
     "output_type": "display_data"
    },
    {
     "data": {
      "text/html": [
       "<div>\n",
       "<style>\n",
       "    .dataframe thead tr:only-child th {\n",
       "        text-align: right;\n",
       "    }\n",
       "\n",
       "    .dataframe thead th {\n",
       "        text-align: left;\n",
       "    }\n",
       "\n",
       "    .dataframe tbody tr th {\n",
       "        vertical-align: top;\n",
       "    }\n",
       "</style>\n",
       "<table border=\"1\" class=\"dataframe\">\n",
       "  <thead>\n",
       "    <tr style=\"text-align: right;\">\n",
       "      <th></th>\n",
       "      <th>chamber.showAs</th>\n",
       "    </tr>\n",
       "  </thead>\n",
       "  <tbody>\n",
       "    <tr>\n",
       "      <th>count</th>\n",
       "      <td>11487</td>\n",
       "    </tr>\n",
       "    <tr>\n",
       "      <th>unique</th>\n",
       "      <td>69</td>\n",
       "    </tr>\n",
       "    <tr>\n",
       "      <th>top</th>\n",
       "      <td>Dáil Éireann</td>\n",
       "    </tr>\n",
       "    <tr>\n",
       "      <th>freq</th>\n",
       "      <td>7348</td>\n",
       "    </tr>\n",
       "    <tr>\n",
       "      <th>missing</th>\n",
       "      <td>0</td>\n",
       "    </tr>\n",
       "  </tbody>\n",
       "</table>\n",
       "</div>"
      ],
      "text/plain": [
       "        chamber.showAs\n",
       "count            11487\n",
       "unique              69\n",
       "top       Dáil Éireann\n",
       "freq              7348\n",
       "missing              0"
      ]
     },
     "metadata": {},
     "output_type": "display_data"
    },
    {
     "data": {
      "text/markdown": [
       "###  Top N:"
      ],
      "text/plain": [
       "<IPython.core.display.Markdown object>"
      ]
     },
     "metadata": {},
     "output_type": "display_data"
    },
    {
     "data": {
      "text/html": [
       "<div>\n",
       "<style>\n",
       "    .dataframe thead tr:only-child th {\n",
       "        text-align: right;\n",
       "    }\n",
       "\n",
       "    .dataframe thead th {\n",
       "        text-align: left;\n",
       "    }\n",
       "\n",
       "    .dataframe tbody tr th {\n",
       "        vertical-align: top;\n",
       "    }\n",
       "</style>\n",
       "<table border=\"1\" class=\"dataframe\">\n",
       "  <thead>\n",
       "    <tr style=\"text-align: right;\">\n",
       "      <th></th>\n",
       "      <th>chamber.showAs</th>\n",
       "    </tr>\n",
       "  </thead>\n",
       "  <tbody>\n",
       "    <tr>\n",
       "      <th>Dáil Éireann</th>\n",
       "      <td>7348</td>\n",
       "    </tr>\n",
       "    <tr>\n",
       "      <th>Seanad Éireann</th>\n",
       "      <td>3546</td>\n",
       "    </tr>\n",
       "    <tr>\n",
       "      <th>SELECT COMMITTEE ON FINANCE AND THE PUBLIC SERVICE</th>\n",
       "      <td>71</td>\n",
       "    </tr>\n",
       "    <tr>\n",
       "      <th>SELECT COMMITTEE ON ENVIRONMENT AND LOCAL GOVERNMENT</th>\n",
       "      <td>61</td>\n",
       "    </tr>\n",
       "    <tr>\n",
       "      <th>Select Sub-Committee on the Environment, Community and Local Government</th>\n",
       "      <td>45</td>\n",
       "    </tr>\n",
       "    <tr>\n",
       "      <th>SELECT COMMITTEE ON JUSTICE, EQUALITY, DEFENCE AND WOMEN’S RIGHTS</th>\n",
       "      <td>33</td>\n",
       "    </tr>\n",
       "    <tr>\n",
       "      <th>SELECT COMMITTEE ON TRANSPORT</th>\n",
       "      <td>25</td>\n",
       "    </tr>\n",
       "    <tr>\n",
       "      <th>SELECT COMMITTEE ON EDUCATION AND SCIENCE</th>\n",
       "      <td>24</td>\n",
       "    </tr>\n",
       "    <tr>\n",
       "      <th>SELECT COMMITTEE ON ENTERPRISE AND SMALL BUSINESS</th>\n",
       "      <td>23</td>\n",
       "    </tr>\n",
       "    <tr>\n",
       "      <th>SELECT COMMITTEE ON JUSTICE, EQUALITY AND WOMEN’S RIGHTS</th>\n",
       "      <td>22</td>\n",
       "    </tr>\n",
       "    <tr>\n",
       "      <th>SELECT COMMITTEE ON COMMUNICATIONS, MARINE AND NATURAL RESOURCES</th>\n",
       "      <td>19</td>\n",
       "    </tr>\n",
       "    <tr>\n",
       "      <th>Select Committee on Finance, Public Expenditure and Reform, and Taoiseach</th>\n",
       "      <td>16</td>\n",
       "    </tr>\n",
       "    <tr>\n",
       "      <th>SELECT COMMITTEE ON HEALTH AND CHILDREN</th>\n",
       "      <td>15</td>\n",
       "    </tr>\n",
       "    <tr>\n",
       "      <th>Joint Committee on the Eighth Amendment of the Constitution</th>\n",
       "      <td>15</td>\n",
       "    </tr>\n",
       "    <tr>\n",
       "      <th>SELECT COMMITTEE ON FAMILY, COMMUNITY AND SOCIAL AFFAIRS</th>\n",
       "      <td>14</td>\n",
       "    </tr>\n",
       "    <tr>\n",
       "      <th>Select Sub-Committee on Finance</th>\n",
       "      <td>13</td>\n",
       "    </tr>\n",
       "    <tr>\n",
       "      <th>Select Committee on Justice and Equality</th>\n",
       "      <td>11</td>\n",
       "    </tr>\n",
       "    <tr>\n",
       "      <th>Select Committee on Jobs, Enterprise and Innovation</th>\n",
       "      <td>11</td>\n",
       "    </tr>\n",
       "    <tr>\n",
       "      <th>Select Sub-Committee on Health</th>\n",
       "      <td>11</td>\n",
       "    </tr>\n",
       "    <tr>\n",
       "      <th>SELECT COMMITTEE ON SOCIAL AND FAMILY AFFAIRS</th>\n",
       "      <td>11</td>\n",
       "    </tr>\n",
       "    <tr>\n",
       "      <th>Select Committee on Education and Skills</th>\n",
       "      <td>11</td>\n",
       "    </tr>\n",
       "    <tr>\n",
       "      <th>Select Sub-Committee on Public Expenditure and Reform</th>\n",
       "      <td>10</td>\n",
       "    </tr>\n",
       "    <tr>\n",
       "      <th>SELECT COMMITTEE ON THE ENVIRONMENT, TRANSPORT, CULTURE AND THE GAELTACHT (Select Sub-Committee on the Environment, Community and Local Government)</th>\n",
       "      <td>9</td>\n",
       "    </tr>\n",
       "    <tr>\n",
       "      <th>Select Committee on Housing, Planning and Local Government</th>\n",
       "      <td>8</td>\n",
       "    </tr>\n",
       "    <tr>\n",
       "      <th>Select Committee on Justice, Defence and Equality</th>\n",
       "      <td>7</td>\n",
       "    </tr>\n",
       "    <tr>\n",
       "      <th>Select Committee on Agriculture, Food and the Marine</th>\n",
       "      <td>6</td>\n",
       "    </tr>\n",
       "    <tr>\n",
       "      <th>Select Committee on Finance and General Affairs</th>\n",
       "      <td>5</td>\n",
       "    </tr>\n",
       "    <tr>\n",
       "      <th>SELECT COMMITTEE on HERITAGE and the IRISH LANGUAGE</th>\n",
       "      <td>5</td>\n",
       "    </tr>\n",
       "    <tr>\n",
       "      <th>SELECT COMMITTEE ON JUSTICE, EQUALITY, DEFENCE AND WOMEN'S RIGHTS</th>\n",
       "      <td>5</td>\n",
       "    </tr>\n",
       "    <tr>\n",
       "      <th>JOINT COMMITTEE ON FINANCE AND THE PUBLIC SERVICE</th>\n",
       "      <td>5</td>\n",
       "    </tr>\n",
       "    <tr>\n",
       "      <th>SELECT COMMITTEE ON AGRICULTURE, FOOD AND THE MARINE</th>\n",
       "      <td>5</td>\n",
       "    </tr>\n",
       "    <tr>\n",
       "      <th>SELECT COMMITTEE ON PUBLIC ENTERPRISE AND TRANSPORT</th>\n",
       "      <td>5</td>\n",
       "    </tr>\n",
       "    <tr>\n",
       "      <th>Joint Committee on Finance, Public Expenditure and Reform</th>\n",
       "      <td>4</td>\n",
       "    </tr>\n",
       "    <tr>\n",
       "      <th>SELECT COMMITTEE ON ARTS, SPORT, TOURISM, COMMUNITY, RURAL AND GAELTACHT AFFAIRS</th>\n",
       "      <td>4</td>\n",
       "    </tr>\n",
       "    <tr>\n",
       "      <th>Select Committee on Housing, Planning, Community and Local Government</th>\n",
       "      <td>4</td>\n",
       "    </tr>\n",
       "    <tr>\n",
       "      <th>Select Sub-Committee on Social Protection</th>\n",
       "      <td>3</td>\n",
       "    </tr>\n",
       "    <tr>\n",
       "      <th>SELECT COMMITTEE ON TOURISM, SPORT and RECREATION</th>\n",
       "      <td>3</td>\n",
       "    </tr>\n",
       "    <tr>\n",
       "      <th>Select Committee on Employment Affairs and Social Protection</th>\n",
       "      <td>3</td>\n",
       "    </tr>\n",
       "    <tr>\n",
       "      <th>SELECT COMMITTEE ON FINANCE, PUBLIC EXPENDITURE AND REFORM (Select Sub-Committee on Finance)</th>\n",
       "      <td>3</td>\n",
       "    </tr>\n",
       "    <tr>\n",
       "      <th>SELECT COMMITTEE ON THE ENVIRONMENT, HERITAGE AND LOCAL GOVERNMENT</th>\n",
       "      <td>3</td>\n",
       "    </tr>\n",
       "    <tr>\n",
       "      <th>SELECT COMMITTEE ON JUSTICE, DEFENCE AND WOMEN'S RIGHTS</th>\n",
       "      <td>3</td>\n",
       "    </tr>\n",
       "    <tr>\n",
       "      <th>JOINT COMMITTEE ON HEALTH AND CHILDREN</th>\n",
       "      <td>3</td>\n",
       "    </tr>\n",
       "    <tr>\n",
       "      <th>Joint Committee on Jobs, Enterprise and Innovation</th>\n",
       "      <td>2</td>\n",
       "    </tr>\n",
       "    <tr>\n",
       "      <th>Select Sub-Committee on Transport, Tourism and Sport</th>\n",
       "      <td>2</td>\n",
       "    </tr>\n",
       "    <tr>\n",
       "      <th>Select Committee on Legislation and Security</th>\n",
       "      <td>2</td>\n",
       "    </tr>\n",
       "    <tr>\n",
       "      <th>SELECT COMMITTEE ON EDUCATION AND SOCIAL PROTECTION (Select Sub-Committee on Education and Skills)</th>\n",
       "      <td>2</td>\n",
       "    </tr>\n",
       "    <tr>\n",
       "      <th>COMMITTEE OF PUBLIC ACCOUNTS</th>\n",
       "      <td>2</td>\n",
       "    </tr>\n",
       "    <tr>\n",
       "      <th>SELECT COMMITTEE ON JUSTICE, DEFENCE AND EQUALITY</th>\n",
       "      <td>2</td>\n",
       "    </tr>\n",
       "    <tr>\n",
       "      <th>Joint Committee on Foreign Affairs and Trade</th>\n",
       "      <td>2</td>\n",
       "    </tr>\n",
       "    <tr>\n",
       "      <th>JOINT COMMITTEE ON ENVIRONMENT AND LOCAL GOVERNMENT</th>\n",
       "      <td>2</td>\n",
       "    </tr>\n",
       "  </tbody>\n",
       "</table>\n",
       "</div>"
      ],
      "text/plain": [
       "                                                    chamber.showAs\n",
       "Dáil Éireann                                                  7348\n",
       "Seanad Éireann                                                3546\n",
       "SELECT COMMITTEE ON FINANCE AND THE PUBLIC SERVICE              71\n",
       "SELECT COMMITTEE ON ENVIRONMENT AND LOCAL GOVER...              61\n",
       "Select Sub-Committee on the Environment, Commun...              45\n",
       "SELECT COMMITTEE ON JUSTICE, EQUALITY, DEFENCE ...              33\n",
       "SELECT COMMITTEE ON TRANSPORT                                   25\n",
       "SELECT COMMITTEE ON EDUCATION AND SCIENCE                       24\n",
       "SELECT COMMITTEE ON ENTERPRISE AND SMALL BUSINESS               23\n",
       "SELECT COMMITTEE ON JUSTICE, EQUALITY AND WOMEN...              22\n",
       "SELECT COMMITTEE ON COMMUNICATIONS, MARINE AND ...              19\n",
       "Select Committee on Finance, Public Expenditure...              16\n",
       "SELECT COMMITTEE ON HEALTH AND CHILDREN                         15\n",
       "Joint Committee on the Eighth Amendment of the ...              15\n",
       "SELECT COMMITTEE ON FAMILY, COMMUNITY AND SOCIA...              14\n",
       "Select Sub-Committee on Finance                                 13\n",
       "Select Committee on Justice and Equality                        11\n",
       "Select Committee on Jobs, Enterprise and Innova...              11\n",
       "Select Sub-Committee on Health                                  11\n",
       "SELECT COMMITTEE ON SOCIAL AND FAMILY AFFAIRS                   11\n",
       "Select Committee on Education and Skills                        11\n",
       "Select Sub-Committee on Public Expenditure and ...              10\n",
       "SELECT COMMITTEE ON THE ENVIRONMENT, TRANSPORT,...               9\n",
       "Select Committee on Housing, Planning and Local...               8\n",
       "Select Committee on Justice, Defence and Equality                7\n",
       "Select Committee on Agriculture, Food and the M...               6\n",
       "Select Committee on Finance and General Affairs                  5\n",
       "SELECT COMMITTEE on HERITAGE and the IRISH LANG...               5\n",
       "SELECT COMMITTEE ON JUSTICE, EQUALITY, DEFENCE ...               5\n",
       "JOINT COMMITTEE ON FINANCE AND THE PUBLIC SERVICE                5\n",
       "SELECT COMMITTEE ON AGRICULTURE, FOOD AND THE M...               5\n",
       "SELECT COMMITTEE ON PUBLIC ENTERPRISE AND TRANS...               5\n",
       "Joint Committee on Finance, Public Expenditure ...               4\n",
       "SELECT COMMITTEE ON ARTS, SPORT, TOURISM, COMMU...               4\n",
       "Select Committee on Housing, Planning, Communit...               4\n",
       "Select Sub-Committee on Social Protection                        3\n",
       "SELECT COMMITTEE ON TOURISM, SPORT and RECREATION                3\n",
       "Select Committee on Employment Affairs and Soci...               3\n",
       "SELECT COMMITTEE ON FINANCE, PUBLIC EXPENDITURE...               3\n",
       "SELECT COMMITTEE ON THE ENVIRONMENT, HERITAGE A...               3\n",
       "SELECT COMMITTEE ON JUSTICE, DEFENCE AND WOMEN'...               3\n",
       "JOINT COMMITTEE ON HEALTH AND CHILDREN                           3\n",
       "Joint Committee on Jobs, Enterprise and Innovation               2\n",
       "Select Sub-Committee on Transport, Tourism and ...               2\n",
       "Select Committee on Legislation and Security                     2\n",
       "SELECT COMMITTEE ON EDUCATION AND SOCIAL PROTEC...               2\n",
       "COMMITTEE OF PUBLIC ACCOUNTS                                     2\n",
       "SELECT COMMITTEE ON JUSTICE, DEFENCE AND EQUALITY                2\n",
       "Joint Committee on Foreign Affairs and Trade                     2\n",
       "JOINT COMMITTEE ON ENVIRONMENT AND LOCAL GOVERN...               2"
      ]
     },
     "metadata": {},
     "output_type": "display_data"
    },
    {
     "data": {
      "text/markdown": [
       "----------"
      ],
      "text/plain": [
       "<IPython.core.display.Markdown object>"
      ]
     },
     "metadata": {},
     "output_type": "display_data"
    },
    {
     "data": {
      "text/markdown": [
       "# chamber.uri"
      ],
      "text/plain": [
       "<IPython.core.display.Markdown object>"
      ]
     },
     "metadata": {},
     "output_type": "display_data"
    },
    {
     "data": {
      "text/markdown": [
       "###  Stats:"
      ],
      "text/plain": [
       "<IPython.core.display.Markdown object>"
      ]
     },
     "metadata": {},
     "output_type": "display_data"
    },
    {
     "data": {
      "text/html": [
       "<div>\n",
       "<style>\n",
       "    .dataframe thead tr:only-child th {\n",
       "        text-align: right;\n",
       "    }\n",
       "\n",
       "    .dataframe thead th {\n",
       "        text-align: left;\n",
       "    }\n",
       "\n",
       "    .dataframe tbody tr th {\n",
       "        vertical-align: top;\n",
       "    }\n",
       "</style>\n",
       "<table border=\"1\" class=\"dataframe\">\n",
       "  <thead>\n",
       "    <tr style=\"text-align: right;\">\n",
       "      <th></th>\n",
       "      <th>chamber.uri</th>\n",
       "    </tr>\n",
       "  </thead>\n",
       "  <tbody>\n",
       "    <tr>\n",
       "      <th>count</th>\n",
       "      <td>11487</td>\n",
       "    </tr>\n",
       "    <tr>\n",
       "      <th>unique</th>\n",
       "      <td>3</td>\n",
       "    </tr>\n",
       "    <tr>\n",
       "      <th>top</th>\n",
       "      <td>/ie/oireachtas/house/dail</td>\n",
       "    </tr>\n",
       "    <tr>\n",
       "      <th>freq</th>\n",
       "      <td>7348</td>\n",
       "    </tr>\n",
       "    <tr>\n",
       "      <th>missing</th>\n",
       "      <td>0</td>\n",
       "    </tr>\n",
       "  </tbody>\n",
       "</table>\n",
       "</div>"
      ],
      "text/plain": [
       "                       chamber.uri\n",
       "count                        11487\n",
       "unique                           3\n",
       "top      /ie/oireachtas/house/dail\n",
       "freq                          7348\n",
       "missing                          0"
      ]
     },
     "metadata": {},
     "output_type": "display_data"
    },
    {
     "data": {
      "text/markdown": [
       "###  Top N:"
      ],
      "text/plain": [
       "<IPython.core.display.Markdown object>"
      ]
     },
     "metadata": {},
     "output_type": "display_data"
    },
    {
     "data": {
      "text/html": [
       "<div>\n",
       "<style>\n",
       "    .dataframe thead tr:only-child th {\n",
       "        text-align: right;\n",
       "    }\n",
       "\n",
       "    .dataframe thead th {\n",
       "        text-align: left;\n",
       "    }\n",
       "\n",
       "    .dataframe tbody tr th {\n",
       "        vertical-align: top;\n",
       "    }\n",
       "</style>\n",
       "<table border=\"1\" class=\"dataframe\">\n",
       "  <thead>\n",
       "    <tr style=\"text-align: right;\">\n",
       "      <th></th>\n",
       "      <th>chamber.uri</th>\n",
       "    </tr>\n",
       "  </thead>\n",
       "  <tbody>\n",
       "    <tr>\n",
       "      <th>/ie/oireachtas/house/dail</th>\n",
       "      <td>7348</td>\n",
       "    </tr>\n",
       "    <tr>\n",
       "      <th>/ie/oireachtas/house/seanad</th>\n",
       "      <td>3546</td>\n",
       "    </tr>\n",
       "    <tr>\n",
       "      <th>/ie/oireachtas/committee</th>\n",
       "      <td>593</td>\n",
       "    </tr>\n",
       "  </tbody>\n",
       "</table>\n",
       "</div>"
      ],
      "text/plain": [
       "                             chamber.uri\n",
       "/ie/oireachtas/house/dail           7348\n",
       "/ie/oireachtas/house/seanad         3546\n",
       "/ie/oireachtas/committee             593"
      ]
     },
     "metadata": {},
     "output_type": "display_data"
    },
    {
     "data": {
      "text/markdown": [
       "----------"
      ],
      "text/plain": [
       "<IPython.core.display.Markdown object>"
      ]
     },
     "metadata": {},
     "output_type": "display_data"
    },
    {
     "data": {
      "text/markdown": [
       "# debate.debateSection"
      ],
      "text/plain": [
       "<IPython.core.display.Markdown object>"
      ]
     },
     "metadata": {},
     "output_type": "display_data"
    },
    {
     "data": {
      "text/markdown": [
       "###  Stats:"
      ],
      "text/plain": [
       "<IPython.core.display.Markdown object>"
      ]
     },
     "metadata": {},
     "output_type": "display_data"
    },
    {
     "data": {
      "text/html": [
       "<div>\n",
       "<style>\n",
       "    .dataframe thead tr:only-child th {\n",
       "        text-align: right;\n",
       "    }\n",
       "\n",
       "    .dataframe thead th {\n",
       "        text-align: left;\n",
       "    }\n",
       "\n",
       "    .dataframe tbody tr th {\n",
       "        vertical-align: top;\n",
       "    }\n",
       "</style>\n",
       "<table border=\"1\" class=\"dataframe\">\n",
       "  <thead>\n",
       "    <tr style=\"text-align: right;\">\n",
       "      <th></th>\n",
       "      <th>debate.debateSection</th>\n",
       "    </tr>\n",
       "  </thead>\n",
       "  <tbody>\n",
       "    <tr>\n",
       "      <th>count</th>\n",
       "      <td>11487</td>\n",
       "    </tr>\n",
       "    <tr>\n",
       "      <th>unique</th>\n",
       "      <td>109</td>\n",
       "    </tr>\n",
       "    <tr>\n",
       "      <th>top</th>\n",
       "      <td>dbsect_3</td>\n",
       "    </tr>\n",
       "    <tr>\n",
       "      <th>freq</th>\n",
       "      <td>1356</td>\n",
       "    </tr>\n",
       "    <tr>\n",
       "      <th>missing</th>\n",
       "      <td>0</td>\n",
       "    </tr>\n",
       "  </tbody>\n",
       "</table>\n",
       "</div>"
      ],
      "text/plain": [
       "        debate.debateSection\n",
       "count                  11487\n",
       "unique                   109\n",
       "top                 dbsect_3\n",
       "freq                    1356\n",
       "missing                    0"
      ]
     },
     "metadata": {},
     "output_type": "display_data"
    },
    {
     "data": {
      "text/markdown": [
       "###  Top N:"
      ],
      "text/plain": [
       "<IPython.core.display.Markdown object>"
      ]
     },
     "metadata": {},
     "output_type": "display_data"
    },
    {
     "data": {
      "text/html": [
       "<div>\n",
       "<style>\n",
       "    .dataframe thead tr:only-child th {\n",
       "        text-align: right;\n",
       "    }\n",
       "\n",
       "    .dataframe thead th {\n",
       "        text-align: left;\n",
       "    }\n",
       "\n",
       "    .dataframe tbody tr th {\n",
       "        vertical-align: top;\n",
       "    }\n",
       "</style>\n",
       "<table border=\"1\" class=\"dataframe\">\n",
       "  <thead>\n",
       "    <tr style=\"text-align: right;\">\n",
       "      <th></th>\n",
       "      <th>debate.debateSection</th>\n",
       "    </tr>\n",
       "  </thead>\n",
       "  <tbody>\n",
       "    <tr>\n",
       "      <th>dbsect_3</th>\n",
       "      <td>1356</td>\n",
       "    </tr>\n",
       "    <tr>\n",
       "      <th>dbsect_2</th>\n",
       "      <td>691</td>\n",
       "    </tr>\n",
       "    <tr>\n",
       "      <th>dbsect_4</th>\n",
       "      <td>660</td>\n",
       "    </tr>\n",
       "    <tr>\n",
       "      <th>dbsect_5</th>\n",
       "      <td>540</td>\n",
       "    </tr>\n",
       "    <tr>\n",
       "      <th>dbsect_6</th>\n",
       "      <td>459</td>\n",
       "    </tr>\n",
       "    <tr>\n",
       "      <th>dbsect_8</th>\n",
       "      <td>396</td>\n",
       "    </tr>\n",
       "    <tr>\n",
       "      <th>dbsect_7</th>\n",
       "      <td>392</td>\n",
       "    </tr>\n",
       "    <tr>\n",
       "      <th>dbsect_10</th>\n",
       "      <td>301</td>\n",
       "    </tr>\n",
       "    <tr>\n",
       "      <th>dbsect_9</th>\n",
       "      <td>292</td>\n",
       "    </tr>\n",
       "    <tr>\n",
       "      <th>dbsect_11</th>\n",
       "      <td>270</td>\n",
       "    </tr>\n",
       "    <tr>\n",
       "      <th>dbsect_21</th>\n",
       "      <td>256</td>\n",
       "    </tr>\n",
       "    <tr>\n",
       "      <th>dbsect_13</th>\n",
       "      <td>251</td>\n",
       "    </tr>\n",
       "    <tr>\n",
       "      <th>dbsect_12</th>\n",
       "      <td>241</td>\n",
       "    </tr>\n",
       "    <tr>\n",
       "      <th>dbsect_18</th>\n",
       "      <td>235</td>\n",
       "    </tr>\n",
       "    <tr>\n",
       "      <th>dbsect_16</th>\n",
       "      <td>235</td>\n",
       "    </tr>\n",
       "    <tr>\n",
       "      <th>dbsect_22</th>\n",
       "      <td>234</td>\n",
       "    </tr>\n",
       "    <tr>\n",
       "      <th>dbsect_25</th>\n",
       "      <td>230</td>\n",
       "    </tr>\n",
       "    <tr>\n",
       "      <th>dbsect_14</th>\n",
       "      <td>227</td>\n",
       "    </tr>\n",
       "    <tr>\n",
       "      <th>dbsect_19</th>\n",
       "      <td>220</td>\n",
       "    </tr>\n",
       "    <tr>\n",
       "      <th>dbsect_20</th>\n",
       "      <td>213</td>\n",
       "    </tr>\n",
       "    <tr>\n",
       "      <th>dbsect_15</th>\n",
       "      <td>209</td>\n",
       "    </tr>\n",
       "    <tr>\n",
       "      <th>dbsect_17</th>\n",
       "      <td>207</td>\n",
       "    </tr>\n",
       "    <tr>\n",
       "      <th>dbsect_27</th>\n",
       "      <td>192</td>\n",
       "    </tr>\n",
       "    <tr>\n",
       "      <th>dbsect_24</th>\n",
       "      <td>190</td>\n",
       "    </tr>\n",
       "    <tr>\n",
       "      <th>dbsect_23</th>\n",
       "      <td>188</td>\n",
       "    </tr>\n",
       "    <tr>\n",
       "      <th>dbsect_28</th>\n",
       "      <td>185</td>\n",
       "    </tr>\n",
       "    <tr>\n",
       "      <th>dbsect_29</th>\n",
       "      <td>183</td>\n",
       "    </tr>\n",
       "    <tr>\n",
       "      <th>dbsect_32</th>\n",
       "      <td>160</td>\n",
       "    </tr>\n",
       "    <tr>\n",
       "      <th>dbsect_26</th>\n",
       "      <td>159</td>\n",
       "    </tr>\n",
       "    <tr>\n",
       "      <th>dbsect_30</th>\n",
       "      <td>148</td>\n",
       "    </tr>\n",
       "    <tr>\n",
       "      <th>dbsect_31</th>\n",
       "      <td>147</td>\n",
       "    </tr>\n",
       "    <tr>\n",
       "      <th>dbsect_33</th>\n",
       "      <td>142</td>\n",
       "    </tr>\n",
       "    <tr>\n",
       "      <th>dbsect_34</th>\n",
       "      <td>127</td>\n",
       "    </tr>\n",
       "    <tr>\n",
       "      <th>dbsect_38</th>\n",
       "      <td>108</td>\n",
       "    </tr>\n",
       "    <tr>\n",
       "      <th>dbsect_35</th>\n",
       "      <td>100</td>\n",
       "    </tr>\n",
       "    <tr>\n",
       "      <th>dbsect_36</th>\n",
       "      <td>92</td>\n",
       "    </tr>\n",
       "    <tr>\n",
       "      <th>dbsect_37</th>\n",
       "      <td>87</td>\n",
       "    </tr>\n",
       "    <tr>\n",
       "      <th>dbsect_39</th>\n",
       "      <td>78</td>\n",
       "    </tr>\n",
       "    <tr>\n",
       "      <th>dbsect_41</th>\n",
       "      <td>75</td>\n",
       "    </tr>\n",
       "    <tr>\n",
       "      <th>dbsect_43</th>\n",
       "      <td>66</td>\n",
       "    </tr>\n",
       "    <tr>\n",
       "      <th>dbsect_40</th>\n",
       "      <td>58</td>\n",
       "    </tr>\n",
       "    <tr>\n",
       "      <th>dbsect_44</th>\n",
       "      <td>58</td>\n",
       "    </tr>\n",
       "    <tr>\n",
       "      <th>dbsect_45</th>\n",
       "      <td>54</td>\n",
       "    </tr>\n",
       "    <tr>\n",
       "      <th>dbsect_53</th>\n",
       "      <td>54</td>\n",
       "    </tr>\n",
       "    <tr>\n",
       "      <th>dbsect_49</th>\n",
       "      <td>51</td>\n",
       "    </tr>\n",
       "    <tr>\n",
       "      <th>dbsect_42</th>\n",
       "      <td>46</td>\n",
       "    </tr>\n",
       "    <tr>\n",
       "      <th>dbsect_46</th>\n",
       "      <td>36</td>\n",
       "    </tr>\n",
       "    <tr>\n",
       "      <th>dbsect_51</th>\n",
       "      <td>35</td>\n",
       "    </tr>\n",
       "    <tr>\n",
       "      <th>dbsect_48</th>\n",
       "      <td>33</td>\n",
       "    </tr>\n",
       "    <tr>\n",
       "      <th>dbsect_47</th>\n",
       "      <td>33</td>\n",
       "    </tr>\n",
       "  </tbody>\n",
       "</table>\n",
       "</div>"
      ],
      "text/plain": [
       "           debate.debateSection\n",
       "dbsect_3                   1356\n",
       "dbsect_2                    691\n",
       "dbsect_4                    660\n",
       "dbsect_5                    540\n",
       "dbsect_6                    459\n",
       "dbsect_8                    396\n",
       "dbsect_7                    392\n",
       "dbsect_10                   301\n",
       "dbsect_9                    292\n",
       "dbsect_11                   270\n",
       "dbsect_21                   256\n",
       "dbsect_13                   251\n",
       "dbsect_12                   241\n",
       "dbsect_18                   235\n",
       "dbsect_16                   235\n",
       "dbsect_22                   234\n",
       "dbsect_25                   230\n",
       "dbsect_14                   227\n",
       "dbsect_19                   220\n",
       "dbsect_20                   213\n",
       "dbsect_15                   209\n",
       "dbsect_17                   207\n",
       "dbsect_27                   192\n",
       "dbsect_24                   190\n",
       "dbsect_23                   188\n",
       "dbsect_28                   185\n",
       "dbsect_29                   183\n",
       "dbsect_32                   160\n",
       "dbsect_26                   159\n",
       "dbsect_30                   148\n",
       "dbsect_31                   147\n",
       "dbsect_33                   142\n",
       "dbsect_34                   127\n",
       "dbsect_38                   108\n",
       "dbsect_35                   100\n",
       "dbsect_36                    92\n",
       "dbsect_37                    87\n",
       "dbsect_39                    78\n",
       "dbsect_41                    75\n",
       "dbsect_43                    66\n",
       "dbsect_40                    58\n",
       "dbsect_44                    58\n",
       "dbsect_45                    54\n",
       "dbsect_53                    54\n",
       "dbsect_49                    51\n",
       "dbsect_42                    46\n",
       "dbsect_46                    36\n",
       "dbsect_51                    35\n",
       "dbsect_48                    33\n",
       "dbsect_47                    33"
      ]
     },
     "metadata": {},
     "output_type": "display_data"
    },
    {
     "data": {
      "text/markdown": [
       "----------"
      ],
      "text/plain": [
       "<IPython.core.display.Markdown object>"
      ]
     },
     "metadata": {},
     "output_type": "display_data"
    },
    {
     "data": {
      "text/markdown": [
       "# debate.formats.xml.uri"
      ],
      "text/plain": [
       "<IPython.core.display.Markdown object>"
      ]
     },
     "metadata": {},
     "output_type": "display_data"
    },
    {
     "data": {
      "text/markdown": [
       "###  Stats:"
      ],
      "text/plain": [
       "<IPython.core.display.Markdown object>"
      ]
     },
     "metadata": {},
     "output_type": "display_data"
    },
    {
     "data": {
      "text/html": [
       "<div>\n",
       "<style>\n",
       "    .dataframe thead tr:only-child th {\n",
       "        text-align: right;\n",
       "    }\n",
       "\n",
       "    .dataframe thead th {\n",
       "        text-align: left;\n",
       "    }\n",
       "\n",
       "    .dataframe tbody tr th {\n",
       "        vertical-align: top;\n",
       "    }\n",
       "</style>\n",
       "<table border=\"1\" class=\"dataframe\">\n",
       "  <thead>\n",
       "    <tr style=\"text-align: right;\">\n",
       "      <th></th>\n",
       "      <th>debate.formats.xml.uri</th>\n",
       "    </tr>\n",
       "  </thead>\n",
       "  <tbody>\n",
       "    <tr>\n",
       "      <th>count</th>\n",
       "      <td>11487</td>\n",
       "    </tr>\n",
       "    <tr>\n",
       "      <th>unique</th>\n",
       "      <td>5295</td>\n",
       "    </tr>\n",
       "    <tr>\n",
       "      <th>top</th>\n",
       "      <td>/akn/ie/debateRecord/select_sub-committee_on_t...</td>\n",
       "    </tr>\n",
       "    <tr>\n",
       "      <th>freq</th>\n",
       "      <td>41</td>\n",
       "    </tr>\n",
       "    <tr>\n",
       "      <th>missing</th>\n",
       "      <td>0</td>\n",
       "    </tr>\n",
       "  </tbody>\n",
       "</table>\n",
       "</div>"
      ],
      "text/plain": [
       "                                    debate.formats.xml.uri\n",
       "count                                                11487\n",
       "unique                                                5295\n",
       "top      /akn/ie/debateRecord/select_sub-committee_on_t...\n",
       "freq                                                    41\n",
       "missing                                                  0"
      ]
     },
     "metadata": {},
     "output_type": "display_data"
    },
    {
     "data": {
      "text/markdown": [
       "###  Top N:"
      ],
      "text/plain": [
       "<IPython.core.display.Markdown object>"
      ]
     },
     "metadata": {},
     "output_type": "display_data"
    },
    {
     "data": {
      "text/html": [
       "<div>\n",
       "<style>\n",
       "    .dataframe thead tr:only-child th {\n",
       "        text-align: right;\n",
       "    }\n",
       "\n",
       "    .dataframe thead th {\n",
       "        text-align: left;\n",
       "    }\n",
       "\n",
       "    .dataframe tbody tr th {\n",
       "        vertical-align: top;\n",
       "    }\n",
       "</style>\n",
       "<table border=\"1\" class=\"dataframe\">\n",
       "  <thead>\n",
       "    <tr style=\"text-align: right;\">\n",
       "      <th></th>\n",
       "      <th>debate.formats.xml.uri</th>\n",
       "    </tr>\n",
       "  </thead>\n",
       "  <tbody>\n",
       "    <tr>\n",
       "      <th>/akn/ie/debateRecord/select_sub-committee_on_the_environment_community_and_local_government/2012-01-18/debate/mul@/main.xml</th>\n",
       "      <td>41</td>\n",
       "    </tr>\n",
       "    <tr>\n",
       "      <th>/akn/ie/debateRecord/dail/1933-07-14/debate/mul@/main.xml</th>\n",
       "      <td>30</td>\n",
       "    </tr>\n",
       "    <tr>\n",
       "      <th>/akn/ie/debateRecord/dail/1935-07-05/debate/mul@/main.xml</th>\n",
       "      <td>22</td>\n",
       "    </tr>\n",
       "    <tr>\n",
       "      <th>/akn/ie/debateRecord/dail/1929-05-30/debate/mul@/main.xml</th>\n",
       "      <td>22</td>\n",
       "    </tr>\n",
       "    <tr>\n",
       "      <th>/akn/ie/debateRecord/dail/1967-07-21/debate/mul@/main.xml</th>\n",
       "      <td>20</td>\n",
       "    </tr>\n",
       "    <tr>\n",
       "      <th>/akn/ie/debateRecord/dail/1927-08-03/debate/mul@/main.xml</th>\n",
       "      <td>17</td>\n",
       "    </tr>\n",
       "    <tr>\n",
       "      <th>/akn/ie/debateRecord/dail/1923-07-12/debate/mul@/main.xml</th>\n",
       "      <td>17</td>\n",
       "    </tr>\n",
       "    <tr>\n",
       "      <th>/akn/ie/debateRecord/seanad/2015-12-01/debate/mul@/main.xml</th>\n",
       "      <td>17</td>\n",
       "    </tr>\n",
       "    <tr>\n",
       "      <th>/akn/ie/debateRecord/dail/1933-06-02/debate/mul@/main.xml</th>\n",
       "      <td>16</td>\n",
       "    </tr>\n",
       "    <tr>\n",
       "      <th>/akn/ie/debateRecord/dail/1928-06-20/debate/mul@/main.xml</th>\n",
       "      <td>16</td>\n",
       "    </tr>\n",
       "    <tr>\n",
       "      <th>/akn/ie/debateRecord/dail/1929-07-10/debate/mul@/main.xml</th>\n",
       "      <td>15</td>\n",
       "    </tr>\n",
       "    <tr>\n",
       "      <th>/akn/ie/debateRecord/seanad/2011-12-07/debate/mul@/main.xml</th>\n",
       "      <td>14</td>\n",
       "    </tr>\n",
       "    <tr>\n",
       "      <th>/akn/ie/debateRecord/dail/1934-12-14/debate/mul@/main.xml</th>\n",
       "      <td>14</td>\n",
       "    </tr>\n",
       "    <tr>\n",
       "      <th>/akn/ie/debateRecord/dail/1927-08-02/debate/mul@/main.xml</th>\n",
       "      <td>14</td>\n",
       "    </tr>\n",
       "    <tr>\n",
       "      <th>/akn/ie/debateRecord/dail/2017-05-18/debate/mul@/main.xml</th>\n",
       "      <td>14</td>\n",
       "    </tr>\n",
       "    <tr>\n",
       "      <th>/akn/ie/debateRecord/seanad/2014-12-19/debate/mul@/main.xml</th>\n",
       "      <td>14</td>\n",
       "    </tr>\n",
       "    <tr>\n",
       "      <th>/akn/ie/debateRecord/select_committee_on_environment_and_local_government/2004-04-22/debate/mul@/main.xml</th>\n",
       "      <td>14</td>\n",
       "    </tr>\n",
       "    <tr>\n",
       "      <th>/akn/ie/debateRecord/joint_committee_on_the_eighth_amendment_of_the_constitution/2017-12-13/debate/mul@/main.xml</th>\n",
       "      <td>14</td>\n",
       "    </tr>\n",
       "    <tr>\n",
       "      <th>/akn/ie/debateRecord/seanad/2011-11-23/debate/mul@/main.xml</th>\n",
       "      <td>13</td>\n",
       "    </tr>\n",
       "    <tr>\n",
       "      <th>/akn/ie/debateRecord/seanad/2014-12-17/debate/mul@/main.xml</th>\n",
       "      <td>13</td>\n",
       "    </tr>\n",
       "    <tr>\n",
       "      <th>/akn/ie/debateRecord/seanad/1967-08-04/debate/mul@/main.xml</th>\n",
       "      <td>13</td>\n",
       "    </tr>\n",
       "    <tr>\n",
       "      <th>/akn/ie/debateRecord/dail/1935-03-27/debate/mul@/main.xml</th>\n",
       "      <td>13</td>\n",
       "    </tr>\n",
       "    <tr>\n",
       "      <th>/akn/ie/debateRecord/dail/1923-07-23/debate/mul@/main.xml</th>\n",
       "      <td>13</td>\n",
       "    </tr>\n",
       "    <tr>\n",
       "      <th>/akn/ie/debateRecord/seanad/1923-07-30/debate/mul@/main.xml</th>\n",
       "      <td>13</td>\n",
       "    </tr>\n",
       "    <tr>\n",
       "      <th>/akn/ie/debateRecord/seanad/1974-05-15/debate/mul@/main.xml</th>\n",
       "      <td>13</td>\n",
       "    </tr>\n",
       "    <tr>\n",
       "      <th>/akn/ie/debateRecord/dail/1940-03-14/debate/mul@/main.xml</th>\n",
       "      <td>13</td>\n",
       "    </tr>\n",
       "    <tr>\n",
       "      <th>/akn/ie/debateRecord/dail/1929-07-03/debate/mul@/main.xml</th>\n",
       "      <td>13</td>\n",
       "    </tr>\n",
       "    <tr>\n",
       "      <th>/akn/ie/debateRecord/dail/1941-06-24/debate/mul@/main.xml</th>\n",
       "      <td>12</td>\n",
       "    </tr>\n",
       "    <tr>\n",
       "      <th>/akn/ie/debateRecord/seanad/2013-12-18/debate/mul@/main.xml</th>\n",
       "      <td>12</td>\n",
       "    </tr>\n",
       "    <tr>\n",
       "      <th>/akn/ie/debateRecord/dail/2015-12-02/debate/mul@/main.xml</th>\n",
       "      <td>12</td>\n",
       "    </tr>\n",
       "    <tr>\n",
       "      <th>/akn/ie/debateRecord/dail/2017-10-19/debate/mul@/main.xml</th>\n",
       "      <td>12</td>\n",
       "    </tr>\n",
       "    <tr>\n",
       "      <th>/akn/ie/debateRecord/dail/2015-07-09/debate/mul@/main.xml</th>\n",
       "      <td>12</td>\n",
       "    </tr>\n",
       "    <tr>\n",
       "      <th>/akn/ie/debateRecord/seanad/2009-12-16/debate/mul@/main.xml</th>\n",
       "      <td>12</td>\n",
       "    </tr>\n",
       "    <tr>\n",
       "      <th>/akn/ie/debateRecord/dail/2015-09-30/debate/mul@/main.xml</th>\n",
       "      <td>11</td>\n",
       "    </tr>\n",
       "    <tr>\n",
       "      <th>/akn/ie/debateRecord/seanad/2016-11-29/debate/mul@/main.xml</th>\n",
       "      <td>11</td>\n",
       "    </tr>\n",
       "    <tr>\n",
       "      <th>/akn/ie/debateRecord/dail/1935-02-13/debate/mul@/main.xml</th>\n",
       "      <td>11</td>\n",
       "    </tr>\n",
       "    <tr>\n",
       "      <th>/akn/ie/debateRecord/dail/1987-06-17/debate/mul@/main.xml</th>\n",
       "      <td>11</td>\n",
       "    </tr>\n",
       "    <tr>\n",
       "      <th>/akn/ie/debateRecord/dail/1923-08-02/debate/mul@/main.xml</th>\n",
       "      <td>11</td>\n",
       "    </tr>\n",
       "    <tr>\n",
       "      <th>/akn/ie/debateRecord/dail/1935-07-04/debate/mul@/main.xml</th>\n",
       "      <td>11</td>\n",
       "    </tr>\n",
       "    <tr>\n",
       "      <th>/akn/ie/debateRecord/dail/1934-05-02/debate/mul@/main.xml</th>\n",
       "      <td>10</td>\n",
       "    </tr>\n",
       "    <tr>\n",
       "      <th>/akn/ie/debateRecord/dail/1991-05-15/debate/mul@/main.xml</th>\n",
       "      <td>10</td>\n",
       "    </tr>\n",
       "    <tr>\n",
       "      <th>/akn/ie/debateRecord/dail/1935-05-15/debate/mul@/main.xml</th>\n",
       "      <td>10</td>\n",
       "    </tr>\n",
       "    <tr>\n",
       "      <th>/akn/ie/debateRecord/dail/2017-04-13/debate/mul@/main.xml</th>\n",
       "      <td>10</td>\n",
       "    </tr>\n",
       "    <tr>\n",
       "      <th>/akn/ie/debateRecord/dail/1986-12-17/debate/mul@/main.xml</th>\n",
       "      <td>10</td>\n",
       "    </tr>\n",
       "    <tr>\n",
       "      <th>/akn/ie/debateRecord/seanad/2012-12-20/debate/mul@/main.xml</th>\n",
       "      <td>10</td>\n",
       "    </tr>\n",
       "    <tr>\n",
       "      <th>/akn/ie/debateRecord/seanad/2015-12-07/debate/mul@/main.xml</th>\n",
       "      <td>10</td>\n",
       "    </tr>\n",
       "    <tr>\n",
       "      <th>/akn/ie/debateRecord/seanad/1967-08-03/debate/mul@/main.xml</th>\n",
       "      <td>10</td>\n",
       "    </tr>\n",
       "    <tr>\n",
       "      <th>/akn/ie/debateRecord/seanad/2013-12-12/debate/mul@/main.xml</th>\n",
       "      <td>10</td>\n",
       "    </tr>\n",
       "    <tr>\n",
       "      <th>/akn/ie/debateRecord/dail/1987-12-02/debate/mul@/main.xml</th>\n",
       "      <td>10</td>\n",
       "    </tr>\n",
       "    <tr>\n",
       "      <th>/akn/ie/debateRecord/dail/1928-06-27/debate/mul@/main.xml</th>\n",
       "      <td>10</td>\n",
       "    </tr>\n",
       "  </tbody>\n",
       "</table>\n",
       "</div>"
      ],
      "text/plain": [
       "                                                    debate.formats.xml.uri\n",
       "/akn/ie/debateRecord/select_sub-committee_on_th...                      41\n",
       "/akn/ie/debateRecord/dail/1933-07-14/debate/mul...                      30\n",
       "/akn/ie/debateRecord/dail/1935-07-05/debate/mul...                      22\n",
       "/akn/ie/debateRecord/dail/1929-05-30/debate/mul...                      22\n",
       "/akn/ie/debateRecord/dail/1967-07-21/debate/mul...                      20\n",
       "/akn/ie/debateRecord/dail/1927-08-03/debate/mul...                      17\n",
       "/akn/ie/debateRecord/dail/1923-07-12/debate/mul...                      17\n",
       "/akn/ie/debateRecord/seanad/2015-12-01/debate/m...                      17\n",
       "/akn/ie/debateRecord/dail/1933-06-02/debate/mul...                      16\n",
       "/akn/ie/debateRecord/dail/1928-06-20/debate/mul...                      16\n",
       "/akn/ie/debateRecord/dail/1929-07-10/debate/mul...                      15\n",
       "/akn/ie/debateRecord/seanad/2011-12-07/debate/m...                      14\n",
       "/akn/ie/debateRecord/dail/1934-12-14/debate/mul...                      14\n",
       "/akn/ie/debateRecord/dail/1927-08-02/debate/mul...                      14\n",
       "/akn/ie/debateRecord/dail/2017-05-18/debate/mul...                      14\n",
       "/akn/ie/debateRecord/seanad/2014-12-19/debate/m...                      14\n",
       "/akn/ie/debateRecord/select_committee_on_enviro...                      14\n",
       "/akn/ie/debateRecord/joint_committee_on_the_eig...                      14\n",
       "/akn/ie/debateRecord/seanad/2011-11-23/debate/m...                      13\n",
       "/akn/ie/debateRecord/seanad/2014-12-17/debate/m...                      13\n",
       "/akn/ie/debateRecord/seanad/1967-08-04/debate/m...                      13\n",
       "/akn/ie/debateRecord/dail/1935-03-27/debate/mul...                      13\n",
       "/akn/ie/debateRecord/dail/1923-07-23/debate/mul...                      13\n",
       "/akn/ie/debateRecord/seanad/1923-07-30/debate/m...                      13\n",
       "/akn/ie/debateRecord/seanad/1974-05-15/debate/m...                      13\n",
       "/akn/ie/debateRecord/dail/1940-03-14/debate/mul...                      13\n",
       "/akn/ie/debateRecord/dail/1929-07-03/debate/mul...                      13\n",
       "/akn/ie/debateRecord/dail/1941-06-24/debate/mul...                      12\n",
       "/akn/ie/debateRecord/seanad/2013-12-18/debate/m...                      12\n",
       "/akn/ie/debateRecord/dail/2015-12-02/debate/mul...                      12\n",
       "/akn/ie/debateRecord/dail/2017-10-19/debate/mul...                      12\n",
       "/akn/ie/debateRecord/dail/2015-07-09/debate/mul...                      12\n",
       "/akn/ie/debateRecord/seanad/2009-12-16/debate/m...                      12\n",
       "/akn/ie/debateRecord/dail/2015-09-30/debate/mul...                      11\n",
       "/akn/ie/debateRecord/seanad/2016-11-29/debate/m...                      11\n",
       "/akn/ie/debateRecord/dail/1935-02-13/debate/mul...                      11\n",
       "/akn/ie/debateRecord/dail/1987-06-17/debate/mul...                      11\n",
       "/akn/ie/debateRecord/dail/1923-08-02/debate/mul...                      11\n",
       "/akn/ie/debateRecord/dail/1935-07-04/debate/mul...                      11\n",
       "/akn/ie/debateRecord/dail/1934-05-02/debate/mul...                      10\n",
       "/akn/ie/debateRecord/dail/1991-05-15/debate/mul...                      10\n",
       "/akn/ie/debateRecord/dail/1935-05-15/debate/mul...                      10\n",
       "/akn/ie/debateRecord/dail/2017-04-13/debate/mul...                      10\n",
       "/akn/ie/debateRecord/dail/1986-12-17/debate/mul...                      10\n",
       "/akn/ie/debateRecord/seanad/2012-12-20/debate/m...                      10\n",
       "/akn/ie/debateRecord/seanad/2015-12-07/debate/m...                      10\n",
       "/akn/ie/debateRecord/seanad/1967-08-03/debate/m...                      10\n",
       "/akn/ie/debateRecord/seanad/2013-12-12/debate/m...                      10\n",
       "/akn/ie/debateRecord/dail/1987-12-02/debate/mul...                      10\n",
       "/akn/ie/debateRecord/dail/1928-06-27/debate/mul...                      10"
      ]
     },
     "metadata": {},
     "output_type": "display_data"
    },
    {
     "data": {
      "text/markdown": [
       "----------"
      ],
      "text/plain": [
       "<IPython.core.display.Markdown object>"
      ]
     },
     "metadata": {},
     "output_type": "display_data"
    },
    {
     "data": {
      "text/markdown": [
       "# debate.showAs"
      ],
      "text/plain": [
       "<IPython.core.display.Markdown object>"
      ]
     },
     "metadata": {},
     "output_type": "display_data"
    },
    {
     "data": {
      "text/markdown": [
       "###  Stats:"
      ],
      "text/plain": [
       "<IPython.core.display.Markdown object>"
      ]
     },
     "metadata": {},
     "output_type": "display_data"
    },
    {
     "data": {
      "text/html": [
       "<div>\n",
       "<style>\n",
       "    .dataframe thead tr:only-child th {\n",
       "        text-align: right;\n",
       "    }\n",
       "\n",
       "    .dataframe thead th {\n",
       "        text-align: left;\n",
       "    }\n",
       "\n",
       "    .dataframe tbody tr th {\n",
       "        vertical-align: top;\n",
       "    }\n",
       "</style>\n",
       "<table border=\"1\" class=\"dataframe\">\n",
       "  <thead>\n",
       "    <tr style=\"text-align: right;\">\n",
       "      <th></th>\n",
       "      <th>debate.showAs</th>\n",
       "    </tr>\n",
       "  </thead>\n",
       "  <tbody>\n",
       "    <tr>\n",
       "      <th>count</th>\n",
       "      <td>11487</td>\n",
       "    </tr>\n",
       "    <tr>\n",
       "      <th>unique</th>\n",
       "      <td>6319</td>\n",
       "    </tr>\n",
       "    <tr>\n",
       "      <th>top</th>\n",
       "      <td>Order of Business</td>\n",
       "    </tr>\n",
       "    <tr>\n",
       "      <th>freq</th>\n",
       "      <td>512</td>\n",
       "    </tr>\n",
       "    <tr>\n",
       "      <th>missing</th>\n",
       "      <td>0</td>\n",
       "    </tr>\n",
       "  </tbody>\n",
       "</table>\n",
       "</div>"
      ],
      "text/plain": [
       "             debate.showAs\n",
       "count                11487\n",
       "unique                6319\n",
       "top      Order of Business\n",
       "freq                   512\n",
       "missing                  0"
      ]
     },
     "metadata": {},
     "output_type": "display_data"
    },
    {
     "data": {
      "text/markdown": [
       "###  Top N:"
      ],
      "text/plain": [
       "<IPython.core.display.Markdown object>"
      ]
     },
     "metadata": {},
     "output_type": "display_data"
    },
    {
     "data": {
      "text/html": [
       "<div>\n",
       "<style>\n",
       "    .dataframe thead tr:only-child th {\n",
       "        text-align: right;\n",
       "    }\n",
       "\n",
       "    .dataframe thead th {\n",
       "        text-align: left;\n",
       "    }\n",
       "\n",
       "    .dataframe tbody tr th {\n",
       "        vertical-align: top;\n",
       "    }\n",
       "</style>\n",
       "<table border=\"1\" class=\"dataframe\">\n",
       "  <thead>\n",
       "    <tr style=\"text-align: right;\">\n",
       "      <th></th>\n",
       "      <th>debate.showAs</th>\n",
       "    </tr>\n",
       "  </thead>\n",
       "  <tbody>\n",
       "    <tr>\n",
       "      <th>Order of Business</th>\n",
       "      <td>512</td>\n",
       "    </tr>\n",
       "    <tr>\n",
       "      <th>Order of Business.</th>\n",
       "      <td>425</td>\n",
       "    </tr>\n",
       "    <tr>\n",
       "      <th>Order of Business.</th>\n",
       "      <td>137</td>\n",
       "    </tr>\n",
       "    <tr>\n",
       "      <th>Livestock Marts Bill, 1967: Committee Stage (Resumed).</th>\n",
       "      <td>56</td>\n",
       "    </tr>\n",
       "    <tr>\n",
       "      <th>Suspension of Member.</th>\n",
       "      <td>49</td>\n",
       "    </tr>\n",
       "    <tr>\n",
       "      <th>Water Services (Amendment) Bill 2011 [Seanad]: Committee Stage (Resumed)</th>\n",
       "      <td>41</td>\n",
       "    </tr>\n",
       "    <tr>\n",
       "      <th>Nomination of Taoiseach.</th>\n",
       "      <td>35</td>\n",
       "    </tr>\n",
       "    <tr>\n",
       "      <th>Order of Business (Resumed)</th>\n",
       "      <td>29</td>\n",
       "    </tr>\n",
       "    <tr>\n",
       "      <th>Water Services Bill 2014: Committee Stage (Resumed)</th>\n",
       "      <td>23</td>\n",
       "    </tr>\n",
       "    <tr>\n",
       "      <th>Public Business. - Juries (Protection) Bill, 1929—Committee (Resumed).</th>\n",
       "      <td>22</td>\n",
       "    </tr>\n",
       "    <tr>\n",
       "      <th>ORDUITHE AN LAE—ORDERS OF THE DAY. - PUBLIC SAFETY BILL, 1927—THIRD STAGE (RESUMED).</th>\n",
       "      <td>21</td>\n",
       "    </tr>\n",
       "    <tr>\n",
       "      <th>Legal Services Regulation Bill 2011: Report Stage (Resumed)</th>\n",
       "      <td>19</td>\n",
       "    </tr>\n",
       "    <tr>\n",
       "      <th>Finance Bill, 1935—Committee Stage (Resumed).</th>\n",
       "      <td>19</td>\n",
       "    </tr>\n",
       "    <tr>\n",
       "      <th>Business of Dáil</th>\n",
       "      <td>18</td>\n",
       "    </tr>\n",
       "    <tr>\n",
       "      <th>In Committee on Finance. - Appropriation Bill, 1933—Committee Stage.</th>\n",
       "      <td>18</td>\n",
       "    </tr>\n",
       "    <tr>\n",
       "      <th>[  DAIL IN COMMITTEE. ] - PUBLIC SAFETY (EMERGENCY POWERS) BILL, 1923—THIRD STAGE RESUMED.</th>\n",
       "      <td>16</td>\n",
       "    </tr>\n",
       "    <tr>\n",
       "      <th>PUBLIC SAFETY (EMERGENCY POWERS) BILL, 1923. - IN COMMITTEE.</th>\n",
       "      <td>16</td>\n",
       "    </tr>\n",
       "    <tr>\n",
       "      <th>Public Services (Temporary Economies) Bill, 1933—Report Stage.</th>\n",
       "      <td>16</td>\n",
       "    </tr>\n",
       "    <tr>\n",
       "      <th>Wealth Tax Bill, 1975: Committee Stage (Resumed).</th>\n",
       "      <td>16</td>\n",
       "    </tr>\n",
       "    <tr>\n",
       "      <th>Electoral (Amendment) Bill 2004: Committee Stage (Resumed).</th>\n",
       "      <td>15</td>\n",
       "    </tr>\n",
       "    <tr>\n",
       "      <th>Electoral (Amendment) Bill 2004: Committee Stage.</th>\n",
       "      <td>14</td>\n",
       "    </tr>\n",
       "    <tr>\n",
       "      <th>Business of Seanad.</th>\n",
       "      <td>14</td>\n",
       "    </tr>\n",
       "    <tr>\n",
       "      <th>Trade Union Bill, 1941—Committee Stage (Resumed).</th>\n",
       "      <td>14</td>\n",
       "    </tr>\n",
       "    <tr>\n",
       "      <th>Completion of the Examination of the Report and Recommendations of the Citizens' Assembly and Preparation of a Draft Report in accordance with the Terms of Reference of the Joint Committee</th>\n",
       "      <td>14</td>\n",
       "    </tr>\n",
       "    <tr>\n",
       "      <th>Committee on Finance. - Vote 3—Department of the Taoiseach (Resumed).</th>\n",
       "      <td>14</td>\n",
       "    </tr>\n",
       "    <tr>\n",
       "      <th>Prohibition of Forcible Entry and Occupation Bill, 1970: Committee Stage (Resumed).</th>\n",
       "      <td>13</td>\n",
       "    </tr>\n",
       "    <tr>\n",
       "      <th>Electoral (Amendment) (No. 2) Bill, 1973: Committee Stage (Resumed).</th>\n",
       "      <td>13</td>\n",
       "    </tr>\n",
       "    <tr>\n",
       "      <th>County Management Bill, 1939—Committee (Resumed).</th>\n",
       "      <td>13</td>\n",
       "    </tr>\n",
       "    <tr>\n",
       "      <th>Water Services (Amendment) Bill 2011: Committee Stage (Resumed)</th>\n",
       "      <td>13</td>\n",
       "    </tr>\n",
       "    <tr>\n",
       "      <th>Central Bank Bill, 1942—Committee (Resumed).</th>\n",
       "      <td>13</td>\n",
       "    </tr>\n",
       "    <tr>\n",
       "      <th>Climate Action and Low Carbon Development Bill 2015: Report Stage (Resumed)</th>\n",
       "      <td>12</td>\n",
       "    </tr>\n",
       "    <tr>\n",
       "      <th>Election of Leas-Cheann Comhairle.</th>\n",
       "      <td>12</td>\n",
       "    </tr>\n",
       "    <tr>\n",
       "      <th>Pounds (Provision and Maintenance) Bill, 1935—Committee.</th>\n",
       "      <td>12</td>\n",
       "    </tr>\n",
       "    <tr>\n",
       "      <th>Heritage Bill 2016: Committee Stage (Resumed)</th>\n",
       "      <td>11</td>\n",
       "    </tr>\n",
       "    <tr>\n",
       "      <th>Public Business. - Finance Bill, 1935—Committee Stage (Resumed).</th>\n",
       "      <td>11</td>\n",
       "    </tr>\n",
       "    <tr>\n",
       "      <th>Committee on Finance. - Trade Union Bill, 1941—Committee.</th>\n",
       "      <td>11</td>\n",
       "    </tr>\n",
       "    <tr>\n",
       "      <th>Finance Bill, 1983: Committee Stage (Resumed).</th>\n",
       "      <td>11</td>\n",
       "    </tr>\n",
       "    <tr>\n",
       "      <th>Planning and Development (Housing) and Residential Tenancies Bill 2016: Report and Final Stages</th>\n",
       "      <td>11</td>\n",
       "    </tr>\n",
       "    <tr>\n",
       "      <th>International Protection Bill 2015: Committee Stage (Resumed) and Remaining Stages</th>\n",
       "      <td>10</td>\n",
       "    </tr>\n",
       "    <tr>\n",
       "      <th>Courts (Supplemental Provisions) (Amendment) Bill, 1962—Committee Stage (Resumed).</th>\n",
       "      <td>10</td>\n",
       "    </tr>\n",
       "    <tr>\n",
       "      <th>Housing (Miscellaneous Provisions) Bill 2014: Report Stage (Resumed)</th>\n",
       "      <td>10</td>\n",
       "    </tr>\n",
       "    <tr>\n",
       "      <th>Order of Business (Resumed).</th>\n",
       "      <td>10</td>\n",
       "    </tr>\n",
       "    <tr>\n",
       "      <th>Electoral (No. 2) Bill, 1991: Committee Stage (Resumed).</th>\n",
       "      <td>10</td>\n",
       "    </tr>\n",
       "    <tr>\n",
       "      <th>Private Business. - Control of Imports Orders—Motions of Approval.</th>\n",
       "      <td>10</td>\n",
       "    </tr>\n",
       "    <tr>\n",
       "      <th>National Asset Management Agency Bill 2009: Committee Stage (Resumed).</th>\n",
       "      <td>10</td>\n",
       "    </tr>\n",
       "    <tr>\n",
       "      <th>Water Services (Amendment) Bill 2011: Committee Stage</th>\n",
       "      <td>10</td>\n",
       "    </tr>\n",
       "    <tr>\n",
       "      <th>DAIL IN COMMITTEE. - ENFORCEMENT OF LAW (OCCASIONAL POWERS) BILL.</th>\n",
       "      <td>10</td>\n",
       "    </tr>\n",
       "    <tr>\n",
       "      <th>Public Business. - Finance Bill, 1935—Committee (Resumed).</th>\n",
       "      <td>10</td>\n",
       "    </tr>\n",
       "    <tr>\n",
       "      <th>Election of Leas-Chathaoirleach.</th>\n",
       "      <td>9</td>\n",
       "    </tr>\n",
       "    <tr>\n",
       "      <th>Social Welfare and Pensions Bill 2013: Committee Stage</th>\n",
       "      <td>9</td>\n",
       "    </tr>\n",
       "  </tbody>\n",
       "</table>\n",
       "</div>"
      ],
      "text/plain": [
       "                                                    debate.showAs\n",
       "Order of Business                                             512\n",
       "Order of Business.                                            425\n",
       "Order of Business.                                            137\n",
       "Livestock Marts Bill, 1967: Committee Stage (Re...             56\n",
       "Suspension of Member.                                          49\n",
       "Water Services (Amendment) Bill 2011 [Seanad]: ...             41\n",
       "Nomination of Taoiseach.                                       35\n",
       "Order of Business (Resumed)                                    29\n",
       "Water Services Bill 2014: Committee Stage (Resu...             23\n",
       "Public Business. - Juries (Protection) Bill, 19...             22\n",
       "ORDUITHE AN LAE—ORDERS OF THE DAY. - PUBLIC SAF...             21\n",
       "Legal Services Regulation Bill 2011: Report Sta...             19\n",
       "Finance Bill, 1935—Committee Stage (Resumed).                  19\n",
       "Business of Dáil                                               18\n",
       "In Committee on Finance. - Appropriation Bill, ...             18\n",
       "[  DAIL IN COMMITTEE. ] - PUBLIC SAFETY (EMERGE...             16\n",
       "PUBLIC SAFETY (EMERGENCY POWERS) BILL, 1923. - ...             16\n",
       "Public Services (Temporary Economies) Bill, 193...             16\n",
       "Wealth Tax Bill, 1975: Committee Stage (Resumed).              16\n",
       "Electoral (Amendment) Bill 2004: Committee Stag...             15\n",
       "Electoral (Amendment) Bill 2004: Committee Stage.              14\n",
       "Business of Seanad.                                            14\n",
       "Trade Union Bill, 1941—Committee Stage (Resumed).              14\n",
       "Completion of the Examination of the Report and...             14\n",
       "Committee on Finance. - Vote 3—Department of th...             14\n",
       "Prohibition of Forcible Entry and Occupation Bi...             13\n",
       "Electoral (Amendment) (No. 2) Bill, 1973: Commi...             13\n",
       "County Management Bill, 1939—Committee (Resumed).              13\n",
       "Water Services (Amendment) Bill 2011: Committee...             13\n",
       "Central Bank Bill, 1942—Committee (Resumed).                   13\n",
       "Climate Action and Low Carbon Development Bill ...             12\n",
       "Election of Leas-Cheann Comhairle.                             12\n",
       "Pounds (Provision and Maintenance) Bill, 1935—C...             12\n",
       "Heritage Bill 2016: Committee Stage (Resumed)                  11\n",
       "Public Business. - Finance Bill, 1935—Committee...             11\n",
       "Committee on Finance. - Trade Union Bill, 1941—...             11\n",
       "Finance Bill, 1983: Committee Stage (Resumed).                 11\n",
       "Planning and Development (Housing) and Resident...             11\n",
       "International Protection Bill 2015: Committee S...             10\n",
       "Courts (Supplemental Provisions) (Amendment) Bi...             10\n",
       "Housing (Miscellaneous Provisions) Bill 2014: R...             10\n",
       "Order of Business (Resumed).                                   10\n",
       "Electoral (No. 2) Bill, 1991: Committee Stage (...             10\n",
       "Private Business. - Control of Imports Orders—M...             10\n",
       "National Asset Management Agency Bill 2009: Com...             10\n",
       "Water Services (Amendment) Bill 2011: Committee...             10\n",
       "DAIL IN COMMITTEE. - ENFORCEMENT OF LAW (OCCASI...             10\n",
       "Public Business. - Finance Bill, 1935—Committee...             10\n",
       "Election of Leas-Chathaoirleach.                                9\n",
       "Social Welfare and Pensions Bill 2013: Committe...              9"
      ]
     },
     "metadata": {},
     "output_type": "display_data"
    },
    {
     "data": {
      "text/markdown": [
       "----------"
      ],
      "text/plain": [
       "<IPython.core.display.Markdown object>"
      ]
     },
     "metadata": {},
     "output_type": "display_data"
    },
    {
     "data": {
      "text/markdown": [
       "# debate.uri"
      ],
      "text/plain": [
       "<IPython.core.display.Markdown object>"
      ]
     },
     "metadata": {},
     "output_type": "display_data"
    },
    {
     "data": {
      "text/markdown": [
       "###  Stats:"
      ],
      "text/plain": [
       "<IPython.core.display.Markdown object>"
      ]
     },
     "metadata": {},
     "output_type": "display_data"
    },
    {
     "data": {
      "text/html": [
       "<div>\n",
       "<style>\n",
       "    .dataframe thead tr:only-child th {\n",
       "        text-align: right;\n",
       "    }\n",
       "\n",
       "    .dataframe thead th {\n",
       "        text-align: left;\n",
       "    }\n",
       "\n",
       "    .dataframe tbody tr th {\n",
       "        vertical-align: top;\n",
       "    }\n",
       "</style>\n",
       "<table border=\"1\" class=\"dataframe\">\n",
       "  <thead>\n",
       "    <tr style=\"text-align: right;\">\n",
       "      <th></th>\n",
       "      <th>debate.uri</th>\n",
       "    </tr>\n",
       "  </thead>\n",
       "  <tbody>\n",
       "    <tr>\n",
       "      <th>count</th>\n",
       "      <td>11487</td>\n",
       "    </tr>\n",
       "    <tr>\n",
       "      <th>unique</th>\n",
       "      <td>5295</td>\n",
       "    </tr>\n",
       "    <tr>\n",
       "      <th>top</th>\n",
       "      <td>/akn/ie/debateRecord/select_sub-committee_on_t...</td>\n",
       "    </tr>\n",
       "    <tr>\n",
       "      <th>freq</th>\n",
       "      <td>41</td>\n",
       "    </tr>\n",
       "    <tr>\n",
       "      <th>missing</th>\n",
       "      <td>0</td>\n",
       "    </tr>\n",
       "  </tbody>\n",
       "</table>\n",
       "</div>"
      ],
      "text/plain": [
       "                                                debate.uri\n",
       "count                                                11487\n",
       "unique                                                5295\n",
       "top      /akn/ie/debateRecord/select_sub-committee_on_t...\n",
       "freq                                                    41\n",
       "missing                                                  0"
      ]
     },
     "metadata": {},
     "output_type": "display_data"
    },
    {
     "data": {
      "text/markdown": [
       "###  Top N:"
      ],
      "text/plain": [
       "<IPython.core.display.Markdown object>"
      ]
     },
     "metadata": {},
     "output_type": "display_data"
    },
    {
     "data": {
      "text/html": [
       "<div>\n",
       "<style>\n",
       "    .dataframe thead tr:only-child th {\n",
       "        text-align: right;\n",
       "    }\n",
       "\n",
       "    .dataframe thead th {\n",
       "        text-align: left;\n",
       "    }\n",
       "\n",
       "    .dataframe tbody tr th {\n",
       "        vertical-align: top;\n",
       "    }\n",
       "</style>\n",
       "<table border=\"1\" class=\"dataframe\">\n",
       "  <thead>\n",
       "    <tr style=\"text-align: right;\">\n",
       "      <th></th>\n",
       "      <th>debate.uri</th>\n",
       "    </tr>\n",
       "  </thead>\n",
       "  <tbody>\n",
       "    <tr>\n",
       "      <th>/akn/ie/debateRecord/select_sub-committee_on_the_environment_community_and_local_government/2012-01-18/debate/main</th>\n",
       "      <td>41</td>\n",
       "    </tr>\n",
       "    <tr>\n",
       "      <th>/akn/ie/debateRecord/dail/1933-07-14/debate/main</th>\n",
       "      <td>30</td>\n",
       "    </tr>\n",
       "    <tr>\n",
       "      <th>/akn/ie/debateRecord/dail/1929-05-30/debate/main</th>\n",
       "      <td>22</td>\n",
       "    </tr>\n",
       "    <tr>\n",
       "      <th>/akn/ie/debateRecord/dail/1935-07-05/debate/main</th>\n",
       "      <td>22</td>\n",
       "    </tr>\n",
       "    <tr>\n",
       "      <th>/akn/ie/debateRecord/dail/1967-07-21/debate/main</th>\n",
       "      <td>20</td>\n",
       "    </tr>\n",
       "    <tr>\n",
       "      <th>/akn/ie/debateRecord/dail/1923-07-12/debate/main</th>\n",
       "      <td>17</td>\n",
       "    </tr>\n",
       "    <tr>\n",
       "      <th>/akn/ie/debateRecord/seanad/2015-12-01/debate/main</th>\n",
       "      <td>17</td>\n",
       "    </tr>\n",
       "    <tr>\n",
       "      <th>/akn/ie/debateRecord/dail/1927-08-03/debate/main</th>\n",
       "      <td>17</td>\n",
       "    </tr>\n",
       "    <tr>\n",
       "      <th>/akn/ie/debateRecord/dail/1933-06-02/debate/main</th>\n",
       "      <td>16</td>\n",
       "    </tr>\n",
       "    <tr>\n",
       "      <th>/akn/ie/debateRecord/dail/1928-06-20/debate/main</th>\n",
       "      <td>16</td>\n",
       "    </tr>\n",
       "    <tr>\n",
       "      <th>/akn/ie/debateRecord/dail/1929-07-10/debate/main</th>\n",
       "      <td>15</td>\n",
       "    </tr>\n",
       "    <tr>\n",
       "      <th>/akn/ie/debateRecord/joint_committee_on_the_eighth_amendment_of_the_constitution/2017-12-13/debate/main</th>\n",
       "      <td>14</td>\n",
       "    </tr>\n",
       "    <tr>\n",
       "      <th>/akn/ie/debateRecord/dail/2017-05-18/debate/main</th>\n",
       "      <td>14</td>\n",
       "    </tr>\n",
       "    <tr>\n",
       "      <th>/akn/ie/debateRecord/select_committee_on_environment_and_local_government/2004-04-22/debate/main</th>\n",
       "      <td>14</td>\n",
       "    </tr>\n",
       "    <tr>\n",
       "      <th>/akn/ie/debateRecord/seanad/2014-12-19/debate/main</th>\n",
       "      <td>14</td>\n",
       "    </tr>\n",
       "    <tr>\n",
       "      <th>/akn/ie/debateRecord/dail/1934-12-14/debate/main</th>\n",
       "      <td>14</td>\n",
       "    </tr>\n",
       "    <tr>\n",
       "      <th>/akn/ie/debateRecord/dail/1927-08-02/debate/main</th>\n",
       "      <td>14</td>\n",
       "    </tr>\n",
       "    <tr>\n",
       "      <th>/akn/ie/debateRecord/seanad/2011-12-07/debate/main</th>\n",
       "      <td>14</td>\n",
       "    </tr>\n",
       "    <tr>\n",
       "      <th>/akn/ie/debateRecord/seanad/2011-11-23/debate/main</th>\n",
       "      <td>13</td>\n",
       "    </tr>\n",
       "    <tr>\n",
       "      <th>/akn/ie/debateRecord/seanad/1967-08-04/debate/main</th>\n",
       "      <td>13</td>\n",
       "    </tr>\n",
       "    <tr>\n",
       "      <th>/akn/ie/debateRecord/seanad/1974-05-15/debate/main</th>\n",
       "      <td>13</td>\n",
       "    </tr>\n",
       "    <tr>\n",
       "      <th>/akn/ie/debateRecord/dail/1940-03-14/debate/main</th>\n",
       "      <td>13</td>\n",
       "    </tr>\n",
       "    <tr>\n",
       "      <th>/akn/ie/debateRecord/dail/1929-07-03/debate/main</th>\n",
       "      <td>13</td>\n",
       "    </tr>\n",
       "    <tr>\n",
       "      <th>/akn/ie/debateRecord/dail/1923-07-23/debate/main</th>\n",
       "      <td>13</td>\n",
       "    </tr>\n",
       "    <tr>\n",
       "      <th>/akn/ie/debateRecord/dail/1935-03-27/debate/main</th>\n",
       "      <td>13</td>\n",
       "    </tr>\n",
       "    <tr>\n",
       "      <th>/akn/ie/debateRecord/seanad/1923-07-30/debate/main</th>\n",
       "      <td>13</td>\n",
       "    </tr>\n",
       "    <tr>\n",
       "      <th>/akn/ie/debateRecord/seanad/2014-12-17/debate/main</th>\n",
       "      <td>13</td>\n",
       "    </tr>\n",
       "    <tr>\n",
       "      <th>/akn/ie/debateRecord/seanad/2009-12-16/debate/main</th>\n",
       "      <td>12</td>\n",
       "    </tr>\n",
       "    <tr>\n",
       "      <th>/akn/ie/debateRecord/dail/2015-12-02/debate/main</th>\n",
       "      <td>12</td>\n",
       "    </tr>\n",
       "    <tr>\n",
       "      <th>/akn/ie/debateRecord/dail/2017-10-19/debate/main</th>\n",
       "      <td>12</td>\n",
       "    </tr>\n",
       "    <tr>\n",
       "      <th>/akn/ie/debateRecord/seanad/2013-12-18/debate/main</th>\n",
       "      <td>12</td>\n",
       "    </tr>\n",
       "    <tr>\n",
       "      <th>/akn/ie/debateRecord/dail/1941-06-24/debate/main</th>\n",
       "      <td>12</td>\n",
       "    </tr>\n",
       "    <tr>\n",
       "      <th>/akn/ie/debateRecord/dail/2015-07-09/debate/main</th>\n",
       "      <td>12</td>\n",
       "    </tr>\n",
       "    <tr>\n",
       "      <th>/akn/ie/debateRecord/seanad/2016-11-29/debate/main</th>\n",
       "      <td>11</td>\n",
       "    </tr>\n",
       "    <tr>\n",
       "      <th>/akn/ie/debateRecord/dail/1987-06-17/debate/main</th>\n",
       "      <td>11</td>\n",
       "    </tr>\n",
       "    <tr>\n",
       "      <th>/akn/ie/debateRecord/dail/2015-09-30/debate/main</th>\n",
       "      <td>11</td>\n",
       "    </tr>\n",
       "    <tr>\n",
       "      <th>/akn/ie/debateRecord/dail/1935-07-04/debate/main</th>\n",
       "      <td>11</td>\n",
       "    </tr>\n",
       "    <tr>\n",
       "      <th>/akn/ie/debateRecord/dail/1923-08-02/debate/main</th>\n",
       "      <td>11</td>\n",
       "    </tr>\n",
       "    <tr>\n",
       "      <th>/akn/ie/debateRecord/dail/1935-02-13/debate/main</th>\n",
       "      <td>11</td>\n",
       "    </tr>\n",
       "    <tr>\n",
       "      <th>/akn/ie/debateRecord/dail/1928-06-27/debate/main</th>\n",
       "      <td>10</td>\n",
       "    </tr>\n",
       "    <tr>\n",
       "      <th>/akn/ie/debateRecord/dail/1991-05-15/debate/main</th>\n",
       "      <td>10</td>\n",
       "    </tr>\n",
       "    <tr>\n",
       "      <th>/akn/ie/debateRecord/dail/1935-05-15/debate/main</th>\n",
       "      <td>10</td>\n",
       "    </tr>\n",
       "    <tr>\n",
       "      <th>/akn/ie/debateRecord/dail/2017-04-13/debate/main</th>\n",
       "      <td>10</td>\n",
       "    </tr>\n",
       "    <tr>\n",
       "      <th>/akn/ie/debateRecord/dail/2015-07-08/debate/main</th>\n",
       "      <td>10</td>\n",
       "    </tr>\n",
       "    <tr>\n",
       "      <th>/akn/ie/debateRecord/seanad/1967-08-03/debate/main</th>\n",
       "      <td>10</td>\n",
       "    </tr>\n",
       "    <tr>\n",
       "      <th>/akn/ie/debateRecord/seanad/2013-11-06/debate/main</th>\n",
       "      <td>10</td>\n",
       "    </tr>\n",
       "    <tr>\n",
       "      <th>/akn/ie/debateRecord/seanad/2015-12-07/debate/main</th>\n",
       "      <td>10</td>\n",
       "    </tr>\n",
       "    <tr>\n",
       "      <th>/akn/ie/debateRecord/dail/1986-12-17/debate/main</th>\n",
       "      <td>10</td>\n",
       "    </tr>\n",
       "    <tr>\n",
       "      <th>/akn/ie/debateRecord/seanad/2013-12-12/debate/main</th>\n",
       "      <td>10</td>\n",
       "    </tr>\n",
       "    <tr>\n",
       "      <th>/akn/ie/debateRecord/dail/1987-12-02/debate/main</th>\n",
       "      <td>10</td>\n",
       "    </tr>\n",
       "  </tbody>\n",
       "</table>\n",
       "</div>"
      ],
      "text/plain": [
       "                                                    debate.uri\n",
       "/akn/ie/debateRecord/select_sub-committee_on_th...          41\n",
       "/akn/ie/debateRecord/dail/1933-07-14/debate/main            30\n",
       "/akn/ie/debateRecord/dail/1929-05-30/debate/main            22\n",
       "/akn/ie/debateRecord/dail/1935-07-05/debate/main            22\n",
       "/akn/ie/debateRecord/dail/1967-07-21/debate/main            20\n",
       "/akn/ie/debateRecord/dail/1923-07-12/debate/main            17\n",
       "/akn/ie/debateRecord/seanad/2015-12-01/debate/main          17\n",
       "/akn/ie/debateRecord/dail/1927-08-03/debate/main            17\n",
       "/akn/ie/debateRecord/dail/1933-06-02/debate/main            16\n",
       "/akn/ie/debateRecord/dail/1928-06-20/debate/main            16\n",
       "/akn/ie/debateRecord/dail/1929-07-10/debate/main            15\n",
       "/akn/ie/debateRecord/joint_committee_on_the_eig...          14\n",
       "/akn/ie/debateRecord/dail/2017-05-18/debate/main            14\n",
       "/akn/ie/debateRecord/select_committee_on_enviro...          14\n",
       "/akn/ie/debateRecord/seanad/2014-12-19/debate/main          14\n",
       "/akn/ie/debateRecord/dail/1934-12-14/debate/main            14\n",
       "/akn/ie/debateRecord/dail/1927-08-02/debate/main            14\n",
       "/akn/ie/debateRecord/seanad/2011-12-07/debate/main          14\n",
       "/akn/ie/debateRecord/seanad/2011-11-23/debate/main          13\n",
       "/akn/ie/debateRecord/seanad/1967-08-04/debate/main          13\n",
       "/akn/ie/debateRecord/seanad/1974-05-15/debate/main          13\n",
       "/akn/ie/debateRecord/dail/1940-03-14/debate/main            13\n",
       "/akn/ie/debateRecord/dail/1929-07-03/debate/main            13\n",
       "/akn/ie/debateRecord/dail/1923-07-23/debate/main            13\n",
       "/akn/ie/debateRecord/dail/1935-03-27/debate/main            13\n",
       "/akn/ie/debateRecord/seanad/1923-07-30/debate/main          13\n",
       "/akn/ie/debateRecord/seanad/2014-12-17/debate/main          13\n",
       "/akn/ie/debateRecord/seanad/2009-12-16/debate/main          12\n",
       "/akn/ie/debateRecord/dail/2015-12-02/debate/main            12\n",
       "/akn/ie/debateRecord/dail/2017-10-19/debate/main            12\n",
       "/akn/ie/debateRecord/seanad/2013-12-18/debate/main          12\n",
       "/akn/ie/debateRecord/dail/1941-06-24/debate/main            12\n",
       "/akn/ie/debateRecord/dail/2015-07-09/debate/main            12\n",
       "/akn/ie/debateRecord/seanad/2016-11-29/debate/main          11\n",
       "/akn/ie/debateRecord/dail/1987-06-17/debate/main            11\n",
       "/akn/ie/debateRecord/dail/2015-09-30/debate/main            11\n",
       "/akn/ie/debateRecord/dail/1935-07-04/debate/main            11\n",
       "/akn/ie/debateRecord/dail/1923-08-02/debate/main            11\n",
       "/akn/ie/debateRecord/dail/1935-02-13/debate/main            11\n",
       "/akn/ie/debateRecord/dail/1928-06-27/debate/main            10\n",
       "/akn/ie/debateRecord/dail/1991-05-15/debate/main            10\n",
       "/akn/ie/debateRecord/dail/1935-05-15/debate/main            10\n",
       "/akn/ie/debateRecord/dail/2017-04-13/debate/main            10\n",
       "/akn/ie/debateRecord/dail/2015-07-08/debate/main            10\n",
       "/akn/ie/debateRecord/seanad/1967-08-03/debate/main          10\n",
       "/akn/ie/debateRecord/seanad/2013-11-06/debate/main          10\n",
       "/akn/ie/debateRecord/seanad/2015-12-07/debate/main          10\n",
       "/akn/ie/debateRecord/dail/1986-12-17/debate/main            10\n",
       "/akn/ie/debateRecord/seanad/2013-12-12/debate/main          10\n",
       "/akn/ie/debateRecord/dail/1987-12-02/debate/main            10"
      ]
     },
     "metadata": {},
     "output_type": "display_data"
    },
    {
     "data": {
      "text/markdown": [
       "----------"
      ],
      "text/plain": [
       "<IPython.core.display.Markdown object>"
      ]
     },
     "metadata": {},
     "output_type": "display_data"
    },
    {
     "data": {
      "text/markdown": [
       "# house.chamberType"
      ],
      "text/plain": [
       "<IPython.core.display.Markdown object>"
      ]
     },
     "metadata": {},
     "output_type": "display_data"
    },
    {
     "data": {
      "text/markdown": [
       "###  Stats:"
      ],
      "text/plain": [
       "<IPython.core.display.Markdown object>"
      ]
     },
     "metadata": {},
     "output_type": "display_data"
    },
    {
     "data": {
      "text/html": [
       "<div>\n",
       "<style>\n",
       "    .dataframe thead tr:only-child th {\n",
       "        text-align: right;\n",
       "    }\n",
       "\n",
       "    .dataframe thead th {\n",
       "        text-align: left;\n",
       "    }\n",
       "\n",
       "    .dataframe tbody tr th {\n",
       "        vertical-align: top;\n",
       "    }\n",
       "</style>\n",
       "<table border=\"1\" class=\"dataframe\">\n",
       "  <thead>\n",
       "    <tr style=\"text-align: right;\">\n",
       "      <th></th>\n",
       "      <th>house.chamberType</th>\n",
       "    </tr>\n",
       "  </thead>\n",
       "  <tbody>\n",
       "    <tr>\n",
       "      <th>count</th>\n",
       "      <td>11487</td>\n",
       "    </tr>\n",
       "    <tr>\n",
       "      <th>unique</th>\n",
       "      <td>2</td>\n",
       "    </tr>\n",
       "    <tr>\n",
       "      <th>top</th>\n",
       "      <td>house</td>\n",
       "    </tr>\n",
       "    <tr>\n",
       "      <th>freq</th>\n",
       "      <td>10894</td>\n",
       "    </tr>\n",
       "    <tr>\n",
       "      <th>missing</th>\n",
       "      <td>0</td>\n",
       "    </tr>\n",
       "  </tbody>\n",
       "</table>\n",
       "</div>"
      ],
      "text/plain": [
       "        house.chamberType\n",
       "count               11487\n",
       "unique                  2\n",
       "top                 house\n",
       "freq                10894\n",
       "missing                 0"
      ]
     },
     "metadata": {},
     "output_type": "display_data"
    },
    {
     "data": {
      "text/markdown": [
       "###  Top N:"
      ],
      "text/plain": [
       "<IPython.core.display.Markdown object>"
      ]
     },
     "metadata": {},
     "output_type": "display_data"
    },
    {
     "data": {
      "text/html": [
       "<div>\n",
       "<style>\n",
       "    .dataframe thead tr:only-child th {\n",
       "        text-align: right;\n",
       "    }\n",
       "\n",
       "    .dataframe thead th {\n",
       "        text-align: left;\n",
       "    }\n",
       "\n",
       "    .dataframe tbody tr th {\n",
       "        vertical-align: top;\n",
       "    }\n",
       "</style>\n",
       "<table border=\"1\" class=\"dataframe\">\n",
       "  <thead>\n",
       "    <tr style=\"text-align: right;\">\n",
       "      <th></th>\n",
       "      <th>house.chamberType</th>\n",
       "    </tr>\n",
       "  </thead>\n",
       "  <tbody>\n",
       "    <tr>\n",
       "      <th>house</th>\n",
       "      <td>10894</td>\n",
       "    </tr>\n",
       "    <tr>\n",
       "      <th>committee</th>\n",
       "      <td>593</td>\n",
       "    </tr>\n",
       "  </tbody>\n",
       "</table>\n",
       "</div>"
      ],
      "text/plain": [
       "           house.chamberType\n",
       "house                  10894\n",
       "committee                593"
      ]
     },
     "metadata": {},
     "output_type": "display_data"
    },
    {
     "data": {
      "text/markdown": [
       "----------"
      ],
      "text/plain": [
       "<IPython.core.display.Markdown object>"
      ]
     },
     "metadata": {},
     "output_type": "display_data"
    },
    {
     "data": {
      "text/markdown": [
       "# house.committeeCode"
      ],
      "text/plain": [
       "<IPython.core.display.Markdown object>"
      ]
     },
     "metadata": {},
     "output_type": "display_data"
    },
    {
     "data": {
      "text/markdown": [
       "###  Stats:"
      ],
      "text/plain": [
       "<IPython.core.display.Markdown object>"
      ]
     },
     "metadata": {},
     "output_type": "display_data"
    },
    {
     "data": {
      "text/html": [
       "<div>\n",
       "<style>\n",
       "    .dataframe thead tr:only-child th {\n",
       "        text-align: right;\n",
       "    }\n",
       "\n",
       "    .dataframe thead th {\n",
       "        text-align: left;\n",
       "    }\n",
       "\n",
       "    .dataframe tbody tr th {\n",
       "        vertical-align: top;\n",
       "    }\n",
       "</style>\n",
       "<table border=\"1\" class=\"dataframe\">\n",
       "  <thead>\n",
       "    <tr style=\"text-align: right;\">\n",
       "      <th></th>\n",
       "      <th>house.committeeCode</th>\n",
       "    </tr>\n",
       "  </thead>\n",
       "  <tbody>\n",
       "    <tr>\n",
       "      <th>count</th>\n",
       "      <td>11487</td>\n",
       "    </tr>\n",
       "    <tr>\n",
       "      <th>unique</th>\n",
       "      <td>66</td>\n",
       "    </tr>\n",
       "    <tr>\n",
       "      <th>top</th>\n",
       "      <td></td>\n",
       "    </tr>\n",
       "    <tr>\n",
       "      <th>freq</th>\n",
       "      <td>10894</td>\n",
       "    </tr>\n",
       "    <tr>\n",
       "      <th>missing</th>\n",
       "      <td>10894</td>\n",
       "    </tr>\n",
       "  </tbody>\n",
       "</table>\n",
       "</div>"
      ],
      "text/plain": [
       "        house.committeeCode\n",
       "count                 11487\n",
       "unique                   66\n",
       "top                        \n",
       "freq                  10894\n",
       "missing               10894"
      ]
     },
     "metadata": {},
     "output_type": "display_data"
    },
    {
     "data": {
      "text/markdown": [
       "###  Top N:"
      ],
      "text/plain": [
       "<IPython.core.display.Markdown object>"
      ]
     },
     "metadata": {},
     "output_type": "display_data"
    },
    {
     "data": {
      "text/html": [
       "<div>\n",
       "<style>\n",
       "    .dataframe thead tr:only-child th {\n",
       "        text-align: right;\n",
       "    }\n",
       "\n",
       "    .dataframe thead th {\n",
       "        text-align: left;\n",
       "    }\n",
       "\n",
       "    .dataframe tbody tr th {\n",
       "        vertical-align: top;\n",
       "    }\n",
       "</style>\n",
       "<table border=\"1\" class=\"dataframe\">\n",
       "  <thead>\n",
       "    <tr style=\"text-align: right;\">\n",
       "      <th></th>\n",
       "      <th>house.committeeCode</th>\n",
       "    </tr>\n",
       "  </thead>\n",
       "  <tbody>\n",
       "    <tr>\n",
       "      <th></th>\n",
       "      <td>10894</td>\n",
       "    </tr>\n",
       "    <tr>\n",
       "      <th>select_committee_on_finance_and_the_public_service</th>\n",
       "      <td>71</td>\n",
       "    </tr>\n",
       "    <tr>\n",
       "      <th>select_committee_on_environment_and_local_government</th>\n",
       "      <td>61</td>\n",
       "    </tr>\n",
       "    <tr>\n",
       "      <th>select_sub-committee_on_the_environment_community_and_local_government</th>\n",
       "      <td>45</td>\n",
       "    </tr>\n",
       "    <tr>\n",
       "      <th>select_committee_on_justice,_equality,_defence_and_women’s_rights</th>\n",
       "      <td>33</td>\n",
       "    </tr>\n",
       "    <tr>\n",
       "      <th>select_committee_on_transport</th>\n",
       "      <td>25</td>\n",
       "    </tr>\n",
       "    <tr>\n",
       "      <th>select_committee_on_education_and_science</th>\n",
       "      <td>24</td>\n",
       "    </tr>\n",
       "    <tr>\n",
       "      <th>select_committee_on_enterprise_and_small_business</th>\n",
       "      <td>23</td>\n",
       "    </tr>\n",
       "    <tr>\n",
       "      <th>select_committee_on_justice,_equality_and_women’s_rights</th>\n",
       "      <td>22</td>\n",
       "    </tr>\n",
       "    <tr>\n",
       "      <th>select_committee_on_communications,_marine_and_natural_resources</th>\n",
       "      <td>19</td>\n",
       "    </tr>\n",
       "    <tr>\n",
       "      <th>select_committee_on_finance_public_expenditure_and_reform_and_taoiseach</th>\n",
       "      <td>16</td>\n",
       "    </tr>\n",
       "    <tr>\n",
       "      <th>joint_committee_on_the_eighth_amendment_of_the_constitution</th>\n",
       "      <td>15</td>\n",
       "    </tr>\n",
       "    <tr>\n",
       "      <th>select_committee_on_health_and_children</th>\n",
       "      <td>15</td>\n",
       "    </tr>\n",
       "    <tr>\n",
       "      <th>select_committee_on_family,_community_and_social_affairs</th>\n",
       "      <td>14</td>\n",
       "    </tr>\n",
       "    <tr>\n",
       "      <th>select_sub-committee_on_finance</th>\n",
       "      <td>13</td>\n",
       "    </tr>\n",
       "    <tr>\n",
       "      <th>select_committee_on_social_and_family_affairs</th>\n",
       "      <td>11</td>\n",
       "    </tr>\n",
       "    <tr>\n",
       "      <th>select_committee_on_education_and_skills</th>\n",
       "      <td>11</td>\n",
       "    </tr>\n",
       "    <tr>\n",
       "      <th>select_committee_on_justice_and_equality</th>\n",
       "      <td>11</td>\n",
       "    </tr>\n",
       "    <tr>\n",
       "      <th>select_sub-committee_on_health</th>\n",
       "      <td>11</td>\n",
       "    </tr>\n",
       "    <tr>\n",
       "      <th>select_committee_on_jobs_enterprise_and_innovation</th>\n",
       "      <td>11</td>\n",
       "    </tr>\n",
       "    <tr>\n",
       "      <th>select_sub-committee_on_public_expenditure_and_reform</th>\n",
       "      <td>10</td>\n",
       "    </tr>\n",
       "    <tr>\n",
       "      <th>select_committee_on_the_environment,_transport,_culture_and_the_gaeltacht</th>\n",
       "      <td>9</td>\n",
       "    </tr>\n",
       "    <tr>\n",
       "      <th>select_committee_on_housing_planning_and_local_government</th>\n",
       "      <td>8</td>\n",
       "    </tr>\n",
       "    <tr>\n",
       "      <th>select_committee_on_justice_defence_and_equality</th>\n",
       "      <td>7</td>\n",
       "    </tr>\n",
       "    <tr>\n",
       "      <th>select_committee_on_agriculture_food_and_the_marine</th>\n",
       "      <td>6</td>\n",
       "    </tr>\n",
       "    <tr>\n",
       "      <th>select_committee_on_finance_and_general_affairs</th>\n",
       "      <td>5</td>\n",
       "    </tr>\n",
       "    <tr>\n",
       "      <th>select_committee_on_justice,_equality,_defence_and_women's_rights</th>\n",
       "      <td>5</td>\n",
       "    </tr>\n",
       "    <tr>\n",
       "      <th>joint_committee_on_finance_and_the_public_service</th>\n",
       "      <td>5</td>\n",
       "    </tr>\n",
       "    <tr>\n",
       "      <th>select_committee_on_heritage_and_the_irish_language</th>\n",
       "      <td>5</td>\n",
       "    </tr>\n",
       "    <tr>\n",
       "      <th>select_committee_on_public_enterprise_and_transport</th>\n",
       "      <td>5</td>\n",
       "    </tr>\n",
       "    <tr>\n",
       "      <th>select_committee_on_agriculture,_food_and_the_marine</th>\n",
       "      <td>5</td>\n",
       "    </tr>\n",
       "    <tr>\n",
       "      <th>joint_committee_on_finance_public_expenditure_and_reform</th>\n",
       "      <td>4</td>\n",
       "    </tr>\n",
       "    <tr>\n",
       "      <th>select_committee_on_housing_planning_community_and_local_government</th>\n",
       "      <td>4</td>\n",
       "    </tr>\n",
       "    <tr>\n",
       "      <th>select_committee_on_arts,_sport,_tourism,_community,_rural_and_gaeltacht_affairs</th>\n",
       "      <td>4</td>\n",
       "    </tr>\n",
       "    <tr>\n",
       "      <th>select_committee_on_finance,_public_expenditure_and_reform</th>\n",
       "      <td>4</td>\n",
       "    </tr>\n",
       "    <tr>\n",
       "      <th>joint_committee_on_health_and_children</th>\n",
       "      <td>4</td>\n",
       "    </tr>\n",
       "    <tr>\n",
       "      <th>select_committee_on_the_environment,_heritage_and_local_government</th>\n",
       "      <td>3</td>\n",
       "    </tr>\n",
       "    <tr>\n",
       "      <th>select_committee_on_justice,_defence_and_women's_rights</th>\n",
       "      <td>3</td>\n",
       "    </tr>\n",
       "    <tr>\n",
       "      <th>select_committee_on_employment_affairs_and_social_protection</th>\n",
       "      <td>3</td>\n",
       "    </tr>\n",
       "    <tr>\n",
       "      <th>select_sub-committee_on_social_protection</th>\n",
       "      <td>3</td>\n",
       "    </tr>\n",
       "    <tr>\n",
       "      <th>select_committee_on_tourism,_sport_and_recreation</th>\n",
       "      <td>3</td>\n",
       "    </tr>\n",
       "    <tr>\n",
       "      <th>select_committee_on_justice,_defence_and_equality</th>\n",
       "      <td>2</td>\n",
       "    </tr>\n",
       "    <tr>\n",
       "      <th>committee_of_public_accounts</th>\n",
       "      <td>2</td>\n",
       "    </tr>\n",
       "    <tr>\n",
       "      <th>joint_committee_on_foreign_affairs_and_trade</th>\n",
       "      <td>2</td>\n",
       "    </tr>\n",
       "    <tr>\n",
       "      <th>select_sub-committee_on_arts_heritage_and_the_gaeltacht</th>\n",
       "      <td>2</td>\n",
       "    </tr>\n",
       "    <tr>\n",
       "      <th>select_sub-committee_on_transport_tourism_and_sport</th>\n",
       "      <td>2</td>\n",
       "    </tr>\n",
       "    <tr>\n",
       "      <th>joint_committee_on_transport</th>\n",
       "      <td>2</td>\n",
       "    </tr>\n",
       "    <tr>\n",
       "      <th>select_committee_on_education_and_social_protection</th>\n",
       "      <td>2</td>\n",
       "    </tr>\n",
       "    <tr>\n",
       "      <th>select_committee_on_european_affairs</th>\n",
       "      <td>2</td>\n",
       "    </tr>\n",
       "    <tr>\n",
       "      <th>joint_committee_on_european_union_affairs</th>\n",
       "      <td>2</td>\n",
       "    </tr>\n",
       "  </tbody>\n",
       "</table>\n",
       "</div>"
      ],
      "text/plain": [
       "                                                    house.committeeCode\n",
       "                                                                  10894\n",
       "select_committee_on_finance_and_the_public_service                   71\n",
       "select_committee_on_environment_and_local_gover...                   61\n",
       "select_sub-committee_on_the_environment_communi...                   45\n",
       "select_committee_on_justice,_equality,_defence_...                   33\n",
       "select_committee_on_transport                                        25\n",
       "select_committee_on_education_and_science                            24\n",
       "select_committee_on_enterprise_and_small_business                    23\n",
       "select_committee_on_justice,_equality_and_women...                   22\n",
       "select_committee_on_communications,_marine_and_...                   19\n",
       "select_committee_on_finance_public_expenditure_...                   16\n",
       "joint_committee_on_the_eighth_amendment_of_the_...                   15\n",
       "select_committee_on_health_and_children                              15\n",
       "select_committee_on_family,_community_and_socia...                   14\n",
       "select_sub-committee_on_finance                                      13\n",
       "select_committee_on_social_and_family_affairs                        11\n",
       "select_committee_on_education_and_skills                             11\n",
       "select_committee_on_justice_and_equality                             11\n",
       "select_sub-committee_on_health                                       11\n",
       "select_committee_on_jobs_enterprise_and_innovation                   11\n",
       "select_sub-committee_on_public_expenditure_and_...                   10\n",
       "select_committee_on_the_environment,_transport,...                    9\n",
       "select_committee_on_housing_planning_and_local_...                    8\n",
       "select_committee_on_justice_defence_and_equality                      7\n",
       "select_committee_on_agriculture_food_and_the_ma...                    6\n",
       "select_committee_on_finance_and_general_affairs                       5\n",
       "select_committee_on_justice,_equality,_defence_...                    5\n",
       "joint_committee_on_finance_and_the_public_service                     5\n",
       "select_committee_on_heritage_and_the_irish_lang...                    5\n",
       "select_committee_on_public_enterprise_and_trans...                    5\n",
       "select_committee_on_agriculture,_food_and_the_m...                    5\n",
       "joint_committee_on_finance_public_expenditure_a...                    4\n",
       "select_committee_on_housing_planning_community_...                    4\n",
       "select_committee_on_arts,_sport,_tourism,_commu...                    4\n",
       "select_committee_on_finance,_public_expenditure...                    4\n",
       "joint_committee_on_health_and_children                                4\n",
       "select_committee_on_the_environment,_heritage_a...                    3\n",
       "select_committee_on_justice,_defence_and_women'...                    3\n",
       "select_committee_on_employment_affairs_and_soci...                    3\n",
       "select_sub-committee_on_social_protection                             3\n",
       "select_committee_on_tourism,_sport_and_recreation                     3\n",
       "select_committee_on_justice,_defence_and_equality                     2\n",
       "committee_of_public_accounts                                          2\n",
       "joint_committee_on_foreign_affairs_and_trade                          2\n",
       "select_sub-committee_on_arts_heritage_and_the_g...                    2\n",
       "select_sub-committee_on_transport_tourism_and_s...                    2\n",
       "joint_committee_on_transport                                          2\n",
       "select_committee_on_education_and_social_protec...                    2\n",
       "select_committee_on_european_affairs                                  2\n",
       "joint_committee_on_european_union_affairs                             2"
      ]
     },
     "metadata": {},
     "output_type": "display_data"
    },
    {
     "data": {
      "text/markdown": [
       "----------"
      ],
      "text/plain": [
       "<IPython.core.display.Markdown object>"
      ]
     },
     "metadata": {},
     "output_type": "display_data"
    },
    {
     "data": {
      "text/markdown": [
       "# house.houseCode"
      ],
      "text/plain": [
       "<IPython.core.display.Markdown object>"
      ]
     },
     "metadata": {},
     "output_type": "display_data"
    },
    {
     "data": {
      "text/markdown": [
       "###  Stats:"
      ],
      "text/plain": [
       "<IPython.core.display.Markdown object>"
      ]
     },
     "metadata": {},
     "output_type": "display_data"
    },
    {
     "data": {
      "text/html": [
       "<div>\n",
       "<style>\n",
       "    .dataframe thead tr:only-child th {\n",
       "        text-align: right;\n",
       "    }\n",
       "\n",
       "    .dataframe thead th {\n",
       "        text-align: left;\n",
       "    }\n",
       "\n",
       "    .dataframe tbody tr th {\n",
       "        vertical-align: top;\n",
       "    }\n",
       "</style>\n",
       "<table border=\"1\" class=\"dataframe\">\n",
       "  <thead>\n",
       "    <tr style=\"text-align: right;\">\n",
       "      <th></th>\n",
       "      <th>house.houseCode</th>\n",
       "    </tr>\n",
       "  </thead>\n",
       "  <tbody>\n",
       "    <tr>\n",
       "      <th>count</th>\n",
       "      <td>11487</td>\n",
       "    </tr>\n",
       "    <tr>\n",
       "      <th>unique</th>\n",
       "      <td>2</td>\n",
       "    </tr>\n",
       "    <tr>\n",
       "      <th>top</th>\n",
       "      <td>dail</td>\n",
       "    </tr>\n",
       "    <tr>\n",
       "      <th>freq</th>\n",
       "      <td>7941</td>\n",
       "    </tr>\n",
       "    <tr>\n",
       "      <th>missing</th>\n",
       "      <td>0</td>\n",
       "    </tr>\n",
       "  </tbody>\n",
       "</table>\n",
       "</div>"
      ],
      "text/plain": [
       "        house.houseCode\n",
       "count             11487\n",
       "unique                2\n",
       "top                dail\n",
       "freq               7941\n",
       "missing               0"
      ]
     },
     "metadata": {},
     "output_type": "display_data"
    },
    {
     "data": {
      "text/markdown": [
       "###  Top N:"
      ],
      "text/plain": [
       "<IPython.core.display.Markdown object>"
      ]
     },
     "metadata": {},
     "output_type": "display_data"
    },
    {
     "data": {
      "text/html": [
       "<div>\n",
       "<style>\n",
       "    .dataframe thead tr:only-child th {\n",
       "        text-align: right;\n",
       "    }\n",
       "\n",
       "    .dataframe thead th {\n",
       "        text-align: left;\n",
       "    }\n",
       "\n",
       "    .dataframe tbody tr th {\n",
       "        vertical-align: top;\n",
       "    }\n",
       "</style>\n",
       "<table border=\"1\" class=\"dataframe\">\n",
       "  <thead>\n",
       "    <tr style=\"text-align: right;\">\n",
       "      <th></th>\n",
       "      <th>house.houseCode</th>\n",
       "    </tr>\n",
       "  </thead>\n",
       "  <tbody>\n",
       "    <tr>\n",
       "      <th>dail</th>\n",
       "      <td>7941</td>\n",
       "    </tr>\n",
       "    <tr>\n",
       "      <th>seanad</th>\n",
       "      <td>3546</td>\n",
       "    </tr>\n",
       "  </tbody>\n",
       "</table>\n",
       "</div>"
      ],
      "text/plain": [
       "        house.houseCode\n",
       "dail               7941\n",
       "seanad             3546"
      ]
     },
     "metadata": {},
     "output_type": "display_data"
    },
    {
     "data": {
      "text/markdown": [
       "----------"
      ],
      "text/plain": [
       "<IPython.core.display.Markdown object>"
      ]
     },
     "metadata": {},
     "output_type": "display_data"
    },
    {
     "data": {
      "text/markdown": [
       "# house.houseNo"
      ],
      "text/plain": [
       "<IPython.core.display.Markdown object>"
      ]
     },
     "metadata": {},
     "output_type": "display_data"
    },
    {
     "data": {
      "text/markdown": [
       "###  Stats:"
      ],
      "text/plain": [
       "<IPython.core.display.Markdown object>"
      ]
     },
     "metadata": {},
     "output_type": "display_data"
    },
    {
     "data": {
      "text/html": [
       "<div>\n",
       "<style>\n",
       "    .dataframe thead tr:only-child th {\n",
       "        text-align: right;\n",
       "    }\n",
       "\n",
       "    .dataframe thead th {\n",
       "        text-align: left;\n",
       "    }\n",
       "\n",
       "    .dataframe tbody tr th {\n",
       "        vertical-align: top;\n",
       "    }\n",
       "</style>\n",
       "<table border=\"1\" class=\"dataframe\">\n",
       "  <thead>\n",
       "    <tr style=\"text-align: right;\">\n",
       "      <th></th>\n",
       "      <th>house.houseNo</th>\n",
       "    </tr>\n",
       "  </thead>\n",
       "  <tbody>\n",
       "    <tr>\n",
       "      <th>count</th>\n",
       "      <td>11487</td>\n",
       "    </tr>\n",
       "    <tr>\n",
       "      <th>unique</th>\n",
       "      <td>36</td>\n",
       "    </tr>\n",
       "    <tr>\n",
       "      <th>top</th>\n",
       "      <td>24</td>\n",
       "    </tr>\n",
       "    <tr>\n",
       "      <th>freq</th>\n",
       "      <td>1349</td>\n",
       "    </tr>\n",
       "    <tr>\n",
       "      <th>missing</th>\n",
       "      <td>0</td>\n",
       "    </tr>\n",
       "  </tbody>\n",
       "</table>\n",
       "</div>"
      ],
      "text/plain": [
       "        house.houseNo\n",
       "count           11487\n",
       "unique             36\n",
       "top                24\n",
       "freq             1349\n",
       "missing             0"
      ]
     },
     "metadata": {},
     "output_type": "display_data"
    },
    {
     "data": {
      "text/markdown": [
       "###  Top N:"
      ],
      "text/plain": [
       "<IPython.core.display.Markdown object>"
      ]
     },
     "metadata": {},
     "output_type": "display_data"
    },
    {
     "data": {
      "text/html": [
       "<div>\n",
       "<style>\n",
       "    .dataframe thead tr:only-child th {\n",
       "        text-align: right;\n",
       "    }\n",
       "\n",
       "    .dataframe thead th {\n",
       "        text-align: left;\n",
       "    }\n",
       "\n",
       "    .dataframe tbody tr th {\n",
       "        vertical-align: top;\n",
       "    }\n",
       "</style>\n",
       "<table border=\"1\" class=\"dataframe\">\n",
       "  <thead>\n",
       "    <tr style=\"text-align: right;\">\n",
       "      <th></th>\n",
       "      <th>house.houseNo</th>\n",
       "    </tr>\n",
       "  </thead>\n",
       "  <tbody>\n",
       "    <tr>\n",
       "      <th>24</th>\n",
       "      <td>1349</td>\n",
       "    </tr>\n",
       "    <tr>\n",
       "      <th>8</th>\n",
       "      <td>741</td>\n",
       "    </tr>\n",
       "    <tr>\n",
       "      <th>31</th>\n",
       "      <td>722</td>\n",
       "    </tr>\n",
       "    <tr>\n",
       "      <th>23</th>\n",
       "      <td>621</td>\n",
       "    </tr>\n",
       "    <tr>\n",
       "      <th>29</th>\n",
       "      <td>615</td>\n",
       "    </tr>\n",
       "    <tr>\n",
       "      <th>6</th>\n",
       "      <td>607</td>\n",
       "    </tr>\n",
       "    <tr>\n",
       "      <th>20</th>\n",
       "      <td>564</td>\n",
       "    </tr>\n",
       "    <tr>\n",
       "      <th>26</th>\n",
       "      <td>538</td>\n",
       "    </tr>\n",
       "    <tr>\n",
       "      <th>4</th>\n",
       "      <td>474</td>\n",
       "    </tr>\n",
       "    <tr>\n",
       "      <th>27</th>\n",
       "      <td>407</td>\n",
       "    </tr>\n",
       "    <tr>\n",
       "      <th>10</th>\n",
       "      <td>389</td>\n",
       "    </tr>\n",
       "    <tr>\n",
       "      <th>19</th>\n",
       "      <td>386</td>\n",
       "    </tr>\n",
       "    <tr>\n",
       "      <th>25</th>\n",
       "      <td>382</td>\n",
       "    </tr>\n",
       "    <tr>\n",
       "      <th>32</th>\n",
       "      <td>377</td>\n",
       "    </tr>\n",
       "    <tr>\n",
       "      <th>18</th>\n",
       "      <td>321</td>\n",
       "    </tr>\n",
       "    <tr>\n",
       "      <th>12</th>\n",
       "      <td>296</td>\n",
       "    </tr>\n",
       "    <tr>\n",
       "      <th>21</th>\n",
       "      <td>296</td>\n",
       "    </tr>\n",
       "    <tr>\n",
       "      <th>13</th>\n",
       "      <td>260</td>\n",
       "    </tr>\n",
       "    <tr>\n",
       "      <th>28</th>\n",
       "      <td>250</td>\n",
       "    </tr>\n",
       "    <tr>\n",
       "      <th>17</th>\n",
       "      <td>227</td>\n",
       "    </tr>\n",
       "    <tr>\n",
       "      <th>3</th>\n",
       "      <td>222</td>\n",
       "    </tr>\n",
       "    <tr>\n",
       "      <th>16</th>\n",
       "      <td>185</td>\n",
       "    </tr>\n",
       "    <tr>\n",
       "      <th>14</th>\n",
       "      <td>183</td>\n",
       "    </tr>\n",
       "    <tr>\n",
       "      <th>11</th>\n",
       "      <td>135</td>\n",
       "    </tr>\n",
       "    <tr>\n",
       "      <th>7</th>\n",
       "      <td>119</td>\n",
       "    </tr>\n",
       "    <tr>\n",
       "      <th>1928</th>\n",
       "      <td>109</td>\n",
       "    </tr>\n",
       "    <tr>\n",
       "      <th>5</th>\n",
       "      <td>101</td>\n",
       "    </tr>\n",
       "    <tr>\n",
       "      <th>1931</th>\n",
       "      <td>94</td>\n",
       "    </tr>\n",
       "    <tr>\n",
       "      <th>9</th>\n",
       "      <td>87</td>\n",
       "    </tr>\n",
       "    <tr>\n",
       "      <th>22</th>\n",
       "      <td>86</td>\n",
       "    </tr>\n",
       "    <tr>\n",
       "      <th>15</th>\n",
       "      <td>84</td>\n",
       "    </tr>\n",
       "    <tr>\n",
       "      <th>30</th>\n",
       "      <td>83</td>\n",
       "    </tr>\n",
       "    <tr>\n",
       "      <th>1922</th>\n",
       "      <td>83</td>\n",
       "    </tr>\n",
       "    <tr>\n",
       "      <th>1925</th>\n",
       "      <td>54</td>\n",
       "    </tr>\n",
       "    <tr>\n",
       "      <th>1934</th>\n",
       "      <td>38</td>\n",
       "    </tr>\n",
       "    <tr>\n",
       "      <th>2</th>\n",
       "      <td>2</td>\n",
       "    </tr>\n",
       "  </tbody>\n",
       "</table>\n",
       "</div>"
      ],
      "text/plain": [
       "      house.houseNo\n",
       "24             1349\n",
       "8               741\n",
       "31              722\n",
       "23              621\n",
       "29              615\n",
       "6               607\n",
       "20              564\n",
       "26              538\n",
       "4               474\n",
       "27              407\n",
       "10              389\n",
       "19              386\n",
       "25              382\n",
       "32              377\n",
       "18              321\n",
       "12              296\n",
       "21              296\n",
       "13              260\n",
       "28              250\n",
       "17              227\n",
       "3               222\n",
       "16              185\n",
       "14              183\n",
       "11              135\n",
       "7               119\n",
       "1928            109\n",
       "5               101\n",
       "1931             94\n",
       "9                87\n",
       "22               86\n",
       "15               84\n",
       "30               83\n",
       "1922             83\n",
       "1925             54\n",
       "1934             38\n",
       "2                 2"
      ]
     },
     "metadata": {},
     "output_type": "display_data"
    },
    {
     "data": {
      "text/markdown": [
       "----------"
      ],
      "text/plain": [
       "<IPython.core.display.Markdown object>"
      ]
     },
     "metadata": {},
     "output_type": "display_data"
    },
    {
     "data": {
      "text/markdown": [
       "# house.showAs"
      ],
      "text/plain": [
       "<IPython.core.display.Markdown object>"
      ]
     },
     "metadata": {},
     "output_type": "display_data"
    },
    {
     "data": {
      "text/markdown": [
       "###  Stats:"
      ],
      "text/plain": [
       "<IPython.core.display.Markdown object>"
      ]
     },
     "metadata": {},
     "output_type": "display_data"
    },
    {
     "data": {
      "text/html": [
       "<div>\n",
       "<style>\n",
       "    .dataframe thead tr:only-child th {\n",
       "        text-align: right;\n",
       "    }\n",
       "\n",
       "    .dataframe thead th {\n",
       "        text-align: left;\n",
       "    }\n",
       "\n",
       "    .dataframe tbody tr th {\n",
       "        vertical-align: top;\n",
       "    }\n",
       "</style>\n",
       "<table border=\"1\" class=\"dataframe\">\n",
       "  <thead>\n",
       "    <tr style=\"text-align: right;\">\n",
       "      <th></th>\n",
       "      <th>house.showAs</th>\n",
       "    </tr>\n",
       "  </thead>\n",
       "  <tbody>\n",
       "    <tr>\n",
       "      <th>count</th>\n",
       "      <td>11487</td>\n",
       "    </tr>\n",
       "    <tr>\n",
       "      <th>unique</th>\n",
       "      <td>126</td>\n",
       "    </tr>\n",
       "    <tr>\n",
       "      <th>top</th>\n",
       "      <td>24th Seanad</td>\n",
       "    </tr>\n",
       "    <tr>\n",
       "      <th>freq</th>\n",
       "      <td>1032</td>\n",
       "    </tr>\n",
       "    <tr>\n",
       "      <th>missing</th>\n",
       "      <td>0</td>\n",
       "    </tr>\n",
       "  </tbody>\n",
       "</table>\n",
       "</div>"
      ],
      "text/plain": [
       "        house.showAs\n",
       "count          11487\n",
       "unique           126\n",
       "top      24th Seanad\n",
       "freq            1032\n",
       "missing            0"
      ]
     },
     "metadata": {},
     "output_type": "display_data"
    },
    {
     "data": {
      "text/markdown": [
       "###  Top N:"
      ],
      "text/plain": [
       "<IPython.core.display.Markdown object>"
      ]
     },
     "metadata": {},
     "output_type": "display_data"
    },
    {
     "data": {
      "text/html": [
       "<div>\n",
       "<style>\n",
       "    .dataframe thead tr:only-child th {\n",
       "        text-align: right;\n",
       "    }\n",
       "\n",
       "    .dataframe thead th {\n",
       "        text-align: left;\n",
       "    }\n",
       "\n",
       "    .dataframe tbody tr th {\n",
       "        vertical-align: top;\n",
       "    }\n",
       "</style>\n",
       "<table border=\"1\" class=\"dataframe\">\n",
       "  <thead>\n",
       "    <tr style=\"text-align: right;\">\n",
       "      <th></th>\n",
       "      <th>house.showAs</th>\n",
       "    </tr>\n",
       "  </thead>\n",
       "  <tbody>\n",
       "    <tr>\n",
       "      <th>24th Seanad</th>\n",
       "      <td>1032</td>\n",
       "    </tr>\n",
       "    <tr>\n",
       "      <th>8th Dáil</th>\n",
       "      <td>721</td>\n",
       "    </tr>\n",
       "    <tr>\n",
       "      <th>6th Dáil</th>\n",
       "      <td>593</td>\n",
       "    </tr>\n",
       "    <tr>\n",
       "      <th>23rd Seanad</th>\n",
       "      <td>593</td>\n",
       "    </tr>\n",
       "    <tr>\n",
       "      <th>31st Dáil</th>\n",
       "      <td>577</td>\n",
       "    </tr>\n",
       "    <tr>\n",
       "      <th>26th Dáil</th>\n",
       "      <td>538</td>\n",
       "    </tr>\n",
       "    <tr>\n",
       "      <th>4th Dáil</th>\n",
       "      <td>471</td>\n",
       "    </tr>\n",
       "    <tr>\n",
       "      <th>29th Dáil</th>\n",
       "      <td>424</td>\n",
       "    </tr>\n",
       "    <tr>\n",
       "      <th>27th Dáil</th>\n",
       "      <td>400</td>\n",
       "    </tr>\n",
       "    <tr>\n",
       "      <th>20th Dáil</th>\n",
       "      <td>364</td>\n",
       "    </tr>\n",
       "    <tr>\n",
       "      <th>10th Dáil</th>\n",
       "      <td>355</td>\n",
       "    </tr>\n",
       "    <tr>\n",
       "      <th>24th Dáil</th>\n",
       "      <td>317</td>\n",
       "    </tr>\n",
       "    <tr>\n",
       "      <th>32nd Dáil</th>\n",
       "      <td>303</td>\n",
       "    </tr>\n",
       "    <tr>\n",
       "      <th>12th Dáil</th>\n",
       "      <td>243</td>\n",
       "    </tr>\n",
       "    <tr>\n",
       "      <th>19th Seanad</th>\n",
       "      <td>243</td>\n",
       "    </tr>\n",
       "    <tr>\n",
       "      <th>25th Dáil</th>\n",
       "      <td>230</td>\n",
       "    </tr>\n",
       "    <tr>\n",
       "      <th>21st Dáil</th>\n",
       "      <td>226</td>\n",
       "    </tr>\n",
       "    <tr>\n",
       "      <th>20th Seanad</th>\n",
       "      <td>200</td>\n",
       "    </tr>\n",
       "    <tr>\n",
       "      <th>16th Dáil</th>\n",
       "      <td>177</td>\n",
       "    </tr>\n",
       "    <tr>\n",
       "      <th>18th Dáil</th>\n",
       "      <td>176</td>\n",
       "    </tr>\n",
       "    <tr>\n",
       "      <th>3rd Dáil</th>\n",
       "      <td>153</td>\n",
       "    </tr>\n",
       "    <tr>\n",
       "      <th>25th Seanad</th>\n",
       "      <td>152</td>\n",
       "    </tr>\n",
       "    <tr>\n",
       "      <th>13th Dáil</th>\n",
       "      <td>149</td>\n",
       "    </tr>\n",
       "    <tr>\n",
       "      <th>18th Seanad</th>\n",
       "      <td>145</td>\n",
       "    </tr>\n",
       "    <tr>\n",
       "      <th>19th Dáil</th>\n",
       "      <td>143</td>\n",
       "    </tr>\n",
       "    <tr>\n",
       "      <th>14th Dáil</th>\n",
       "      <td>136</td>\n",
       "    </tr>\n",
       "    <tr>\n",
       "      <th>28th Dáil</th>\n",
       "      <td>123</td>\n",
       "    </tr>\n",
       "    <tr>\n",
       "      <th>17th Dáil</th>\n",
       "      <td>122</td>\n",
       "    </tr>\n",
       "    <tr>\n",
       "      <th>11th Seanad</th>\n",
       "      <td>113</td>\n",
       "    </tr>\n",
       "    <tr>\n",
       "      <th>13th Seanad</th>\n",
       "      <td>111</td>\n",
       "    </tr>\n",
       "    <tr>\n",
       "      <th>7th Dáil</th>\n",
       "      <td>110</td>\n",
       "    </tr>\n",
       "    <tr>\n",
       "      <th>1928 Seanad</th>\n",
       "      <td>109</td>\n",
       "    </tr>\n",
       "    <tr>\n",
       "      <th>17th Seanad</th>\n",
       "      <td>105</td>\n",
       "    </tr>\n",
       "    <tr>\n",
       "      <th>1931 Seanad</th>\n",
       "      <td>94</td>\n",
       "    </tr>\n",
       "    <tr>\n",
       "      <th>1922 Seanad</th>\n",
       "      <td>83</td>\n",
       "    </tr>\n",
       "    <tr>\n",
       "      <th>15th Dáil</th>\n",
       "      <td>73</td>\n",
       "    </tr>\n",
       "    <tr>\n",
       "      <th>SELECT COMMITTEE ON FINANCE AND THE PUBLIC SERVICE</th>\n",
       "      <td>71</td>\n",
       "    </tr>\n",
       "    <tr>\n",
       "      <th>21st Seanad</th>\n",
       "      <td>70</td>\n",
       "    </tr>\n",
       "    <tr>\n",
       "      <th>3rd Seanad</th>\n",
       "      <td>69</td>\n",
       "    </tr>\n",
       "    <tr>\n",
       "      <th>SELECT COMMITTEE ON ENVIRONMENT AND LOCAL GOVERNMENT</th>\n",
       "      <td>61</td>\n",
       "    </tr>\n",
       "    <tr>\n",
       "      <th>5th Dáil</th>\n",
       "      <td>57</td>\n",
       "    </tr>\n",
       "    <tr>\n",
       "      <th>1925 Seanad</th>\n",
       "      <td>54</td>\n",
       "    </tr>\n",
       "    <tr>\n",
       "      <th>12th Seanad</th>\n",
       "      <td>53</td>\n",
       "    </tr>\n",
       "    <tr>\n",
       "      <th>22nd Seanad</th>\n",
       "      <td>48</td>\n",
       "    </tr>\n",
       "    <tr>\n",
       "      <th>14th Seanad</th>\n",
       "      <td>47</td>\n",
       "    </tr>\n",
       "    <tr>\n",
       "      <th>Select Sub-Committee on the Environment, Community and Local Government</th>\n",
       "      <td>45</td>\n",
       "    </tr>\n",
       "    <tr>\n",
       "      <th>9th Dáil</th>\n",
       "      <td>45</td>\n",
       "    </tr>\n",
       "    <tr>\n",
       "      <th>5th Seanad</th>\n",
       "      <td>44</td>\n",
       "    </tr>\n",
       "    <tr>\n",
       "      <th>9th Seanad</th>\n",
       "      <td>42</td>\n",
       "    </tr>\n",
       "    <tr>\n",
       "      <th>22nd Dáil</th>\n",
       "      <td>38</td>\n",
       "    </tr>\n",
       "  </tbody>\n",
       "</table>\n",
       "</div>"
      ],
      "text/plain": [
       "                                                    house.showAs\n",
       "24th Seanad                                                 1032\n",
       "8th Dáil                                                     721\n",
       "6th Dáil                                                     593\n",
       "23rd Seanad                                                  593\n",
       "31st Dáil                                                    577\n",
       "26th Dáil                                                    538\n",
       "4th Dáil                                                     471\n",
       "29th Dáil                                                    424\n",
       "27th Dáil                                                    400\n",
       "20th Dáil                                                    364\n",
       "10th Dáil                                                    355\n",
       "24th Dáil                                                    317\n",
       "32nd Dáil                                                    303\n",
       "12th Dáil                                                    243\n",
       "19th Seanad                                                  243\n",
       "25th Dáil                                                    230\n",
       "21st Dáil                                                    226\n",
       "20th Seanad                                                  200\n",
       "16th Dáil                                                    177\n",
       "18th Dáil                                                    176\n",
       "3rd Dáil                                                     153\n",
       "25th Seanad                                                  152\n",
       "13th Dáil                                                    149\n",
       "18th Seanad                                                  145\n",
       "19th Dáil                                                    143\n",
       "14th Dáil                                                    136\n",
       "28th Dáil                                                    123\n",
       "17th Dáil                                                    122\n",
       "11th Seanad                                                  113\n",
       "13th Seanad                                                  111\n",
       "7th Dáil                                                     110\n",
       "1928 Seanad                                                  109\n",
       "17th Seanad                                                  105\n",
       "1931 Seanad                                                   94\n",
       "1922 Seanad                                                   83\n",
       "15th Dáil                                                     73\n",
       "SELECT COMMITTEE ON FINANCE AND THE PUBLIC SERVICE            71\n",
       "21st Seanad                                                   70\n",
       "3rd Seanad                                                    69\n",
       "SELECT COMMITTEE ON ENVIRONMENT AND LOCAL GOVER...            61\n",
       "5th Dáil                                                      57\n",
       "1925 Seanad                                                   54\n",
       "12th Seanad                                                   53\n",
       "22nd Seanad                                                   48\n",
       "14th Seanad                                                   47\n",
       "Select Sub-Committee on the Environment, Commun...            45\n",
       "9th Dáil                                                      45\n",
       "5th Seanad                                                    44\n",
       "9th Seanad                                                    42\n",
       "22nd Dáil                                                     38"
      ]
     },
     "metadata": {},
     "output_type": "display_data"
    },
    {
     "data": {
      "text/markdown": [
       "----------"
      ],
      "text/plain": [
       "<IPython.core.display.Markdown object>"
      ]
     },
     "metadata": {},
     "output_type": "display_data"
    },
    {
     "data": {
      "text/markdown": [
       "# house.uri"
      ],
      "text/plain": [
       "<IPython.core.display.Markdown object>"
      ]
     },
     "metadata": {},
     "output_type": "display_data"
    },
    {
     "data": {
      "text/markdown": [
       "###  Stats:"
      ],
      "text/plain": [
       "<IPython.core.display.Markdown object>"
      ]
     },
     "metadata": {},
     "output_type": "display_data"
    },
    {
     "data": {
      "text/html": [
       "<div>\n",
       "<style>\n",
       "    .dataframe thead tr:only-child th {\n",
       "        text-align: right;\n",
       "    }\n",
       "\n",
       "    .dataframe thead th {\n",
       "        text-align: left;\n",
       "    }\n",
       "\n",
       "    .dataframe tbody tr th {\n",
       "        vertical-align: top;\n",
       "    }\n",
       "</style>\n",
       "<table border=\"1\" class=\"dataframe\">\n",
       "  <thead>\n",
       "    <tr style=\"text-align: right;\">\n",
       "      <th></th>\n",
       "      <th>house.uri</th>\n",
       "    </tr>\n",
       "  </thead>\n",
       "  <tbody>\n",
       "    <tr>\n",
       "      <th>count</th>\n",
       "      <td>11487</td>\n",
       "    </tr>\n",
       "    <tr>\n",
       "      <th>unique</th>\n",
       "      <td>139</td>\n",
       "    </tr>\n",
       "    <tr>\n",
       "      <th>top</th>\n",
       "      <td>/ie/oireachtas/house/seanad/24</td>\n",
       "    </tr>\n",
       "    <tr>\n",
       "      <th>freq</th>\n",
       "      <td>1032</td>\n",
       "    </tr>\n",
       "    <tr>\n",
       "      <th>missing</th>\n",
       "      <td>0</td>\n",
       "    </tr>\n",
       "  </tbody>\n",
       "</table>\n",
       "</div>"
      ],
      "text/plain": [
       "                              house.uri\n",
       "count                             11487\n",
       "unique                              139\n",
       "top      /ie/oireachtas/house/seanad/24\n",
       "freq                               1032\n",
       "missing                               0"
      ]
     },
     "metadata": {},
     "output_type": "display_data"
    },
    {
     "data": {
      "text/markdown": [
       "###  Top N:"
      ],
      "text/plain": [
       "<IPython.core.display.Markdown object>"
      ]
     },
     "metadata": {},
     "output_type": "display_data"
    },
    {
     "data": {
      "text/html": [
       "<div>\n",
       "<style>\n",
       "    .dataframe thead tr:only-child th {\n",
       "        text-align: right;\n",
       "    }\n",
       "\n",
       "    .dataframe thead th {\n",
       "        text-align: left;\n",
       "    }\n",
       "\n",
       "    .dataframe tbody tr th {\n",
       "        vertical-align: top;\n",
       "    }\n",
       "</style>\n",
       "<table border=\"1\" class=\"dataframe\">\n",
       "  <thead>\n",
       "    <tr style=\"text-align: right;\">\n",
       "      <th></th>\n",
       "      <th>house.uri</th>\n",
       "    </tr>\n",
       "  </thead>\n",
       "  <tbody>\n",
       "    <tr>\n",
       "      <th>/ie/oireachtas/house/seanad/24</th>\n",
       "      <td>1032</td>\n",
       "    </tr>\n",
       "    <tr>\n",
       "      <th>/ie/oireachtas/house/dail/8</th>\n",
       "      <td>721</td>\n",
       "    </tr>\n",
       "    <tr>\n",
       "      <th>/ie/oireachtas/house/seanad/23</th>\n",
       "      <td>593</td>\n",
       "    </tr>\n",
       "    <tr>\n",
       "      <th>/ie/oireachtas/house/dail/6</th>\n",
       "      <td>593</td>\n",
       "    </tr>\n",
       "    <tr>\n",
       "      <th>/ie/oireachtas/house/dail/31</th>\n",
       "      <td>577</td>\n",
       "    </tr>\n",
       "    <tr>\n",
       "      <th>/ie/oireachtas/house/dail/26</th>\n",
       "      <td>538</td>\n",
       "    </tr>\n",
       "    <tr>\n",
       "      <th>/ie/oireachtas/house/dail/4</th>\n",
       "      <td>471</td>\n",
       "    </tr>\n",
       "    <tr>\n",
       "      <th>/ie/oireachtas/house/dail/29</th>\n",
       "      <td>424</td>\n",
       "    </tr>\n",
       "    <tr>\n",
       "      <th>/ie/oireachtas/house/dail/27</th>\n",
       "      <td>400</td>\n",
       "    </tr>\n",
       "    <tr>\n",
       "      <th>/ie/oireachtas/house/dail/20</th>\n",
       "      <td>364</td>\n",
       "    </tr>\n",
       "    <tr>\n",
       "      <th>/ie/oireachtas/house/dail/10</th>\n",
       "      <td>355</td>\n",
       "    </tr>\n",
       "    <tr>\n",
       "      <th>/ie/oireachtas/house/dail/24</th>\n",
       "      <td>317</td>\n",
       "    </tr>\n",
       "    <tr>\n",
       "      <th>/ie/oireachtas/house/dail/32</th>\n",
       "      <td>303</td>\n",
       "    </tr>\n",
       "    <tr>\n",
       "      <th>/ie/oireachtas/house/dail/12</th>\n",
       "      <td>243</td>\n",
       "    </tr>\n",
       "    <tr>\n",
       "      <th>/ie/oireachtas/house/seanad/19</th>\n",
       "      <td>243</td>\n",
       "    </tr>\n",
       "    <tr>\n",
       "      <th>/ie/oireachtas/house/dail/25</th>\n",
       "      <td>230</td>\n",
       "    </tr>\n",
       "    <tr>\n",
       "      <th>/ie/oireachtas/house/dail/21</th>\n",
       "      <td>226</td>\n",
       "    </tr>\n",
       "    <tr>\n",
       "      <th>/ie/oireachtas/house/seanad/20</th>\n",
       "      <td>200</td>\n",
       "    </tr>\n",
       "    <tr>\n",
       "      <th>/ie/oireachtas/house/dail/16</th>\n",
       "      <td>177</td>\n",
       "    </tr>\n",
       "    <tr>\n",
       "      <th>/ie/oireachtas/house/dail/18</th>\n",
       "      <td>176</td>\n",
       "    </tr>\n",
       "    <tr>\n",
       "      <th>/ie/oireachtas/house/dail/3</th>\n",
       "      <td>153</td>\n",
       "    </tr>\n",
       "    <tr>\n",
       "      <th>/ie/oireachtas/house/seanad/25</th>\n",
       "      <td>152</td>\n",
       "    </tr>\n",
       "    <tr>\n",
       "      <th>/ie/oireachtas/house/dail/13</th>\n",
       "      <td>149</td>\n",
       "    </tr>\n",
       "    <tr>\n",
       "      <th>/ie/oireachtas/house/seanad/18</th>\n",
       "      <td>145</td>\n",
       "    </tr>\n",
       "    <tr>\n",
       "      <th>/ie/oireachtas/house/dail/19</th>\n",
       "      <td>143</td>\n",
       "    </tr>\n",
       "    <tr>\n",
       "      <th>/ie/oireachtas/house/dail/14</th>\n",
       "      <td>136</td>\n",
       "    </tr>\n",
       "    <tr>\n",
       "      <th>/ie/oireachtas/house/dail/28</th>\n",
       "      <td>123</td>\n",
       "    </tr>\n",
       "    <tr>\n",
       "      <th>/ie/oireachtas/house/dail/17</th>\n",
       "      <td>122</td>\n",
       "    </tr>\n",
       "    <tr>\n",
       "      <th>/ie/oireachtas/house/seanad/11</th>\n",
       "      <td>113</td>\n",
       "    </tr>\n",
       "    <tr>\n",
       "      <th>/ie/oireachtas/house/seanad/13</th>\n",
       "      <td>111</td>\n",
       "    </tr>\n",
       "    <tr>\n",
       "      <th>/ie/oireachtas/house/dail/7</th>\n",
       "      <td>110</td>\n",
       "    </tr>\n",
       "    <tr>\n",
       "      <th>/ie/oireachtas/house/seanad/1928</th>\n",
       "      <td>109</td>\n",
       "    </tr>\n",
       "    <tr>\n",
       "      <th>/ie/oireachtas/house/seanad/17</th>\n",
       "      <td>105</td>\n",
       "    </tr>\n",
       "    <tr>\n",
       "      <th>/ie/oireachtas/house/seanad/1931</th>\n",
       "      <td>94</td>\n",
       "    </tr>\n",
       "    <tr>\n",
       "      <th>/ie/oireachtas/house/seanad/1922</th>\n",
       "      <td>83</td>\n",
       "    </tr>\n",
       "    <tr>\n",
       "      <th>/ie/oireachtas/house/dail/15</th>\n",
       "      <td>73</td>\n",
       "    </tr>\n",
       "    <tr>\n",
       "      <th>/ie/oireachtas/house/seanad/21</th>\n",
       "      <td>70</td>\n",
       "    </tr>\n",
       "    <tr>\n",
       "      <th>/ie/oireachtas/house/seanad/3</th>\n",
       "      <td>69</td>\n",
       "    </tr>\n",
       "    <tr>\n",
       "      <th>/ie/oireachtas/house/dail/5</th>\n",
       "      <td>57</td>\n",
       "    </tr>\n",
       "    <tr>\n",
       "      <th>/ie/oireachtas/house/seanad/1925</th>\n",
       "      <td>54</td>\n",
       "    </tr>\n",
       "    <tr>\n",
       "      <th>/ie/oireachtas/house/seanad/12</th>\n",
       "      <td>53</td>\n",
       "    </tr>\n",
       "    <tr>\n",
       "      <th>/ie/oireachtas/committee/dail/29/select_committee_on_environment_and_local_government</th>\n",
       "      <td>52</td>\n",
       "    </tr>\n",
       "    <tr>\n",
       "      <th>/ie/oireachtas/house/seanad/22</th>\n",
       "      <td>48</td>\n",
       "    </tr>\n",
       "    <tr>\n",
       "      <th>/ie/oireachtas/house/seanad/14</th>\n",
       "      <td>47</td>\n",
       "    </tr>\n",
       "    <tr>\n",
       "      <th>/ie/oireachtas/house/dail/9</th>\n",
       "      <td>45</td>\n",
       "    </tr>\n",
       "    <tr>\n",
       "      <th>/ie/oireachtas/committee/dail/31/select_sub-committee_on_the_environment_community_and_local_government</th>\n",
       "      <td>45</td>\n",
       "    </tr>\n",
       "    <tr>\n",
       "      <th>/ie/oireachtas/house/seanad/5</th>\n",
       "      <td>44</td>\n",
       "    </tr>\n",
       "    <tr>\n",
       "      <th>/ie/oireachtas/house/seanad/9</th>\n",
       "      <td>42</td>\n",
       "    </tr>\n",
       "    <tr>\n",
       "      <th>/ie/oireachtas/committee/dail/29/select_committee_on_finance_and_the_public_service</th>\n",
       "      <td>39</td>\n",
       "    </tr>\n",
       "    <tr>\n",
       "      <th>/ie/oireachtas/house/seanad/1934</th>\n",
       "      <td>38</td>\n",
       "    </tr>\n",
       "  </tbody>\n",
       "</table>\n",
       "</div>"
      ],
      "text/plain": [
       "                                                    house.uri\n",
       "/ie/oireachtas/house/seanad/24                           1032\n",
       "/ie/oireachtas/house/dail/8                               721\n",
       "/ie/oireachtas/house/seanad/23                            593\n",
       "/ie/oireachtas/house/dail/6                               593\n",
       "/ie/oireachtas/house/dail/31                              577\n",
       "/ie/oireachtas/house/dail/26                              538\n",
       "/ie/oireachtas/house/dail/4                               471\n",
       "/ie/oireachtas/house/dail/29                              424\n",
       "/ie/oireachtas/house/dail/27                              400\n",
       "/ie/oireachtas/house/dail/20                              364\n",
       "/ie/oireachtas/house/dail/10                              355\n",
       "/ie/oireachtas/house/dail/24                              317\n",
       "/ie/oireachtas/house/dail/32                              303\n",
       "/ie/oireachtas/house/dail/12                              243\n",
       "/ie/oireachtas/house/seanad/19                            243\n",
       "/ie/oireachtas/house/dail/25                              230\n",
       "/ie/oireachtas/house/dail/21                              226\n",
       "/ie/oireachtas/house/seanad/20                            200\n",
       "/ie/oireachtas/house/dail/16                              177\n",
       "/ie/oireachtas/house/dail/18                              176\n",
       "/ie/oireachtas/house/dail/3                               153\n",
       "/ie/oireachtas/house/seanad/25                            152\n",
       "/ie/oireachtas/house/dail/13                              149\n",
       "/ie/oireachtas/house/seanad/18                            145\n",
       "/ie/oireachtas/house/dail/19                              143\n",
       "/ie/oireachtas/house/dail/14                              136\n",
       "/ie/oireachtas/house/dail/28                              123\n",
       "/ie/oireachtas/house/dail/17                              122\n",
       "/ie/oireachtas/house/seanad/11                            113\n",
       "/ie/oireachtas/house/seanad/13                            111\n",
       "/ie/oireachtas/house/dail/7                               110\n",
       "/ie/oireachtas/house/seanad/1928                          109\n",
       "/ie/oireachtas/house/seanad/17                            105\n",
       "/ie/oireachtas/house/seanad/1931                           94\n",
       "/ie/oireachtas/house/seanad/1922                           83\n",
       "/ie/oireachtas/house/dail/15                               73\n",
       "/ie/oireachtas/house/seanad/21                             70\n",
       "/ie/oireachtas/house/seanad/3                              69\n",
       "/ie/oireachtas/house/dail/5                                57\n",
       "/ie/oireachtas/house/seanad/1925                           54\n",
       "/ie/oireachtas/house/seanad/12                             53\n",
       "/ie/oireachtas/committee/dail/29/select_committ...         52\n",
       "/ie/oireachtas/house/seanad/22                             48\n",
       "/ie/oireachtas/house/seanad/14                             47\n",
       "/ie/oireachtas/house/dail/9                                45\n",
       "/ie/oireachtas/committee/dail/31/select_sub-com...         45\n",
       "/ie/oireachtas/house/seanad/5                              44\n",
       "/ie/oireachtas/house/seanad/9                              42\n",
       "/ie/oireachtas/committee/dail/29/select_committ...         39\n",
       "/ie/oireachtas/house/seanad/1934                           38"
      ]
     },
     "metadata": {},
     "output_type": "display_data"
    },
    {
     "data": {
      "text/markdown": [
       "----------"
      ],
      "text/plain": [
       "<IPython.core.display.Markdown object>"
      ]
     },
     "metadata": {},
     "output_type": "display_data"
    },
    {
     "data": {
      "text/markdown": [
       "# subject.showAs"
      ],
      "text/plain": [
       "<IPython.core.display.Markdown object>"
      ]
     },
     "metadata": {},
     "output_type": "display_data"
    },
    {
     "data": {
      "text/markdown": [
       "###  Stats:"
      ],
      "text/plain": [
       "<IPython.core.display.Markdown object>"
      ]
     },
     "metadata": {},
     "output_type": "display_data"
    },
    {
     "data": {
      "text/html": [
       "<div>\n",
       "<style>\n",
       "    .dataframe thead tr:only-child th {\n",
       "        text-align: right;\n",
       "    }\n",
       "\n",
       "    .dataframe thead th {\n",
       "        text-align: left;\n",
       "    }\n",
       "\n",
       "    .dataframe tbody tr th {\n",
       "        vertical-align: top;\n",
       "    }\n",
       "</style>\n",
       "<table border=\"1\" class=\"dataframe\">\n",
       "  <thead>\n",
       "    <tr style=\"text-align: right;\">\n",
       "      <th></th>\n",
       "      <th>subject.showAs</th>\n",
       "    </tr>\n",
       "  </thead>\n",
       "  <tbody>\n",
       "    <tr>\n",
       "      <th>count</th>\n",
       "      <td>11487</td>\n",
       "    </tr>\n",
       "    <tr>\n",
       "      <th>unique</th>\n",
       "      <td>1450</td>\n",
       "    </tr>\n",
       "    <tr>\n",
       "      <th>top</th>\n",
       "      <td>Question put.</td>\n",
       "    </tr>\n",
       "    <tr>\n",
       "      <th>freq</th>\n",
       "      <td>2626</td>\n",
       "    </tr>\n",
       "    <tr>\n",
       "      <th>missing</th>\n",
       "      <td>0</td>\n",
       "    </tr>\n",
       "  </tbody>\n",
       "</table>\n",
       "</div>"
      ],
      "text/plain": [
       "        subject.showAs\n",
       "count            11487\n",
       "unique            1450\n",
       "top      Question put.\n",
       "freq              2626\n",
       "missing              0"
      ]
     },
     "metadata": {},
     "output_type": "display_data"
    },
    {
     "data": {
      "text/markdown": [
       "###  Top N:"
      ],
      "text/plain": [
       "<IPython.core.display.Markdown object>"
      ]
     },
     "metadata": {},
     "output_type": "display_data"
    },
    {
     "data": {
      "text/html": [
       "<div>\n",
       "<style>\n",
       "    .dataframe thead tr:only-child th {\n",
       "        text-align: right;\n",
       "    }\n",
       "\n",
       "    .dataframe thead th {\n",
       "        text-align: left;\n",
       "    }\n",
       "\n",
       "    .dataframe tbody tr th {\n",
       "        vertical-align: top;\n",
       "    }\n",
       "</style>\n",
       "<table border=\"1\" class=\"dataframe\">\n",
       "  <thead>\n",
       "    <tr style=\"text-align: right;\">\n",
       "      <th></th>\n",
       "      <th>subject.showAs</th>\n",
       "    </tr>\n",
       "  </thead>\n",
       "  <tbody>\n",
       "    <tr>\n",
       "      <th>Question put.</th>\n",
       "      <td>2626</td>\n",
       "    </tr>\n",
       "    <tr>\n",
       "      <th>Amendment put.</th>\n",
       "      <td>1944</td>\n",
       "    </tr>\n",
       "    <tr>\n",
       "      <th>Amendment put:</th>\n",
       "      <td>1097</td>\n",
       "    </tr>\n",
       "    <tr>\n",
       "      <th>The Seanad divided: Tá,</th>\n",
       "      <td>676</td>\n",
       "    </tr>\n",
       "    <tr>\n",
       "      <th>The Dáil divided: Tá,</th>\n",
       "      <td>634</td>\n",
       "    </tr>\n",
       "    <tr>\n",
       "      <th>The Committee divided: Tá,</th>\n",
       "      <td>580</td>\n",
       "    </tr>\n",
       "    <tr>\n",
       "      <th>Question put:</th>\n",
       "      <td>411</td>\n",
       "    </tr>\n",
       "    <tr>\n",
       "      <th>Question put: \"That the words proposed to be deleted stand.\"</th>\n",
       "      <td>397</td>\n",
       "    </tr>\n",
       "    <tr>\n",
       "      <th>Question put: \"That the motion, as amended, be agreed to.\"</th>\n",
       "      <td>139</td>\n",
       "    </tr>\n",
       "    <tr>\n",
       "      <th>The Select Committee divided: Tá,</th>\n",
       "      <td>104</td>\n",
       "    </tr>\n",
       "    <tr>\n",
       "      <th>Motion put.</th>\n",
       "      <td>103</td>\n",
       "    </tr>\n",
       "    <tr>\n",
       "      <th>Question put: \"That the words proposed to be deleted stand\".</th>\n",
       "      <td>101</td>\n",
       "    </tr>\n",
       "    <tr>\n",
       "      <th>Question put: \"That the Order of Business be agreed to.\"</th>\n",
       "      <td>75</td>\n",
       "    </tr>\n",
       "    <tr>\n",
       "      <th>Question put: \"That the Bill do now pass.\"</th>\n",
       "      <td>74</td>\n",
       "    </tr>\n",
       "    <tr>\n",
       "      <th>Question put: \"That the Bill be now read a Second Time.\"</th>\n",
       "      <td>58</td>\n",
       "    </tr>\n",
       "    <tr>\n",
       "      <th>Question put:</th>\n",
       "      <td>44</td>\n",
       "    </tr>\n",
       "    <tr>\n",
       "      <th>Recommendation put.</th>\n",
       "      <td>40</td>\n",
       "    </tr>\n",
       "    <tr>\n",
       "      <th>Question put: \"That the Estimate be referred back for reconsideration.\"</th>\n",
       "      <td>34</td>\n",
       "    </tr>\n",
       "    <tr>\n",
       "      <th>Question put: \"That the amendment be made.\"</th>\n",
       "      <td>33</td>\n",
       "    </tr>\n",
       "    <tr>\n",
       "      <th>Question put: \"That the motion be agreed to.\"</th>\n",
       "      <td>32</td>\n",
       "    </tr>\n",
       "    <tr>\n",
       "      <th>Vote put.</th>\n",
       "      <td>30</td>\n",
       "    </tr>\n",
       "    <tr>\n",
       "      <th>Question put: \"That the word proposed to be deleted stand.\"</th>\n",
       "      <td>29</td>\n",
       "    </tr>\n",
       "    <tr>\n",
       "      <th>Question put: \"That the words proposed to be deleted, stand.\"</th>\n",
       "      <td>25</td>\n",
       "    </tr>\n",
       "    <tr>\n",
       "      <th>Question—\"That the words proposed to be deleted stand\"—put.</th>\n",
       "      <td>24</td>\n",
       "    </tr>\n",
       "    <tr>\n",
       "      <th>Resolution put.</th>\n",
       "      <td>23</td>\n",
       "    </tr>\n",
       "    <tr>\n",
       "      <th>Question put: \"That the question be now put.\"</th>\n",
       "      <td>22</td>\n",
       "    </tr>\n",
       "    <tr>\n",
       "      <th>Recommendation put:</th>\n",
       "      <td>20</td>\n",
       "    </tr>\n",
       "    <tr>\n",
       "      <th>Main question put.</th>\n",
       "      <td>19</td>\n",
       "    </tr>\n",
       "    <tr>\n",
       "      <th>Question put: \"That the Bill be received for final consideration.\"</th>\n",
       "      <td>19</td>\n",
       "    </tr>\n",
       "    <tr>\n",
       "      <th>Question put: \"That the figure proposed to be deleted stand.\"</th>\n",
       "      <td>19</td>\n",
       "    </tr>\n",
       "    <tr>\n",
       "      <th>Amendment put:</th>\n",
       "      <td>18</td>\n",
       "    </tr>\n",
       "    <tr>\n",
       "      <th>Question—\"That the Estimate be referred back for reconsideration\"— put.</th>\n",
       "      <td>18</td>\n",
       "    </tr>\n",
       "    <tr>\n",
       "      <th>Question put: \"That the words and figures proposed to be deleted stand.\"</th>\n",
       "      <td>15</td>\n",
       "    </tr>\n",
       "    <tr>\n",
       "      <th>Motion, as amended, put.</th>\n",
       "      <td>15</td>\n",
       "    </tr>\n",
       "    <tr>\n",
       "      <th>Question put: \"That the Order of Business, as amended, be agreed to.\"</th>\n",
       "      <td>15</td>\n",
       "    </tr>\n",
       "    <tr>\n",
       "      <th>Question put: \"That the words proposed to be deleted stand part of the Bill.\"</th>\n",
       "      <td>14</td>\n",
       "    </tr>\n",
       "    <tr>\n",
       "      <th>Question put: \"That the Question be now put.\"</th>\n",
       "      <td>13</td>\n",
       "    </tr>\n",
       "    <tr>\n",
       "      <th>Main Question put.</th>\n",
       "      <td>12</td>\n",
       "    </tr>\n",
       "    <tr>\n",
       "      <th>Question put: \"That amendment No. 1 be made.\"</th>\n",
       "      <td>12</td>\n",
       "    </tr>\n",
       "    <tr>\n",
       "      <th>Question proposed: \"That the words proposed to be deleted stand.\"</th>\n",
       "      <td>12</td>\n",
       "    </tr>\n",
       "    <tr>\n",
       "      <th>Question put: \"That the new section be there inserted.\"</th>\n",
       "      <td>12</td>\n",
       "    </tr>\n",
       "    <tr>\n",
       "      <th>Question put: \"That Section 2 stand part of the Bill.\"</th>\n",
       "      <td>11</td>\n",
       "    </tr>\n",
       "    <tr>\n",
       "      <th>Question again put: \"That the Bill be now read a Second Time.\"</th>\n",
       "      <td>11</td>\n",
       "    </tr>\n",
       "    <tr>\n",
       "      <th>Question again put:</th>\n",
       "      <td>10</td>\n",
       "    </tr>\n",
       "    <tr>\n",
       "      <th>Question—\"That the Bill be now read a Second Time\"—put.</th>\n",
       "      <td>10</td>\n",
       "    </tr>\n",
       "    <tr>\n",
       "      <th>Question put: \"That the motion, as amended, be agreed to\".</th>\n",
       "      <td>10</td>\n",
       "    </tr>\n",
       "    <tr>\n",
       "      <th>Amendment to amendment put:</th>\n",
       "      <td>10</td>\n",
       "    </tr>\n",
       "    <tr>\n",
       "      <th>Question put: \"That the figures proposed to be deleted stand.\"</th>\n",
       "      <td>9</td>\n",
       "    </tr>\n",
       "    <tr>\n",
       "      <th>Question put: \"That Section 6 stand part of the Bill.\"</th>\n",
       "      <td>9</td>\n",
       "    </tr>\n",
       "    <tr>\n",
       "      <th>Question put: \"That amendment No. 1 be made\".</th>\n",
       "      <td>8</td>\n",
       "    </tr>\n",
       "  </tbody>\n",
       "</table>\n",
       "</div>"
      ],
      "text/plain": [
       "                                                    subject.showAs\n",
       "Question put.                                                 2626\n",
       "Amendment put.                                                1944\n",
       "Amendment put:                                                1097\n",
       "The Seanad divided: Tá,                                        676\n",
       "The Dáil divided: Tá,                                          634\n",
       "The Committee divided: Tá,                                     580\n",
       "Question put:                                                  411\n",
       "Question put: \"That the words proposed to be de...             397\n",
       "Question put: \"That the motion, as amended, be ...             139\n",
       "The Select Committee divided: Tá,                              104\n",
       "Motion put.                                                    103\n",
       "Question put: \"That the words proposed to be de...             101\n",
       "Question put: \"That the Order of Business be ag...              75\n",
       "Question put: \"That the Bill do now pass.\"                      74\n",
       "Question put: \"That the Bill be now read a Seco...              58\n",
       "Question put:                                                   44\n",
       "Recommendation put.                                             40\n",
       "Question put: \"That the Estimate be referred ba...              34\n",
       "Question put: \"That the amendment be made.\"                     33\n",
       "Question put: \"That the motion be agreed to.\"                   32\n",
       "Vote put.                                                       30\n",
       "Question put: \"That the word proposed to be del...              29\n",
       "Question put: \"That the words proposed to be de...              25\n",
       "Question—\"That the words proposed to be deleted...              24\n",
       "Resolution put.                                                 23\n",
       "Question put: \"That the question be now put.\"                   22\n",
       "Recommendation put:                                             20\n",
       "Main question put.                                              19\n",
       "Question put: \"That the Bill be received for fi...              19\n",
       "Question put: \"That the figure proposed to be d...              19\n",
       "Amendment put:                                                  18\n",
       "Question—\"That the Estimate be referred back fo...              18\n",
       "Question put: \"That the words and figures propo...              15\n",
       "Motion, as amended, put.                                        15\n",
       "Question put: \"That the Order of Business, as a...              15\n",
       "Question put: \"That the words proposed to be de...              14\n",
       "Question put: \"That the Question be now put.\"                   13\n",
       "Main Question put.                                              12\n",
       "Question put: \"That amendment No. 1 be made.\"                   12\n",
       "Question proposed: \"That the words proposed to ...              12\n",
       "Question put: \"That the new section be there in...              12\n",
       "Question put: \"That Section 2 stand part of the...              11\n",
       "Question again put: \"That the Bill be now read ...              11\n",
       "Question again put:                                             10\n",
       "Question—\"That the Bill be now read a Second Ti...              10\n",
       "Question put: \"That the motion, as amended, be ...              10\n",
       "Amendment to amendment put:                                     10\n",
       "Question put: \"That the figures proposed to be ...               9\n",
       "Question put: \"That Section 6 stand part of the...               9\n",
       "Question put: \"That amendment No. 1 be made\".                    8"
      ]
     },
     "metadata": {},
     "output_type": "display_data"
    },
    {
     "data": {
      "text/markdown": [
       "----------"
      ],
      "text/plain": [
       "<IPython.core.display.Markdown object>"
      ]
     },
     "metadata": {},
     "output_type": "display_data"
    },
    {
     "data": {
      "text/markdown": [
       "# date"
      ],
      "text/plain": [
       "<IPython.core.display.Markdown object>"
      ]
     },
     "metadata": {},
     "output_type": "display_data"
    },
    {
     "data": {
      "text/markdown": [
       "###  Stats:"
      ],
      "text/plain": [
       "<IPython.core.display.Markdown object>"
      ]
     },
     "metadata": {},
     "output_type": "display_data"
    },
    {
     "data": {
      "text/html": [
       "<div>\n",
       "<style>\n",
       "    .dataframe thead tr:only-child th {\n",
       "        text-align: right;\n",
       "    }\n",
       "\n",
       "    .dataframe thead th {\n",
       "        text-align: left;\n",
       "    }\n",
       "\n",
       "    .dataframe tbody tr th {\n",
       "        vertical-align: top;\n",
       "    }\n",
       "</style>\n",
       "<table border=\"1\" class=\"dataframe\">\n",
       "  <thead>\n",
       "    <tr style=\"text-align: right;\">\n",
       "      <th></th>\n",
       "      <th>date</th>\n",
       "    </tr>\n",
       "  </thead>\n",
       "  <tbody>\n",
       "    <tr>\n",
       "      <th>count</th>\n",
       "      <td>11487</td>\n",
       "    </tr>\n",
       "    <tr>\n",
       "      <th>unique</th>\n",
       "      <td>4475</td>\n",
       "    </tr>\n",
       "    <tr>\n",
       "      <th>top</th>\n",
       "      <td>2012-01-18 00:00:00</td>\n",
       "    </tr>\n",
       "    <tr>\n",
       "      <th>freq</th>\n",
       "      <td>46</td>\n",
       "    </tr>\n",
       "    <tr>\n",
       "      <th>first</th>\n",
       "      <td>1922-09-11 00:00:00</td>\n",
       "    </tr>\n",
       "    <tr>\n",
       "      <th>last</th>\n",
       "      <td>2018-01-23 00:00:00</td>\n",
       "    </tr>\n",
       "    <tr>\n",
       "      <th>missing</th>\n",
       "      <td>0</td>\n",
       "    </tr>\n",
       "  </tbody>\n",
       "</table>\n",
       "</div>"
      ],
      "text/plain": [
       "                        date\n",
       "count                  11487\n",
       "unique                  4475\n",
       "top      2012-01-18 00:00:00\n",
       "freq                      46\n",
       "first    1922-09-11 00:00:00\n",
       "last     2018-01-23 00:00:00\n",
       "missing                    0"
      ]
     },
     "metadata": {},
     "output_type": "display_data"
    },
    {
     "data": {
      "text/markdown": [
       "###  Top N:"
      ],
      "text/plain": [
       "<IPython.core.display.Markdown object>"
      ]
     },
     "metadata": {},
     "output_type": "display_data"
    },
    {
     "data": {
      "text/html": [
       "<div>\n",
       "<style>\n",
       "    .dataframe thead tr:only-child th {\n",
       "        text-align: right;\n",
       "    }\n",
       "\n",
       "    .dataframe thead th {\n",
       "        text-align: left;\n",
       "    }\n",
       "\n",
       "    .dataframe tbody tr th {\n",
       "        vertical-align: top;\n",
       "    }\n",
       "</style>\n",
       "<table border=\"1\" class=\"dataframe\">\n",
       "  <thead>\n",
       "    <tr style=\"text-align: right;\">\n",
       "      <th></th>\n",
       "      <th>date</th>\n",
       "    </tr>\n",
       "  </thead>\n",
       "  <tbody>\n",
       "    <tr>\n",
       "      <th>2012-01-18</th>\n",
       "      <td>46</td>\n",
       "    </tr>\n",
       "    <tr>\n",
       "      <th>1933-07-14</th>\n",
       "      <td>30</td>\n",
       "    </tr>\n",
       "    <tr>\n",
       "      <th>1935-07-05</th>\n",
       "      <td>22</td>\n",
       "    </tr>\n",
       "    <tr>\n",
       "      <th>1929-05-30</th>\n",
       "      <td>22</td>\n",
       "    </tr>\n",
       "    <tr>\n",
       "      <th>2017-12-13</th>\n",
       "      <td>20</td>\n",
       "    </tr>\n",
       "    <tr>\n",
       "      <th>2014-12-17</th>\n",
       "      <td>20</td>\n",
       "    </tr>\n",
       "    <tr>\n",
       "      <th>1967-07-21</th>\n",
       "      <td>20</td>\n",
       "    </tr>\n",
       "    <tr>\n",
       "      <th>2015-12-01</th>\n",
       "      <td>20</td>\n",
       "    </tr>\n",
       "    <tr>\n",
       "      <th>1929-07-03</th>\n",
       "      <td>18</td>\n",
       "    </tr>\n",
       "    <tr>\n",
       "      <th>1927-08-03</th>\n",
       "      <td>17</td>\n",
       "    </tr>\n",
       "    <tr>\n",
       "      <th>1923-07-12</th>\n",
       "      <td>17</td>\n",
       "    </tr>\n",
       "    <tr>\n",
       "      <th>2013-07-03</th>\n",
       "      <td>16</td>\n",
       "    </tr>\n",
       "    <tr>\n",
       "      <th>1933-06-02</th>\n",
       "      <td>16</td>\n",
       "    </tr>\n",
       "    <tr>\n",
       "      <th>2017-04-13</th>\n",
       "      <td>16</td>\n",
       "    </tr>\n",
       "    <tr>\n",
       "      <th>1928-06-20</th>\n",
       "      <td>16</td>\n",
       "    </tr>\n",
       "    <tr>\n",
       "      <th>2013-07-11</th>\n",
       "      <td>16</td>\n",
       "    </tr>\n",
       "    <tr>\n",
       "      <th>2011-12-07</th>\n",
       "      <td>15</td>\n",
       "    </tr>\n",
       "    <tr>\n",
       "      <th>1974-05-15</th>\n",
       "      <td>15</td>\n",
       "    </tr>\n",
       "    <tr>\n",
       "      <th>1929-07-10</th>\n",
       "      <td>15</td>\n",
       "    </tr>\n",
       "    <tr>\n",
       "      <th>1934-12-14</th>\n",
       "      <td>14</td>\n",
       "    </tr>\n",
       "    <tr>\n",
       "      <th>1927-08-02</th>\n",
       "      <td>14</td>\n",
       "    </tr>\n",
       "    <tr>\n",
       "      <th>2015-07-09</th>\n",
       "      <td>14</td>\n",
       "    </tr>\n",
       "    <tr>\n",
       "      <th>2013-12-18</th>\n",
       "      <td>14</td>\n",
       "    </tr>\n",
       "    <tr>\n",
       "      <th>2014-12-19</th>\n",
       "      <td>14</td>\n",
       "    </tr>\n",
       "    <tr>\n",
       "      <th>1923-08-02</th>\n",
       "      <td>14</td>\n",
       "    </tr>\n",
       "    <tr>\n",
       "      <th>2009-06-24</th>\n",
       "      <td>14</td>\n",
       "    </tr>\n",
       "    <tr>\n",
       "      <th>2004-04-22</th>\n",
       "      <td>14</td>\n",
       "    </tr>\n",
       "    <tr>\n",
       "      <th>2017-05-18</th>\n",
       "      <td>14</td>\n",
       "    </tr>\n",
       "    <tr>\n",
       "      <th>1923-07-30</th>\n",
       "      <td>13</td>\n",
       "    </tr>\n",
       "    <tr>\n",
       "      <th>1935-03-27</th>\n",
       "      <td>13</td>\n",
       "    </tr>\n",
       "    <tr>\n",
       "      <th>1986-12-17</th>\n",
       "      <td>13</td>\n",
       "    </tr>\n",
       "    <tr>\n",
       "      <th>2011-11-23</th>\n",
       "      <td>13</td>\n",
       "    </tr>\n",
       "    <tr>\n",
       "      <th>2015-07-08</th>\n",
       "      <td>13</td>\n",
       "    </tr>\n",
       "    <tr>\n",
       "      <th>1923-07-23</th>\n",
       "      <td>13</td>\n",
       "    </tr>\n",
       "    <tr>\n",
       "      <th>1967-08-04</th>\n",
       "      <td>13</td>\n",
       "    </tr>\n",
       "    <tr>\n",
       "      <th>1940-03-14</th>\n",
       "      <td>13</td>\n",
       "    </tr>\n",
       "    <tr>\n",
       "      <th>2009-12-16</th>\n",
       "      <td>12</td>\n",
       "    </tr>\n",
       "    <tr>\n",
       "      <th>2017-03-29</th>\n",
       "      <td>12</td>\n",
       "    </tr>\n",
       "    <tr>\n",
       "      <th>2014-11-12</th>\n",
       "      <td>12</td>\n",
       "    </tr>\n",
       "    <tr>\n",
       "      <th>2006-06-28</th>\n",
       "      <td>12</td>\n",
       "    </tr>\n",
       "    <tr>\n",
       "      <th>1991-05-15</th>\n",
       "      <td>12</td>\n",
       "    </tr>\n",
       "    <tr>\n",
       "      <th>2004-07-01</th>\n",
       "      <td>12</td>\n",
       "    </tr>\n",
       "    <tr>\n",
       "      <th>1991-07-03</th>\n",
       "      <td>12</td>\n",
       "    </tr>\n",
       "    <tr>\n",
       "      <th>1966-06-08</th>\n",
       "      <td>12</td>\n",
       "    </tr>\n",
       "    <tr>\n",
       "      <th>2014-06-11</th>\n",
       "      <td>12</td>\n",
       "    </tr>\n",
       "    <tr>\n",
       "      <th>2014-12-11</th>\n",
       "      <td>12</td>\n",
       "    </tr>\n",
       "    <tr>\n",
       "      <th>2011-12-14</th>\n",
       "      <td>12</td>\n",
       "    </tr>\n",
       "    <tr>\n",
       "      <th>2015-07-16</th>\n",
       "      <td>12</td>\n",
       "    </tr>\n",
       "    <tr>\n",
       "      <th>2015-12-02</th>\n",
       "      <td>12</td>\n",
       "    </tr>\n",
       "    <tr>\n",
       "      <th>2017-10-19</th>\n",
       "      <td>12</td>\n",
       "    </tr>\n",
       "  </tbody>\n",
       "</table>\n",
       "</div>"
      ],
      "text/plain": [
       "            date\n",
       "2012-01-18    46\n",
       "1933-07-14    30\n",
       "1935-07-05    22\n",
       "1929-05-30    22\n",
       "2017-12-13    20\n",
       "2014-12-17    20\n",
       "1967-07-21    20\n",
       "2015-12-01    20\n",
       "1929-07-03    18\n",
       "1927-08-03    17\n",
       "1923-07-12    17\n",
       "2013-07-03    16\n",
       "1933-06-02    16\n",
       "2017-04-13    16\n",
       "1928-06-20    16\n",
       "2013-07-11    16\n",
       "2011-12-07    15\n",
       "1974-05-15    15\n",
       "1929-07-10    15\n",
       "1934-12-14    14\n",
       "1927-08-02    14\n",
       "2015-07-09    14\n",
       "2013-12-18    14\n",
       "2014-12-19    14\n",
       "1923-08-02    14\n",
       "2009-06-24    14\n",
       "2004-04-22    14\n",
       "2017-05-18    14\n",
       "1923-07-30    13\n",
       "1935-03-27    13\n",
       "1986-12-17    13\n",
       "2011-11-23    13\n",
       "2015-07-08    13\n",
       "1923-07-23    13\n",
       "1967-08-04    13\n",
       "1940-03-14    13\n",
       "2009-12-16    12\n",
       "2017-03-29    12\n",
       "2014-11-12    12\n",
       "2006-06-28    12\n",
       "1991-05-15    12\n",
       "2004-07-01    12\n",
       "1991-07-03    12\n",
       "1966-06-08    12\n",
       "2014-06-11    12\n",
       "2014-12-11    12\n",
       "2011-12-14    12\n",
       "2015-07-16    12\n",
       "2015-12-02    12\n",
       "2017-10-19    12"
      ]
     },
     "metadata": {},
     "output_type": "display_data"
    },
    {
     "data": {
      "text/markdown": [
       "----------"
      ],
      "text/plain": [
       "<IPython.core.display.Markdown object>"
      ]
     },
     "metadata": {},
     "output_type": "display_data"
    },
    {
     "data": {
      "text/markdown": [
       "# datetime"
      ],
      "text/plain": [
       "<IPython.core.display.Markdown object>"
      ]
     },
     "metadata": {},
     "output_type": "display_data"
    },
    {
     "data": {
      "text/markdown": [
       "###  Stats:"
      ],
      "text/plain": [
       "<IPython.core.display.Markdown object>"
      ]
     },
     "metadata": {},
     "output_type": "display_data"
    },
    {
     "data": {
      "text/html": [
       "<div>\n",
       "<style>\n",
       "    .dataframe thead tr:only-child th {\n",
       "        text-align: right;\n",
       "    }\n",
       "\n",
       "    .dataframe thead th {\n",
       "        text-align: left;\n",
       "    }\n",
       "\n",
       "    .dataframe tbody tr th {\n",
       "        vertical-align: top;\n",
       "    }\n",
       "</style>\n",
       "<table border=\"1\" class=\"dataframe\">\n",
       "  <thead>\n",
       "    <tr style=\"text-align: right;\">\n",
       "      <th></th>\n",
       "      <th>datetime</th>\n",
       "    </tr>\n",
       "  </thead>\n",
       "  <tbody>\n",
       "    <tr>\n",
       "      <th>count</th>\n",
       "      <td>2066</td>\n",
       "    </tr>\n",
       "    <tr>\n",
       "      <th>unique</th>\n",
       "      <td>705</td>\n",
       "    </tr>\n",
       "    <tr>\n",
       "      <th>top</th>\n",
       "      <td>2012-01-18 11:00:00</td>\n",
       "    </tr>\n",
       "    <tr>\n",
       "      <th>freq</th>\n",
       "      <td>41</td>\n",
       "    </tr>\n",
       "    <tr>\n",
       "      <th>first</th>\n",
       "      <td>2012-01-18 10:30:00</td>\n",
       "    </tr>\n",
       "    <tr>\n",
       "      <th>last</th>\n",
       "      <td>2018-01-23 14:00:00</td>\n",
       "    </tr>\n",
       "    <tr>\n",
       "      <th>missing</th>\n",
       "      <td>9421</td>\n",
       "    </tr>\n",
       "  </tbody>\n",
       "</table>\n",
       "</div>"
      ],
      "text/plain": [
       "                    datetime\n",
       "count                   2066\n",
       "unique                   705\n",
       "top      2012-01-18 11:00:00\n",
       "freq                      41\n",
       "first    2012-01-18 10:30:00\n",
       "last     2018-01-23 14:00:00\n",
       "missing                 9421"
      ]
     },
     "metadata": {},
     "output_type": "display_data"
    },
    {
     "data": {
      "text/markdown": [
       "###  Top N:"
      ],
      "text/plain": [
       "<IPython.core.display.Markdown object>"
      ]
     },
     "metadata": {},
     "output_type": "display_data"
    },
    {
     "data": {
      "text/html": [
       "<div>\n",
       "<style>\n",
       "    .dataframe thead tr:only-child th {\n",
       "        text-align: right;\n",
       "    }\n",
       "\n",
       "    .dataframe thead th {\n",
       "        text-align: left;\n",
       "    }\n",
       "\n",
       "    .dataframe tbody tr th {\n",
       "        vertical-align: top;\n",
       "    }\n",
       "</style>\n",
       "<table border=\"1\" class=\"dataframe\">\n",
       "  <thead>\n",
       "    <tr style=\"text-align: right;\">\n",
       "      <th></th>\n",
       "      <th>datetime</th>\n",
       "    </tr>\n",
       "  </thead>\n",
       "  <tbody>\n",
       "    <tr>\n",
       "      <th>2012-01-18 11:00:00</th>\n",
       "      <td>41</td>\n",
       "    </tr>\n",
       "    <tr>\n",
       "      <th>2015-12-01 14:35:00</th>\n",
       "      <td>17</td>\n",
       "    </tr>\n",
       "    <tr>\n",
       "      <th>2017-04-13 09:30:00</th>\n",
       "      <td>16</td>\n",
       "    </tr>\n",
       "    <tr>\n",
       "      <th>2017-05-18 11:00:00</th>\n",
       "      <td>14</td>\n",
       "    </tr>\n",
       "    <tr>\n",
       "      <th>2017-12-13 14:40:00</th>\n",
       "      <td>14</td>\n",
       "    </tr>\n",
       "    <tr>\n",
       "      <th>2014-12-19 10:00:00</th>\n",
       "      <td>14</td>\n",
       "    </tr>\n",
       "    <tr>\n",
       "      <th>2014-12-17 10:30:00</th>\n",
       "      <td>13</td>\n",
       "    </tr>\n",
       "    <tr>\n",
       "      <th>2015-12-02 09:30:00</th>\n",
       "      <td>12</td>\n",
       "    </tr>\n",
       "    <tr>\n",
       "      <th>2013-12-18 10:30:00</th>\n",
       "      <td>12</td>\n",
       "    </tr>\n",
       "    <tr>\n",
       "      <th>2015-07-09 08:30:00</th>\n",
       "      <td>12</td>\n",
       "    </tr>\n",
       "    <tr>\n",
       "      <th>2017-10-19 09:00:00</th>\n",
       "      <td>12</td>\n",
       "    </tr>\n",
       "    <tr>\n",
       "      <th>2016-11-29 11:35:00</th>\n",
       "      <td>11</td>\n",
       "    </tr>\n",
       "    <tr>\n",
       "      <th>2015-09-30 08:30:00</th>\n",
       "      <td>11</td>\n",
       "    </tr>\n",
       "    <tr>\n",
       "      <th>2015-12-07 13:10:00</th>\n",
       "      <td>10</td>\n",
       "    </tr>\n",
       "    <tr>\n",
       "      <th>2012-12-20 10:30:00</th>\n",
       "      <td>10</td>\n",
       "    </tr>\n",
       "    <tr>\n",
       "      <th>2013-11-06 10:30:00</th>\n",
       "      <td>10</td>\n",
       "    </tr>\n",
       "    <tr>\n",
       "      <th>2015-07-08 08:30:00</th>\n",
       "      <td>10</td>\n",
       "    </tr>\n",
       "    <tr>\n",
       "      <th>2013-12-12 10:30:00</th>\n",
       "      <td>10</td>\n",
       "    </tr>\n",
       "    <tr>\n",
       "      <th>2014-11-12 10:30:00</th>\n",
       "      <td>9</td>\n",
       "    </tr>\n",
       "    <tr>\n",
       "      <th>2017-11-23 10:30:00</th>\n",
       "      <td>9</td>\n",
       "    </tr>\n",
       "    <tr>\n",
       "      <th>2013-12-16 14:00:00</th>\n",
       "      <td>9</td>\n",
       "    </tr>\n",
       "    <tr>\n",
       "      <th>2017-12-07 10:30:00</th>\n",
       "      <td>9</td>\n",
       "    </tr>\n",
       "    <tr>\n",
       "      <th>2012-07-12 09:30:00</th>\n",
       "      <td>9</td>\n",
       "    </tr>\n",
       "    <tr>\n",
       "      <th>2013-10-02 09:30:00</th>\n",
       "      <td>9</td>\n",
       "    </tr>\n",
       "    <tr>\n",
       "      <th>2013-06-19 09:30:00</th>\n",
       "      <td>9</td>\n",
       "    </tr>\n",
       "    <tr>\n",
       "      <th>2013-07-03 09:30:00</th>\n",
       "      <td>9</td>\n",
       "    </tr>\n",
       "    <tr>\n",
       "      <th>2017-03-29 09:30:00</th>\n",
       "      <td>9</td>\n",
       "    </tr>\n",
       "    <tr>\n",
       "      <th>2013-05-30 09:30:00</th>\n",
       "      <td>9</td>\n",
       "    </tr>\n",
       "    <tr>\n",
       "      <th>2013-10-25 09:00:00</th>\n",
       "      <td>9</td>\n",
       "    </tr>\n",
       "    <tr>\n",
       "      <th>2013-07-11 09:30:00</th>\n",
       "      <td>9</td>\n",
       "    </tr>\n",
       "    <tr>\n",
       "      <th>2013-07-10 09:30:00</th>\n",
       "      <td>8</td>\n",
       "    </tr>\n",
       "    <tr>\n",
       "      <th>2017-07-13 09:00:00</th>\n",
       "      <td>8</td>\n",
       "    </tr>\n",
       "    <tr>\n",
       "      <th>2016-12-15 10:00:00</th>\n",
       "      <td>8</td>\n",
       "    </tr>\n",
       "    <tr>\n",
       "      <th>2017-03-30 09:00:00</th>\n",
       "      <td>8</td>\n",
       "    </tr>\n",
       "    <tr>\n",
       "      <th>2014-10-08 09:40:00</th>\n",
       "      <td>8</td>\n",
       "    </tr>\n",
       "    <tr>\n",
       "      <th>2014-12-22 12:00:00</th>\n",
       "      <td>8</td>\n",
       "    </tr>\n",
       "    <tr>\n",
       "      <th>2017-10-25 15:20:00</th>\n",
       "      <td>8</td>\n",
       "    </tr>\n",
       "    <tr>\n",
       "      <th>2015-12-16 09:30:00</th>\n",
       "      <td>8</td>\n",
       "    </tr>\n",
       "    <tr>\n",
       "      <th>2016-12-16 10:00:00</th>\n",
       "      <td>8</td>\n",
       "    </tr>\n",
       "    <tr>\n",
       "      <th>2017-12-06 10:30:00</th>\n",
       "      <td>8</td>\n",
       "    </tr>\n",
       "    <tr>\n",
       "      <th>2013-04-24 09:30:00</th>\n",
       "      <td>8</td>\n",
       "    </tr>\n",
       "    <tr>\n",
       "      <th>2017-06-28 15:30:00</th>\n",
       "      <td>8</td>\n",
       "    </tr>\n",
       "    <tr>\n",
       "      <th>2013-06-26 09:30:00</th>\n",
       "      <td>7</td>\n",
       "    </tr>\n",
       "    <tr>\n",
       "      <th>2012-04-30 11:00:00</th>\n",
       "      <td>7</td>\n",
       "    </tr>\n",
       "    <tr>\n",
       "      <th>2017-02-02 12:00:00</th>\n",
       "      <td>7</td>\n",
       "    </tr>\n",
       "    <tr>\n",
       "      <th>2012-07-05 09:30:00</th>\n",
       "      <td>7</td>\n",
       "    </tr>\n",
       "    <tr>\n",
       "      <th>2014-06-11 08:30:00</th>\n",
       "      <td>7</td>\n",
       "    </tr>\n",
       "    <tr>\n",
       "      <th>2017-11-15 10:30:00</th>\n",
       "      <td>7</td>\n",
       "    </tr>\n",
       "    <tr>\n",
       "      <th>2013-07-11 11:30:00</th>\n",
       "      <td>7</td>\n",
       "    </tr>\n",
       "    <tr>\n",
       "      <th>2013-12-17 10:30:00</th>\n",
       "      <td>7</td>\n",
       "    </tr>\n",
       "  </tbody>\n",
       "</table>\n",
       "</div>"
      ],
      "text/plain": [
       "                     datetime\n",
       "2012-01-18 11:00:00        41\n",
       "2015-12-01 14:35:00        17\n",
       "2017-04-13 09:30:00        16\n",
       "2017-05-18 11:00:00        14\n",
       "2017-12-13 14:40:00        14\n",
       "2014-12-19 10:00:00        14\n",
       "2014-12-17 10:30:00        13\n",
       "2015-12-02 09:30:00        12\n",
       "2013-12-18 10:30:00        12\n",
       "2015-07-09 08:30:00        12\n",
       "2017-10-19 09:00:00        12\n",
       "2016-11-29 11:35:00        11\n",
       "2015-09-30 08:30:00        11\n",
       "2015-12-07 13:10:00        10\n",
       "2012-12-20 10:30:00        10\n",
       "2013-11-06 10:30:00        10\n",
       "2015-07-08 08:30:00        10\n",
       "2013-12-12 10:30:00        10\n",
       "2014-11-12 10:30:00         9\n",
       "2017-11-23 10:30:00         9\n",
       "2013-12-16 14:00:00         9\n",
       "2017-12-07 10:30:00         9\n",
       "2012-07-12 09:30:00         9\n",
       "2013-10-02 09:30:00         9\n",
       "2013-06-19 09:30:00         9\n",
       "2013-07-03 09:30:00         9\n",
       "2017-03-29 09:30:00         9\n",
       "2013-05-30 09:30:00         9\n",
       "2013-10-25 09:00:00         9\n",
       "2013-07-11 09:30:00         9\n",
       "2013-07-10 09:30:00         8\n",
       "2017-07-13 09:00:00         8\n",
       "2016-12-15 10:00:00         8\n",
       "2017-03-30 09:00:00         8\n",
       "2014-10-08 09:40:00         8\n",
       "2014-12-22 12:00:00         8\n",
       "2017-10-25 15:20:00         8\n",
       "2015-12-16 09:30:00         8\n",
       "2016-12-16 10:00:00         8\n",
       "2017-12-06 10:30:00         8\n",
       "2013-04-24 09:30:00         8\n",
       "2017-06-28 15:30:00         8\n",
       "2013-06-26 09:30:00         7\n",
       "2012-04-30 11:00:00         7\n",
       "2017-02-02 12:00:00         7\n",
       "2012-07-05 09:30:00         7\n",
       "2014-06-11 08:30:00         7\n",
       "2017-11-15 10:30:00         7\n",
       "2013-07-11 11:30:00         7\n",
       "2013-12-17 10:30:00         7"
      ]
     },
     "metadata": {},
     "output_type": "display_data"
    },
    {
     "data": {
      "text/markdown": [
       "----------"
      ],
      "text/plain": [
       "<IPython.core.display.Markdown object>"
      ]
     },
     "metadata": {},
     "output_type": "display_data"
    },
    {
     "data": {
      "text/markdown": [
       "# outcome"
      ],
      "text/plain": [
       "<IPython.core.display.Markdown object>"
      ]
     },
     "metadata": {},
     "output_type": "display_data"
    },
    {
     "data": {
      "text/markdown": [
       "###  Stats:"
      ],
      "text/plain": [
       "<IPython.core.display.Markdown object>"
      ]
     },
     "metadata": {},
     "output_type": "display_data"
    },
    {
     "data": {
      "text/html": [
       "<div>\n",
       "<style>\n",
       "    .dataframe thead tr:only-child th {\n",
       "        text-align: right;\n",
       "    }\n",
       "\n",
       "    .dataframe thead th {\n",
       "        text-align: left;\n",
       "    }\n",
       "\n",
       "    .dataframe tbody tr th {\n",
       "        vertical-align: top;\n",
       "    }\n",
       "</style>\n",
       "<table border=\"1\" class=\"dataframe\">\n",
       "  <thead>\n",
       "    <tr style=\"text-align: right;\">\n",
       "      <th></th>\n",
       "      <th>outcome</th>\n",
       "    </tr>\n",
       "  </thead>\n",
       "  <tbody>\n",
       "    <tr>\n",
       "      <th>count</th>\n",
       "      <td>11487</td>\n",
       "    </tr>\n",
       "    <tr>\n",
       "      <th>unique</th>\n",
       "      <td>3</td>\n",
       "    </tr>\n",
       "    <tr>\n",
       "      <th>top</th>\n",
       "      <td>Carried</td>\n",
       "    </tr>\n",
       "    <tr>\n",
       "      <th>freq</th>\n",
       "      <td>6294</td>\n",
       "    </tr>\n",
       "    <tr>\n",
       "      <th>missing</th>\n",
       "      <td>0</td>\n",
       "    </tr>\n",
       "  </tbody>\n",
       "</table>\n",
       "</div>"
      ],
      "text/plain": [
       "         outcome\n",
       "count      11487\n",
       "unique         3\n",
       "top      Carried\n",
       "freq        6294\n",
       "missing        0"
      ]
     },
     "metadata": {},
     "output_type": "display_data"
    },
    {
     "data": {
      "text/markdown": [
       "###  Top N:"
      ],
      "text/plain": [
       "<IPython.core.display.Markdown object>"
      ]
     },
     "metadata": {},
     "output_type": "display_data"
    },
    {
     "data": {
      "text/html": [
       "<div>\n",
       "<style>\n",
       "    .dataframe thead tr:only-child th {\n",
       "        text-align: right;\n",
       "    }\n",
       "\n",
       "    .dataframe thead th {\n",
       "        text-align: left;\n",
       "    }\n",
       "\n",
       "    .dataframe tbody tr th {\n",
       "        vertical-align: top;\n",
       "    }\n",
       "</style>\n",
       "<table border=\"1\" class=\"dataframe\">\n",
       "  <thead>\n",
       "    <tr style=\"text-align: right;\">\n",
       "      <th></th>\n",
       "      <th>outcome</th>\n",
       "    </tr>\n",
       "  </thead>\n",
       "  <tbody>\n",
       "    <tr>\n",
       "      <th>Carried</th>\n",
       "      <td>6294</td>\n",
       "    </tr>\n",
       "    <tr>\n",
       "      <th>Lost</th>\n",
       "      <td>3192</td>\n",
       "    </tr>\n",
       "    <tr>\n",
       "      <th>_</th>\n",
       "      <td>2001</td>\n",
       "    </tr>\n",
       "  </tbody>\n",
       "</table>\n",
       "</div>"
      ],
      "text/plain": [
       "         outcome\n",
       "Carried     6294\n",
       "Lost        3192\n",
       "_           2001"
      ]
     },
     "metadata": {},
     "output_type": "display_data"
    },
    {
     "data": {
      "text/markdown": [
       "----------"
      ],
      "text/plain": [
       "<IPython.core.display.Markdown object>"
      ]
     },
     "metadata": {},
     "output_type": "display_data"
    },
    {
     "data": {
      "text/markdown": [
       "# tellers"
      ],
      "text/plain": [
       "<IPython.core.display.Markdown object>"
      ]
     },
     "metadata": {},
     "output_type": "display_data"
    },
    {
     "data": {
      "text/markdown": [
       "###  Stats:"
      ],
      "text/plain": [
       "<IPython.core.display.Markdown object>"
      ]
     },
     "metadata": {},
     "output_type": "display_data"
    },
    {
     "data": {
      "text/html": [
       "<div>\n",
       "<style>\n",
       "    .dataframe thead tr:only-child th {\n",
       "        text-align: right;\n",
       "    }\n",
       "\n",
       "    .dataframe thead th {\n",
       "        text-align: left;\n",
       "    }\n",
       "\n",
       "    .dataframe tbody tr th {\n",
       "        vertical-align: top;\n",
       "    }\n",
       "</style>\n",
       "<table border=\"1\" class=\"dataframe\">\n",
       "  <thead>\n",
       "    <tr style=\"text-align: right;\">\n",
       "      <th></th>\n",
       "      <th>tellers</th>\n",
       "    </tr>\n",
       "  </thead>\n",
       "  <tbody>\n",
       "    <tr>\n",
       "      <th>count</th>\n",
       "      <td>11487</td>\n",
       "    </tr>\n",
       "    <tr>\n",
       "      <th>unique</th>\n",
       "      <td>5730</td>\n",
       "    </tr>\n",
       "    <tr>\n",
       "      <th>top</th>\n",
       "      <td></td>\n",
       "    </tr>\n",
       "    <tr>\n",
       "      <th>freq</th>\n",
       "      <td>1301</td>\n",
       "    </tr>\n",
       "    <tr>\n",
       "      <th>missing</th>\n",
       "      <td>1301</td>\n",
       "    </tr>\n",
       "  </tbody>\n",
       "</table>\n",
       "</div>"
      ],
      "text/plain": [
       "        tellers\n",
       "count     11487\n",
       "unique     5730\n",
       "top            \n",
       "freq       1301\n",
       "missing    1301"
      ]
     },
     "metadata": {},
     "output_type": "display_data"
    },
    {
     "data": {
      "text/markdown": [
       "###  Top N:"
      ],
      "text/plain": [
       "<IPython.core.display.Markdown object>"
      ]
     },
     "metadata": {},
     "output_type": "display_data"
    },
    {
     "data": {
      "text/html": [
       "<div>\n",
       "<style>\n",
       "    .dataframe thead tr:only-child th {\n",
       "        text-align: right;\n",
       "    }\n",
       "\n",
       "    .dataframe thead th {\n",
       "        text-align: left;\n",
       "    }\n",
       "\n",
       "    .dataframe tbody tr th {\n",
       "        vertical-align: top;\n",
       "    }\n",
       "</style>\n",
       "<table border=\"1\" class=\"dataframe\">\n",
       "  <thead>\n",
       "    <tr style=\"text-align: right;\">\n",
       "      <th></th>\n",
       "      <th>tellers</th>\n",
       "    </tr>\n",
       "  </thead>\n",
       "  <tbody>\n",
       "    <tr>\n",
       "      <th></th>\n",
       "      <td>1301</td>\n",
       "    </tr>\n",
       "    <tr>\n",
       "      <th>Tellers:—Tá: Deputies Little and Smith; Níl: Deputies Doyle and Bennett.</th>\n",
       "      <td>196</td>\n",
       "    </tr>\n",
       "    <tr>\n",
       "      <th>Tellers: Tá, Deputies Kelly and B. Desmond; Níl, Deputies Lalor and Browne.</th>\n",
       "      <td>105</td>\n",
       "    </tr>\n",
       "    <tr>\n",
       "      <th>Tellers: Tá, Senators Ned O'Sullivan and Diarmuid Wilson; Níl, Senators Paul Coghlan and Aideen Hayden.</th>\n",
       "      <td>90</td>\n",
       "    </tr>\n",
       "    <tr>\n",
       "      <th>Tellers: Tá, Senators Paul Coghlan and Aideen Hayden; Níl, Senators Ned O'Sullivan and Diarmuid Wilson.</th>\n",
       "      <td>85</td>\n",
       "    </tr>\n",
       "    <tr>\n",
       "      <th>Tellers:—Tá: Deputies Little and Traynor; Níl: Deputies Doyle and Bennett.</th>\n",
       "      <td>76</td>\n",
       "    </tr>\n",
       "    <tr>\n",
       "      <th>Tellers: Tá, Deputies Kitt and Kelleher; Níl, Deputies Kehoe and Stagg.</th>\n",
       "      <td>73</td>\n",
       "    </tr>\n",
       "    <tr>\n",
       "      <th>Tellers: Tá, Deputies J. Higgins and B. Fitzgerald; Níl, Deputies D. Ahern and Callely.</th>\n",
       "      <td>73</td>\n",
       "    </tr>\n",
       "    <tr>\n",
       "      <th>Tellers: Tá, Deputies Emmet Stagg and Paul Kehoe; Níl, Deputies Aengus Ó Snodaigh and Seán Ó Fearghaíl.</th>\n",
       "      <td>67</td>\n",
       "    </tr>\n",
       "    <tr>\n",
       "      <th>Tellers: Tá, Deputies Lalor and Browne; Níl, Deputies Kelly and B. Desmond.</th>\n",
       "      <td>53</td>\n",
       "    </tr>\n",
       "    <tr>\n",
       "      <th>Tellers: Tá, Deputies Hanafin and Kelleher; Níl, Deputies Durkan and Stagg.</th>\n",
       "      <td>44</td>\n",
       "    </tr>\n",
       "    <tr>\n",
       "      <th>Tellers: Tá, Senators Paschal Mooney and Diarmuid Wilson; Níl, Senators Paul Coghlan and Aideen Hayden.</th>\n",
       "      <td>41</td>\n",
       "    </tr>\n",
       "    <tr>\n",
       "      <th>Tellers: Tá, Deputies F. O'Brien and Taylor; Níl, Deputies V. Brady and Browne.</th>\n",
       "      <td>39</td>\n",
       "    </tr>\n",
       "    <tr>\n",
       "      <th>Tellers:—Tá: Deputies Duggan and P.S. Doyle; Níl: Deputies G. Boland and Allen.</th>\n",
       "      <td>32</td>\n",
       "    </tr>\n",
       "    <tr>\n",
       "      <th>Tellers: Tá, Deputies Duggan and P.S. Doyle; Níl, Deputies G. Boland and Allen.</th>\n",
       "      <td>30</td>\n",
       "    </tr>\n",
       "    <tr>\n",
       "      <th>Tellers: Tá, Senators Paul Coghlan and Susan O’Keeffe; Níl, Senators Ned O’Sullivan and Diarmuid Wilson.</th>\n",
       "      <td>29</td>\n",
       "    </tr>\n",
       "    <tr>\n",
       "      <th>Tellers: Tá, Deputies V. Brady and Clohessy; Níl, Deputies J. Higgins and Howlin.</th>\n",
       "      <td>29</td>\n",
       "    </tr>\n",
       "    <tr>\n",
       "      <th>Tellers: Tá, Deputies Paul Kehoe and Emmet Stagg; Níl, Deputies Seán Ó Fearghaíl and Aengus Ó Snodaigh.</th>\n",
       "      <td>28</td>\n",
       "    </tr>\n",
       "    <tr>\n",
       "      <th>Tellers: Tá, Deputies D. Ahern and Callely; Níl, Deputies J. Higgins and B. Fitzgerald.</th>\n",
       "      <td>28</td>\n",
       "    </tr>\n",
       "    <tr>\n",
       "      <th>Tellers: Tá, Deputies V. Brady and Clohessy; Níl, Deputies J. Higgins and Boylan.</th>\n",
       "      <td>28</td>\n",
       "    </tr>\n",
       "    <tr>\n",
       "      <th>Tellers: Tá, Deputies Barrett(Dún Laoghaire) and Taylor; Níl, Deputies V. Brady and Barrett (Dublin North-West).\\n</th>\n",
       "      <td>27</td>\n",
       "    </tr>\n",
       "    <tr>\n",
       "      <th>Tellers: Tá, Senators Sanfey and Halligan; Níl, Senators W. Ryan and Garrett.</th>\n",
       "      <td>27</td>\n",
       "    </tr>\n",
       "    <tr>\n",
       "      <th>Tellers: Tá, Senators Paul Coghlan and Aideen Hayden; Níl, Senators Paschal Mooney and Diarmuid Wilson.</th>\n",
       "      <td>26</td>\n",
       "    </tr>\n",
       "    <tr>\n",
       "      <th>Tellers: Tá, Deputies Moore and Briscoe; Níl, Deputies L'Estrange and B. Desmond.</th>\n",
       "      <td>26</td>\n",
       "    </tr>\n",
       "    <tr>\n",
       "      <th>Tellers: Tá, Deputies Dempsey and Ferris; Níl, Deputies E. Kenny and Boylan.</th>\n",
       "      <td>26</td>\n",
       "    </tr>\n",
       "    <tr>\n",
       "      <th>Tellers: Tá, Deputies Barrett(Dún Laoghaire) and Taylor; Níl, Deputies V. Brady and Browne.</th>\n",
       "      <td>24</td>\n",
       "    </tr>\n",
       "    <tr>\n",
       "      <th>Tellers: Tá, Senators David Cullinane and Trevor Ó Clochartaigh; Níl, Senators Paul Coghlan and Aideen Hayden.</th>\n",
       "      <td>23</td>\n",
       "    </tr>\n",
       "    <tr>\n",
       "      <th>Tellers: Tá, Senators Ned O’Sullivan and Diarmuid Wilson; Níl, Senators Paul Coghlan and Susan O’Keeffe.</th>\n",
       "      <td>22</td>\n",
       "    </tr>\n",
       "    <tr>\n",
       "      <th>Tellers: Tá, Senators Ned O'Sullivan and Diarmuid Wilson; Níl, Senators Paul Coghlan and Susan O'Keeffe.</th>\n",
       "      <td>22</td>\n",
       "    </tr>\n",
       "    <tr>\n",
       "      <th>Tellers: Tá, Deputies Kitt and Kelleher; Níl, Deputies Neville and Stagg.</th>\n",
       "      <td>21</td>\n",
       "    </tr>\n",
       "    <tr>\n",
       "      <th>Tellers: Tá, Deputies Dempsey and Clohessy; Níl, Deputies Flanagan and Howlin.</th>\n",
       "      <td>21</td>\n",
       "    </tr>\n",
       "    <tr>\n",
       "      <th>Tellers: Tá, Deputies J. Higgins and Boylan; Níl, Deputies V. Brady and Clohessy.</th>\n",
       "      <td>20</td>\n",
       "    </tr>\n",
       "    <tr>\n",
       "      <th>Tellers:—Tá: Deputies Doyle and Bennett; Níl: Deputies Little and Smith.</th>\n",
       "      <td>20</td>\n",
       "    </tr>\n",
       "    <tr>\n",
       "      <th>Tellers: Tá, Senators Camillus Glynn and Diarmuid Wilson; Níl, Senators Paudie Coffey and Maurice Cummins.</th>\n",
       "      <td>20</td>\n",
       "    </tr>\n",
       "    <tr>\n",
       "      <th>Tellers: Tá, Deputies Kitt and Kelleher; Níl, Deputies Stagg and Kehoe.</th>\n",
       "      <td>20</td>\n",
       "    </tr>\n",
       "    <tr>\n",
       "      <th>Tellers:—Tá: Deputies G. Boland and Allen; Níl: Deputies Duggan and P.S. Doyle.</th>\n",
       "      <td>20</td>\n",
       "    </tr>\n",
       "    <tr>\n",
       "      <th>Tellers: Tá, Deputies V. Brady and Clohessy; Níl, Deputies Howlin and Ferris.</th>\n",
       "      <td>19</td>\n",
       "    </tr>\n",
       "    <tr>\n",
       "      <th>Tellers:—Tá: Deputies Little and Smith; Níl: Deputies P.S. Doyle and Bennett.</th>\n",
       "      <td>19</td>\n",
       "    </tr>\n",
       "    <tr>\n",
       "      <th>Tellers:—Tá: Deputies Doyle and Bennett; Níl: Deputies Little and Traynor.</th>\n",
       "      <td>19</td>\n",
       "    </tr>\n",
       "    <tr>\n",
       "      <th>Tellers: Tá, Deputies V. Brady and Clohessy; Níl, Deputies Flanagan and Boylan.</th>\n",
       "      <td>18</td>\n",
       "    </tr>\n",
       "    <tr>\n",
       "      <th>Tellers: Tá, Senators Paul Coghlan and Aideen Hayden; Níl, Senators David Cullinane and Trevor Ó Clochartaigh.</th>\n",
       "      <td>18</td>\n",
       "    </tr>\n",
       "    <tr>\n",
       "      <th>Tellers: Tá, Deputies S. Brennan and Power; Níl, Deputies Barrett and Stagg.</th>\n",
       "      <td>18</td>\n",
       "    </tr>\n",
       "    <tr>\n",
       "      <th>Tellers: Tá, Deputies Kelly and B. Desmond; Níl, Deputies Lalor and Healy.</th>\n",
       "      <td>17</td>\n",
       "    </tr>\n",
       "    <tr>\n",
       "      <th>Tellers: Tá, Deputies Barrett(Dún Laoghaire) and Taylor; Níl, Deputies B. Ahern and Briscoe.</th>\n",
       "      <td>17</td>\n",
       "    </tr>\n",
       "    <tr>\n",
       "      <th>Tellers: Tá, Deputies P. Lalor and Briscoe; Níl, Deputies Creed and B. Desmond.</th>\n",
       "      <td>17</td>\n",
       "    </tr>\n",
       "    <tr>\n",
       "      <th>Tellers: Tá, Senators Camillus Glynn and Diarmuid Wilson; Níl, Senators Maurice Cummins and Liam Twomey.</th>\n",
       "      <td>17</td>\n",
       "    </tr>\n",
       "    <tr>\n",
       "      <th>Tellers: Tá, Deputies Begley and B. Desmond; Níl, Deputies Lalor and Browne.</th>\n",
       "      <td>17</td>\n",
       "    </tr>\n",
       "    <tr>\n",
       "      <th>Tellers: Tá, Deputies Barrett (Dún Laoghaire) and Taylor; Níl, Deputies B. Ahern and Briscoe.</th>\n",
       "      <td>16</td>\n",
       "    </tr>\n",
       "    <tr>\n",
       "      <th>Tellers: Tá, Deputies V. Brady and D. Ahern; Níl, Deputies J. Higgins and Boylan.</th>\n",
       "      <td>16</td>\n",
       "    </tr>\n",
       "    <tr>\n",
       "      <th>Tellers:—Tá: Deputies Smith and S. Brady; Níl: Deputies Doyle and Bennett.</th>\n",
       "      <td>16</td>\n",
       "    </tr>\n",
       "  </tbody>\n",
       "</table>\n",
       "</div>"
      ],
      "text/plain": [
       "                                                    tellers\n",
       "                                                       1301\n",
       "Tellers:—Tá: Deputies Little and Smith; Níl: De...      196\n",
       "Tellers: Tá, Deputies Kelly and B. Desmond; Níl...      105\n",
       "Tellers: Tá, Senators Ned O'Sullivan and Diarmu...       90\n",
       "Tellers: Tá, Senators Paul Coghlan and Aideen H...       85\n",
       "Tellers:—Tá: Deputies Little and Traynor; Níl: ...       76\n",
       "Tellers: Tá, Deputies Kitt and Kelleher; Níl, D...       73\n",
       "Tellers: Tá, Deputies J. Higgins and B. Fitzger...       73\n",
       "Tellers: Tá, Deputies Emmet Stagg and Paul Keho...       67\n",
       "Tellers: Tá, Deputies Lalor and Browne; Níl, De...       53\n",
       "Tellers: Tá, Deputies Hanafin and Kelleher; Níl...       44\n",
       "Tellers: Tá, Senators Paschal Mooney and Diarmu...       41\n",
       "Tellers: Tá, Deputies F. O'Brien and Taylor; Ní...       39\n",
       "Tellers:—Tá: Deputies Duggan and P.S. Doyle; Ní...       32\n",
       "Tellers: Tá, Deputies Duggan and P.S. Doyle; Ní...       30\n",
       "Tellers: Tá, Senators Paul Coghlan and Susan O’...       29\n",
       "Tellers: Tá, Deputies V. Brady and Clohessy; Ní...       29\n",
       "Tellers: Tá, Deputies Paul Kehoe and Emmet Stag...       28\n",
       "Tellers: Tá, Deputies D. Ahern and Callely; Níl...       28\n",
       "Tellers: Tá, Deputies V. Brady and Clohessy; Ní...       28\n",
       "Tellers: Tá, Deputies Barrett(Dún Laoghaire) an...       27\n",
       "Tellers: Tá, Senators Sanfey and Halligan; Níl,...       27\n",
       "Tellers: Tá, Senators Paul Coghlan and Aideen H...       26\n",
       "Tellers: Tá, Deputies Moore and Briscoe; Níl, D...       26\n",
       "Tellers: Tá, Deputies Dempsey and Ferris; Níl, ...       26\n",
       "Tellers: Tá, Deputies Barrett(Dún Laoghaire) an...       24\n",
       "Tellers: Tá, Senators David Cullinane and Trevo...       23\n",
       "Tellers: Tá, Senators Ned O’Sullivan and Diarmu...       22\n",
       "Tellers: Tá, Senators Ned O'Sullivan and Diarmu...       22\n",
       "Tellers: Tá, Deputies Kitt and Kelleher; Níl, D...       21\n",
       "Tellers: Tá, Deputies Dempsey and Clohessy; Níl...       21\n",
       "Tellers: Tá, Deputies J. Higgins and Boylan; Ní...       20\n",
       "Tellers:—Tá: Deputies Doyle and Bennett; Níl: D...       20\n",
       "Tellers: Tá, Senators Camillus Glynn and Diarmu...       20\n",
       "Tellers: Tá, Deputies Kitt and Kelleher; Níl, D...       20\n",
       "Tellers:—Tá: Deputies G. Boland and Allen; Níl:...       20\n",
       "Tellers: Tá, Deputies V. Brady and Clohessy; Ní...       19\n",
       "Tellers:—Tá: Deputies Little and Smith; Níl: De...       19\n",
       "Tellers:—Tá: Deputies Doyle and Bennett; Níl: D...       19\n",
       "Tellers: Tá, Deputies V. Brady and Clohessy; Ní...       18\n",
       "Tellers: Tá, Senators Paul Coghlan and Aideen H...       18\n",
       "Tellers: Tá, Deputies S. Brennan and Power; Níl...       18\n",
       "Tellers: Tá, Deputies Kelly and B. Desmond; Níl...       17\n",
       "Tellers: Tá, Deputies Barrett(Dún Laoghaire) an...       17\n",
       "Tellers: Tá, Deputies P. Lalor and Briscoe; Níl...       17\n",
       "Tellers: Tá, Senators Camillus Glynn and Diarmu...       17\n",
       "Tellers: Tá, Deputies Begley and B. Desmond; Ní...       17\n",
       "Tellers: Tá, Deputies Barrett (Dún Laoghaire) a...       16\n",
       "Tellers: Tá, Deputies V. Brady and D. Ahern; Ní...       16\n",
       "Tellers:—Tá: Deputies Smith and S. Brady; Níl: ...       16"
      ]
     },
     "metadata": {},
     "output_type": "display_data"
    },
    {
     "data": {
      "text/markdown": [
       "----------"
      ],
      "text/plain": [
       "<IPython.core.display.Markdown object>"
      ]
     },
     "metadata": {},
     "output_type": "display_data"
    },
    {
     "data": {
      "text/markdown": [
       "# uri"
      ],
      "text/plain": [
       "<IPython.core.display.Markdown object>"
      ]
     },
     "metadata": {},
     "output_type": "display_data"
    },
    {
     "data": {
      "text/markdown": [
       "###  Stats:"
      ],
      "text/plain": [
       "<IPython.core.display.Markdown object>"
      ]
     },
     "metadata": {},
     "output_type": "display_data"
    },
    {
     "data": {
      "text/html": [
       "<div>\n",
       "<style>\n",
       "    .dataframe thead tr:only-child th {\n",
       "        text-align: right;\n",
       "    }\n",
       "\n",
       "    .dataframe thead th {\n",
       "        text-align: left;\n",
       "    }\n",
       "\n",
       "    .dataframe tbody tr th {\n",
       "        vertical-align: top;\n",
       "    }\n",
       "</style>\n",
       "<table border=\"1\" class=\"dataframe\">\n",
       "  <thead>\n",
       "    <tr style=\"text-align: right;\">\n",
       "      <th></th>\n",
       "      <th>uri</th>\n",
       "    </tr>\n",
       "  </thead>\n",
       "  <tbody>\n",
       "    <tr>\n",
       "      <th>count</th>\n",
       "      <td>11487</td>\n",
       "    </tr>\n",
       "    <tr>\n",
       "      <th>unique</th>\n",
       "      <td>11483</td>\n",
       "    </tr>\n",
       "    <tr>\n",
       "      <th>top</th>\n",
       "      <td>/ie/oireachtas/division/house/seanad/1934/1936...</td>\n",
       "    </tr>\n",
       "    <tr>\n",
       "      <th>freq</th>\n",
       "      <td>2</td>\n",
       "    </tr>\n",
       "    <tr>\n",
       "      <th>missing</th>\n",
       "      <td>0</td>\n",
       "    </tr>\n",
       "  </tbody>\n",
       "</table>\n",
       "</div>"
      ],
      "text/plain": [
       "                                                       uri\n",
       "count                                                11487\n",
       "unique                                               11483\n",
       "top      /ie/oireachtas/division/house/seanad/1934/1936...\n",
       "freq                                                     2\n",
       "missing                                                  0"
      ]
     },
     "metadata": {},
     "output_type": "display_data"
    },
    {
     "data": {
      "text/markdown": [
       "###  Top N:"
      ],
      "text/plain": [
       "<IPython.core.display.Markdown object>"
      ]
     },
     "metadata": {},
     "output_type": "display_data"
    },
    {
     "data": {
      "text/html": [
       "<div>\n",
       "<style>\n",
       "    .dataframe thead tr:only-child th {\n",
       "        text-align: right;\n",
       "    }\n",
       "\n",
       "    .dataframe thead th {\n",
       "        text-align: left;\n",
       "    }\n",
       "\n",
       "    .dataframe tbody tr th {\n",
       "        vertical-align: top;\n",
       "    }\n",
       "</style>\n",
       "<table border=\"1\" class=\"dataframe\">\n",
       "  <thead>\n",
       "    <tr style=\"text-align: right;\">\n",
       "      <th></th>\n",
       "      <th>uri</th>\n",
       "    </tr>\n",
       "  </thead>\n",
       "  <tbody>\n",
       "    <tr>\n",
       "      <th>/ie/oireachtas/division/house/seanad/1934/1936-01-01/vote_1</th>\n",
       "      <td>2</td>\n",
       "    </tr>\n",
       "    <tr>\n",
       "      <th>/ie/oireachtas/division/house/seanad/1934/1936-01-01/vote_2</th>\n",
       "      <td>2</td>\n",
       "    </tr>\n",
       "    <tr>\n",
       "      <th>/ie/oireachtas/division/house/seanad/1934/1936-01-01/vote_4</th>\n",
       "      <td>2</td>\n",
       "    </tr>\n",
       "    <tr>\n",
       "      <th>/ie/oireachtas/division/house/seanad/1934/1936-01-01/vote_3</th>\n",
       "      <td>2</td>\n",
       "    </tr>\n",
       "    <tr>\n",
       "      <th>/ie/oireachtas/division/house/dail/10/1941-04-30/vote_1</th>\n",
       "      <td>1</td>\n",
       "    </tr>\n",
       "    <tr>\n",
       "      <th>/ie/oireachtas/division/house/dail/20/1977-02-22/vote_1</th>\n",
       "      <td>1</td>\n",
       "    </tr>\n",
       "    <tr>\n",
       "      <th>/ie/oireachtas/division/house/dail/26/1991-12-10/vote_2</th>\n",
       "      <td>1</td>\n",
       "    </tr>\n",
       "    <tr>\n",
       "      <th>/ie/oireachtas/division/house/dail/8/1935-07-05/vote_18</th>\n",
       "      <td>1</td>\n",
       "    </tr>\n",
       "    <tr>\n",
       "      <th>/ie/oireachtas/division/house/seanad/3/1943-02-04/vote_1</th>\n",
       "      <td>1</td>\n",
       "    </tr>\n",
       "    <tr>\n",
       "      <th>/ie/oireachtas/division/house/dail/27/1996-10-09/vote_3</th>\n",
       "      <td>1</td>\n",
       "    </tr>\n",
       "    <tr>\n",
       "      <th>/ie/oireachtas/division/house/seanad/18/1987-10-21/vote_5</th>\n",
       "      <td>1</td>\n",
       "    </tr>\n",
       "    <tr>\n",
       "      <th>/ie/oireachtas/division/house/seanad/19/1992-10-29/vote_1</th>\n",
       "      <td>1</td>\n",
       "    </tr>\n",
       "    <tr>\n",
       "      <th>/ie/oireachtas/division/house/dail/27/1995-02-08/vote_1</th>\n",
       "      <td>1</td>\n",
       "    </tr>\n",
       "    <tr>\n",
       "      <th>/ie/oireachtas/division/house/dail/6/1929-06-06/vote_6</th>\n",
       "      <td>1</td>\n",
       "    </tr>\n",
       "    <tr>\n",
       "      <th>/ie/oireachtas/division/house/dail/3/1923-07-05/vote_2</th>\n",
       "      <td>1</td>\n",
       "    </tr>\n",
       "    <tr>\n",
       "      <th>/ie/oireachtas/division/house/dail/20/1976-04-28/vote_2</th>\n",
       "      <td>1</td>\n",
       "    </tr>\n",
       "    <tr>\n",
       "      <th>/ie/oireachtas/division/house/dail/22/1981-07-21/vote_5</th>\n",
       "      <td>1</td>\n",
       "    </tr>\n",
       "    <tr>\n",
       "      <th>/ie/oireachtas/division/committee/dail/28/select_committee_on_finance_and_the_public_service/2001-03-06/vote_1</th>\n",
       "      <td>1</td>\n",
       "    </tr>\n",
       "    <tr>\n",
       "      <th>/ie/oireachtas/division/house/dail/7/1932-07-15/vote_1</th>\n",
       "      <td>1</td>\n",
       "    </tr>\n",
       "    <tr>\n",
       "      <th>/ie/oireachtas/division/house/seanad/24/2015-05-14/vote_1</th>\n",
       "      <td>1</td>\n",
       "    </tr>\n",
       "    <tr>\n",
       "      <th>/ie/oireachtas/division/house/seanad/24/2015-05-26/vote_1</th>\n",
       "      <td>1</td>\n",
       "    </tr>\n",
       "    <tr>\n",
       "      <th>/ie/oireachtas/division/house/dail/6/1928-11-16/vote_1</th>\n",
       "      <td>1</td>\n",
       "    </tr>\n",
       "    <tr>\n",
       "      <th>/ie/oireachtas/division/house/dail/26/1990-06-06/vote_1</th>\n",
       "      <td>1</td>\n",
       "    </tr>\n",
       "    <tr>\n",
       "      <th>/ie/oireachtas/division/house/seanad/23/2008-10-01/vote_4</th>\n",
       "      <td>1</td>\n",
       "    </tr>\n",
       "    <tr>\n",
       "      <th>/ie/oireachtas/division/house/dail/10/1941-03-19/vote_1</th>\n",
       "      <td>1</td>\n",
       "    </tr>\n",
       "    <tr>\n",
       "      <th>/ie/oireachtas/division/house/dail/20/1975-07-24/vote_4</th>\n",
       "      <td>1</td>\n",
       "    </tr>\n",
       "    <tr>\n",
       "      <th>/ie/oireachtas/division/house/dail/32/2017-04-13/vote_57</th>\n",
       "      <td>1</td>\n",
       "    </tr>\n",
       "    <tr>\n",
       "      <th>/ie/oireachtas/division/house/dail/31/2013-02-20/vote_3</th>\n",
       "      <td>1</td>\n",
       "    </tr>\n",
       "    <tr>\n",
       "      <th>/ie/oireachtas/division/house/dail/15/1956-06-13/vote_1</th>\n",
       "      <td>1</td>\n",
       "    </tr>\n",
       "    <tr>\n",
       "      <th>/ie/oireachtas/division/house/dail/20/1976-02-18/vote_1</th>\n",
       "      <td>1</td>\n",
       "    </tr>\n",
       "    <tr>\n",
       "      <th>/ie/oireachtas/division/house/seanad/24/2012-05-10/vote_1</th>\n",
       "      <td>1</td>\n",
       "    </tr>\n",
       "    <tr>\n",
       "      <th>/ie/oireachtas/division/house/dail/20/1975-05-22/vote_1</th>\n",
       "      <td>1</td>\n",
       "    </tr>\n",
       "    <tr>\n",
       "      <th>/ie/oireachtas/division/house/seanad/24/2011-12-15/vote_2</th>\n",
       "      <td>1</td>\n",
       "    </tr>\n",
       "    <tr>\n",
       "      <th>/ie/oireachtas/division/house/dail/32/2016-05-25/vote_42</th>\n",
       "      <td>1</td>\n",
       "    </tr>\n",
       "    <tr>\n",
       "      <th>/ie/oireachtas/division/house/seanad/23/2010-01-27/vote_1</th>\n",
       "      <td>1</td>\n",
       "    </tr>\n",
       "    <tr>\n",
       "      <th>/ie/oireachtas/division/house/dail/20/1976-09-09/vote_4</th>\n",
       "      <td>1</td>\n",
       "    </tr>\n",
       "    <tr>\n",
       "      <th>/ie/oireachtas/division/house/dail/32/2017-03-09/vote_36</th>\n",
       "      <td>1</td>\n",
       "    </tr>\n",
       "    <tr>\n",
       "      <th>/ie/oireachtas/division/house/dail/16/1959-11-19/vote_1</th>\n",
       "      <td>1</td>\n",
       "    </tr>\n",
       "    <tr>\n",
       "      <th>/ie/oireachtas/division/house/seanad/23/2007-11-21/vote_1</th>\n",
       "      <td>1</td>\n",
       "    </tr>\n",
       "    <tr>\n",
       "      <th>/ie/oireachtas/division/house/dail/26/1992-02-26/vote_1</th>\n",
       "      <td>1</td>\n",
       "    </tr>\n",
       "    <tr>\n",
       "      <th>/ie/oireachtas/division/house/seanad/24/2014-03-26/vote_4</th>\n",
       "      <td>1</td>\n",
       "    </tr>\n",
       "    <tr>\n",
       "      <th>/ie/oireachtas/division/house/dail/27/1994-05-04/vote_1</th>\n",
       "      <td>1</td>\n",
       "    </tr>\n",
       "    <tr>\n",
       "      <th>/ie/oireachtas/division/house/seanad/24/2014-12-19/vote_3</th>\n",
       "      <td>1</td>\n",
       "    </tr>\n",
       "    <tr>\n",
       "      <th>/ie/oireachtas/division/house/dail/29/2004-03-04/vote_1</th>\n",
       "      <td>1</td>\n",
       "    </tr>\n",
       "    <tr>\n",
       "      <th>/ie/oireachtas/division/house/dail/4/1925-05-15/vote_1</th>\n",
       "      <td>1</td>\n",
       "    </tr>\n",
       "    <tr>\n",
       "      <th>/ie/oireachtas/division/house/dail/18/1967-07-21/vote_11</th>\n",
       "      <td>1</td>\n",
       "    </tr>\n",
       "    <tr>\n",
       "      <th>/ie/oireachtas/division/house/dail/29/2005-04-13/vote_2</th>\n",
       "      <td>1</td>\n",
       "    </tr>\n",
       "    <tr>\n",
       "      <th>/ie/oireachtas/division/house/seanad/11/1966-06-15/vote_2</th>\n",
       "      <td>1</td>\n",
       "    </tr>\n",
       "    <tr>\n",
       "      <th>/ie/oireachtas/division/house/seanad/1934/1935-12-12/vote_3</th>\n",
       "      <td>1</td>\n",
       "    </tr>\n",
       "    <tr>\n",
       "      <th>/ie/oireachtas/division/house/dail/6/1929-07-10/vote_15</th>\n",
       "      <td>1</td>\n",
       "    </tr>\n",
       "  </tbody>\n",
       "</table>\n",
       "</div>"
      ],
      "text/plain": [
       "                                                    uri\n",
       "/ie/oireachtas/division/house/seanad/1934/1936-...    2\n",
       "/ie/oireachtas/division/house/seanad/1934/1936-...    2\n",
       "/ie/oireachtas/division/house/seanad/1934/1936-...    2\n",
       "/ie/oireachtas/division/house/seanad/1934/1936-...    2\n",
       "/ie/oireachtas/division/house/dail/10/1941-04-3...    1\n",
       "/ie/oireachtas/division/house/dail/20/1977-02-2...    1\n",
       "/ie/oireachtas/division/house/dail/26/1991-12-1...    1\n",
       "/ie/oireachtas/division/house/dail/8/1935-07-05...    1\n",
       "/ie/oireachtas/division/house/seanad/3/1943-02-...    1\n",
       "/ie/oireachtas/division/house/dail/27/1996-10-0...    1\n",
       "/ie/oireachtas/division/house/seanad/18/1987-10...    1\n",
       "/ie/oireachtas/division/house/seanad/19/1992-10...    1\n",
       "/ie/oireachtas/division/house/dail/27/1995-02-0...    1\n",
       "/ie/oireachtas/division/house/dail/6/1929-06-06...    1\n",
       "/ie/oireachtas/division/house/dail/3/1923-07-05...    1\n",
       "/ie/oireachtas/division/house/dail/20/1976-04-2...    1\n",
       "/ie/oireachtas/division/house/dail/22/1981-07-2...    1\n",
       "/ie/oireachtas/division/committee/dail/28/selec...    1\n",
       "/ie/oireachtas/division/house/dail/7/1932-07-15...    1\n",
       "/ie/oireachtas/division/house/seanad/24/2015-05...    1\n",
       "/ie/oireachtas/division/house/seanad/24/2015-05...    1\n",
       "/ie/oireachtas/division/house/dail/6/1928-11-16...    1\n",
       "/ie/oireachtas/division/house/dail/26/1990-06-0...    1\n",
       "/ie/oireachtas/division/house/seanad/23/2008-10...    1\n",
       "/ie/oireachtas/division/house/dail/10/1941-03-1...    1\n",
       "/ie/oireachtas/division/house/dail/20/1975-07-2...    1\n",
       "/ie/oireachtas/division/house/dail/32/2017-04-1...    1\n",
       "/ie/oireachtas/division/house/dail/31/2013-02-2...    1\n",
       "/ie/oireachtas/division/house/dail/15/1956-06-1...    1\n",
       "/ie/oireachtas/division/house/dail/20/1976-02-1...    1\n",
       "/ie/oireachtas/division/house/seanad/24/2012-05...    1\n",
       "/ie/oireachtas/division/house/dail/20/1975-05-2...    1\n",
       "/ie/oireachtas/division/house/seanad/24/2011-12...    1\n",
       "/ie/oireachtas/division/house/dail/32/2016-05-2...    1\n",
       "/ie/oireachtas/division/house/seanad/23/2010-01...    1\n",
       "/ie/oireachtas/division/house/dail/20/1976-09-0...    1\n",
       "/ie/oireachtas/division/house/dail/32/2017-03-0...    1\n",
       "/ie/oireachtas/division/house/dail/16/1959-11-1...    1\n",
       "/ie/oireachtas/division/house/seanad/23/2007-11...    1\n",
       "/ie/oireachtas/division/house/dail/26/1992-02-2...    1\n",
       "/ie/oireachtas/division/house/seanad/24/2014-03...    1\n",
       "/ie/oireachtas/division/house/dail/27/1994-05-0...    1\n",
       "/ie/oireachtas/division/house/seanad/24/2014-12...    1\n",
       "/ie/oireachtas/division/house/dail/29/2004-03-0...    1\n",
       "/ie/oireachtas/division/house/dail/4/1925-05-15...    1\n",
       "/ie/oireachtas/division/house/dail/18/1967-07-2...    1\n",
       "/ie/oireachtas/division/house/dail/29/2005-04-1...    1\n",
       "/ie/oireachtas/division/house/seanad/11/1966-06...    1\n",
       "/ie/oireachtas/division/house/seanad/1934/1935-...    1\n",
       "/ie/oireachtas/division/house/dail/6/1929-07-10...    1"
      ]
     },
     "metadata": {},
     "output_type": "display_data"
    },
    {
     "data": {
      "text/markdown": [
       "----------"
      ],
      "text/plain": [
       "<IPython.core.display.Markdown object>"
      ]
     },
     "metadata": {},
     "output_type": "display_data"
    },
    {
     "data": {
      "text/markdown": [
       "# voteId"
      ],
      "text/plain": [
       "<IPython.core.display.Markdown object>"
      ]
     },
     "metadata": {},
     "output_type": "display_data"
    },
    {
     "data": {
      "text/markdown": [
       "###  Stats:"
      ],
      "text/plain": [
       "<IPython.core.display.Markdown object>"
      ]
     },
     "metadata": {},
     "output_type": "display_data"
    },
    {
     "data": {
      "text/html": [
       "<div>\n",
       "<style>\n",
       "    .dataframe thead tr:only-child th {\n",
       "        text-align: right;\n",
       "    }\n",
       "\n",
       "    .dataframe thead th {\n",
       "        text-align: left;\n",
       "    }\n",
       "\n",
       "    .dataframe tbody tr th {\n",
       "        vertical-align: top;\n",
       "    }\n",
       "</style>\n",
       "<table border=\"1\" class=\"dataframe\">\n",
       "  <thead>\n",
       "    <tr style=\"text-align: right;\">\n",
       "      <th></th>\n",
       "      <th>voteId</th>\n",
       "    </tr>\n",
       "  </thead>\n",
       "  <tbody>\n",
       "    <tr>\n",
       "      <th>count</th>\n",
       "      <td>11487</td>\n",
       "    </tr>\n",
       "    <tr>\n",
       "      <th>unique</th>\n",
       "      <td>195</td>\n",
       "    </tr>\n",
       "    <tr>\n",
       "      <th>top</th>\n",
       "      <td>vote_1</td>\n",
       "    </tr>\n",
       "    <tr>\n",
       "      <th>freq</th>\n",
       "      <td>5220</td>\n",
       "    </tr>\n",
       "    <tr>\n",
       "      <th>missing</th>\n",
       "      <td>0</td>\n",
       "    </tr>\n",
       "  </tbody>\n",
       "</table>\n",
       "</div>"
      ],
      "text/plain": [
       "         voteId\n",
       "count     11487\n",
       "unique      195\n",
       "top      vote_1\n",
       "freq       5220\n",
       "missing       0"
      ]
     },
     "metadata": {},
     "output_type": "display_data"
    },
    {
     "data": {
      "text/markdown": [
       "###  Top N:"
      ],
      "text/plain": [
       "<IPython.core.display.Markdown object>"
      ]
     },
     "metadata": {},
     "output_type": "display_data"
    },
    {
     "data": {
      "text/html": [
       "<div>\n",
       "<style>\n",
       "    .dataframe thead tr:only-child th {\n",
       "        text-align: right;\n",
       "    }\n",
       "\n",
       "    .dataframe thead th {\n",
       "        text-align: left;\n",
       "    }\n",
       "\n",
       "    .dataframe tbody tr th {\n",
       "        vertical-align: top;\n",
       "    }\n",
       "</style>\n",
       "<table border=\"1\" class=\"dataframe\">\n",
       "  <thead>\n",
       "    <tr style=\"text-align: right;\">\n",
       "      <th></th>\n",
       "      <th>voteId</th>\n",
       "    </tr>\n",
       "  </thead>\n",
       "  <tbody>\n",
       "    <tr>\n",
       "      <th>vote_1</th>\n",
       "      <td>5220</td>\n",
       "    </tr>\n",
       "    <tr>\n",
       "      <th>vote_2</th>\n",
       "      <td>2631</td>\n",
       "    </tr>\n",
       "    <tr>\n",
       "      <th>vote_3</th>\n",
       "      <td>1372</td>\n",
       "    </tr>\n",
       "    <tr>\n",
       "      <th>vote_4</th>\n",
       "      <td>749</td>\n",
       "    </tr>\n",
       "    <tr>\n",
       "      <th>vote_5</th>\n",
       "      <td>434</td>\n",
       "    </tr>\n",
       "    <tr>\n",
       "      <th>vote_6</th>\n",
       "      <td>268</td>\n",
       "    </tr>\n",
       "    <tr>\n",
       "      <th>vote_7</th>\n",
       "      <td>155</td>\n",
       "    </tr>\n",
       "    <tr>\n",
       "      <th>vote_8</th>\n",
       "      <td>104</td>\n",
       "    </tr>\n",
       "    <tr>\n",
       "      <th>vote_9</th>\n",
       "      <td>72</td>\n",
       "    </tr>\n",
       "    <tr>\n",
       "      <th>vote_10</th>\n",
       "      <td>50</td>\n",
       "    </tr>\n",
       "    <tr>\n",
       "      <th>vote_11</th>\n",
       "      <td>38</td>\n",
       "    </tr>\n",
       "    <tr>\n",
       "      <th>vote_12</th>\n",
       "      <td>32</td>\n",
       "    </tr>\n",
       "    <tr>\n",
       "      <th>vote_13</th>\n",
       "      <td>27</td>\n",
       "    </tr>\n",
       "    <tr>\n",
       "      <th>vote_14</th>\n",
       "      <td>18</td>\n",
       "    </tr>\n",
       "    <tr>\n",
       "      <th>vote_15</th>\n",
       "      <td>12</td>\n",
       "    </tr>\n",
       "    <tr>\n",
       "      <th>vote_16</th>\n",
       "      <td>11</td>\n",
       "    </tr>\n",
       "    <tr>\n",
       "      <th>vote_17</th>\n",
       "      <td>9</td>\n",
       "    </tr>\n",
       "    <tr>\n",
       "      <th>vote_19</th>\n",
       "      <td>6</td>\n",
       "    </tr>\n",
       "    <tr>\n",
       "      <th>vote_18</th>\n",
       "      <td>6</td>\n",
       "    </tr>\n",
       "    <tr>\n",
       "      <th>vote_20</th>\n",
       "      <td>6</td>\n",
       "    </tr>\n",
       "    <tr>\n",
       "      <th>vote_21</th>\n",
       "      <td>5</td>\n",
       "    </tr>\n",
       "    <tr>\n",
       "      <th>vote_22</th>\n",
       "      <td>4</td>\n",
       "    </tr>\n",
       "    <tr>\n",
       "      <th>vote_145</th>\n",
       "      <td>3</td>\n",
       "    </tr>\n",
       "    <tr>\n",
       "      <th>vote_23</th>\n",
       "      <td>3</td>\n",
       "    </tr>\n",
       "    <tr>\n",
       "      <th>vote_25</th>\n",
       "      <td>3</td>\n",
       "    </tr>\n",
       "    <tr>\n",
       "      <th>vote_27</th>\n",
       "      <td>3</td>\n",
       "    </tr>\n",
       "    <tr>\n",
       "      <th>vote_139</th>\n",
       "      <td>3</td>\n",
       "    </tr>\n",
       "    <tr>\n",
       "      <th>vote_41</th>\n",
       "      <td>3</td>\n",
       "    </tr>\n",
       "    <tr>\n",
       "      <th>vote_28</th>\n",
       "      <td>3</td>\n",
       "    </tr>\n",
       "    <tr>\n",
       "      <th>vote_26</th>\n",
       "      <td>3</td>\n",
       "    </tr>\n",
       "    <tr>\n",
       "      <th>vote_30</th>\n",
       "      <td>3</td>\n",
       "    </tr>\n",
       "    <tr>\n",
       "      <th>vote_182</th>\n",
       "      <td>2</td>\n",
       "    </tr>\n",
       "    <tr>\n",
       "      <th>vote_137</th>\n",
       "      <td>2</td>\n",
       "    </tr>\n",
       "    <tr>\n",
       "      <th>vote_29</th>\n",
       "      <td>2</td>\n",
       "    </tr>\n",
       "    <tr>\n",
       "      <th>vote_127</th>\n",
       "      <td>2</td>\n",
       "    </tr>\n",
       "    <tr>\n",
       "      <th>vote_122</th>\n",
       "      <td>2</td>\n",
       "    </tr>\n",
       "    <tr>\n",
       "      <th>vote_140</th>\n",
       "      <td>2</td>\n",
       "    </tr>\n",
       "    <tr>\n",
       "      <th>vote_109</th>\n",
       "      <td>2</td>\n",
       "    </tr>\n",
       "    <tr>\n",
       "      <th>vote_36</th>\n",
       "      <td>2</td>\n",
       "    </tr>\n",
       "    <tr>\n",
       "      <th>vote_105</th>\n",
       "      <td>2</td>\n",
       "    </tr>\n",
       "    <tr>\n",
       "      <th>vote_24</th>\n",
       "      <td>2</td>\n",
       "    </tr>\n",
       "    <tr>\n",
       "      <th>vote_121</th>\n",
       "      <td>2</td>\n",
       "    </tr>\n",
       "    <tr>\n",
       "      <th>vote_114</th>\n",
       "      <td>2</td>\n",
       "    </tr>\n",
       "    <tr>\n",
       "      <th>vote_117</th>\n",
       "      <td>2</td>\n",
       "    </tr>\n",
       "    <tr>\n",
       "      <th>vote_112</th>\n",
       "      <td>2</td>\n",
       "    </tr>\n",
       "    <tr>\n",
       "      <th>vote_129</th>\n",
       "      <td>2</td>\n",
       "    </tr>\n",
       "    <tr>\n",
       "      <th>vote_130</th>\n",
       "      <td>2</td>\n",
       "    </tr>\n",
       "    <tr>\n",
       "      <th>vote_132</th>\n",
       "      <td>2</td>\n",
       "    </tr>\n",
       "    <tr>\n",
       "      <th>vote_118</th>\n",
       "      <td>2</td>\n",
       "    </tr>\n",
       "    <tr>\n",
       "      <th>vote_146</th>\n",
       "      <td>2</td>\n",
       "    </tr>\n",
       "  </tbody>\n",
       "</table>\n",
       "</div>"
      ],
      "text/plain": [
       "          voteId\n",
       "vote_1      5220\n",
       "vote_2      2631\n",
       "vote_3      1372\n",
       "vote_4       749\n",
       "vote_5       434\n",
       "vote_6       268\n",
       "vote_7       155\n",
       "vote_8       104\n",
       "vote_9        72\n",
       "vote_10       50\n",
       "vote_11       38\n",
       "vote_12       32\n",
       "vote_13       27\n",
       "vote_14       18\n",
       "vote_15       12\n",
       "vote_16       11\n",
       "vote_17        9\n",
       "vote_19        6\n",
       "vote_18        6\n",
       "vote_20        6\n",
       "vote_21        5\n",
       "vote_22        4\n",
       "vote_145       3\n",
       "vote_23        3\n",
       "vote_25        3\n",
       "vote_27        3\n",
       "vote_139       3\n",
       "vote_41        3\n",
       "vote_28        3\n",
       "vote_26        3\n",
       "vote_30        3\n",
       "vote_182       2\n",
       "vote_137       2\n",
       "vote_29        2\n",
       "vote_127       2\n",
       "vote_122       2\n",
       "vote_140       2\n",
       "vote_109       2\n",
       "vote_36        2\n",
       "vote_105       2\n",
       "vote_24        2\n",
       "vote_121       2\n",
       "vote_114       2\n",
       "vote_117       2\n",
       "vote_112       2\n",
       "vote_129       2\n",
       "vote_130       2\n",
       "vote_132       2\n",
       "vote_118       2\n",
       "vote_146       2"
      ]
     },
     "metadata": {},
     "output_type": "display_data"
    }
   ],
   "source": [
    "describe_with_top_n(df_raw, exclude_columns=['tallies'], n=50)"
   ]
  },
  {
   "cell_type": "code",
   "execution_count": 10,
   "metadata": {
    "collapsed": true
   },
   "outputs": [],
   "source": [
    "df_raw.to_pickle('divisions.p.xz', compression='xz') # gzip is faster, but xz makes much smaller files for git"
   ]
  },
  {
   "cell_type": "code",
   "execution_count": null,
   "metadata": {
    "collapsed": true
   },
   "outputs": [],
   "source": []
  }
 ],
 "metadata": {
  "kernelspec": {
   "display_name": "Python 3",
   "language": "python",
   "name": "python3"
  },
  "language_info": {
   "codemirror_mode": {
    "name": "ipython",
    "version": 3
   },
   "file_extension": ".py",
   "mimetype": "text/x-python",
   "name": "python",
   "nbconvert_exporter": "python",
   "pygments_lexer": "ipython3",
   "version": "3.6.1"
  },
  "widgets": {
   "application/vnd.jupyter.widget-state+json": {
    "state": {
     "00223dc6a22541ff8b8efdf5424b79c2": {
      "model_module": "jupyter-js-widgets",
      "model_module_version": "~2.1.4",
      "model_name": "ProgressModel",
      "state": {
       "_model_module_version": "~2.1.4",
       "_view_module_version": "~2.1.4",
       "bar_style": "success",
       "layout": "IPY_MODEL_3b1f39d580754f02b0716bf3bbc2abc6",
       "max": 18,
       "style": "IPY_MODEL_089af67f063c44d89c70cac8d04c760d",
       "value": 18
      }
     },
     "01addc73f9f842888b328cb9400aa415": {
      "model_module": "jupyter-js-widgets",
      "model_module_version": "~2.1.4",
      "model_name": "LayoutModel",
      "state": {
       "_model_module_version": "~2.1.4",
       "_view_module_version": "~2.1.4"
      }
     },
     "047f036534434907be4a52dbf9a213f7": {
      "model_module": "jupyter-js-widgets",
      "model_module_version": "~2.1.4",
      "model_name": "ProgressStyleModel",
      "state": {
       "_model_module_version": "~2.1.4",
       "_view_module_version": "~2.1.4"
      }
     },
     "04e68e5b38ae486caf19b7f08535fb4d": {
      "model_module": "jupyter-js-widgets",
      "model_module_version": "~2.1.4",
      "model_name": "ProgressModel",
      "state": {
       "_model_module_version": "~2.1.4",
       "_view_module_version": "~2.1.4",
       "bar_style": "danger",
       "layout": "IPY_MODEL_ab5214d4dfad4ae5882363df4a128bbd",
       "max": 96,
       "style": "IPY_MODEL_dff8e41bbd024157a2d774885ff79c8f"
      }
     },
     "058d593ecc5b46de98d79fe73303206f": {
      "model_module": "jupyter-js-widgets",
      "model_module_version": "~2.1.4",
      "model_name": "ProgressStyleModel",
      "state": {
       "_model_module_version": "~2.1.4",
       "_view_module_version": "~2.1.4"
      }
     },
     "06714ba43cb946ac9909c6e4743f1934": {
      "model_module": "jupyter-js-widgets",
      "model_module_version": "~2.1.4",
      "model_name": "HTMLModel",
      "state": {
       "_model_module_version": "~2.1.4",
       "_view_module_version": "~2.1.4",
       "layout": "IPY_MODEL_4f5e18d971cb480380016444e85dcb1f",
       "value": "100% 18/18 [00:05&lt;00:00,  3.39it/s]"
      }
     },
     "06c789ec7eae4c8e97da47b11ff4f80b": {
      "model_module": "jupyter-js-widgets",
      "model_module_version": "~2.1.4",
      "model_name": "LayoutModel",
      "state": {
       "_model_module_version": "~2.1.4",
       "_view_module_version": "~2.1.4"
      }
     },
     "06d42b06b8dd4efdb04950a7e49d419d": {
      "model_module": "jupyter-js-widgets",
      "model_module_version": "~2.1.4",
      "model_name": "HTMLModel",
      "state": {
       "_model_module_version": "~2.1.4",
       "_view_module_version": "~2.1.4",
       "layout": "IPY_MODEL_de9f2a7bb3644f6aa1a1860f60529704",
       "value": "100% 18/18 [00:04&lt;00:00,  3.83it/s]"
      }
     },
     "0742b24d74d64a3bb82fedfcc9634f0c": {
      "model_module": "jupyter-js-widgets",
      "model_module_version": "~2.1.4",
      "model_name": "LayoutModel",
      "state": {
       "_model_module_version": "~2.1.4",
       "_view_module_version": "~2.1.4"
      }
     },
     "089af67f063c44d89c70cac8d04c760d": {
      "model_module": "jupyter-js-widgets",
      "model_module_version": "~2.1.4",
      "model_name": "ProgressStyleModel",
      "state": {
       "_model_module_version": "~2.1.4",
       "_view_module_version": "~2.1.4"
      }
     },
     "091022531da04216ab4f36477f360d14": {
      "model_module": "jupyter-js-widgets",
      "model_module_version": "~2.1.4",
      "model_name": "HTMLModel",
      "state": {
       "_model_module_version": "~2.1.4",
       "_view_module_version": "~2.1.4",
       "layout": "IPY_MODEL_5f942860a69f48348606db23b5c9a86c",
       "value": "100% 18/18 [00:10&lt;00:00,  1.96it/s]"
      }
     },
     "0980bbd85952421f93ecef2243168e01": {
      "model_module": "jupyter-js-widgets",
      "model_module_version": "~2.1.4",
      "model_name": "HTMLModel",
      "state": {
       "_model_module_version": "~2.1.4",
       "_view_module_version": "~2.1.4",
       "layout": "IPY_MODEL_c69be62157014bf29e3f7b2f9e41af42",
       "value": "100% 96/96 [00:00&lt;00:00, 993.07it/s]"
      }
     },
     "09b406b68fe5409fa8ea8059ae93343b": {
      "model_module": "jupyter-js-widgets",
      "model_module_version": "~2.1.4",
      "model_name": "ProgressStyleModel",
      "state": {
       "_model_module_version": "~2.1.4",
       "_view_module_version": "~2.1.4"
      }
     },
     "09d1ab7319724940b70cd66535d41a52": {
      "model_module": "jupyter-js-widgets",
      "model_module_version": "~2.1.4",
      "model_name": "ProgressModel",
      "state": {
       "_model_module_version": "~2.1.4",
       "_view_module_version": "~2.1.4",
       "bar_style": "success",
       "layout": "IPY_MODEL_95e51fba8d1a486ca0855396c75b8069",
       "max": 96,
       "style": "IPY_MODEL_cca426a128df453bb1428a732babd406",
       "value": 96
      }
     },
     "0a65ea21a19f4fb98c387511c324b91c": {
      "model_module": "jupyter-js-widgets",
      "model_module_version": "~2.1.4",
      "model_name": "HBoxModel",
      "state": {
       "_model_module_version": "~2.1.4",
       "_view_module_version": "~2.1.4",
       "children": [
        "IPY_MODEL_ecc30a80fb1e49b0ad594bbe87074093",
        "IPY_MODEL_f8afbcbfd8cb4079ae3f675cdd2a3c22"
       ],
       "layout": "IPY_MODEL_0ec40e7e8b3d4bf7a4d0d1772acb6320"
      }
     },
     "0c6fa5400a4c4cd48bc34c0b132978b9": {
      "model_module": "jupyter-js-widgets",
      "model_module_version": "~2.1.4",
      "model_name": "HBoxModel",
      "state": {
       "_model_module_version": "~2.1.4",
       "_view_module_version": "~2.1.4",
       "children": [
        "IPY_MODEL_c7ca15d822da4b799ffea0ac21024a6a",
        "IPY_MODEL_bdcb1bf1ba9341798a041cc6496ea767"
       ],
       "layout": "IPY_MODEL_3d4364d5d0ea455c8cf9a2c60bb899fc"
      }
     },
     "0c7ca4edb0374965b10b8e5875c58f87": {
      "model_module": "jupyter-js-widgets",
      "model_module_version": "~2.1.4",
      "model_name": "ProgressModel",
      "state": {
       "_model_module_version": "~2.1.4",
       "_view_module_version": "~2.1.4",
       "bar_style": "success",
       "layout": "IPY_MODEL_8b4f7fc05b104a30ba27ba09951bfa6d",
       "max": 96,
       "style": "IPY_MODEL_df93d7a3db794316b725c88ea3230a34",
       "value": 96
      }
     },
     "0cfd7c3fdd7a458c90a3134262e77f5c": {
      "model_module": "jupyter-js-widgets",
      "model_module_version": "~2.1.4",
      "model_name": "LayoutModel",
      "state": {
       "_model_module_version": "~2.1.4",
       "_view_module_version": "~2.1.4"
      }
     },
     "0d389398898b4b5fba7949eff76e2be5": {
      "model_module": "jupyter-js-widgets",
      "model_module_version": "~2.1.4",
      "model_name": "ProgressStyleModel",
      "state": {
       "_model_module_version": "~2.1.4",
       "_view_module_version": "~2.1.4"
      }
     },
     "0d96b56ffdb84887af94593c0910018b": {
      "model_module": "jupyter-js-widgets",
      "model_module_version": "~2.1.4",
      "model_name": "LayoutModel",
      "state": {
       "_model_module_version": "~2.1.4",
       "_view_module_version": "~2.1.4"
      }
     },
     "0ec40e7e8b3d4bf7a4d0d1772acb6320": {
      "model_module": "jupyter-js-widgets",
      "model_module_version": "~2.1.4",
      "model_name": "LayoutModel",
      "state": {
       "_model_module_version": "~2.1.4",
       "_view_module_version": "~2.1.4"
      }
     },
     "0ef22a4d3945470f8e46e5238d83d7f7": {
      "model_module": "jupyter-js-widgets",
      "model_module_version": "~2.1.4",
      "model_name": "HBoxModel",
      "state": {
       "_model_module_version": "~2.1.4",
       "_view_module_version": "~2.1.4",
       "children": [
        "IPY_MODEL_0c7ca4edb0374965b10b8e5875c58f87",
        "IPY_MODEL_f0a8cfd016ec4103ba6dc2c17db13f27"
       ],
       "layout": "IPY_MODEL_d3baa4b43651407ebd6f032363405021"
      }
     },
     "0ffbb53e6ab34d508af5b13e7f45b045": {
      "model_module": "jupyter-js-widgets",
      "model_module_version": "~2.1.4",
      "model_name": "ProgressStyleModel",
      "state": {
       "_model_module_version": "~2.1.4",
       "_view_module_version": "~2.1.4"
      }
     },
     "10f18864ffc348c685cf9ca50747f939": {
      "model_module": "jupyter-js-widgets",
      "model_module_version": "~2.1.4",
      "model_name": "ProgressModel",
      "state": {
       "_model_module_version": "~2.1.4",
       "_view_module_version": "~2.1.4",
       "bar_style": "danger",
       "layout": "IPY_MODEL_cd1a9f91034840d0aa38d88bf433ea7f",
       "max": 96,
       "style": "IPY_MODEL_d7c779a5281244bda500be4dceeb798b"
      }
     },
     "113850343a3b49ac81bc3f0ce3cfb194": {
      "model_module": "jupyter-js-widgets",
      "model_module_version": "~2.1.4",
      "model_name": "LayoutModel",
      "state": {
       "_model_module_version": "~2.1.4",
       "_view_module_version": "~2.1.4"
      }
     },
     "11531d5ebea244428b36e8db7ade5986": {
      "model_module": "jupyter-js-widgets",
      "model_module_version": "~2.1.4",
      "model_name": "HTMLModel",
      "state": {
       "_model_module_version": "~2.1.4",
       "_view_module_version": "~2.1.4",
       "layout": "IPY_MODEL_f2d867700fed436c8b4f1aa327ce252f",
       "value": "100% 96/96 [00:13&lt;00:00,  7.06it/s]"
      }
     },
     "12486d15dba74ab8b0035ba7a6b95b7f": {
      "model_module": "jupyter-js-widgets",
      "model_module_version": "~2.1.4",
      "model_name": "LayoutModel",
      "state": {
       "_model_module_version": "~2.1.4",
       "_view_module_version": "~2.1.4"
      }
     },
     "143a4ad1d563460387537b9fcb4472b3": {
      "model_module": "jupyter-js-widgets",
      "model_module_version": "~2.1.4",
      "model_name": "HBoxModel",
      "state": {
       "_model_module_version": "~2.1.4",
       "_view_module_version": "~2.1.4",
       "children": [
        "IPY_MODEL_f26848c903344646a0f25ee941feab8a",
        "IPY_MODEL_ae014f1a30ee46efa86d2a7f44b75078"
       ],
       "layout": "IPY_MODEL_8df37808c37c49e5a44f6bcbc9dc098f"
      }
     },
     "14526bb3f6d644a786914d5452cd1573": {
      "model_module": "jupyter-js-widgets",
      "model_module_version": "~2.1.4",
      "model_name": "HTMLModel",
      "state": {
       "_model_module_version": "~2.1.4",
       "_view_module_version": "~2.1.4",
       "layout": "IPY_MODEL_732d495b63944655a750e8976f18423e",
       "value": "100% 18/18 [00:00&lt;00:00, 148.46it/s]"
      }
     },
     "14e0e74ec1954d7f942a858cb0ddc81a": {
      "model_module": "jupyter-js-widgets",
      "model_module_version": "~2.1.4",
      "model_name": "HBoxModel",
      "state": {
       "_model_module_version": "~2.1.4",
       "_view_module_version": "~2.1.4",
       "children": [
        "IPY_MODEL_24f36603ba7f4739a07f2d88f025fbc3",
        "IPY_MODEL_b369dccc32ac4fec8d1ec376cc35ffd4"
       ],
       "layout": "IPY_MODEL_815ecebc780745b89aaf9c507e8cf3d2"
      }
     },
     "153c16a4fb674726b371655565c526e6": {
      "model_module": "jupyter-js-widgets",
      "model_module_version": "~2.1.4",
      "model_name": "LayoutModel",
      "state": {
       "_model_module_version": "~2.1.4",
       "_view_module_version": "~2.1.4"
      }
     },
     "16435d739b2740d9ba58f49e5b8c9b5c": {
      "model_module": "jupyter-js-widgets",
      "model_module_version": "~2.1.4",
      "model_name": "LayoutModel",
      "state": {
       "_model_module_version": "~2.1.4",
       "_view_module_version": "~2.1.4"
      }
     },
     "17c375c996ef4e60a4bac3fd925a9328": {
      "model_module": "jupyter-js-widgets",
      "model_module_version": "~2.1.4",
      "model_name": "HBoxModel",
      "state": {
       "_model_module_version": "~2.1.4",
       "_view_module_version": "~2.1.4",
       "children": [
        "IPY_MODEL_c5739a4f98844190897838051dc86c73",
        "IPY_MODEL_346da92191d14d5396b695ffb8db825e"
       ],
       "layout": "IPY_MODEL_f6b31d50b17a4205af87587e6c17d217"
      }
     },
     "18b68189ea7e4049817048b6316fc6a3": {
      "model_module": "jupyter-js-widgets",
      "model_module_version": "~2.1.4",
      "model_name": "LayoutModel",
      "state": {
       "_model_module_version": "~2.1.4",
       "_view_module_version": "~2.1.4"
      }
     },
     "195a3ec186634dd7a47809ccbbbade34": {
      "model_module": "jupyter-js-widgets",
      "model_module_version": "~2.1.4",
      "model_name": "LayoutModel",
      "state": {
       "_model_module_version": "~2.1.4",
       "_view_module_version": "~2.1.4"
      }
     },
     "19654db5ee214778b0c91d0a9d75418c": {
      "model_module": "jupyter-js-widgets",
      "model_module_version": "~2.1.4",
      "model_name": "HTMLModel",
      "state": {
       "_model_module_version": "~2.1.4",
       "_view_module_version": "~2.1.4",
       "layout": "IPY_MODEL_69bb0ec9737c422fb20c8cafbdb16ad6",
       "value": "  0% 0/96 [00:00&lt;?, ?it/s]"
      }
     },
     "197655024f3f41fab161db7bcedc306a": {
      "model_module": "jupyter-js-widgets",
      "model_module_version": "~2.1.4",
      "model_name": "HBoxModel",
      "state": {
       "_model_module_version": "~2.1.4",
       "_view_module_version": "~2.1.4",
       "children": [
        "IPY_MODEL_30787ead96c4487bb195b007f41e4074",
        "IPY_MODEL_856f345500ef4094b59f018b440d2dd1"
       ],
       "layout": "IPY_MODEL_dffbcdc2a07f494daeca4625e1eb0cb1"
      }
     },
     "1a5b1d8c654f49beaa46f033d8223bfe": {
      "model_module": "jupyter-js-widgets",
      "model_module_version": "~2.1.4",
      "model_name": "ProgressStyleModel",
      "state": {
       "_model_module_version": "~2.1.4",
       "_view_module_version": "~2.1.4"
      }
     },
     "1bbc54f792ee48ceac656133fa73f562": {
      "model_module": "jupyter-js-widgets",
      "model_module_version": "~2.1.4",
      "model_name": "LayoutModel",
      "state": {
       "_model_module_version": "~2.1.4",
       "_view_module_version": "~2.1.4"
      }
     },
     "1bd718b505e546d1a0d36cc3091395cf": {
      "model_module": "jupyter-js-widgets",
      "model_module_version": "~2.1.4",
      "model_name": "ProgressModel",
      "state": {
       "_model_module_version": "~2.1.4",
       "_view_module_version": "~2.1.4",
       "bar_style": "success",
       "layout": "IPY_MODEL_441761fd4a25469888f14e04f4813878",
       "max": 96,
       "style": "IPY_MODEL_ebb9aea397b74e1aba9547fdeb1136cd",
       "value": 96
      }
     },
     "1c182f459d02470e95303e3767ad4224": {
      "model_module": "jupyter-js-widgets",
      "model_module_version": "~2.1.4",
      "model_name": "ProgressModel",
      "state": {
       "_model_module_version": "~2.1.4",
       "_view_module_version": "~2.1.4",
       "bar_style": "danger",
       "layout": "IPY_MODEL_8d6b543774194a8bba8927bd0bb9eb6e",
       "max": 199,
       "style": "IPY_MODEL_ae7340bf8e6a46baa3f9770196dff974"
      }
     },
     "1cf49454a8584f589c6be469cb70d46a": {
      "model_module": "jupyter-js-widgets",
      "model_module_version": "~2.1.4",
      "model_name": "LayoutModel",
      "state": {
       "_model_module_version": "~2.1.4",
       "_view_module_version": "~2.1.4"
      }
     },
     "1d78fd7308834cbe9bee074f8409b6fe": {
      "model_module": "jupyter-js-widgets",
      "model_module_version": "~2.1.4",
      "model_name": "LayoutModel",
      "state": {
       "_model_module_version": "~2.1.4",
       "_view_module_version": "~2.1.4"
      }
     },
     "1dd6797d079146718399e6056028fae9": {
      "model_module": "jupyter-js-widgets",
      "model_module_version": "~2.1.4",
      "model_name": "ProgressStyleModel",
      "state": {
       "_model_module_version": "~2.1.4",
       "_view_module_version": "~2.1.4"
      }
     },
     "1e86d361d19d45118671184a384594b7": {
      "model_module": "jupyter-js-widgets",
      "model_module_version": "~2.1.4",
      "model_name": "LayoutModel",
      "state": {
       "_model_module_version": "~2.1.4",
       "_view_module_version": "~2.1.4"
      }
     },
     "1f7373f3db664c1d9d6893f1a15c02b1": {
      "model_module": "jupyter-js-widgets",
      "model_module_version": "~2.1.4",
      "model_name": "LayoutModel",
      "state": {
       "_model_module_version": "~2.1.4",
       "_view_module_version": "~2.1.4"
      }
     },
     "20314be20dda4ed6a73ee7b0de800fd5": {
      "model_module": "jupyter-js-widgets",
      "model_module_version": "~2.1.4",
      "model_name": "HBoxModel",
      "state": {
       "_model_module_version": "~2.1.4",
       "_view_module_version": "~2.1.4",
       "children": [
        "IPY_MODEL_d945dcfa2ff24ce3882e02baf134a462",
        "IPY_MODEL_f3b2a0282f2a4a188517aad321248f4a"
       ],
       "layout": "IPY_MODEL_4509b7e8cb994c3abd6653e1e59b3bca"
      }
     },
     "209ec3f210964f1f8a6f0dd92b782d5e": {
      "model_module": "jupyter-js-widgets",
      "model_module_version": "~2.1.4",
      "model_name": "ProgressStyleModel",
      "state": {
       "_model_module_version": "~2.1.4",
       "_view_module_version": "~2.1.4"
      }
     },
     "23adbbdb14c34eb8a3a8da63a81068a8": {
      "model_module": "jupyter-js-widgets",
      "model_module_version": "~2.1.4",
      "model_name": "ProgressModel",
      "state": {
       "_model_module_version": "~2.1.4",
       "_view_module_version": "~2.1.4",
       "bar_style": "success",
       "layout": "IPY_MODEL_b354bb075ec941b78c2692b0e3f929ff",
       "max": 96,
       "style": "IPY_MODEL_a8746a666c0e4115988b51b46f9ce089",
       "value": 96
      }
     },
     "23b766f375104a3e888fc0b1feb74d17": {
      "model_module": "jupyter-js-widgets",
      "model_module_version": "~2.1.4",
      "model_name": "HBoxModel",
      "state": {
       "_model_module_version": "~2.1.4",
       "_view_module_version": "~2.1.4",
       "children": [
        "IPY_MODEL_76fd6ff218c446fab431c51b749e90d5",
        "IPY_MODEL_fe5a34a5734a4ac59883bbe512b7ec76"
       ],
       "layout": "IPY_MODEL_5cec24200538456d8b1b64c4001e7570"
      }
     },
     "24401302c086451689eb2fef7e55596b": {
      "model_module": "jupyter-js-widgets",
      "model_module_version": "~2.1.4",
      "model_name": "ProgressModel",
      "state": {
       "_model_module_version": "~2.1.4",
       "_view_module_version": "~2.1.4",
       "bar_style": "success",
       "layout": "IPY_MODEL_195a3ec186634dd7a47809ccbbbade34",
       "max": 96,
       "style": "IPY_MODEL_9fe5f75abb4f4a76b613046203e454f4",
       "value": 96
      }
     },
     "24b3b943366c44ae8b863c7f347ad70e": {
      "model_module": "jupyter-js-widgets",
      "model_module_version": "~2.1.4",
      "model_name": "HBoxModel",
      "state": {
       "_model_module_version": "~2.1.4",
       "_view_module_version": "~2.1.4",
       "children": [
        "IPY_MODEL_e57cdc6885cb40eaa2069c67010878e7",
        "IPY_MODEL_a2f18754a41d4a4b9015efceb65bdf12"
       ],
       "layout": "IPY_MODEL_aa78c848a72f49d38867c69d1ce41c31"
      }
     },
     "24f36603ba7f4739a07f2d88f025fbc3": {
      "model_module": "jupyter-js-widgets",
      "model_module_version": "~2.1.4",
      "model_name": "ProgressModel",
      "state": {
       "_model_module_version": "~2.1.4",
       "_view_module_version": "~2.1.4",
       "bar_style": "danger",
       "layout": "IPY_MODEL_f4b18b7ca69e4592b422a2033008f831",
       "max": 18,
       "style": "IPY_MODEL_4e71d728e3484a1ebda75e31c3d2b8c5"
      }
     },
     "2550a848285b446a8f5f55a9dd7629b3": {
      "model_module": "jupyter-js-widgets",
      "model_module_version": "~2.1.4",
      "model_name": "LayoutModel",
      "state": {
       "_model_module_version": "~2.1.4",
       "_view_module_version": "~2.1.4"
      }
     },
     "25fd718d9c404acf8b8a9ebf88c4fcb9": {
      "model_module": "jupyter-js-widgets",
      "model_module_version": "~2.1.4",
      "model_name": "LayoutModel",
      "state": {
       "_model_module_version": "~2.1.4",
       "_view_module_version": "~2.1.4"
      }
     },
     "26d7463bec764d209a5e318fb425794e": {
      "model_module": "jupyter-js-widgets",
      "model_module_version": "~2.1.4",
      "model_name": "ProgressStyleModel",
      "state": {
       "_model_module_version": "~2.1.4",
       "_view_module_version": "~2.1.4"
      }
     },
     "2777773b5e674403b000caf862c125eb": {
      "model_module": "jupyter-js-widgets",
      "model_module_version": "~2.1.4",
      "model_name": "ProgressModel",
      "state": {
       "_model_module_version": "~2.1.4",
       "_view_module_version": "~2.1.4",
       "bar_style": "danger",
       "layout": "IPY_MODEL_c42d692b8c0a4f08a1fe01baa9c74451",
       "max": 96,
       "style": "IPY_MODEL_df8d2c708bcb4b8690b4e1b8a43a2c1d"
      }
     },
     "277ac9512b98450aa8c6e942fd53e7b1": {
      "model_module": "jupyter-js-widgets",
      "model_module_version": "~2.1.4",
      "model_name": "LayoutModel",
      "state": {
       "_model_module_version": "~2.1.4",
       "_view_module_version": "~2.1.4"
      }
     },
     "27981dcd399f4d3e8a91666e21f4ae2e": {
      "model_module": "jupyter-js-widgets",
      "model_module_version": "~2.1.4",
      "model_name": "ProgressModel",
      "state": {
       "_model_module_version": "~2.1.4",
       "_view_module_version": "~2.1.4",
       "bar_style": "danger",
       "layout": "IPY_MODEL_4486f9322e53475eac7f35ca20b3391d",
       "max": 96,
       "style": "IPY_MODEL_5a4575b0c7154f41923191d839bca451",
       "value": 21
      }
     },
     "29d0b0fa04434db8ad6b05ebad64e83c": {
      "model_module": "jupyter-js-widgets",
      "model_module_version": "~2.1.4",
      "model_name": "ProgressStyleModel",
      "state": {
       "_model_module_version": "~2.1.4",
       "_view_module_version": "~2.1.4"
      }
     },
     "2a38e0837b044fa3a99087988db89ef1": {
      "model_module": "jupyter-js-widgets",
      "model_module_version": "~2.1.4",
      "model_name": "LayoutModel",
      "state": {
       "_model_module_version": "~2.1.4",
       "_view_module_version": "~2.1.4"
      }
     },
     "2b9f43308dde42faa3adabbaa417d804": {
      "model_module": "jupyter-js-widgets",
      "model_module_version": "~2.1.4",
      "model_name": "ProgressStyleModel",
      "state": {
       "_model_module_version": "~2.1.4",
       "_view_module_version": "~2.1.4"
      }
     },
     "2c6508cd07d24a278fef30220953bcd9": {
      "model_module": "jupyter-js-widgets",
      "model_module_version": "~2.1.4",
      "model_name": "ProgressModel",
      "state": {
       "_model_module_version": "~2.1.4",
       "_view_module_version": "~2.1.4",
       "bar_style": "success",
       "layout": "IPY_MODEL_59f31eadbb97471ea48145625a222798",
       "max": 18,
       "style": "IPY_MODEL_41161c46437441bc935448f5d6dd4db0",
       "value": 18
      }
     },
     "2f8063c5b4584fd3a3ad11e17fe58b2c": {
      "model_module": "jupyter-js-widgets",
      "model_module_version": "~2.1.4",
      "model_name": "HBoxModel",
      "state": {
       "_model_module_version": "~2.1.4",
       "_view_module_version": "~2.1.4",
       "children": [
        "IPY_MODEL_9241878a4af74e09ad8adac16961f6fd",
        "IPY_MODEL_b03ccf9cc7a14e2f813e2a4f85de7297"
       ],
       "layout": "IPY_MODEL_7ddff195fc714ba1956f2392b9b1c228"
      }
     },
     "2fd518586eb24f36b210eb072a2bf298": {
      "model_module": "jupyter-js-widgets",
      "model_module_version": "~2.1.4",
      "model_name": "LayoutModel",
      "state": {
       "_model_module_version": "~2.1.4",
       "_view_module_version": "~2.1.4"
      }
     },
     "3076797b1b204c7386bc759382a05dba": {
      "model_module": "jupyter-js-widgets",
      "model_module_version": "~2.1.4",
      "model_name": "ProgressStyleModel",
      "state": {
       "_model_module_version": "~2.1.4",
       "_view_module_version": "~2.1.4"
      }
     },
     "30787ead96c4487bb195b007f41e4074": {
      "model_module": "jupyter-js-widgets",
      "model_module_version": "~2.1.4",
      "model_name": "ProgressModel",
      "state": {
       "_model_module_version": "~2.1.4",
       "_view_module_version": "~2.1.4",
       "bar_style": "danger",
       "layout": "IPY_MODEL_16435d739b2740d9ba58f49e5b8c9b5c",
       "max": 96,
       "style": "IPY_MODEL_2b9f43308dde42faa3adabbaa417d804"
      }
     },
     "30c1f565f8df495493a9c6ed8862966d": {
      "model_module": "jupyter-js-widgets",
      "model_module_version": "~2.1.4",
      "model_name": "LayoutModel",
      "state": {
       "_model_module_version": "~2.1.4",
       "_view_module_version": "~2.1.4"
      }
     },
     "335bafd93e3f4f668327b9eafa074a63": {
      "model_module": "jupyter-js-widgets",
      "model_module_version": "~2.1.4",
      "model_name": "LayoutModel",
      "state": {
       "_model_module_version": "~2.1.4",
       "_view_module_version": "~2.1.4"
      }
     },
     "3431fb77a02c437ca92f16e68df4a767": {
      "model_module": "jupyter-js-widgets",
      "model_module_version": "~2.1.4",
      "model_name": "LayoutModel",
      "state": {
       "_model_module_version": "~2.1.4",
       "_view_module_version": "~2.1.4"
      }
     },
     "346da92191d14d5396b695ffb8db825e": {
      "model_module": "jupyter-js-widgets",
      "model_module_version": "~2.1.4",
      "model_name": "HTMLModel",
      "state": {
       "_model_module_version": "~2.1.4",
       "_view_module_version": "~2.1.4",
       "layout": "IPY_MODEL_61fcc514ed704c86bca39c44f22bfb07",
       "value": "100% 96/96 [02:12&lt;00:00,  3.14s/it]"
      }
     },
     "3657b4899a104dc48857ff333ba87198": {
      "model_module": "jupyter-js-widgets",
      "model_module_version": "~2.1.4",
      "model_name": "HBoxModel",
      "state": {
       "_model_module_version": "~2.1.4",
       "_view_module_version": "~2.1.4",
       "children": [
        "IPY_MODEL_591bcc07fe4b467e9e22c2dee21d2162",
        "IPY_MODEL_0980bbd85952421f93ecef2243168e01"
       ],
       "layout": "IPY_MODEL_99ffdb3fd85b469aa2db701a7bc21024"
      }
     },
     "39cb38c9bae84d8ba5168c5edc095997": {
      "model_module": "jupyter-js-widgets",
      "model_module_version": "~2.1.4",
      "model_name": "LayoutModel",
      "state": {
       "_model_module_version": "~2.1.4",
       "_view_module_version": "~2.1.4"
      }
     },
     "3a98a7d7a1204a8a8c786b550e9a5e74": {
      "model_module": "jupyter-js-widgets",
      "model_module_version": "~2.1.4",
      "model_name": "HTMLModel",
      "state": {
       "_model_module_version": "~2.1.4",
       "_view_module_version": "~2.1.4",
       "layout": "IPY_MODEL_01addc73f9f842888b328cb9400aa415",
       "value": "100% 96/96 [00:00&lt;00:00, 705.50it/s]"
      }
     },
     "3b1f39d580754f02b0716bf3bbc2abc6": {
      "model_module": "jupyter-js-widgets",
      "model_module_version": "~2.1.4",
      "model_name": "LayoutModel",
      "state": {
       "_model_module_version": "~2.1.4",
       "_view_module_version": "~2.1.4"
      }
     },
     "3d4364d5d0ea455c8cf9a2c60bb899fc": {
      "model_module": "jupyter-js-widgets",
      "model_module_version": "~2.1.4",
      "model_name": "LayoutModel",
      "state": {
       "_model_module_version": "~2.1.4",
       "_view_module_version": "~2.1.4"
      }
     },
     "41161c46437441bc935448f5d6dd4db0": {
      "model_module": "jupyter-js-widgets",
      "model_module_version": "~2.1.4",
      "model_name": "ProgressStyleModel",
      "state": {
       "_model_module_version": "~2.1.4",
       "_view_module_version": "~2.1.4"
      }
     },
     "41d30499b2ce4819868e640ac7d35f0d": {
      "model_module": "jupyter-js-widgets",
      "model_module_version": "~2.1.4",
      "model_name": "LayoutModel",
      "state": {
       "_model_module_version": "~2.1.4",
       "_view_module_version": "~2.1.4"
      }
     },
     "43f65af2271a4a6ab41551ab63e38a90": {
      "model_module": "jupyter-js-widgets",
      "model_module_version": "~2.1.4",
      "model_name": "LayoutModel",
      "state": {
       "_model_module_version": "~2.1.4",
       "_view_module_version": "~2.1.4"
      }
     },
     "441761fd4a25469888f14e04f4813878": {
      "model_module": "jupyter-js-widgets",
      "model_module_version": "~2.1.4",
      "model_name": "LayoutModel",
      "state": {
       "_model_module_version": "~2.1.4",
       "_view_module_version": "~2.1.4"
      }
     },
     "4467022a33ad401abadb33853c0a12d5": {
      "model_module": "jupyter-js-widgets",
      "model_module_version": "~2.1.4",
      "model_name": "ProgressStyleModel",
      "state": {
       "_model_module_version": "~2.1.4",
       "_view_module_version": "~2.1.4"
      }
     },
     "4486f9322e53475eac7f35ca20b3391d": {
      "model_module": "jupyter-js-widgets",
      "model_module_version": "~2.1.4",
      "model_name": "LayoutModel",
      "state": {
       "_model_module_version": "~2.1.4",
       "_view_module_version": "~2.1.4"
      }
     },
     "4509b7e8cb994c3abd6653e1e59b3bca": {
      "model_module": "jupyter-js-widgets",
      "model_module_version": "~2.1.4",
      "model_name": "LayoutModel",
      "state": {
       "_model_module_version": "~2.1.4",
       "_view_module_version": "~2.1.4"
      }
     },
     "4565e015fb374e1c9b28551e6fe1fce2": {
      "model_module": "jupyter-js-widgets",
      "model_module_version": "~2.1.4",
      "model_name": "LayoutModel",
      "state": {
       "_model_module_version": "~2.1.4",
       "_view_module_version": "~2.1.4"
      }
     },
     "467dcc06edb74d5e9790d3fabd3bddf2": {
      "model_module": "jupyter-js-widgets",
      "model_module_version": "~2.1.4",
      "model_name": "LayoutModel",
      "state": {
       "_model_module_version": "~2.1.4",
       "_view_module_version": "~2.1.4"
      }
     },
     "4716a7a393d742298263ff9786d751f7": {
      "model_module": "jupyter-js-widgets",
      "model_module_version": "~2.1.4",
      "model_name": "LayoutModel",
      "state": {
       "_model_module_version": "~2.1.4",
       "_view_module_version": "~2.1.4"
      }
     },
     "47a077a520b543ae97153cef934614f5": {
      "model_module": "jupyter-js-widgets",
      "model_module_version": "~2.1.4",
      "model_name": "HBoxModel",
      "state": {
       "_model_module_version": "~2.1.4",
       "_view_module_version": "~2.1.4",
       "children": [
        "IPY_MODEL_7cfdc43744344e97b47e0c98886e2c5c",
        "IPY_MODEL_d9fd38c1784943109dc4bc4496012cd6"
       ],
       "layout": "IPY_MODEL_888bf4599f6f42d49ccab48fe23a48a4"
      }
     },
     "47fa2cf04a1749ed8e2e4b16da5a97e4": {
      "model_module": "jupyter-js-widgets",
      "model_module_version": "~2.1.4",
      "model_name": "LayoutModel",
      "state": {
       "_model_module_version": "~2.1.4",
       "_view_module_version": "~2.1.4"
      }
     },
     "48000564c55d4daeb4834e3e8b10be09": {
      "model_module": "jupyter-js-widgets",
      "model_module_version": "~2.1.4",
      "model_name": "LayoutModel",
      "state": {
       "_model_module_version": "~2.1.4",
       "_view_module_version": "~2.1.4"
      }
     },
     "4818eb732cf24c5caa7667cbbed14c52": {
      "model_module": "jupyter-js-widgets",
      "model_module_version": "~2.1.4",
      "model_name": "LayoutModel",
      "state": {
       "_model_module_version": "~2.1.4",
       "_view_module_version": "~2.1.4"
      }
     },
     "482d62e489fc4501a67978c82e9cf346": {
      "model_module": "jupyter-js-widgets",
      "model_module_version": "~2.1.4",
      "model_name": "LayoutModel",
      "state": {
       "_model_module_version": "~2.1.4",
       "_view_module_version": "~2.1.4"
      }
     },
     "4946f832f6d44440b25f8689ce13fe21": {
      "model_module": "jupyter-js-widgets",
      "model_module_version": "~2.1.4",
      "model_name": "ProgressModel",
      "state": {
       "_model_module_version": "~2.1.4",
       "_view_module_version": "~2.1.4",
       "bar_style": "danger",
       "layout": "IPY_MODEL_69a079dd87d04c6e8c5f14d5aea33770",
       "max": 96,
       "style": "IPY_MODEL_058d593ecc5b46de98d79fe73303206f"
      }
     },
     "49b86a789d2148c69606423c08ef12c0": {
      "model_module": "jupyter-js-widgets",
      "model_module_version": "~2.1.4",
      "model_name": "ProgressModel",
      "state": {
       "_model_module_version": "~2.1.4",
       "_view_module_version": "~2.1.4",
       "bar_style": "danger",
       "layout": "IPY_MODEL_41d30499b2ce4819868e640ac7d35f0d",
       "max": 96,
       "style": "IPY_MODEL_9c25d6b1ba914ba582181b7ea9abc59c"
      }
     },
     "4bb6dc3f0cc146cebdda0a57ad608d9b": {
      "model_module": "jupyter-js-widgets",
      "model_module_version": "~2.1.4",
      "model_name": "ProgressStyleModel",
      "state": {
       "_model_module_version": "~2.1.4",
       "_view_module_version": "~2.1.4"
      }
     },
     "4d1c43584b064d95bf1d7f04530b3cf4": {
      "model_module": "jupyter-js-widgets",
      "model_module_version": "~2.1.4",
      "model_name": "LayoutModel",
      "state": {
       "_model_module_version": "~2.1.4",
       "_view_module_version": "~2.1.4"
      }
     },
     "4e71d728e3484a1ebda75e31c3d2b8c5": {
      "model_module": "jupyter-js-widgets",
      "model_module_version": "~2.1.4",
      "model_name": "ProgressStyleModel",
      "state": {
       "_model_module_version": "~2.1.4",
       "_view_module_version": "~2.1.4"
      }
     },
     "4f5e18d971cb480380016444e85dcb1f": {
      "model_module": "jupyter-js-widgets",
      "model_module_version": "~2.1.4",
      "model_name": "LayoutModel",
      "state": {
       "_model_module_version": "~2.1.4",
       "_view_module_version": "~2.1.4"
      }
     },
     "51659b7f733543a8a178135b10f9abb5": {
      "model_module": "jupyter-js-widgets",
      "model_module_version": "~2.1.4",
      "model_name": "HBoxModel",
      "state": {
       "_model_module_version": "~2.1.4",
       "_view_module_version": "~2.1.4",
       "children": [
        "IPY_MODEL_24401302c086451689eb2fef7e55596b",
        "IPY_MODEL_e18dc1fa36694ddbaabdeb2e7990d76f"
       ],
       "layout": "IPY_MODEL_dbd8d1fe11bf4a7082b189bd04153951"
      }
     },
     "526e52c54f284f18a382ea42803e4703": {
      "model_module": "jupyter-js-widgets",
      "model_module_version": "~2.1.4",
      "model_name": "LayoutModel",
      "state": {
       "_model_module_version": "~2.1.4",
       "_view_module_version": "~2.1.4"
      }
     },
     "52fe6c1a13d8472283b1510f10d80dc0": {
      "model_module": "jupyter-js-widgets",
      "model_module_version": "~2.1.4",
      "model_name": "LayoutModel",
      "state": {
       "_model_module_version": "~2.1.4",
       "_view_module_version": "~2.1.4"
      }
     },
     "5430a9d869f94842b683413714f6c276": {
      "model_module": "jupyter-js-widgets",
      "model_module_version": "~2.1.4",
      "model_name": "HBoxModel",
      "state": {
       "_model_module_version": "~2.1.4",
       "_view_module_version": "~2.1.4",
       "children": [
        "IPY_MODEL_b485ac898a5e4916ad84576440b6739c",
        "IPY_MODEL_e97dbe87b61943bc82aeb1f1d36619e1"
       ],
       "layout": "IPY_MODEL_9b74af4ce8a54e35b2ce819ce19f7c98"
      }
     },
     "5777e826898c4317a14993e972573dc2": {
      "model_module": "jupyter-js-widgets",
      "model_module_version": "~2.1.4",
      "model_name": "LayoutModel",
      "state": {
       "_model_module_version": "~2.1.4",
       "_view_module_version": "~2.1.4"
      }
     },
     "5794f7e0826e4251b98eaffbc47f5193": {
      "model_module": "jupyter-js-widgets",
      "model_module_version": "~2.1.4",
      "model_name": "LayoutModel",
      "state": {
       "_model_module_version": "~2.1.4",
       "_view_module_version": "~2.1.4"
      }
     },
     "591bcc07fe4b467e9e22c2dee21d2162": {
      "model_module": "jupyter-js-widgets",
      "model_module_version": "~2.1.4",
      "model_name": "ProgressModel",
      "state": {
       "_model_module_version": "~2.1.4",
       "_view_module_version": "~2.1.4",
       "bar_style": "success",
       "layout": "IPY_MODEL_fe1961ae55a645ec9b361b7c97ed9749",
       "max": 96,
       "style": "IPY_MODEL_79b6fdd46fa944609deb0aa45abf1b3a",
       "value": 96
      }
     },
     "59f31eadbb97471ea48145625a222798": {
      "model_module": "jupyter-js-widgets",
      "model_module_version": "~2.1.4",
      "model_name": "LayoutModel",
      "state": {
       "_model_module_version": "~2.1.4",
       "_view_module_version": "~2.1.4"
      }
     },
     "5a2f89ad895941ce9b4e51d7a7246bff": {
      "model_module": "jupyter-js-widgets",
      "model_module_version": "~2.1.4",
      "model_name": "ProgressModel",
      "state": {
       "_model_module_version": "~2.1.4",
       "_view_module_version": "~2.1.4",
       "bar_style": "danger",
       "layout": "IPY_MODEL_b637d8eb88df4f6385ab4b04619a8555",
       "max": 96,
       "style": "IPY_MODEL_776dece3b8dd4853a63921b1838a6fbb"
      }
     },
     "5a4575b0c7154f41923191d839bca451": {
      "model_module": "jupyter-js-widgets",
      "model_module_version": "~2.1.4",
      "model_name": "ProgressStyleModel",
      "state": {
       "_model_module_version": "~2.1.4",
       "_view_module_version": "~2.1.4"
      }
     },
     "5a5dd16c99c247d3ab08979a765403c8": {
      "model_module": "jupyter-js-widgets",
      "model_module_version": "~2.1.4",
      "model_name": "HTMLModel",
      "state": {
       "_model_module_version": "~2.1.4",
       "_view_module_version": "~2.1.4",
       "layout": "IPY_MODEL_ddb8207bcd684c538cd9041966b5fd9a",
       "value": "100% 18/18 [00:07&lt;00:00,  2.22it/s]"
      }
     },
     "5b83bed626254fc0954641cc9c51c219": {
      "model_module": "jupyter-js-widgets",
      "model_module_version": "~2.1.4",
      "model_name": "LayoutModel",
      "state": {
       "_model_module_version": "~2.1.4",
       "_view_module_version": "~2.1.4"
      }
     },
     "5bb054eda4414a739b15eafcf4caccb1": {
      "model_module": "jupyter-js-widgets",
      "model_module_version": "~2.1.4",
      "model_name": "LayoutModel",
      "state": {
       "_model_module_version": "~2.1.4",
       "_view_module_version": "~2.1.4"
      }
     },
     "5bcbf01134aa44a5842c61b9e0a2ce2e": {
      "model_module": "jupyter-js-widgets",
      "model_module_version": "~2.1.4",
      "model_name": "HTMLModel",
      "state": {
       "_model_module_version": "~2.1.4",
       "_view_module_version": "~2.1.4",
       "layout": "IPY_MODEL_f43b13a44fa94a648ae3d2e3243948a9",
       "value": "100% 96/96 [00:00&lt;00:00, 810.69it/s]"
      }
     },
     "5cec24200538456d8b1b64c4001e7570": {
      "model_module": "jupyter-js-widgets",
      "model_module_version": "~2.1.4",
      "model_name": "LayoutModel",
      "state": {
       "_model_module_version": "~2.1.4",
       "_view_module_version": "~2.1.4"
      }
     },
     "5d2d9a57c68a4222a1185a2fcd25f109": {
      "model_module": "jupyter-js-widgets",
      "model_module_version": "~2.1.4",
      "model_name": "HBoxModel",
      "state": {
       "_model_module_version": "~2.1.4",
       "_view_module_version": "~2.1.4",
       "children": [
        "IPY_MODEL_a88d547cb771437aa82ee167e3dd422c",
        "IPY_MODEL_a9a6032958a04e28a7052b68b2db4e1a"
       ],
       "layout": "IPY_MODEL_30c1f565f8df495493a9c6ed8862966d"
      }
     },
     "5f942860a69f48348606db23b5c9a86c": {
      "model_module": "jupyter-js-widgets",
      "model_module_version": "~2.1.4",
      "model_name": "LayoutModel",
      "state": {
       "_model_module_version": "~2.1.4",
       "_view_module_version": "~2.1.4"
      }
     },
     "61fcb8f164d246f3974e6ad688d1b2e5": {
      "model_module": "jupyter-js-widgets",
      "model_module_version": "~2.1.4",
      "model_name": "ProgressStyleModel",
      "state": {
       "_model_module_version": "~2.1.4",
       "_view_module_version": "~2.1.4"
      }
     },
     "61fcc514ed704c86bca39c44f22bfb07": {
      "model_module": "jupyter-js-widgets",
      "model_module_version": "~2.1.4",
      "model_name": "LayoutModel",
      "state": {
       "_model_module_version": "~2.1.4",
       "_view_module_version": "~2.1.4"
      }
     },
     "62083c4dbde64c5697f7eee308786921": {
      "model_module": "jupyter-js-widgets",
      "model_module_version": "~2.1.4",
      "model_name": "ProgressModel",
      "state": {
       "_model_module_version": "~2.1.4",
       "_view_module_version": "~2.1.4",
       "bar_style": "danger",
       "layout": "IPY_MODEL_d3b915a7065c44c1ad9990b8a93b0565",
       "max": 96,
       "style": "IPY_MODEL_4bb6dc3f0cc146cebdda0a57ad608d9b"
      }
     },
     "6230529bc6a44f4ca88403890e469f56": {
      "model_module": "jupyter-js-widgets",
      "model_module_version": "~2.1.4",
      "model_name": "LayoutModel",
      "state": {
       "_model_module_version": "~2.1.4",
       "_view_module_version": "~2.1.4"
      }
     },
     "62866e28431942f8a1ceb2f41042cb07": {
      "model_module": "jupyter-js-widgets",
      "model_module_version": "~2.1.4",
      "model_name": "HBoxModel",
      "state": {
       "_model_module_version": "~2.1.4",
       "_view_module_version": "~2.1.4",
       "children": [
        "IPY_MODEL_4946f832f6d44440b25f8689ce13fe21",
        "IPY_MODEL_842df0c36ecd4c07b429e0a358ec1a81"
       ],
       "layout": "IPY_MODEL_a1dce2617f6d461bacc2501556c54493"
      }
     },
     "6358027386ef4d39b6e535a0169a26f8": {
      "model_module": "jupyter-js-widgets",
      "model_module_version": "~2.1.4",
      "model_name": "LayoutModel",
      "state": {
       "_model_module_version": "~2.1.4",
       "_view_module_version": "~2.1.4"
      }
     },
     "63c1c6fa1ae24d9b90583bab8e10b5c5": {
      "model_module": "jupyter-js-widgets",
      "model_module_version": "~2.1.4",
      "model_name": "LayoutModel",
      "state": {
       "_model_module_version": "~2.1.4",
       "_view_module_version": "~2.1.4"
      }
     },
     "6513a25d3dfb4b09b12bef45f51ab9cb": {
      "model_module": "jupyter-js-widgets",
      "model_module_version": "~2.1.4",
      "model_name": "HTMLModel",
      "state": {
       "_model_module_version": "~2.1.4",
       "_view_module_version": "~2.1.4",
       "layout": "IPY_MODEL_113850343a3b49ac81bc3f0ce3cfb194",
       "value": "  0% 0/96 [00:00&lt;?, ?it/s]"
      }
     },
     "6514e66e61204d46837036cc291ba49d": {
      "model_module": "jupyter-js-widgets",
      "model_module_version": "~2.1.4",
      "model_name": "LayoutModel",
      "state": {
       "_model_module_version": "~2.1.4",
       "_view_module_version": "~2.1.4"
      }
     },
     "67529273fe3a4052936e68938bd8da8c": {
      "model_module": "jupyter-js-widgets",
      "model_module_version": "~2.1.4",
      "model_name": "LayoutModel",
      "state": {
       "_model_module_version": "~2.1.4",
       "_view_module_version": "~2.1.4"
      }
     },
     "67cd578bf7b1448b8bf7aae582ac1f8b": {
      "model_module": "jupyter-js-widgets",
      "model_module_version": "~2.1.4",
      "model_name": "ProgressModel",
      "state": {
       "_model_module_version": "~2.1.4",
       "_view_module_version": "~2.1.4",
       "bar_style": "danger",
       "layout": "IPY_MODEL_2a38e0837b044fa3a99087988db89ef1",
       "max": 96,
       "style": "IPY_MODEL_3076797b1b204c7386bc759382a05dba"
      }
     },
     "67f998ac2628410db1737b1fdbebad6b": {
      "model_module": "jupyter-js-widgets",
      "model_module_version": "~2.1.4",
      "model_name": "ProgressModel",
      "state": {
       "_model_module_version": "~2.1.4",
       "_view_module_version": "~2.1.4",
       "bar_style": "success",
       "layout": "IPY_MODEL_d1a5cb6a24b943fdb41c84600ca21cba",
       "max": 96,
       "style": "IPY_MODEL_9d4dd6698b4a473d98b70f0e8b96ae49",
       "value": 96
      }
     },
     "69a079dd87d04c6e8c5f14d5aea33770": {
      "model_module": "jupyter-js-widgets",
      "model_module_version": "~2.1.4",
      "model_name": "LayoutModel",
      "state": {
       "_model_module_version": "~2.1.4",
       "_view_module_version": "~2.1.4"
      }
     },
     "69bb0ec9737c422fb20c8cafbdb16ad6": {
      "model_module": "jupyter-js-widgets",
      "model_module_version": "~2.1.4",
      "model_name": "LayoutModel",
      "state": {
       "_model_module_version": "~2.1.4",
       "_view_module_version": "~2.1.4"
      }
     },
     "6a5585bdaa02423381db25f4ce041ef0": {
      "model_module": "jupyter-js-widgets",
      "model_module_version": "~2.1.4",
      "model_name": "HBoxModel",
      "state": {
       "_model_module_version": "~2.1.4",
       "_view_module_version": "~2.1.4",
       "children": [
        "IPY_MODEL_23adbbdb14c34eb8a3a8da63a81068a8",
        "IPY_MODEL_94fddf82f8154c67bce66b9c021849d7"
       ],
       "layout": "IPY_MODEL_9eb54a2dec044b4ba9d445006e20080f"
      }
     },
     "6af843ab23f840bda8a961193e314b92": {
      "model_module": "jupyter-js-widgets",
      "model_module_version": "~2.1.4",
      "model_name": "HBoxModel",
      "state": {
       "_model_module_version": "~2.1.4",
       "_view_module_version": "~2.1.4",
       "children": [
        "IPY_MODEL_8c39150401f047e8b4e5a5d918405bb5",
        "IPY_MODEL_91d0c855c52d403987823cb584ca8e3f"
       ],
       "layout": "IPY_MODEL_de1dd1a062d84d17a8196a2465fd32b2"
      }
     },
     "6b34b9692b5b4d3daca48cc5623cdbcc": {
      "model_module": "jupyter-js-widgets",
      "model_module_version": "~2.1.4",
      "model_name": "HTMLModel",
      "state": {
       "_model_module_version": "~2.1.4",
       "_view_module_version": "~2.1.4",
       "layout": "IPY_MODEL_5bb054eda4414a739b15eafcf4caccb1",
       "value": "  0% 0/96 [00:00&lt;?, ?it/s]"
      }
     },
     "6ef398779c4343da97f90fc57b1e363b": {
      "model_module": "jupyter-js-widgets",
      "model_module_version": "~2.1.4",
      "model_name": "LayoutModel",
      "state": {
       "_model_module_version": "~2.1.4",
       "_view_module_version": "~2.1.4"
      }
     },
     "706cdcdd7ea14582916990638e6fb449": {
      "model_module": "jupyter-js-widgets",
      "model_module_version": "~2.1.4",
      "model_name": "ProgressModel",
      "state": {
       "_model_module_version": "~2.1.4",
       "_view_module_version": "~2.1.4",
       "bar_style": "danger",
       "layout": "IPY_MODEL_e9645d54e16940e49f4a9e4f017c335d",
       "max": 96,
       "style": "IPY_MODEL_752135fa92f74f189fca07af305149df"
      }
     },
     "7118646f0da74e2aba606fbbad3df87c": {
      "model_module": "jupyter-js-widgets",
      "model_module_version": "~2.1.4",
      "model_name": "LayoutModel",
      "state": {
       "_model_module_version": "~2.1.4",
       "_view_module_version": "~2.1.4"
      }
     },
     "732d495b63944655a750e8976f18423e": {
      "model_module": "jupyter-js-widgets",
      "model_module_version": "~2.1.4",
      "model_name": "LayoutModel",
      "state": {
       "_model_module_version": "~2.1.4",
       "_view_module_version": "~2.1.4"
      }
     },
     "752135fa92f74f189fca07af305149df": {
      "model_module": "jupyter-js-widgets",
      "model_module_version": "~2.1.4",
      "model_name": "ProgressStyleModel",
      "state": {
       "_model_module_version": "~2.1.4",
       "_view_module_version": "~2.1.4"
      }
     },
     "756c12e3f1f848109e00a8caf83fdcf5": {
      "model_module": "jupyter-js-widgets",
      "model_module_version": "~2.1.4",
      "model_name": "LayoutModel",
      "state": {
       "_model_module_version": "~2.1.4",
       "_view_module_version": "~2.1.4"
      }
     },
     "75fb96795cd64786ae23a3b94dc13084": {
      "model_module": "jupyter-js-widgets",
      "model_module_version": "~2.1.4",
      "model_name": "LayoutModel",
      "state": {
       "_model_module_version": "~2.1.4",
       "_view_module_version": "~2.1.4"
      }
     },
     "767a03eb8ffa46868298030af8a2a024": {
      "model_module": "jupyter-js-widgets",
      "model_module_version": "~2.1.4",
      "model_name": "LayoutModel",
      "state": {
       "_model_module_version": "~2.1.4",
       "_view_module_version": "~2.1.4"
      }
     },
     "76fd6ff218c446fab431c51b749e90d5": {
      "model_module": "jupyter-js-widgets",
      "model_module_version": "~2.1.4",
      "model_name": "ProgressModel",
      "state": {
       "_model_module_version": "~2.1.4",
       "_view_module_version": "~2.1.4",
       "bar_style": "success",
       "layout": "IPY_MODEL_99ac425c42134632940cda526be6006b",
       "max": 96,
       "style": "IPY_MODEL_9e5f1ed1ded849a797bfee72162de194",
       "value": 96
      }
     },
     "776dece3b8dd4853a63921b1838a6fbb": {
      "model_module": "jupyter-js-widgets",
      "model_module_version": "~2.1.4",
      "model_name": "ProgressStyleModel",
      "state": {
       "_model_module_version": "~2.1.4",
       "_view_module_version": "~2.1.4"
      }
     },
     "7903b2e78a2a470f9530f5f211f6b765": {
      "model_module": "jupyter-js-widgets",
      "model_module_version": "~2.1.4",
      "model_name": "HBoxModel",
      "state": {
       "_model_module_version": "~2.1.4",
       "_view_module_version": "~2.1.4",
       "children": [
        "IPY_MODEL_27981dcd399f4d3e8a91666e21f4ae2e",
        "IPY_MODEL_93180ac7ccde42ba85edfe8752d553e8"
       ],
       "layout": "IPY_MODEL_e0ca79c30cfd46b1a31eaf0e72b92874"
      }
     },
     "79b6fdd46fa944609deb0aa45abf1b3a": {
      "model_module": "jupyter-js-widgets",
      "model_module_version": "~2.1.4",
      "model_name": "ProgressStyleModel",
      "state": {
       "_model_module_version": "~2.1.4",
       "_view_module_version": "~2.1.4"
      }
     },
     "7a5a9e2ba96f43a9add82c043a4afd91": {
      "model_module": "jupyter-js-widgets",
      "model_module_version": "~2.1.4",
      "model_name": "LayoutModel",
      "state": {
       "_model_module_version": "~2.1.4",
       "_view_module_version": "~2.1.4"
      }
     },
     "7bf93f1ecc504789a8504ec3001bcdaf": {
      "model_module": "jupyter-js-widgets",
      "model_module_version": "~2.1.4",
      "model_name": "LayoutModel",
      "state": {
       "_model_module_version": "~2.1.4",
       "_view_module_version": "~2.1.4"
      }
     },
     "7c14ca3e318645f6870d21b10c871780": {
      "model_module": "jupyter-js-widgets",
      "model_module_version": "~2.1.4",
      "model_name": "LayoutModel",
      "state": {
       "_model_module_version": "~2.1.4",
       "_view_module_version": "~2.1.4"
      }
     },
     "7cfdc43744344e97b47e0c98886e2c5c": {
      "model_module": "jupyter-js-widgets",
      "model_module_version": "~2.1.4",
      "model_name": "ProgressModel",
      "state": {
       "_model_module_version": "~2.1.4",
       "_view_module_version": "~2.1.4",
       "bar_style": "success",
       "layout": "IPY_MODEL_a46243fe49064f39b570c14d9f18fd06",
       "max": 18,
       "style": "IPY_MODEL_26d7463bec764d209a5e318fb425794e",
       "value": 18
      }
     },
     "7ddff195fc714ba1956f2392b9b1c228": {
      "model_module": "jupyter-js-widgets",
      "model_module_version": "~2.1.4",
      "model_name": "LayoutModel",
      "state": {
       "_model_module_version": "~2.1.4",
       "_view_module_version": "~2.1.4"
      }
     },
     "7ec71b4c624d483da33feeced69c9369": {
      "model_module": "jupyter-js-widgets",
      "model_module_version": "~2.1.4",
      "model_name": "HTMLModel",
      "state": {
       "_model_module_version": "~2.1.4",
       "_view_module_version": "~2.1.4",
       "layout": "IPY_MODEL_1e86d361d19d45118671184a384594b7",
       "value": " 20% 19/96 [00:26&lt;01:21,  1.06s/it]"
      }
     },
     "7ffae9e159aa448c803bf6179a232d43": {
      "model_module": "jupyter-js-widgets",
      "model_module_version": "~2.1.4",
      "model_name": "LayoutModel",
      "state": {
       "_model_module_version": "~2.1.4",
       "_view_module_version": "~2.1.4"
      }
     },
     "8141400a347d4666916ffbcc6ef499bc": {
      "model_module": "jupyter-js-widgets",
      "model_module_version": "~2.1.4",
      "model_name": "LayoutModel",
      "state": {
       "_model_module_version": "~2.1.4",
       "_view_module_version": "~2.1.4"
      }
     },
     "815ecebc780745b89aaf9c507e8cf3d2": {
      "model_module": "jupyter-js-widgets",
      "model_module_version": "~2.1.4",
      "model_name": "LayoutModel",
      "state": {
       "_model_module_version": "~2.1.4",
       "_view_module_version": "~2.1.4"
      }
     },
     "828b5df897da4030b0b281cc2fa96b48": {
      "model_module": "jupyter-js-widgets",
      "model_module_version": "~2.1.4",
      "model_name": "ProgressStyleModel",
      "state": {
       "_model_module_version": "~2.1.4",
       "_view_module_version": "~2.1.4"
      }
     },
     "8382e066795f4ef98b9ce13a8c81e583": {
      "model_module": "jupyter-js-widgets",
      "model_module_version": "~2.1.4",
      "model_name": "ProgressStyleModel",
      "state": {
       "_model_module_version": "~2.1.4",
       "_view_module_version": "~2.1.4"
      }
     },
     "83d785ce1cf34fe299f804dc46894c28": {
      "model_module": "jupyter-js-widgets",
      "model_module_version": "~2.1.4",
      "model_name": "LayoutModel",
      "state": {
       "_model_module_version": "~2.1.4",
       "_view_module_version": "~2.1.4"
      }
     },
     "842df0c36ecd4c07b429e0a358ec1a81": {
      "model_module": "jupyter-js-widgets",
      "model_module_version": "~2.1.4",
      "model_name": "HTMLModel",
      "state": {
       "_model_module_version": "~2.1.4",
       "_view_module_version": "~2.1.4",
       "layout": "IPY_MODEL_0742b24d74d64a3bb82fedfcc9634f0c",
       "value": "  0% 0/96 [00:00&lt;?, ?it/s]"
      }
     },
     "856f345500ef4094b59f018b440d2dd1": {
      "model_module": "jupyter-js-widgets",
      "model_module_version": "~2.1.4",
      "model_name": "HTMLModel",
      "state": {
       "_model_module_version": "~2.1.4",
       "_view_module_version": "~2.1.4",
       "layout": "IPY_MODEL_83d785ce1cf34fe299f804dc46894c28",
       "value": "  0% 0/96 [00:00&lt;?, ?it/s]"
      }
     },
     "87be234dfe894569970d7d9ce1cd42b8": {
      "model_module": "jupyter-js-widgets",
      "model_module_version": "~2.1.4",
      "model_name": "ProgressStyleModel",
      "state": {
       "_model_module_version": "~2.1.4",
       "_view_module_version": "~2.1.4"
      }
     },
     "88113a19d3a74ac999f5f027ba27652c": {
      "model_module": "jupyter-js-widgets",
      "model_module_version": "~2.1.4",
      "model_name": "HBoxModel",
      "state": {
       "_model_module_version": "~2.1.4",
       "_view_module_version": "~2.1.4",
       "children": [
        "IPY_MODEL_de8f75e600dc408085f0d61d7d390ef8",
        "IPY_MODEL_14526bb3f6d644a786914d5452cd1573"
       ],
       "layout": "IPY_MODEL_12486d15dba74ab8b0035ba7a6b95b7f"
      }
     },
     "888bf4599f6f42d49ccab48fe23a48a4": {
      "model_module": "jupyter-js-widgets",
      "model_module_version": "~2.1.4",
      "model_name": "LayoutModel",
      "state": {
       "_model_module_version": "~2.1.4",
       "_view_module_version": "~2.1.4"
      }
     },
     "88f0b0ad6fee43598072bb9bbfbb5df9": {
      "model_module": "jupyter-js-widgets",
      "model_module_version": "~2.1.4",
      "model_name": "ProgressStyleModel",
      "state": {
       "_model_module_version": "~2.1.4",
       "_view_module_version": "~2.1.4"
      }
     },
     "8a0b23fba0a44c81999ecf884202aed4": {
      "model_module": "jupyter-js-widgets",
      "model_module_version": "~2.1.4",
      "model_name": "HBoxModel",
      "state": {
       "_model_module_version": "~2.1.4",
       "_view_module_version": "~2.1.4",
       "children": [
        "IPY_MODEL_9744c62467a943058abb70ceed14026e",
        "IPY_MODEL_ae31fb825f9a4d48b0d6ef89f529814e"
       ],
       "layout": "IPY_MODEL_c29059b725264775b680179cf70f45db"
      }
     },
     "8a2f65bea8754a049531c73363b9d5c5": {
      "model_module": "jupyter-js-widgets",
      "model_module_version": "~2.1.4",
      "model_name": "LayoutModel",
      "state": {
       "_model_module_version": "~2.1.4",
       "_view_module_version": "~2.1.4"
      }
     },
     "8a850ce7408547bca40f05749b029cee": {
      "model_module": "jupyter-js-widgets",
      "model_module_version": "~2.1.4",
      "model_name": "HTMLModel",
      "state": {
       "_model_module_version": "~2.1.4",
       "_view_module_version": "~2.1.4",
       "layout": "IPY_MODEL_756c12e3f1f848109e00a8caf83fdcf5",
       "value": "  0% 0/96 [00:00&lt;?, ?it/s]"
      }
     },
     "8a9fe02726a04e6d838d96882deccaec": {
      "model_module": "jupyter-js-widgets",
      "model_module_version": "~2.1.4",
      "model_name": "ProgressModel",
      "state": {
       "_model_module_version": "~2.1.4",
       "_view_module_version": "~2.1.4",
       "bar_style": "danger",
       "layout": "IPY_MODEL_db60e467011545cd95fb84c3d65c5fcc",
       "max": 96,
       "style": "IPY_MODEL_09b406b68fe5409fa8ea8059ae93343b",
       "value": 87
      }
     },
     "8b4f7fc05b104a30ba27ba09951bfa6d": {
      "model_module": "jupyter-js-widgets",
      "model_module_version": "~2.1.4",
      "model_name": "LayoutModel",
      "state": {
       "_model_module_version": "~2.1.4",
       "_view_module_version": "~2.1.4"
      }
     },
     "8c39150401f047e8b4e5a5d918405bb5": {
      "model_module": "jupyter-js-widgets",
      "model_module_version": "~2.1.4",
      "model_name": "ProgressModel",
      "state": {
       "_model_module_version": "~2.1.4",
       "_view_module_version": "~2.1.4",
       "bar_style": "danger",
       "layout": "IPY_MODEL_6358027386ef4d39b6e535a0169a26f8",
       "max": 18,
       "style": "IPY_MODEL_de09c186c46f482aace901199b37106f"
      }
     },
     "8d6b543774194a8bba8927bd0bb9eb6e": {
      "model_module": "jupyter-js-widgets",
      "model_module_version": "~2.1.4",
      "model_name": "LayoutModel",
      "state": {
       "_model_module_version": "~2.1.4",
       "_view_module_version": "~2.1.4"
      }
     },
     "8db1537d69574a51ae0d3fd8f25d4c3c": {
      "model_module": "jupyter-js-widgets",
      "model_module_version": "~2.1.4",
      "model_name": "HTMLModel",
      "state": {
       "_model_module_version": "~2.1.4",
       "_view_module_version": "~2.1.4",
       "layout": "IPY_MODEL_a8d887913ea042c0a9a52abccce50ce4",
       "value": "  0% 0/96 [00:00&lt;?, ?it/s]"
      }
     },
     "8df37808c37c49e5a44f6bcbc9dc098f": {
      "model_module": "jupyter-js-widgets",
      "model_module_version": "~2.1.4",
      "model_name": "LayoutModel",
      "state": {
       "_model_module_version": "~2.1.4",
       "_view_module_version": "~2.1.4"
      }
     },
     "8e03732523b14d8ab7b600ea48b127af": {
      "model_module": "jupyter-js-widgets",
      "model_module_version": "~2.1.4",
      "model_name": "LayoutModel",
      "state": {
       "_model_module_version": "~2.1.4",
       "_view_module_version": "~2.1.4"
      }
     },
     "8e96fb1993a444069a1ef8abd8f14f6b": {
      "model_module": "jupyter-js-widgets",
      "model_module_version": "~2.1.4",
      "model_name": "ProgressModel",
      "state": {
       "_model_module_version": "~2.1.4",
       "_view_module_version": "~2.1.4",
       "bar_style": "success",
       "layout": "IPY_MODEL_b91bc44475714e22a5f8a539946e7cbb",
       "max": 96,
       "style": "IPY_MODEL_4467022a33ad401abadb33853c0a12d5",
       "value": 96
      }
     },
     "9183da8008a14e5a8cb9ebe611f83b47": {
      "model_module": "jupyter-js-widgets",
      "model_module_version": "~2.1.4",
      "model_name": "ProgressStyleModel",
      "state": {
       "_model_module_version": "~2.1.4",
       "_view_module_version": "~2.1.4"
      }
     },
     "91d0c855c52d403987823cb584ca8e3f": {
      "model_module": "jupyter-js-widgets",
      "model_module_version": "~2.1.4",
      "model_name": "HTMLModel",
      "state": {
       "_model_module_version": "~2.1.4",
       "_view_module_version": "~2.1.4",
       "layout": "IPY_MODEL_67529273fe3a4052936e68938bd8da8c",
       "value": "  0% 0/18 [00:00&lt;?, ?it/s]"
      }
     },
     "9241878a4af74e09ad8adac16961f6fd": {
      "model_module": "jupyter-js-widgets",
      "model_module_version": "~2.1.4",
      "model_name": "ProgressModel",
      "state": {
       "_model_module_version": "~2.1.4",
       "_view_module_version": "~2.1.4",
       "bar_style": "success",
       "layout": "IPY_MODEL_4565e015fb374e1c9b28551e6fe1fce2",
       "max": 96,
       "style": "IPY_MODEL_fe8c25b4763748099e71777b33db861c",
       "value": 96
      }
     },
     "93180ac7ccde42ba85edfe8752d553e8": {
      "model_module": "jupyter-js-widgets",
      "model_module_version": "~2.1.4",
      "model_name": "HTMLModel",
      "state": {
       "_model_module_version": "~2.1.4",
       "_view_module_version": "~2.1.4",
       "layout": "IPY_MODEL_2550a848285b446a8f5f55a9dd7629b3",
       "value": " 22% 21/96 [00:02&lt;00:07, 10.41it/s]"
      }
     },
     "947fe28ee11745d5a31ecd427dc689df": {
      "model_module": "jupyter-js-widgets",
      "model_module_version": "~2.1.4",
      "model_name": "LayoutModel",
      "state": {
       "_model_module_version": "~2.1.4",
       "_view_module_version": "~2.1.4"
      }
     },
     "94fddf82f8154c67bce66b9c021849d7": {
      "model_module": "jupyter-js-widgets",
      "model_module_version": "~2.1.4",
      "model_name": "HTMLModel",
      "state": {
       "_model_module_version": "~2.1.4",
       "_view_module_version": "~2.1.4",
       "layout": "IPY_MODEL_8a2f65bea8754a049531c73363b9d5c5",
       "value": "100% 96/96 [00:14&lt;00:00,  6.79it/s]"
      }
     },
     "95e51fba8d1a486ca0855396c75b8069": {
      "model_module": "jupyter-js-widgets",
      "model_module_version": "~2.1.4",
      "model_name": "LayoutModel",
      "state": {
       "_model_module_version": "~2.1.4",
       "_view_module_version": "~2.1.4"
      }
     },
     "95f820986d284f56bc2a2fed551082ce": {
      "model_module": "jupyter-js-widgets",
      "model_module_version": "~2.1.4",
      "model_name": "LayoutModel",
      "state": {
       "_model_module_version": "~2.1.4",
       "_view_module_version": "~2.1.4"
      }
     },
     "9744c62467a943058abb70ceed14026e": {
      "model_module": "jupyter-js-widgets",
      "model_module_version": "~2.1.4",
      "model_name": "ProgressModel",
      "state": {
       "_model_module_version": "~2.1.4",
       "_view_module_version": "~2.1.4",
       "bar_style": "success",
       "layout": "IPY_MODEL_fd8a1ae88110492bb166b0b05fff9f76",
       "max": 96,
       "style": "IPY_MODEL_dff933912e0249d6bfaacb91210edcdb",
       "value": 96
      }
     },
     "9824f3a929f9474aa8484cbcf119835f": {
      "model_module": "jupyter-js-widgets",
      "model_module_version": "~2.1.4",
      "model_name": "ProgressStyleModel",
      "state": {
       "_model_module_version": "~2.1.4",
       "_view_module_version": "~2.1.4"
      }
     },
     "99ac425c42134632940cda526be6006b": {
      "model_module": "jupyter-js-widgets",
      "model_module_version": "~2.1.4",
      "model_name": "LayoutModel",
      "state": {
       "_model_module_version": "~2.1.4",
       "_view_module_version": "~2.1.4"
      }
     },
     "99ffdb3fd85b469aa2db701a7bc21024": {
      "model_module": "jupyter-js-widgets",
      "model_module_version": "~2.1.4",
      "model_name": "LayoutModel",
      "state": {
       "_model_module_version": "~2.1.4",
       "_view_module_version": "~2.1.4"
      }
     },
     "9a092eccfe344d9f810bf2cbdee34c92": {
      "model_module": "jupyter-js-widgets",
      "model_module_version": "~2.1.4",
      "model_name": "HBoxModel",
      "state": {
       "_model_module_version": "~2.1.4",
       "_view_module_version": "~2.1.4",
       "children": [
        "IPY_MODEL_bf079c2608fe400bbad17361dd5c4a48",
        "IPY_MODEL_5a5dd16c99c247d3ab08979a765403c8"
       ],
       "layout": "IPY_MODEL_0cfd7c3fdd7a458c90a3134262e77f5c"
      }
     },
     "9a86f5d6524747d68dbbf72d47af2f23": {
      "model_module": "jupyter-js-widgets",
      "model_module_version": "~2.1.4",
      "model_name": "ProgressModel",
      "state": {
       "_model_module_version": "~2.1.4",
       "_view_module_version": "~2.1.4",
       "bar_style": "success",
       "layout": "IPY_MODEL_f8752cebd1d24bbfae490bae4e07a087",
       "max": 18,
       "style": "IPY_MODEL_0ffbb53e6ab34d508af5b13e7f45b045",
       "value": 18
      }
     },
     "9b74af4ce8a54e35b2ce819ce19f7c98": {
      "model_module": "jupyter-js-widgets",
      "model_module_version": "~2.1.4",
      "model_name": "LayoutModel",
      "state": {
       "_model_module_version": "~2.1.4",
       "_view_module_version": "~2.1.4"
      }
     },
     "9c25d6b1ba914ba582181b7ea9abc59c": {
      "model_module": "jupyter-js-widgets",
      "model_module_version": "~2.1.4",
      "model_name": "ProgressStyleModel",
      "state": {
       "_model_module_version": "~2.1.4",
       "_view_module_version": "~2.1.4"
      }
     },
     "9c43864d14ff4189907ab68a8f40bafb": {
      "model_module": "jupyter-js-widgets",
      "model_module_version": "~2.1.4",
      "model_name": "HTMLModel",
      "state": {
       "_model_module_version": "~2.1.4",
       "_view_module_version": "~2.1.4",
       "layout": "IPY_MODEL_39cb38c9bae84d8ba5168c5edc095997",
       "value": "  0% 0/96 [00:00&lt;?, ?it/s]"
      }
     },
     "9cc971e949db4c9486b6ea64ee7930e4": {
      "model_module": "jupyter-js-widgets",
      "model_module_version": "~2.1.4",
      "model_name": "LayoutModel",
      "state": {
       "_model_module_version": "~2.1.4",
       "_view_module_version": "~2.1.4"
      }
     },
     "9d258df5164e4b829e590e21c7dc9856": {
      "model_module": "jupyter-js-widgets",
      "model_module_version": "~2.1.4",
      "model_name": "HTMLModel",
      "state": {
       "_model_module_version": "~2.1.4",
       "_view_module_version": "~2.1.4",
       "layout": "IPY_MODEL_7a5a9e2ba96f43a9add82c043a4afd91",
       "value": "  0% 0/96 [00:00&lt;?, ?it/s]"
      }
     },
     "9d4dd6698b4a473d98b70f0e8b96ae49": {
      "model_module": "jupyter-js-widgets",
      "model_module_version": "~2.1.4",
      "model_name": "ProgressStyleModel",
      "state": {
       "_model_module_version": "~2.1.4",
       "_view_module_version": "~2.1.4"
      }
     },
     "9e5f1ed1ded849a797bfee72162de194": {
      "model_module": "jupyter-js-widgets",
      "model_module_version": "~2.1.4",
      "model_name": "ProgressStyleModel",
      "state": {
       "_model_module_version": "~2.1.4",
       "_view_module_version": "~2.1.4"
      }
     },
     "9eb54a2dec044b4ba9d445006e20080f": {
      "model_module": "jupyter-js-widgets",
      "model_module_version": "~2.1.4",
      "model_name": "LayoutModel",
      "state": {
       "_model_module_version": "~2.1.4",
       "_view_module_version": "~2.1.4"
      }
     },
     "9edeff1c0f2e47c8904c6e0ffedbb65e": {
      "model_module": "jupyter-js-widgets",
      "model_module_version": "~2.1.4",
      "model_name": "HBoxModel",
      "state": {
       "_model_module_version": "~2.1.4",
       "_view_module_version": "~2.1.4",
       "children": [
        "IPY_MODEL_2777773b5e674403b000caf862c125eb",
        "IPY_MODEL_6b34b9692b5b4d3daca48cc5623cdbcc"
       ],
       "layout": "IPY_MODEL_63c1c6fa1ae24d9b90583bab8e10b5c5"
      }
     },
     "9ee09574d9774e17a08b9c7f53e60420": {
      "model_module": "jupyter-js-widgets",
      "model_module_version": "~2.1.4",
      "model_name": "LayoutModel",
      "state": {
       "_model_module_version": "~2.1.4",
       "_view_module_version": "~2.1.4"
      }
     },
     "9fe5f75abb4f4a76b613046203e454f4": {
      "model_module": "jupyter-js-widgets",
      "model_module_version": "~2.1.4",
      "model_name": "ProgressStyleModel",
      "state": {
       "_model_module_version": "~2.1.4",
       "_view_module_version": "~2.1.4"
      }
     },
     "a1dce2617f6d461bacc2501556c54493": {
      "model_module": "jupyter-js-widgets",
      "model_module_version": "~2.1.4",
      "model_name": "LayoutModel",
      "state": {
       "_model_module_version": "~2.1.4",
       "_view_module_version": "~2.1.4"
      }
     },
     "a2f18754a41d4a4b9015efceb65bdf12": {
      "model_module": "jupyter-js-widgets",
      "model_module_version": "~2.1.4",
      "model_name": "HTMLModel",
      "state": {
       "_model_module_version": "~2.1.4",
       "_view_module_version": "~2.1.4",
       "layout": "IPY_MODEL_467dcc06edb74d5e9790d3fabd3bddf2",
       "value": "100% 96/96 [00:00&lt;00:00, 1067.23it/s]"
      }
     },
     "a36e41fc48794c5a8cd9e8f357088bd6": {
      "model_module": "jupyter-js-widgets",
      "model_module_version": "~2.1.4",
      "model_name": "LayoutModel",
      "state": {
       "_model_module_version": "~2.1.4",
       "_view_module_version": "~2.1.4"
      }
     },
     "a3de7971b9134629bf4a6e143635eb47": {
      "model_module": "jupyter-js-widgets",
      "model_module_version": "~2.1.4",
      "model_name": "ProgressModel",
      "state": {
       "_model_module_version": "~2.1.4",
       "_view_module_version": "~2.1.4",
       "bar_style": "success",
       "layout": "IPY_MODEL_526e52c54f284f18a382ea42803e4703",
       "max": 96,
       "style": "IPY_MODEL_61fcb8f164d246f3974e6ad688d1b2e5",
       "value": 96
      }
     },
     "a46243fe49064f39b570c14d9f18fd06": {
      "model_module": "jupyter-js-widgets",
      "model_module_version": "~2.1.4",
      "model_name": "LayoutModel",
      "state": {
       "_model_module_version": "~2.1.4",
       "_view_module_version": "~2.1.4"
      }
     },
     "a51c85988c6149e6baa7210319366c9f": {
      "model_module": "jupyter-js-widgets",
      "model_module_version": "~2.1.4",
      "model_name": "LayoutModel",
      "state": {
       "_model_module_version": "~2.1.4",
       "_view_module_version": "~2.1.4"
      }
     },
     "a620ce28d2cd412cb9fe54b8a413adf0": {
      "model_module": "jupyter-js-widgets",
      "model_module_version": "~2.1.4",
      "model_name": "HBoxModel",
      "state": {
       "_model_module_version": "~2.1.4",
       "_view_module_version": "~2.1.4",
       "children": [
        "IPY_MODEL_04e68e5b38ae486caf19b7f08535fb4d",
        "IPY_MODEL_d8f7a5ed502e46a1b8316554b0a7178e"
       ],
       "layout": "IPY_MODEL_947fe28ee11745d5a31ecd427dc689df"
      }
     },
     "a679fb58684140f49e63f863baccd150": {
      "model_module": "jupyter-js-widgets",
      "model_module_version": "~2.1.4",
      "model_name": "HBoxModel",
      "state": {
       "_model_module_version": "~2.1.4",
       "_view_module_version": "~2.1.4",
       "children": [
        "IPY_MODEL_ac6adf51881649e6b3507f0c16e53a1e",
        "IPY_MODEL_9d258df5164e4b829e590e21c7dc9856"
       ],
       "layout": "IPY_MODEL_e7992629d8cc4c45b9114ffb4aa1c2f4"
      }
     },
     "a8746a666c0e4115988b51b46f9ce089": {
      "model_module": "jupyter-js-widgets",
      "model_module_version": "~2.1.4",
      "model_name": "ProgressStyleModel",
      "state": {
       "_model_module_version": "~2.1.4",
       "_view_module_version": "~2.1.4"
      }
     },
     "a88d547cb771437aa82ee167e3dd422c": {
      "model_module": "jupyter-js-widgets",
      "model_module_version": "~2.1.4",
      "model_name": "ProgressModel",
      "state": {
       "_model_module_version": "~2.1.4",
       "_view_module_version": "~2.1.4",
       "bar_style": "success",
       "layout": "IPY_MODEL_4716a7a393d742298263ff9786d751f7",
       "max": 96,
       "style": "IPY_MODEL_9824f3a929f9474aa8484cbcf119835f",
       "value": 96
      }
     },
     "a8d887913ea042c0a9a52abccce50ce4": {
      "model_module": "jupyter-js-widgets",
      "model_module_version": "~2.1.4",
      "model_name": "LayoutModel",
      "state": {
       "_model_module_version": "~2.1.4",
       "_view_module_version": "~2.1.4"
      }
     },
     "a9a6032958a04e28a7052b68b2db4e1a": {
      "model_module": "jupyter-js-widgets",
      "model_module_version": "~2.1.4",
      "model_name": "HTMLModel",
      "state": {
       "_model_module_version": "~2.1.4",
       "_view_module_version": "~2.1.4",
       "layout": "IPY_MODEL_4818eb732cf24c5caa7667cbbed14c52",
       "value": "100% 96/96 [00:13&lt;00:00,  7.36it/s]"
      }
     },
     "aa5da975b3f748b69eb9731a2f85f0b9": {
      "model_module": "jupyter-js-widgets",
      "model_module_version": "~2.1.4",
      "model_name": "LayoutModel",
      "state": {
       "_model_module_version": "~2.1.4",
       "_view_module_version": "~2.1.4"
      }
     },
     "aa78c848a72f49d38867c69d1ce41c31": {
      "model_module": "jupyter-js-widgets",
      "model_module_version": "~2.1.4",
      "model_name": "LayoutModel",
      "state": {
       "_model_module_version": "~2.1.4",
       "_view_module_version": "~2.1.4"
      }
     },
     "aad6e5df0ea2436a9bd77786ea31a67b": {
      "model_module": "jupyter-js-widgets",
      "model_module_version": "~2.1.4",
      "model_name": "HBoxModel",
      "state": {
       "_model_module_version": "~2.1.4",
       "_view_module_version": "~2.1.4",
       "children": [
        "IPY_MODEL_b387b3510bce4f1b921c6001a08539aa",
        "IPY_MODEL_7ec71b4c624d483da33feeced69c9369"
       ],
       "layout": "IPY_MODEL_7118646f0da74e2aba606fbbad3df87c"
      }
     },
     "ab35409a200d433ba682e7b448bff715": {
      "model_module": "jupyter-js-widgets",
      "model_module_version": "~2.1.4",
      "model_name": "HBoxModel",
      "state": {
       "_model_module_version": "~2.1.4",
       "_view_module_version": "~2.1.4",
       "children": [
        "IPY_MODEL_8a9fe02726a04e6d838d96882deccaec",
        "IPY_MODEL_c9ceb5f76b5849c1a7288ed32749c5a5"
       ],
       "layout": "IPY_MODEL_9ee09574d9774e17a08b9c7f53e60420"
      }
     },
     "ab5214d4dfad4ae5882363df4a128bbd": {
      "model_module": "jupyter-js-widgets",
      "model_module_version": "~2.1.4",
      "model_name": "LayoutModel",
      "state": {
       "_model_module_version": "~2.1.4",
       "_view_module_version": "~2.1.4"
      }
     },
     "abdd7ee6b82b4e43a159d971b4989d53": {
      "model_module": "jupyter-js-widgets",
      "model_module_version": "~2.1.4",
      "model_name": "LayoutModel",
      "state": {
       "_model_module_version": "~2.1.4",
       "_view_module_version": "~2.1.4"
      }
     },
     "ac6adf51881649e6b3507f0c16e53a1e": {
      "model_module": "jupyter-js-widgets",
      "model_module_version": "~2.1.4",
      "model_name": "ProgressModel",
      "state": {
       "_model_module_version": "~2.1.4",
       "_view_module_version": "~2.1.4",
       "bar_style": "danger",
       "layout": "IPY_MODEL_48000564c55d4daeb4834e3e8b10be09",
       "max": 96,
       "style": "IPY_MODEL_047f036534434907be4a52dbf9a213f7"
      }
     },
     "acbab8e2093145f2aa8c4cd79d8ad791": {
      "model_module": "jupyter-js-widgets",
      "model_module_version": "~2.1.4",
      "model_name": "LayoutModel",
      "state": {
       "_model_module_version": "~2.1.4",
       "_view_module_version": "~2.1.4"
      }
     },
     "ae014f1a30ee46efa86d2a7f44b75078": {
      "model_module": "jupyter-js-widgets",
      "model_module_version": "~2.1.4",
      "model_name": "HTMLModel",
      "state": {
       "_model_module_version": "~2.1.4",
       "_view_module_version": "~2.1.4",
       "layout": "IPY_MODEL_43f65af2271a4a6ab41551ab63e38a90",
       "value": "100% 96/96 [00:08&lt;00:00,  6.31it/s]"
      }
     },
     "ae31fb825f9a4d48b0d6ef89f529814e": {
      "model_module": "jupyter-js-widgets",
      "model_module_version": "~2.1.4",
      "model_name": "HTMLModel",
      "state": {
       "_model_module_version": "~2.1.4",
       "_view_module_version": "~2.1.4",
       "layout": "IPY_MODEL_c8c5d31017ee47dba0937c7adfe2c9ef",
       "value": "100% 96/96 [00:00&lt;00:00, 977.41it/s]"
      }
     },
     "ae7340bf8e6a46baa3f9770196dff974": {
      "model_module": "jupyter-js-widgets",
      "model_module_version": "~2.1.4",
      "model_name": "ProgressStyleModel",
      "state": {
       "_model_module_version": "~2.1.4",
       "_view_module_version": "~2.1.4"
      }
     },
     "b01b32eb9d794141865928e40f1315e2": {
      "model_module": "jupyter-js-widgets",
      "model_module_version": "~2.1.4",
      "model_name": "HBoxModel",
      "state": {
       "_model_module_version": "~2.1.4",
       "_view_module_version": "~2.1.4",
       "children": [
        "IPY_MODEL_1bd718b505e546d1a0d36cc3091395cf",
        "IPY_MODEL_f1f405e8386e4d14a4b759ff8ef983be"
       ],
       "layout": "IPY_MODEL_acbab8e2093145f2aa8c4cd79d8ad791"
      }
     },
     "b03ccf9cc7a14e2f813e2a4f85de7297": {
      "model_module": "jupyter-js-widgets",
      "model_module_version": "~2.1.4",
      "model_name": "HTMLModel",
      "state": {
       "_model_module_version": "~2.1.4",
       "_view_module_version": "~2.1.4",
       "layout": "IPY_MODEL_c14e08352c0a4c62bff5bab11c8f30ea",
       "value": "100% 96/96 [00:00&lt;00:00, 1109.54it/s]"
      }
     },
     "b10f43206b3743c5976a54e54abcdcd1": {
      "model_module": "jupyter-js-widgets",
      "model_module_version": "~2.1.4",
      "model_name": "HTMLModel",
      "state": {
       "_model_module_version": "~2.1.4",
       "_view_module_version": "~2.1.4",
       "layout": "IPY_MODEL_7bf93f1ecc504789a8504ec3001bcdaf",
       "value": "100% 96/96 [00:02&lt;00:00, 35.57it/s]"
      }
     },
     "b354bb075ec941b78c2692b0e3f929ff": {
      "model_module": "jupyter-js-widgets",
      "model_module_version": "~2.1.4",
      "model_name": "LayoutModel",
      "state": {
       "_model_module_version": "~2.1.4",
       "_view_module_version": "~2.1.4"
      }
     },
     "b369dccc32ac4fec8d1ec376cc35ffd4": {
      "model_module": "jupyter-js-widgets",
      "model_module_version": "~2.1.4",
      "model_name": "HTMLModel",
      "state": {
       "_model_module_version": "~2.1.4",
       "_view_module_version": "~2.1.4",
       "layout": "IPY_MODEL_b4549d773395447496469b726f253edd",
       "value": "  0% 0/18 [00:00&lt;?, ?it/s]"
      }
     },
     "b387b3510bce4f1b921c6001a08539aa": {
      "model_module": "jupyter-js-widgets",
      "model_module_version": "~2.1.4",
      "model_name": "ProgressModel",
      "state": {
       "_model_module_version": "~2.1.4",
       "_view_module_version": "~2.1.4",
       "bar_style": "danger",
       "layout": "IPY_MODEL_b8441e832d2e4309be81b878fc133812",
       "max": 96,
       "style": "IPY_MODEL_0d389398898b4b5fba7949eff76e2be5",
       "value": 19
      }
     },
     "b4549d773395447496469b726f253edd": {
      "model_module": "jupyter-js-widgets",
      "model_module_version": "~2.1.4",
      "model_name": "LayoutModel",
      "state": {
       "_model_module_version": "~2.1.4",
       "_view_module_version": "~2.1.4"
      }
     },
     "b485ac898a5e4916ad84576440b6739c": {
      "model_module": "jupyter-js-widgets",
      "model_module_version": "~2.1.4",
      "model_name": "ProgressModel",
      "state": {
       "_model_module_version": "~2.1.4",
       "_view_module_version": "~2.1.4",
       "bar_style": "danger",
       "layout": "IPY_MODEL_e932b9db53464c888d0398300bb1fe1c",
       "max": 96,
       "style": "IPY_MODEL_1dd6797d079146718399e6056028fae9"
      }
     },
     "b58cc3095d7d4ff5ab36c768ed715354": {
      "model_module": "jupyter-js-widgets",
      "model_module_version": "~2.1.4",
      "model_name": "LayoutModel",
      "state": {
       "_model_module_version": "~2.1.4",
       "_view_module_version": "~2.1.4"
      }
     },
     "b637d8eb88df4f6385ab4b04619a8555": {
      "model_module": "jupyter-js-widgets",
      "model_module_version": "~2.1.4",
      "model_name": "LayoutModel",
      "state": {
       "_model_module_version": "~2.1.4",
       "_view_module_version": "~2.1.4"
      }
     },
     "b8441e832d2e4309be81b878fc133812": {
      "model_module": "jupyter-js-widgets",
      "model_module_version": "~2.1.4",
      "model_name": "LayoutModel",
      "state": {
       "_model_module_version": "~2.1.4",
       "_view_module_version": "~2.1.4"
      }
     },
     "b8a7fa9dce544b4887dc70948c891039": {
      "model_module": "jupyter-js-widgets",
      "model_module_version": "~2.1.4",
      "model_name": "HBoxModel",
      "state": {
       "_model_module_version": "~2.1.4",
       "_view_module_version": "~2.1.4",
       "children": [
        "IPY_MODEL_2c6508cd07d24a278fef30220953bcd9",
        "IPY_MODEL_06d42b06b8dd4efdb04950a7e49d419d"
       ],
       "layout": "IPY_MODEL_f62d5750b20d448c85b667303e01c55b"
      }
     },
     "b91bc44475714e22a5f8a539946e7cbb": {
      "model_module": "jupyter-js-widgets",
      "model_module_version": "~2.1.4",
      "model_name": "LayoutModel",
      "state": {
       "_model_module_version": "~2.1.4",
       "_view_module_version": "~2.1.4"
      }
     },
     "b936082412b84ef98ac38fda5b317b4a": {
      "model_module": "jupyter-js-widgets",
      "model_module_version": "~2.1.4",
      "model_name": "LayoutModel",
      "state": {
       "_model_module_version": "~2.1.4",
       "_view_module_version": "~2.1.4"
      }
     },
     "b9f78f1d23344947bc919445eb4e1a49": {
      "model_module": "jupyter-js-widgets",
      "model_module_version": "~2.1.4",
      "model_name": "HTMLModel",
      "state": {
       "_model_module_version": "~2.1.4",
       "_view_module_version": "~2.1.4",
       "layout": "IPY_MODEL_f22f536f603445359beee6aff1decae2",
       "value": "100% 18/18 [00:00&lt;00:00, 189.82it/s]"
      }
     },
     "bc0d5e9337e044fda7641bfe4fc1e006": {
      "model_module": "jupyter-js-widgets",
      "model_module_version": "~2.1.4",
      "model_name": "HTMLModel",
      "state": {
       "_model_module_version": "~2.1.4",
       "_view_module_version": "~2.1.4",
       "layout": "IPY_MODEL_6ef398779c4343da97f90fc57b1e363b",
       "value": "  0% 0/96 [00:00&lt;?, ?it/s]"
      }
     },
     "bdcb1bf1ba9341798a041cc6496ea767": {
      "model_module": "jupyter-js-widgets",
      "model_module_version": "~2.1.4",
      "model_name": "HTMLModel",
      "state": {
       "_model_module_version": "~2.1.4",
       "_view_module_version": "~2.1.4",
       "layout": "IPY_MODEL_25fd718d9c404acf8b8a9ebf88c4fcb9",
       "value": "100% 18/18 [00:08&lt;00:00,  1.74it/s]"
      }
     },
     "bdce4396e7334e74bb71e2e7c327ec09": {
      "model_module": "jupyter-js-widgets",
      "model_module_version": "~2.1.4",
      "model_name": "LayoutModel",
      "state": {
       "_model_module_version": "~2.1.4",
       "_view_module_version": "~2.1.4"
      }
     },
     "bdfcfd95b5714ff48ef94224e8a3cd85": {
      "model_module": "jupyter-js-widgets",
      "model_module_version": "~2.1.4",
      "model_name": "ProgressStyleModel",
      "state": {
       "_model_module_version": "~2.1.4",
       "_view_module_version": "~2.1.4"
      }
     },
     "bf079c2608fe400bbad17361dd5c4a48": {
      "model_module": "jupyter-js-widgets",
      "model_module_version": "~2.1.4",
      "model_name": "ProgressModel",
      "state": {
       "_model_module_version": "~2.1.4",
       "_view_module_version": "~2.1.4",
       "bar_style": "success",
       "layout": "IPY_MODEL_efe1b44002bf452a9a58cdc53b73df18",
       "max": 18,
       "style": "IPY_MODEL_d549b39946a6466a880a2c4c97ede051",
       "value": 18
      }
     },
     "c14e08352c0a4c62bff5bab11c8f30ea": {
      "model_module": "jupyter-js-widgets",
      "model_module_version": "~2.1.4",
      "model_name": "LayoutModel",
      "state": {
       "_model_module_version": "~2.1.4",
       "_view_module_version": "~2.1.4"
      }
     },
     "c29059b725264775b680179cf70f45db": {
      "model_module": "jupyter-js-widgets",
      "model_module_version": "~2.1.4",
      "model_name": "LayoutModel",
      "state": {
       "_model_module_version": "~2.1.4",
       "_view_module_version": "~2.1.4"
      }
     },
     "c42d692b8c0a4f08a1fe01baa9c74451": {
      "model_module": "jupyter-js-widgets",
      "model_module_version": "~2.1.4",
      "model_name": "LayoutModel",
      "state": {
       "_model_module_version": "~2.1.4",
       "_view_module_version": "~2.1.4"
      }
     },
     "c4d5f292fb864d99a7c00687c1792bdb": {
      "model_module": "jupyter-js-widgets",
      "model_module_version": "~2.1.4",
      "model_name": "HBoxModel",
      "state": {
       "_model_module_version": "~2.1.4",
       "_view_module_version": "~2.1.4",
       "children": [
        "IPY_MODEL_62083c4dbde64c5697f7eee308786921",
        "IPY_MODEL_9c43864d14ff4189907ab68a8f40bafb"
       ],
       "layout": "IPY_MODEL_ce338f1d8b024a01a9e59e450818c709"
      }
     },
     "c50fff0be3bd40a588c47fb11f55120f": {
      "model_module": "jupyter-js-widgets",
      "model_module_version": "~2.1.4",
      "model_name": "LayoutModel",
      "state": {
       "_model_module_version": "~2.1.4",
       "_view_module_version": "~2.1.4"
      }
     },
     "c5739a4f98844190897838051dc86c73": {
      "model_module": "jupyter-js-widgets",
      "model_module_version": "~2.1.4",
      "model_name": "ProgressModel",
      "state": {
       "_model_module_version": "~2.1.4",
       "_view_module_version": "~2.1.4",
       "bar_style": "success",
       "layout": "IPY_MODEL_8e03732523b14d8ab7b600ea48b127af",
       "max": 96,
       "style": "IPY_MODEL_828b5df897da4030b0b281cc2fa96b48",
       "value": 96
      }
     },
     "c6993f297cb84bd8af33bba52ea3493b": {
      "model_module": "jupyter-js-widgets",
      "model_module_version": "~2.1.4",
      "model_name": "HBoxModel",
      "state": {
       "_model_module_version": "~2.1.4",
       "_view_module_version": "~2.1.4",
       "children": [
        "IPY_MODEL_ce3368dfcc5b49289b6cdca6d086511e",
        "IPY_MODEL_19654db5ee214778b0c91d0a9d75418c"
       ],
       "layout": "IPY_MODEL_95f820986d284f56bc2a2fed551082ce"
      }
     },
     "c69be62157014bf29e3f7b2f9e41af42": {
      "model_module": "jupyter-js-widgets",
      "model_module_version": "~2.1.4",
      "model_name": "LayoutModel",
      "state": {
       "_model_module_version": "~2.1.4",
       "_view_module_version": "~2.1.4"
      }
     },
     "c747a4287c924b15b5d0869623dbcf47": {
      "model_module": "jupyter-js-widgets",
      "model_module_version": "~2.1.4",
      "model_name": "HBoxModel",
      "state": {
       "_model_module_version": "~2.1.4",
       "_view_module_version": "~2.1.4",
       "children": [
        "IPY_MODEL_67cd578bf7b1448b8bf7aae582ac1f8b",
        "IPY_MODEL_dc0553082acd4c23ba355e2ecb228dfd"
       ],
       "layout": "IPY_MODEL_767a03eb8ffa46868298030af8a2a024"
      }
     },
     "c7ac32ab5b5844e2afd3b6ac128019fc": {
      "model_module": "jupyter-js-widgets",
      "model_module_version": "~2.1.4",
      "model_name": "HBoxModel",
      "state": {
       "_model_module_version": "~2.1.4",
       "_view_module_version": "~2.1.4",
       "children": [
        "IPY_MODEL_10f18864ffc348c685cf9ca50747f939",
        "IPY_MODEL_f354ef803bad48af933199b79782d9dc"
       ],
       "layout": "IPY_MODEL_7ffae9e159aa448c803bf6179a232d43"
      }
     },
     "c7ca15d822da4b799ffea0ac21024a6a": {
      "model_module": "jupyter-js-widgets",
      "model_module_version": "~2.1.4",
      "model_name": "ProgressModel",
      "state": {
       "_model_module_version": "~2.1.4",
       "_view_module_version": "~2.1.4",
       "bar_style": "success",
       "layout": "IPY_MODEL_153c16a4fb674726b371655565c526e6",
       "max": 18,
       "style": "IPY_MODEL_1a5b1d8c654f49beaa46f033d8223bfe",
       "value": 18
      }
     },
     "c8c5d31017ee47dba0937c7adfe2c9ef": {
      "model_module": "jupyter-js-widgets",
      "model_module_version": "~2.1.4",
      "model_name": "LayoutModel",
      "state": {
       "_model_module_version": "~2.1.4",
       "_view_module_version": "~2.1.4"
      }
     },
     "c9ceb5f76b5849c1a7288ed32749c5a5": {
      "model_module": "jupyter-js-widgets",
      "model_module_version": "~2.1.4",
      "model_name": "HTMLModel",
      "state": {
       "_model_module_version": "~2.1.4",
       "_view_module_version": "~2.1.4",
       "layout": "IPY_MODEL_1d78fd7308834cbe9bee074f8409b6fe",
       "value": " 91% 87/96 [00:05&lt;00:01,  5.27it/s]"
      }
     },
     "cca426a128df453bb1428a732babd406": {
      "model_module": "jupyter-js-widgets",
      "model_module_version": "~2.1.4",
      "model_name": "ProgressStyleModel",
      "state": {
       "_model_module_version": "~2.1.4",
       "_view_module_version": "~2.1.4"
      }
     },
     "cd1a9f91034840d0aa38d88bf433ea7f": {
      "model_module": "jupyter-js-widgets",
      "model_module_version": "~2.1.4",
      "model_name": "LayoutModel",
      "state": {
       "_model_module_version": "~2.1.4",
       "_view_module_version": "~2.1.4"
      }
     },
     "ce3368dfcc5b49289b6cdca6d086511e": {
      "model_module": "jupyter-js-widgets",
      "model_module_version": "~2.1.4",
      "model_name": "ProgressModel",
      "state": {
       "_model_module_version": "~2.1.4",
       "_view_module_version": "~2.1.4",
       "bar_style": "danger",
       "layout": "IPY_MODEL_277ac9512b98450aa8c6e942fd53e7b1",
       "max": 96,
       "style": "IPY_MODEL_e0d0ac5ca7134d00a72b6c43ee90bd3d"
      }
     },
     "ce338f1d8b024a01a9e59e450818c709": {
      "model_module": "jupyter-js-widgets",
      "model_module_version": "~2.1.4",
      "model_name": "LayoutModel",
      "state": {
       "_model_module_version": "~2.1.4",
       "_view_module_version": "~2.1.4"
      }
     },
     "ce76384cf69f481e8766b3b3f6da7f9d": {
      "model_module": "jupyter-js-widgets",
      "model_module_version": "~2.1.4",
      "model_name": "LayoutModel",
      "state": {
       "_model_module_version": "~2.1.4",
       "_view_module_version": "~2.1.4"
      }
     },
     "d007c987f21247ba8604b394bfeb4de6": {
      "model_module": "jupyter-js-widgets",
      "model_module_version": "~2.1.4",
      "model_name": "HBoxModel",
      "state": {
       "_model_module_version": "~2.1.4",
       "_view_module_version": "~2.1.4",
       "children": [
        "IPY_MODEL_8e96fb1993a444069a1ef8abd8f14f6b",
        "IPY_MODEL_f8387c8d54964f77a345e13b32afdb60"
       ],
       "layout": "IPY_MODEL_d06d5bf4db9c4dfd83bcac6ac78dbb60"
      }
     },
     "d06d5bf4db9c4dfd83bcac6ac78dbb60": {
      "model_module": "jupyter-js-widgets",
      "model_module_version": "~2.1.4",
      "model_name": "LayoutModel",
      "state": {
       "_model_module_version": "~2.1.4",
       "_view_module_version": "~2.1.4"
      }
     },
     "d1a5cb6a24b943fdb41c84600ca21cba": {
      "model_module": "jupyter-js-widgets",
      "model_module_version": "~2.1.4",
      "model_name": "LayoutModel",
      "state": {
       "_model_module_version": "~2.1.4",
       "_view_module_version": "~2.1.4"
      }
     },
     "d3b915a7065c44c1ad9990b8a93b0565": {
      "model_module": "jupyter-js-widgets",
      "model_module_version": "~2.1.4",
      "model_name": "LayoutModel",
      "state": {
       "_model_module_version": "~2.1.4",
       "_view_module_version": "~2.1.4"
      }
     },
     "d3baa4b43651407ebd6f032363405021": {
      "model_module": "jupyter-js-widgets",
      "model_module_version": "~2.1.4",
      "model_name": "LayoutModel",
      "state": {
       "_model_module_version": "~2.1.4",
       "_view_module_version": "~2.1.4"
      }
     },
     "d47ca601b4824fa4ad571d8db49c81e4": {
      "model_module": "jupyter-js-widgets",
      "model_module_version": "~2.1.4",
      "model_name": "HBoxModel",
      "state": {
       "_model_module_version": "~2.1.4",
       "_view_module_version": "~2.1.4",
       "children": [
        "IPY_MODEL_9a86f5d6524747d68dbbf72d47af2f23",
        "IPY_MODEL_06714ba43cb946ac9909c6e4743f1934"
       ],
       "layout": "IPY_MODEL_1bbc54f792ee48ceac656133fa73f562"
      }
     },
     "d549b39946a6466a880a2c4c97ede051": {
      "model_module": "jupyter-js-widgets",
      "model_module_version": "~2.1.4",
      "model_name": "ProgressStyleModel",
      "state": {
       "_model_module_version": "~2.1.4",
       "_view_module_version": "~2.1.4"
      }
     },
     "d7c779a5281244bda500be4dceeb798b": {
      "model_module": "jupyter-js-widgets",
      "model_module_version": "~2.1.4",
      "model_name": "ProgressStyleModel",
      "state": {
       "_model_module_version": "~2.1.4",
       "_view_module_version": "~2.1.4"
      }
     },
     "d8dc0c0cff0e4048a6680152c916182f": {
      "model_module": "jupyter-js-widgets",
      "model_module_version": "~2.1.4",
      "model_name": "LayoutModel",
      "state": {
       "_model_module_version": "~2.1.4",
       "_view_module_version": "~2.1.4"
      }
     },
     "d8f7a5ed502e46a1b8316554b0a7178e": {
      "model_module": "jupyter-js-widgets",
      "model_module_version": "~2.1.4",
      "model_name": "HTMLModel",
      "state": {
       "_model_module_version": "~2.1.4",
       "_view_module_version": "~2.1.4",
       "layout": "IPY_MODEL_5777e826898c4317a14993e972573dc2",
       "value": "  0% 0/96 [00:00&lt;?, ?it/s]"
      }
     },
     "d945dcfa2ff24ce3882e02baf134a462": {
      "model_module": "jupyter-js-widgets",
      "model_module_version": "~2.1.4",
      "model_name": "ProgressModel",
      "state": {
       "_model_module_version": "~2.1.4",
       "_view_module_version": "~2.1.4",
       "bar_style": "success",
       "layout": "IPY_MODEL_0d96b56ffdb84887af94593c0910018b",
       "max": 1,
       "style": "IPY_MODEL_88f0b0ad6fee43598072bb9bbfbb5df9",
       "value": 1
      }
     },
     "d9fd38c1784943109dc4bc4496012cd6": {
      "model_module": "jupyter-js-widgets",
      "model_module_version": "~2.1.4",
      "model_name": "HTMLModel",
      "state": {
       "_model_module_version": "~2.1.4",
       "_view_module_version": "~2.1.4",
       "layout": "IPY_MODEL_aa5da975b3f748b69eb9731a2f85f0b9",
       "value": "100% 18/18 [00:04&lt;00:00,  4.17it/s]"
      }
     },
     "db60e467011545cd95fb84c3d65c5fcc": {
      "model_module": "jupyter-js-widgets",
      "model_module_version": "~2.1.4",
      "model_name": "LayoutModel",
      "state": {
       "_model_module_version": "~2.1.4",
       "_view_module_version": "~2.1.4"
      }
     },
     "dbd8d1fe11bf4a7082b189bd04153951": {
      "model_module": "jupyter-js-widgets",
      "model_module_version": "~2.1.4",
      "model_name": "LayoutModel",
      "state": {
       "_model_module_version": "~2.1.4",
       "_view_module_version": "~2.1.4"
      }
     },
     "dc0553082acd4c23ba355e2ecb228dfd": {
      "model_module": "jupyter-js-widgets",
      "model_module_version": "~2.1.4",
      "model_name": "HTMLModel",
      "state": {
       "_model_module_version": "~2.1.4",
       "_view_module_version": "~2.1.4",
       "layout": "IPY_MODEL_7c14ca3e318645f6870d21b10c871780",
       "value": "  0% 0/96 [00:00&lt;?, ?it/s]"
      }
     },
     "dc860b89b5cd4b06b1b190ffa815ed8d": {
      "model_module": "jupyter-js-widgets",
      "model_module_version": "~2.1.4",
      "model_name": "LayoutModel",
      "state": {
       "_model_module_version": "~2.1.4",
       "_view_module_version": "~2.1.4"
      }
     },
     "dcbd428d38784ce381164101c42b137e": {
      "model_module": "jupyter-js-widgets",
      "model_module_version": "~2.1.4",
      "model_name": "HBoxModel",
      "state": {
       "_model_module_version": "~2.1.4",
       "_view_module_version": "~2.1.4",
       "children": [
        "IPY_MODEL_5a2f89ad895941ce9b4e51d7a7246bff",
        "IPY_MODEL_6513a25d3dfb4b09b12bef45f51ab9cb"
       ],
       "layout": "IPY_MODEL_dc860b89b5cd4b06b1b190ffa815ed8d"
      }
     },
     "dd06521bc1e64e0f8829c1aeb7a76b13": {
      "model_module": "jupyter-js-widgets",
      "model_module_version": "~2.1.4",
      "model_name": "HBoxModel",
      "state": {
       "_model_module_version": "~2.1.4",
       "_view_module_version": "~2.1.4",
       "children": [
        "IPY_MODEL_f4f533fbc39b40b5b4f7d2d4462be852",
        "IPY_MODEL_5bcbf01134aa44a5842c61b9e0a2ce2e"
       ],
       "layout": "IPY_MODEL_c50fff0be3bd40a588c47fb11f55120f"
      }
     },
     "ddb8207bcd684c538cd9041966b5fd9a": {
      "model_module": "jupyter-js-widgets",
      "model_module_version": "~2.1.4",
      "model_name": "LayoutModel",
      "state": {
       "_model_module_version": "~2.1.4",
       "_view_module_version": "~2.1.4"
      }
     },
     "de09c186c46f482aace901199b37106f": {
      "model_module": "jupyter-js-widgets",
      "model_module_version": "~2.1.4",
      "model_name": "ProgressStyleModel",
      "state": {
       "_model_module_version": "~2.1.4",
       "_view_module_version": "~2.1.4"
      }
     },
     "de1dd1a062d84d17a8196a2465fd32b2": {
      "model_module": "jupyter-js-widgets",
      "model_module_version": "~2.1.4",
      "model_name": "LayoutModel",
      "state": {
       "_model_module_version": "~2.1.4",
       "_view_module_version": "~2.1.4"
      }
     },
     "de8f75e600dc408085f0d61d7d390ef8": {
      "model_module": "jupyter-js-widgets",
      "model_module_version": "~2.1.4",
      "model_name": "ProgressModel",
      "state": {
       "_model_module_version": "~2.1.4",
       "_view_module_version": "~2.1.4",
       "bar_style": "success",
       "layout": "IPY_MODEL_1cf49454a8584f589c6be469cb70d46a",
       "max": 18,
       "style": "IPY_MODEL_df83f6a9c3574078b83bb8ef2da107e0",
       "value": 18
      }
     },
     "de9f2a7bb3644f6aa1a1860f60529704": {
      "model_module": "jupyter-js-widgets",
      "model_module_version": "~2.1.4",
      "model_name": "LayoutModel",
      "state": {
       "_model_module_version": "~2.1.4",
       "_view_module_version": "~2.1.4"
      }
     },
     "df83f6a9c3574078b83bb8ef2da107e0": {
      "model_module": "jupyter-js-widgets",
      "model_module_version": "~2.1.4",
      "model_name": "ProgressStyleModel",
      "state": {
       "_model_module_version": "~2.1.4",
       "_view_module_version": "~2.1.4"
      }
     },
     "df8d2c708bcb4b8690b4e1b8a43a2c1d": {
      "model_module": "jupyter-js-widgets",
      "model_module_version": "~2.1.4",
      "model_name": "ProgressStyleModel",
      "state": {
       "_model_module_version": "~2.1.4",
       "_view_module_version": "~2.1.4"
      }
     },
     "df93d7a3db794316b725c88ea3230a34": {
      "model_module": "jupyter-js-widgets",
      "model_module_version": "~2.1.4",
      "model_name": "ProgressStyleModel",
      "state": {
       "_model_module_version": "~2.1.4",
       "_view_module_version": "~2.1.4"
      }
     },
     "dff8e41bbd024157a2d774885ff79c8f": {
      "model_module": "jupyter-js-widgets",
      "model_module_version": "~2.1.4",
      "model_name": "ProgressStyleModel",
      "state": {
       "_model_module_version": "~2.1.4",
       "_view_module_version": "~2.1.4"
      }
     },
     "dff933912e0249d6bfaacb91210edcdb": {
      "model_module": "jupyter-js-widgets",
      "model_module_version": "~2.1.4",
      "model_name": "ProgressStyleModel",
      "state": {
       "_model_module_version": "~2.1.4",
       "_view_module_version": "~2.1.4"
      }
     },
     "dffbcdc2a07f494daeca4625e1eb0cb1": {
      "model_module": "jupyter-js-widgets",
      "model_module_version": "~2.1.4",
      "model_name": "LayoutModel",
      "state": {
       "_model_module_version": "~2.1.4",
       "_view_module_version": "~2.1.4"
      }
     },
     "e0ca79c30cfd46b1a31eaf0e72b92874": {
      "model_module": "jupyter-js-widgets",
      "model_module_version": "~2.1.4",
      "model_name": "LayoutModel",
      "state": {
       "_model_module_version": "~2.1.4",
       "_view_module_version": "~2.1.4"
      }
     },
     "e0d0ac5ca7134d00a72b6c43ee90bd3d": {
      "model_module": "jupyter-js-widgets",
      "model_module_version": "~2.1.4",
      "model_name": "ProgressStyleModel",
      "state": {
       "_model_module_version": "~2.1.4",
       "_view_module_version": "~2.1.4"
      }
     },
     "e18dc1fa36694ddbaabdeb2e7990d76f": {
      "model_module": "jupyter-js-widgets",
      "model_module_version": "~2.1.4",
      "model_name": "HTMLModel",
      "state": {
       "_model_module_version": "~2.1.4",
       "_view_module_version": "~2.1.4",
       "layout": "IPY_MODEL_5b83bed626254fc0954641cc9c51c219",
       "value": "100% 96/96 [00:00&lt;00:00, 847.07it/s]"
      }
     },
     "e1909ebea5ae45329ced3ea180c3b499": {
      "model_module": "jupyter-js-widgets",
      "model_module_version": "~2.1.4",
      "model_name": "LayoutModel",
      "state": {
       "_model_module_version": "~2.1.4",
       "_view_module_version": "~2.1.4"
      }
     },
     "e1dcd3e752f444f69ecfb0908c84b9d4": {
      "model_module": "jupyter-js-widgets",
      "model_module_version": "~2.1.4",
      "model_name": "HBoxModel",
      "state": {
       "_model_module_version": "~2.1.4",
       "_view_module_version": "~2.1.4",
       "children": [
        "IPY_MODEL_67f998ac2628410db1737b1fdbebad6b",
        "IPY_MODEL_e93c6d2764314d01850f5dcba1804b81"
       ],
       "layout": "IPY_MODEL_9cc971e949db4c9486b6ea64ee7930e4"
      }
     },
     "e57cdc6885cb40eaa2069c67010878e7": {
      "model_module": "jupyter-js-widgets",
      "model_module_version": "~2.1.4",
      "model_name": "ProgressModel",
      "state": {
       "_model_module_version": "~2.1.4",
       "_view_module_version": "~2.1.4",
       "bar_style": "success",
       "layout": "IPY_MODEL_e1909ebea5ae45329ced3ea180c3b499",
       "max": 96,
       "style": "IPY_MODEL_bdfcfd95b5714ff48ef94224e8a3cd85",
       "value": 96
      }
     },
     "e6d22c16a74948ad8914a717ebb3a3ee": {
      "model_module": "jupyter-js-widgets",
      "model_module_version": "~2.1.4",
      "model_name": "ProgressModel",
      "state": {
       "_model_module_version": "~2.1.4",
       "_view_module_version": "~2.1.4",
       "bar_style": "success",
       "layout": "IPY_MODEL_3431fb77a02c437ca92f16e68df4a767",
       "max": 18,
       "style": "IPY_MODEL_fb092a33bcda4918bb08fe394466ef91",
       "value": 18
      }
     },
     "e7992629d8cc4c45b9114ffb4aa1c2f4": {
      "model_module": "jupyter-js-widgets",
      "model_module_version": "~2.1.4",
      "model_name": "LayoutModel",
      "state": {
       "_model_module_version": "~2.1.4",
       "_view_module_version": "~2.1.4"
      }
     },
     "e91280b8eba54e12822e1f52805d86f4": {
      "model_module": "jupyter-js-widgets",
      "model_module_version": "~2.1.4",
      "model_name": "HTMLModel",
      "state": {
       "_model_module_version": "~2.1.4",
       "_view_module_version": "~2.1.4",
       "layout": "IPY_MODEL_a51c85988c6149e6baa7210319366c9f",
       "value": "  0% 0/199 [00:00&lt;?, ?it/s]"
      }
     },
     "e932b9db53464c888d0398300bb1fe1c": {
      "model_module": "jupyter-js-widgets",
      "model_module_version": "~2.1.4",
      "model_name": "LayoutModel",
      "state": {
       "_model_module_version": "~2.1.4",
       "_view_module_version": "~2.1.4"
      }
     },
     "e93c6d2764314d01850f5dcba1804b81": {
      "model_module": "jupyter-js-widgets",
      "model_module_version": "~2.1.4",
      "model_name": "HTMLModel",
      "state": {
       "_model_module_version": "~2.1.4",
       "_view_module_version": "~2.1.4",
       "layout": "IPY_MODEL_18b68189ea7e4049817048b6316fc6a3",
       "value": "100% 96/96 [00:41&lt;00:00,  1.03it/s]"
      }
     },
     "e9645d54e16940e49f4a9e4f017c335d": {
      "model_module": "jupyter-js-widgets",
      "model_module_version": "~2.1.4",
      "model_name": "LayoutModel",
      "state": {
       "_model_module_version": "~2.1.4",
       "_view_module_version": "~2.1.4"
      }
     },
     "e97dbe87b61943bc82aeb1f1d36619e1": {
      "model_module": "jupyter-js-widgets",
      "model_module_version": "~2.1.4",
      "model_name": "HTMLModel",
      "state": {
       "_model_module_version": "~2.1.4",
       "_view_module_version": "~2.1.4",
       "layout": "IPY_MODEL_6230529bc6a44f4ca88403890e469f56",
       "value": "  0% 0/96 [00:00&lt;?, ?it/s]"
      }
     },
     "ebb9aea397b74e1aba9547fdeb1136cd": {
      "model_module": "jupyter-js-widgets",
      "model_module_version": "~2.1.4",
      "model_name": "ProgressStyleModel",
      "state": {
       "_model_module_version": "~2.1.4",
       "_view_module_version": "~2.1.4"
      }
     },
     "ecc30a80fb1e49b0ad594bbe87074093": {
      "model_module": "jupyter-js-widgets",
      "model_module_version": "~2.1.4",
      "model_name": "ProgressModel",
      "state": {
       "_model_module_version": "~2.1.4",
       "_view_module_version": "~2.1.4",
       "bar_style": "success",
       "layout": "IPY_MODEL_2fd518586eb24f36b210eb072a2bf298",
       "max": 1,
       "style": "IPY_MODEL_209ec3f210964f1f8a6f0dd92b782d5e",
       "value": 1
      }
     },
     "ef2a123abfdd4f5d892c33f815f19953": {
      "model_module": "jupyter-js-widgets",
      "model_module_version": "~2.1.4",
      "model_name": "HBoxModel",
      "state": {
       "_model_module_version": "~2.1.4",
       "_view_module_version": "~2.1.4",
       "children": [
        "IPY_MODEL_fc49509f57354b2796e841ac09eec68e",
        "IPY_MODEL_8db1537d69574a51ae0d3fd8f25d4c3c"
       ],
       "layout": "IPY_MODEL_5794f7e0826e4251b98eaffbc47f5193"
      }
     },
     "efe1b44002bf452a9a58cdc53b73df18": {
      "model_module": "jupyter-js-widgets",
      "model_module_version": "~2.1.4",
      "model_name": "LayoutModel",
      "state": {
       "_model_module_version": "~2.1.4",
       "_view_module_version": "~2.1.4"
      }
     },
     "f05bde222860483cb5c43fff1e432d23": {
      "model_module": "jupyter-js-widgets",
      "model_module_version": "~2.1.4",
      "model_name": "HBoxModel",
      "state": {
       "_model_module_version": "~2.1.4",
       "_view_module_version": "~2.1.4",
       "children": [
        "IPY_MODEL_f12430d48e344f78a383064b7375e738",
        "IPY_MODEL_b10f43206b3743c5976a54e54abcdcd1"
       ],
       "layout": "IPY_MODEL_bdce4396e7334e74bb71e2e7c327ec09"
      }
     },
     "f0a8cfd016ec4103ba6dc2c17db13f27": {
      "model_module": "jupyter-js-widgets",
      "model_module_version": "~2.1.4",
      "model_name": "HTMLModel",
      "state": {
       "_model_module_version": "~2.1.4",
       "_view_module_version": "~2.1.4",
       "layout": "IPY_MODEL_d8dc0c0cff0e4048a6680152c916182f",
       "value": "100% 96/96 [00:00&lt;00:00, 1179.84it/s]"
      }
     },
     "f12430d48e344f78a383064b7375e738": {
      "model_module": "jupyter-js-widgets",
      "model_module_version": "~2.1.4",
      "model_name": "ProgressModel",
      "state": {
       "_model_module_version": "~2.1.4",
       "_view_module_version": "~2.1.4",
       "bar_style": "success",
       "layout": "IPY_MODEL_8141400a347d4666916ffbcc6ef499bc",
       "max": 96,
       "style": "IPY_MODEL_29d0b0fa04434db8ad6b05ebad64e83c",
       "value": 96
      }
     },
     "f1f405e8386e4d14a4b759ff8ef983be": {
      "model_module": "jupyter-js-widgets",
      "model_module_version": "~2.1.4",
      "model_name": "HTMLModel",
      "state": {
       "_model_module_version": "~2.1.4",
       "_view_module_version": "~2.1.4",
       "layout": "IPY_MODEL_b58cc3095d7d4ff5ab36c768ed715354",
       "value": "100% 96/96 [00:00&lt;00:00, 1164.15it/s]"
      }
     },
     "f22f536f603445359beee6aff1decae2": {
      "model_module": "jupyter-js-widgets",
      "model_module_version": "~2.1.4",
      "model_name": "LayoutModel",
      "state": {
       "_model_module_version": "~2.1.4",
       "_view_module_version": "~2.1.4"
      }
     },
     "f26848c903344646a0f25ee941feab8a": {
      "model_module": "jupyter-js-widgets",
      "model_module_version": "~2.1.4",
      "model_name": "ProgressModel",
      "state": {
       "_model_module_version": "~2.1.4",
       "_view_module_version": "~2.1.4",
       "bar_style": "success",
       "layout": "IPY_MODEL_b936082412b84ef98ac38fda5b317b4a",
       "max": 96,
       "style": "IPY_MODEL_8382e066795f4ef98b9ce13a8c81e583",
       "value": 96
      }
     },
     "f2d867700fed436c8b4f1aa327ce252f": {
      "model_module": "jupyter-js-widgets",
      "model_module_version": "~2.1.4",
      "model_name": "LayoutModel",
      "state": {
       "_model_module_version": "~2.1.4",
       "_view_module_version": "~2.1.4"
      }
     },
     "f354ef803bad48af933199b79782d9dc": {
      "model_module": "jupyter-js-widgets",
      "model_module_version": "~2.1.4",
      "model_name": "HTMLModel",
      "state": {
       "_model_module_version": "~2.1.4",
       "_view_module_version": "~2.1.4",
       "layout": "IPY_MODEL_fc090cab05344792a5ac3cfdf286efa6",
       "value": "  0% 0/96 [00:00&lt;?, ?it/s]"
      }
     },
     "f3b2a0282f2a4a188517aad321248f4a": {
      "model_module": "jupyter-js-widgets",
      "model_module_version": "~2.1.4",
      "model_name": "HTMLModel",
      "state": {
       "_model_module_version": "~2.1.4",
       "_view_module_version": "~2.1.4",
       "layout": "IPY_MODEL_06c789ec7eae4c8e97da47b11ff4f80b",
       "value": "100% 1/1 [00:00&lt;00:00, 10.73it/s]"
      }
     },
     "f43b13a44fa94a648ae3d2e3243948a9": {
      "model_module": "jupyter-js-widgets",
      "model_module_version": "~2.1.4",
      "model_name": "LayoutModel",
      "state": {
       "_model_module_version": "~2.1.4",
       "_view_module_version": "~2.1.4"
      }
     },
     "f4b18b7ca69e4592b422a2033008f831": {
      "model_module": "jupyter-js-widgets",
      "model_module_version": "~2.1.4",
      "model_name": "LayoutModel",
      "state": {
       "_model_module_version": "~2.1.4",
       "_view_module_version": "~2.1.4"
      }
     },
     "f4f533fbc39b40b5b4f7d2d4462be852": {
      "model_module": "jupyter-js-widgets",
      "model_module_version": "~2.1.4",
      "model_name": "ProgressModel",
      "state": {
       "_model_module_version": "~2.1.4",
       "_view_module_version": "~2.1.4",
       "bar_style": "success",
       "layout": "IPY_MODEL_a36e41fc48794c5a8cd9e8f357088bd6",
       "max": 96,
       "style": "IPY_MODEL_9183da8008a14e5a8cb9ebe611f83b47",
       "value": 96
      }
     },
     "f62d5750b20d448c85b667303e01c55b": {
      "model_module": "jupyter-js-widgets",
      "model_module_version": "~2.1.4",
      "model_name": "LayoutModel",
      "state": {
       "_model_module_version": "~2.1.4",
       "_view_module_version": "~2.1.4"
      }
     },
     "f6b31d50b17a4205af87587e6c17d217": {
      "model_module": "jupyter-js-widgets",
      "model_module_version": "~2.1.4",
      "model_name": "LayoutModel",
      "state": {
       "_model_module_version": "~2.1.4",
       "_view_module_version": "~2.1.4"
      }
     },
     "f74966b3b6f446a08f730a8480b17c8a": {
      "model_module": "jupyter-js-widgets",
      "model_module_version": "~2.1.4",
      "model_name": "HBoxModel",
      "state": {
       "_model_module_version": "~2.1.4",
       "_view_module_version": "~2.1.4",
       "children": [
        "IPY_MODEL_00223dc6a22541ff8b8efdf5424b79c2",
        "IPY_MODEL_b9f78f1d23344947bc919445eb4e1a49"
       ],
       "layout": "IPY_MODEL_6514e66e61204d46837036cc291ba49d"
      }
     },
     "f8387c8d54964f77a345e13b32afdb60": {
      "model_module": "jupyter-js-widgets",
      "model_module_version": "~2.1.4",
      "model_name": "HTMLModel",
      "state": {
       "_model_module_version": "~2.1.4",
       "_view_module_version": "~2.1.4",
       "layout": "IPY_MODEL_335bafd93e3f4f668327b9eafa074a63",
       "value": "100% 96/96 [00:10&lt;00:00,  3.17it/s]"
      }
     },
     "f841b296059b468f932ef2094b5df02e": {
      "model_module": "jupyter-js-widgets",
      "model_module_version": "~2.1.4",
      "model_name": "HBoxModel",
      "state": {
       "_model_module_version": "~2.1.4",
       "_view_module_version": "~2.1.4",
       "children": [
        "IPY_MODEL_1c182f459d02470e95303e3767ad4224",
        "IPY_MODEL_e91280b8eba54e12822e1f52805d86f4"
       ],
       "layout": "IPY_MODEL_482d62e489fc4501a67978c82e9cf346"
      }
     },
     "f8752cebd1d24bbfae490bae4e07a087": {
      "model_module": "jupyter-js-widgets",
      "model_module_version": "~2.1.4",
      "model_name": "LayoutModel",
      "state": {
       "_model_module_version": "~2.1.4",
       "_view_module_version": "~2.1.4"
      }
     },
     "f8afbcbfd8cb4079ae3f675cdd2a3c22": {
      "model_module": "jupyter-js-widgets",
      "model_module_version": "~2.1.4",
      "model_name": "HTMLModel",
      "state": {
       "_model_module_version": "~2.1.4",
       "_view_module_version": "~2.1.4",
       "layout": "IPY_MODEL_1f7373f3db664c1d9d6893f1a15c02b1",
       "value": "18it [00:04,  3.62it/s]"
      }
     },
     "f8c0539309534cf9b6f63b1d2168e387": {
      "model_module": "jupyter-js-widgets",
      "model_module_version": "~2.1.4",
      "model_name": "HBoxModel",
      "state": {
       "_model_module_version": "~2.1.4",
       "_view_module_version": "~2.1.4",
       "children": [
        "IPY_MODEL_706cdcdd7ea14582916990638e6fb449",
        "IPY_MODEL_8a850ce7408547bca40f05749b029cee"
       ],
       "layout": "IPY_MODEL_ce76384cf69f481e8766b3b3f6da7f9d"
      }
     },
     "fac8bb21f1f04dbf81ad12c80832d65d": {
      "model_module": "jupyter-js-widgets",
      "model_module_version": "~2.1.4",
      "model_name": "HBoxModel",
      "state": {
       "_model_module_version": "~2.1.4",
       "_view_module_version": "~2.1.4",
       "children": [
        "IPY_MODEL_e6d22c16a74948ad8914a717ebb3a3ee",
        "IPY_MODEL_091022531da04216ab4f36477f360d14"
       ],
       "layout": "IPY_MODEL_4d1c43584b064d95bf1d7f04530b3cf4"
      }
     },
     "fb092a33bcda4918bb08fe394466ef91": {
      "model_module": "jupyter-js-widgets",
      "model_module_version": "~2.1.4",
      "model_name": "ProgressStyleModel",
      "state": {
       "_model_module_version": "~2.1.4",
       "_view_module_version": "~2.1.4"
      }
     },
     "fc090cab05344792a5ac3cfdf286efa6": {
      "model_module": "jupyter-js-widgets",
      "model_module_version": "~2.1.4",
      "model_name": "LayoutModel",
      "state": {
       "_model_module_version": "~2.1.4",
       "_view_module_version": "~2.1.4"
      }
     },
     "fc4827f48e8242b2bdf0309c98f03d6b": {
      "model_module": "jupyter-js-widgets",
      "model_module_version": "~2.1.4",
      "model_name": "HBoxModel",
      "state": {
       "_model_module_version": "~2.1.4",
       "_view_module_version": "~2.1.4",
       "children": [
        "IPY_MODEL_49b86a789d2148c69606423c08ef12c0",
        "IPY_MODEL_bc0d5e9337e044fda7641bfe4fc1e006"
       ],
       "layout": "IPY_MODEL_ffeeb983fded4ddcad8d3c3e8d9eb115"
      }
     },
     "fc49509f57354b2796e841ac09eec68e": {
      "model_module": "jupyter-js-widgets",
      "model_module_version": "~2.1.4",
      "model_name": "ProgressModel",
      "state": {
       "_model_module_version": "~2.1.4",
       "_view_module_version": "~2.1.4",
       "bar_style": "danger",
       "layout": "IPY_MODEL_abdd7ee6b82b4e43a159d971b4989d53",
       "max": 96,
       "style": "IPY_MODEL_87be234dfe894569970d7d9ce1cd42b8"
      }
     },
     "fd8a1ae88110492bb166b0b05fff9f76": {
      "model_module": "jupyter-js-widgets",
      "model_module_version": "~2.1.4",
      "model_name": "LayoutModel",
      "state": {
       "_model_module_version": "~2.1.4",
       "_view_module_version": "~2.1.4"
      }
     },
     "fe1961ae55a645ec9b361b7c97ed9749": {
      "model_module": "jupyter-js-widgets",
      "model_module_version": "~2.1.4",
      "model_name": "LayoutModel",
      "state": {
       "_model_module_version": "~2.1.4",
       "_view_module_version": "~2.1.4"
      }
     },
     "fe2c70f81375445e90b7c663ab93d34b": {
      "model_module": "jupyter-js-widgets",
      "model_module_version": "~2.1.4",
      "model_name": "HBoxModel",
      "state": {
       "_model_module_version": "~2.1.4",
       "_view_module_version": "~2.1.4",
       "children": [
        "IPY_MODEL_09d1ab7319724940b70cd66535d41a52",
        "IPY_MODEL_11531d5ebea244428b36e8db7ade5986"
       ],
       "layout": "IPY_MODEL_47fa2cf04a1749ed8e2e4b16da5a97e4"
      }
     },
     "fe5a34a5734a4ac59883bbe512b7ec76": {
      "model_module": "jupyter-js-widgets",
      "model_module_version": "~2.1.4",
      "model_name": "HTMLModel",
      "state": {
       "_model_module_version": "~2.1.4",
       "_view_module_version": "~2.1.4",
       "layout": "IPY_MODEL_75fb96795cd64786ae23a3b94dc13084",
       "value": "100% 96/96 [00:00&lt;00:00, 1048.13it/s]"
      }
     },
     "fe8c25b4763748099e71777b33db861c": {
      "model_module": "jupyter-js-widgets",
      "model_module_version": "~2.1.4",
      "model_name": "ProgressStyleModel",
      "state": {
       "_model_module_version": "~2.1.4",
       "_view_module_version": "~2.1.4"
      }
     },
     "fea091cfa09f4f98b394b52ec1d76d51": {
      "model_module": "jupyter-js-widgets",
      "model_module_version": "~2.1.4",
      "model_name": "HBoxModel",
      "state": {
       "_model_module_version": "~2.1.4",
       "_view_module_version": "~2.1.4",
       "children": [
        "IPY_MODEL_a3de7971b9134629bf4a6e143635eb47",
        "IPY_MODEL_3a98a7d7a1204a8a8c786b550e9a5e74"
       ],
       "layout": "IPY_MODEL_52fe6c1a13d8472283b1510f10d80dc0"
      }
     },
     "ffeeb983fded4ddcad8d3c3e8d9eb115": {
      "model_module": "jupyter-js-widgets",
      "model_module_version": "~2.1.4",
      "model_name": "LayoutModel",
      "state": {
       "_model_module_version": "~2.1.4",
       "_view_module_version": "~2.1.4"
      }
     }
    },
    "version_major": 1,
    "version_minor": 0
   }
  }
 },
 "nbformat": 4,
 "nbformat_minor": 2
}
