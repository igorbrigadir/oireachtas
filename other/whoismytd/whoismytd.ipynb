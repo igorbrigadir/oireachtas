{
 "cells": [
  {
   "cell_type": "code",
   "execution_count": 45,
   "metadata": {
    "ExecuteTime": {
     "end_time": "2019-07-31T17:34:07.483582Z",
     "start_time": "2019-07-31T17:34:07.473356Z"
    }
   },
   "outputs": [],
   "source": [
    "# Commonly useful notebook functions:\n",
    "import sys\n",
    "sys.path.insert(0,'../../lib')\n",
    "from common import *\n",
    "from bs4 import BeautifulSoup"
   ]
  },
  {
   "cell_type": "code",
   "execution_count": 46,
   "metadata": {
    "ExecuteTime": {
     "end_time": "2019-07-31T17:34:08.196234Z",
     "start_time": "2019-07-31T17:34:08.020071Z"
    }
   },
   "outputs": [
    {
     "data": {
      "application/vnd.jupyter.widget-view+json": {
       "model_id": "4a8e1573ed0248ffb2ed152f7144cbdc",
       "version_major": 2,
       "version_minor": 0
      },
      "text/plain": [
       "HBox(children=(IntProgress(value=0, max=61), HTML(value='')))"
      ]
     },
     "metadata": {},
     "output_type": "display_data"
    },
    {
     "name": "stdout",
     "output_type": "stream",
     "text": [
      "\n",
      "\n"
     ]
    }
   ],
   "source": [
    "def save_page(page, overwrite=False):\n",
    "    fname = \"data/index/person_{}.html.xz\".format(page)\n",
    "    url = \"https://www.whoismytd.com/person?page={}\".format(page)\n",
    "    cache_url(url, fname)\n",
    "\n",
    "# People\n",
    "pages = range(1, 61 + 1)\n",
    "process_with_progress(save_page, pages)\n",
    "print()"
   ]
  },
  {
   "cell_type": "code",
   "execution_count": 47,
   "metadata": {
    "ExecuteTime": {
     "end_time": "2019-07-31T17:34:08.891425Z",
     "start_time": "2019-07-31T17:34:08.711716Z"
    }
   },
   "outputs": [
    {
     "data": {
      "application/vnd.jupyter.widget-view+json": {
       "model_id": "20a4e8bcd8954d91ae9cd15d301862b8",
       "version_major": 2,
       "version_minor": 0
      },
      "text/plain": [
       "HBox(children=(IntProgress(value=0, max=10), HTML(value='')))"
      ]
     },
     "metadata": {},
     "output_type": "display_data"
    },
    {
     "name": "stdout",
     "output_type": "stream",
     "text": [
      "\n",
      "\n"
     ]
    }
   ],
   "source": [
    "def save_page(page, overwrite=False):\n",
    "    fname = \"data/index/constituency_{}.html.xz\".format(page)\n",
    "    url = \"https://www.whoismytd.com/constituency?page={}\".format(page)\n",
    "    cache_url(url, fname)\n",
    "\n",
    "# People\n",
    "pages = range(1, 10 + 1)\n",
    "process_with_progress(save_page, pages)\n",
    "print()"
   ]
  },
  {
   "cell_type": "code",
   "execution_count": 48,
   "metadata": {
    "ExecuteTime": {
     "end_time": "2019-07-31T17:34:09.342323Z",
     "start_time": "2019-07-31T17:34:09.335423Z"
    }
   },
   "outputs": [],
   "source": [
    "# Groups\n",
    "cache_url(\"https://www.whoismytd.com/group\", \"data/index/group.html.xz\")\n",
    "# Bodies\n",
    "cache_url(\"https://www.whoismytd.com/body\", \"data/index/body.html.xz\")"
   ]
  },
  {
   "cell_type": "code",
   "execution_count": 49,
   "metadata": {
    "ExecuteTime": {
     "end_time": "2019-07-31T17:34:15.438141Z",
     "start_time": "2019-07-31T17:34:15.426912Z"
    }
   },
   "outputs": [],
   "source": [
    "def read_links(links, fname):\n",
    "    with lzma.open(fname, 'rb') as f:\n",
    "        soup = BeautifulSoup(f.read())\n",
    "        return soup.select(\"a[href*={}]\".format(links))\n",
    "    \n",
    "def save_page(page, overwrite=False):\n",
    "    fname = \"data/{}.html.xz\".format(page)\n",
    "    url = \"https://www.whoismytd.com{}\".format(page)\n",
    "    cache_url(url, fname)"
   ]
  },
  {
   "cell_type": "code",
   "execution_count": 50,
   "metadata": {
    "ExecuteTime": {
     "end_time": "2019-07-31T17:34:16.568566Z",
     "start_time": "2019-07-31T17:34:16.402166Z"
    }
   },
   "outputs": [
    {
     "data": {
      "application/vnd.jupyter.widget-view+json": {
       "model_id": "1ac25f152d184a499c2a2f7b2e415b3c",
       "version_major": 2,
       "version_minor": 0
      },
      "text/plain": [
       "HBox(children=(IntProgress(value=0, max=95), HTML(value='')))"
      ]
     },
     "metadata": {},
     "output_type": "display_data"
    },
    {
     "name": "stdout",
     "output_type": "stream",
     "text": [
      "\n",
      "\n"
     ]
    }
   ],
   "source": [
    "body_pages = [a['href'] for a in read_links(\"body\\/\", \"data/index/body.html.xz\")]\n",
    "process_with_progress(save_page, body_pages)\n",
    "print()"
   ]
  },
  {
   "cell_type": "code",
   "execution_count": 51,
   "metadata": {
    "ExecuteTime": {
     "end_time": "2019-07-31T17:34:17.530228Z",
     "start_time": "2019-07-31T17:34:17.367907Z"
    }
   },
   "outputs": [
    {
     "data": {
      "application/vnd.jupyter.widget-view+json": {
       "model_id": "dd6f0e8fdd024771bc94f6854c0545aa",
       "version_major": 2,
       "version_minor": 0
      },
      "text/plain": [
       "HBox(children=(IntProgress(value=0, max=27), HTML(value='')))"
      ]
     },
     "metadata": {},
     "output_type": "display_data"
    },
    {
     "name": "stdout",
     "output_type": "stream",
     "text": [
      "\n",
      "\n"
     ]
    }
   ],
   "source": [
    "group_pages = [a['href'] for a in read_links(\"group\\/\", \"data/index/group.html.xz\")]\n",
    "process_with_progress(save_page, group_pages)\n",
    "print()"
   ]
  },
  {
   "cell_type": "code",
   "execution_count": 52,
   "metadata": {
    "ExecuteTime": {
     "end_time": "2019-07-31T17:34:18.313023Z",
     "start_time": "2019-07-31T17:34:18.084135Z"
    }
   },
   "outputs": [
    {
     "data": {
      "application/vnd.jupyter.widget-view+json": {
       "model_id": "2c51a966b9c440db8dfec27e5138c101",
       "version_major": 2,
       "version_minor": 0
      },
      "text/plain": [
       "HBox(children=(IntProgress(value=0, max=280), HTML(value='')))"
      ]
     },
     "metadata": {},
     "output_type": "display_data"
    },
    {
     "name": "stdout",
     "output_type": "stream",
     "text": [
      "\n",
      "\n"
     ]
    }
   ],
   "source": [
    "constituency_pages = [a['href'] for fname in glob(\"data/index/constituency_*.html.xz\") for a in read_links(\"constituency\\/\", fname)]\n",
    "process_with_progress(save_page, constituency_pages)\n",
    "print()"
   ]
  },
  {
   "cell_type": "code",
   "execution_count": 54,
   "metadata": {
    "ExecuteTime": {
     "end_time": "2019-07-31T17:35:10.132238Z",
     "start_time": "2019-07-31T17:34:30.657084Z"
    }
   },
   "outputs": [
    {
     "data": {
      "application/vnd.jupyter.widget-view+json": {
       "model_id": "e4cc794e34154c31a30f78c98ccc5e9d",
       "version_major": 2,
       "version_minor": 0
      },
      "text/plain": [
       "HBox(children=(IntProgress(value=0, max=3408), HTML(value='')))"
      ]
     },
     "metadata": {},
     "output_type": "display_data"
    },
    {
     "name": "stdout",
     "output_type": "stream",
     "text": [
      "\n",
      "\n"
     ]
    }
   ],
   "source": [
    "person_pages = [a['href'] for fname in glob(\"data/index/person_*.html.xz\") for a in read_links(\"person\\/\", fname)]\n",
    "process_with_progress(save_page, person_pages)\n",
    "print()"
   ]
  },
  {
   "cell_type": "code",
   "execution_count": null,
   "metadata": {},
   "outputs": [],
   "source": []
  }
 ],
 "metadata": {
  "kernelspec": {
   "display_name": "Python 3",
   "language": "python",
   "name": "python3"
  },
  "language_info": {
   "codemirror_mode": {
    "name": "ipython",
    "version": 3
   },
   "file_extension": ".py",
   "mimetype": "text/x-python",
   "name": "python",
   "nbconvert_exporter": "python",
   "pygments_lexer": "ipython3",
   "version": "3.6.7"
  },
  "varInspector": {
   "cols": {
    "lenName": 16,
    "lenType": 16,
    "lenVar": 40
   },
   "kernels_config": {
    "python": {
     "delete_cmd_postfix": "",
     "delete_cmd_prefix": "del ",
     "library": "var_list.py",
     "varRefreshCmd": "print(var_dic_list())"
    },
    "r": {
     "delete_cmd_postfix": ") ",
     "delete_cmd_prefix": "rm(",
     "library": "var_list.r",
     "varRefreshCmd": "cat(var_dic_list()) "
    }
   },
   "types_to_exclude": [
    "module",
    "function",
    "builtin_function_or_method",
    "instance",
    "_Feature"
   ],
   "window_display": false
  }
 },
 "nbformat": 4,
 "nbformat_minor": 2
}
