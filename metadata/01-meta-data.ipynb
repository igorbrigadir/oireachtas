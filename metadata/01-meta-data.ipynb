{
 "cells": [
  {
   "cell_type": "markdown",
   "metadata": {},
   "source": [
    "# Oireachtas Metadata\n",
    "\n",
    "Useful metadata for joining with other types of data:\n",
    "* `/houses` Houses\n",
    "* `/parties` Parties List\n",
    "* `/constituencies` Constituencies List"
   ]
  },
  {
   "cell_type": "code",
   "execution_count": 1,
   "metadata": {
    "collapsed": true
   },
   "outputs": [],
   "source": [
    "# Commonly useful notebook functions:\n",
    "import sys\n",
    "sys.path.insert(0,'../lib')\n",
    "from common import *"
   ]
  },
  {
   "cell_type": "code",
   "execution_count": 5,
   "metadata": {
    "collapsed": true
   },
   "outputs": [],
   "source": [
    "# Load Data from a single file and return dataframe\n",
    "def cache_metadata(path, chamber_id):\n",
    "    path_url = \"https://api.oireachtas.ie/v1/{}?chamber_id={}&limit=10000\".format(path, chamber_id)\n",
    "    fname = \"data/{}/{}.json.xz\".format(path, chamber_id.replace('/ie/oireachtas/house/','').replace('/','_'))\n",
    "    cache_url(path_url, fname)"
   ]
  },
  {
   "cell_type": "code",
   "execution_count": 8,
   "metadata": {},
   "outputs": [],
   "source": [
    "cache_url(\"https://api.oireachtas.ie/v1/houses?limit=10000\", \"data/houses.json.xz\")"
   ]
  },
  {
   "cell_type": "code",
   "execution_count": 9,
   "metadata": {
    "collapsed": true
   },
   "outputs": [],
   "source": [
    "def house_df(fname):\n",
    "    with lzma.open(fname, 'rb') as f:\n",
    "        data = json.loads(f.read().decode('utf-8'))\n",
    "        records = json.dumps([r for r in data['results']])\n",
    "        df = pd.read_json(records, orient='records', dtype=False)\n",
    "        df = flatten_dataframe_columns(df, ['house'])\n",
    "        return df"
   ]
  },
  {
   "cell_type": "code",
   "execution_count": 10,
   "metadata": {
    "collapsed": true
   },
   "outputs": [],
   "source": [
    "df_house = house_df(\"data/houses.json.xz\")\n",
    "df_house.to_pickle('houses.p.xz', compression='xz')"
   ]
  },
  {
   "cell_type": "code",
   "execution_count": 12,
   "metadata": {},
   "outputs": [
    {
     "data": {
      "text/html": [
       "<style>\n",
       "          .renderjson a { text-decoration: none; }\n",
       "          .renderjson .disclosure { color: grey; text-decoration: none; }\n",
       "          .renderjson .syntax { color: grey; }\n",
       "          .renderjson .string { color: darkred; }\n",
       "          .renderjson .number { color: darkcyan; }\n",
       "          .renderjson .boolean { color: blueviolet; }\n",
       "          .renderjson .key    { color: darkblue; }\n",
       "          .renderjson .keyword { color: blue; }\n",
       "          .renderjson .object.syntax { color: lightseagreen; }\n",
       "          .renderjson .array.syntax  { color: orange; }\n",
       "          </style><div id=\"d204172a-fca7-4fe8-a96c-22361ab89cd5\" style=\"height: 100%; width:100%;\"></div>"
      ]
     },
     "metadata": {},
     "output_type": "display_data"
    },
    {
     "data": {
      "application/javascript": [
       "\n",
       "          require([\"https://rawgit.com/caldwell/renderjson/master/renderjson.js\"], function() {\n",
       "          renderjson.set_show_to_level(1)\n",
       "          renderjson.set_sort_objects(true)\n",
       "          renderjson.set_icons('▶', '▼')\n",
       "          document.getElementById('d204172a-fca7-4fe8-a96c-22361ab89cd5').appendChild(renderjson({\"head\": {\"counts\": {\"housesCount\": 61, \"resultCount\": 61}, \"dateRange\": {\"start\": \"\", \"end\": \"\"}, \"lang\": \"mul\"}, \"results\": [{\"esid\": \"data-houses-ieoireachtashouseseanad25\", \"house\": {\"chamberCode\": \"seanad\", \"chamberType\": \"house\", \"dateRange\": {\"end\": null, \"start\": \"2016-04-25\"}, \"houseCode\": \"seanad\", \"houseNo\": \"25\", \"houseType\": \"seanad\", \"seats\": 60, \"showAs\": \"25th Seanad\", \"uri\": \"/ie/oireachtas/house/seanad/25\"}}, {\"esid\": \"data-houses-ieoireachtashousedail32\", \"house\": {\"chamberCode\": \"dail\", \"chamberType\": \"house\", \"dateRange\": {\"end\": null, \"start\": \"2016-03-10\"}, \"houseCode\": \"dail\", \"houseNo\": \"32\", \"houseType\": \"dail\", \"seats\": 158, \"showAs\": \"32nd D\\u00e1il\", \"uri\": \"/ie/oireachtas/house/dail/32\"}}, {\"esid\": \"data-houses-ieoireachtashouseseanad24\", \"house\": {\"chamberCode\": \"seanad\", \"chamberType\": \"house\", \"dateRange\": {\"end\": \"2016-04-24\", \"start\": \"2011-05-25\"}, \"houseCode\": \"seanad\", \"houseNo\": \"24\", \"houseType\": \"seanad\", \"seats\": 60, \"showAs\": \"24th Seanad\", \"uri\": \"/ie/oireachtas/house/seanad/24\"}}, {\"esid\": \"data-houses-ieoireachtashousedail31\", \"house\": {\"chamberCode\": \"dail\", \"chamberType\": \"house\", \"dateRange\": {\"end\": \"2016-03-09\", \"start\": \"2011-03-09\"}, \"houseCode\": \"dail\", \"houseNo\": \"31\", \"houseType\": \"dail\", \"seats\": 166, \"showAs\": \"31st D\\u00e1il\", \"uri\": \"/ie/oireachtas/house/dail/31\"}}, {\"esid\": \"data-houses-ieoireachtashouseseanad23\", \"house\": {\"chamberCode\": \"seanad\", \"chamberType\": \"house\", \"dateRange\": {\"end\": \"2011-04-25\", \"start\": \"2007-07-23\"}, \"houseCode\": \"seanad\", \"houseNo\": \"23\", \"houseType\": \"seanad\", \"seats\": 60, \"showAs\": \"23rd Seanad\", \"uri\": \"/ie/oireachtas/house/seanad/23\"}}, {\"esid\": \"data-houses-ieoireachtashousedail30\", \"house\": {\"chamberCode\": \"dail\", \"chamberType\": \"house\", \"dateRange\": {\"end\": \"2011-02-01\", \"start\": \"2007-06-14\"}, \"houseCode\": \"dail\", \"houseNo\": \"30\", \"houseType\": \"dail\", \"seats\": 166, \"showAs\": \"30th D\\u00e1il\", \"uri\": \"/ie/oireachtas/house/dail/30\"}}, {\"esid\": \"data-houses-ieoireachtashouseseanad22\", \"house\": {\"chamberCode\": \"seanad\", \"chamberType\": \"house\", \"dateRange\": {\"end\": \"2007-07-22\", \"start\": \"2002-09-12\"}, \"houseCode\": \"seanad\", \"houseNo\": \"22\", \"houseType\": \"seanad\", \"seats\": 60, \"showAs\": \"22nd Seanad\", \"uri\": \"/ie/oireachtas/house/seanad/22\"}}, {\"esid\": \"data-houses-ieoireachtashousedail29\", \"house\": {\"chamberCode\": \"dail\", \"chamberType\": \"house\", \"dateRange\": {\"end\": \"2007-04-30\", \"start\": \"2002-06-06\"}, \"houseCode\": \"dail\", \"houseNo\": \"29\", \"houseType\": \"dail\", \"seats\": 166, \"showAs\": \"29th D\\u00e1il\", \"uri\": \"/ie/oireachtas/house/dail/29\"}}, {\"esid\": \"data-houses-ieoireachtashouseseanad21\", \"house\": {\"chamberCode\": \"seanad\", \"chamberType\": \"house\", \"dateRange\": {\"end\": \"2002-06-26\", \"start\": \"1997-09-17\"}, \"houseCode\": \"seanad\", \"houseNo\": \"21\", \"houseType\": \"seanad\", \"seats\": 60, \"showAs\": \"21st Seanad\", \"uri\": \"/ie/oireachtas/house/seanad/21\"}}, {\"esid\": \"data-houses-ieoireachtashousedail28\", \"house\": {\"chamberCode\": \"dail\", \"chamberType\": \"house\", \"dateRange\": {\"end\": \"2002-04-25\", \"start\": \"1997-06-26\"}, \"houseCode\": \"dail\", \"houseNo\": \"28\", \"houseType\": \"dail\", \"seats\": 166, \"showAs\": \"28th D\\u00e1il\", \"uri\": \"/ie/oireachtas/house/dail/28\"}}, {\"esid\": \"data-houses-ieoireachtashouseseanad20\", \"house\": {\"chamberCode\": \"seanad\", \"chamberType\": \"house\", \"dateRange\": {\"end\": \"1997-07-10\", \"start\": \"1993-02-17\"}, \"houseCode\": \"seanad\", \"houseNo\": \"20\", \"houseType\": \"seanad\", \"seats\": 60, \"showAs\": \"20th Seanad\", \"uri\": \"/ie/oireachtas/house/seanad/20\"}}, {\"esid\": \"data-houses-ieoireachtashousedail27\", \"house\": {\"chamberCode\": \"dail\", \"chamberType\": \"house\", \"dateRange\": {\"end\": \"1997-05-15\", \"start\": \"1992-12-14\"}, \"houseCode\": \"dail\", \"houseNo\": \"27\", \"houseType\": \"dail\", \"seats\": 166, \"showAs\": \"27th D\\u00e1il\", \"uri\": \"/ie/oireachtas/house/dail/27\"}}, {\"esid\": \"data-houses-ieoireachtashouseseanad19\", \"house\": {\"chamberCode\": \"seanad\", \"chamberType\": \"house\", \"dateRange\": {\"end\": \"1992-12-17\", \"start\": \"1989-10-01\"}, \"houseCode\": \"seanad\", \"houseNo\": \"19\", \"houseType\": \"seanad\", \"seats\": 60, \"showAs\": \"19th Seanad\", \"uri\": \"/ie/oireachtas/house/seanad/19\"}}, {\"esid\": \"data-houses-ieoireachtashousedail26\", \"house\": {\"chamberCode\": \"dail\", \"chamberType\": \"house\", \"dateRange\": {\"end\": \"1992-11-05\", \"start\": \"1989-06-29\"}, \"houseCode\": \"dail\", \"houseNo\": \"26\", \"houseType\": \"dail\", \"seats\": 166, \"showAs\": \"26th D\\u00e1il\", \"uri\": \"/ie/oireachtas/house/dail/26\"}}, {\"esid\": \"data-houses-ieoireachtashouseseanad18\", \"house\": {\"chamberCode\": \"seanad\", \"chamberType\": \"house\", \"dateRange\": {\"end\": \"1989-07-05\", \"start\": \"1987-04-25\"}, \"houseCode\": \"seanad\", \"houseNo\": \"18\", \"houseType\": \"seanad\", \"seats\": 60, \"showAs\": \"18th Seanad\", \"uri\": \"/ie/oireachtas/house/seanad/18\"}}, {\"esid\": \"data-houses-ieoireachtashousedail25\", \"house\": {\"chamberCode\": \"dail\", \"chamberType\": \"house\", \"dateRange\": {\"end\": \"1989-05-25\", \"start\": \"1987-03-10\"}, \"houseCode\": \"dail\", \"houseNo\": \"25\", \"houseType\": \"dail\", \"seats\": 166, \"showAs\": \"25th D\\u00e1il\", \"uri\": \"/ie/oireachtas/house/dail/25\"}}, {\"esid\": \"data-houses-ieoireachtashouseseanad17\", \"house\": {\"chamberCode\": \"seanad\", \"chamberType\": \"house\", \"dateRange\": {\"end\": \"1987-04-03\", \"start\": \"1983-02-23\"}, \"houseCode\": \"seanad\", \"houseNo\": \"17\", \"houseType\": \"seanad\", \"seats\": 60, \"showAs\": \"17th Seanad\", \"uri\": \"/ie/oireachtas/house/seanad/17\"}}, {\"esid\": \"data-houses-ieoireachtashousedail24\", \"house\": {\"chamberCode\": \"dail\", \"chamberType\": \"house\", \"dateRange\": {\"end\": \"1987-01-21\", \"start\": \"1982-12-14\"}, \"houseCode\": \"dail\", \"houseNo\": \"24\", \"houseType\": \"dail\", \"seats\": 166, \"showAs\": \"24th D\\u00e1il\", \"uri\": \"/ie/oireachtas/house/dail/24\"}}, {\"esid\": \"data-houses-ieoireachtashouseseanad16\", \"house\": {\"chamberCode\": \"seanad\", \"chamberType\": \"house\", \"dateRange\": {\"end\": \"1982-12-21\", \"start\": \"1982-05-13\"}, \"houseCode\": \"seanad\", \"houseNo\": \"16\", \"houseType\": \"seanad\", \"seats\": 60, \"showAs\": \"16th Seanad\", \"uri\": \"/ie/oireachtas/house/seanad/16\"}}, {\"esid\": \"data-houses-ieoireachtashousedail23\", \"house\": {\"chamberCode\": \"dail\", \"chamberType\": \"house\", \"dateRange\": {\"end\": \"1982-11-04\", \"start\": \"1982-03-09\"}, \"houseCode\": \"dail\", \"houseNo\": \"23\", \"houseType\": \"dail\", \"seats\": 166, \"showAs\": \"23rd D\\u00e1il\", \"uri\": \"/ie/oireachtas/house/dail/23\"}}, {\"esid\": \"data-houses-ieoireachtashouseseanad15\", \"house\": {\"chamberCode\": \"seanad\", \"chamberType\": \"house\", \"dateRange\": {\"end\": \"1982-04-16\", \"start\": \"1981-10-08\"}, \"houseCode\": \"seanad\", \"houseNo\": \"15\", \"houseType\": \"seanad\", \"seats\": 60, \"showAs\": \"15th Seanad\", \"uri\": \"/ie/oireachtas/house/seanad/15\"}}, {\"esid\": \"data-houses-ieoireachtashousedail22\", \"house\": {\"chamberCode\": \"dail\", \"chamberType\": \"house\", \"dateRange\": {\"end\": \"1982-02-27\", \"start\": \"1981-06-30\"}, \"houseCode\": \"dail\", \"houseNo\": \"22\", \"houseType\": \"dail\", \"seats\": 166, \"showAs\": \"22nd D\\u00e1il\", \"uri\": \"/ie/oireachtas/house/dail/22\"}}, {\"esid\": \"data-houses-ieoireachtashouseseanad14\", \"house\": {\"chamberCode\": \"seanad\", \"chamberType\": \"house\", \"dateRange\": {\"end\": \"1981-07-16\", \"start\": \"1977-10-27\"}, \"houseCode\": \"seanad\", \"houseNo\": \"14\", \"houseType\": \"seanad\", \"seats\": 60, \"showAs\": \"14th Seanad\", \"uri\": \"/ie/oireachtas/house/seanad/14\"}}, {\"esid\": \"data-houses-ieoireachtashousedail21\", \"house\": {\"chamberCode\": \"dail\", \"chamberType\": \"house\", \"dateRange\": {\"end\": \"1981-05-21\", \"start\": \"1977-07-05\"}, \"houseCode\": \"dail\", \"houseNo\": \"21\", \"houseType\": \"dail\", \"seats\": 148, \"showAs\": \"21st D\\u00e1il\", \"uri\": \"/ie/oireachtas/house/dail/21\"}}, {\"esid\": \"data-houses-ieoireachtashouseseanad13\", \"house\": {\"chamberCode\": \"seanad\", \"chamberType\": \"house\", \"dateRange\": {\"end\": \"1977-05-26\", \"start\": \"1973-06-01\"}, \"houseCode\": \"seanad\", \"houseNo\": \"13\", \"houseType\": \"seanad\", \"seats\": 60, \"showAs\": \"13th Seanad\", \"uri\": \"/ie/oireachtas/house/seanad/13\"}}, {\"esid\": \"data-houses-ieoireachtashousedail20\", \"house\": {\"chamberCode\": \"dail\", \"chamberType\": \"house\", \"dateRange\": {\"end\": \"1977-05-25\", \"start\": \"1973-03-14\"}, \"houseCode\": \"dail\", \"houseNo\": \"20\", \"houseType\": \"dail\", \"seats\": 144, \"showAs\": \"20th D\\u00e1il\", \"uri\": \"/ie/oireachtas/house/dail/20\"}}, {\"esid\": \"data-houses-ieoireachtashouseseanad12\", \"house\": {\"chamberCode\": \"seanad\", \"chamberType\": \"house\", \"dateRange\": {\"end\": \"1973-03-30\", \"start\": \"1969-11-05\"}, \"houseCode\": \"seanad\", \"houseNo\": \"12\", \"houseType\": \"seanad\", \"seats\": 60, \"showAs\": \"12th Seanad\", \"uri\": \"/ie/oireachtas/house/seanad/12\"}}, {\"esid\": \"data-houses-ieoireachtashousedail19\", \"house\": {\"chamberCode\": \"dail\", \"chamberType\": \"house\", \"dateRange\": {\"end\": \"1973-02-05\", \"start\": \"1969-07-02\"}, \"houseCode\": \"dail\", \"houseNo\": \"19\", \"houseType\": \"dail\", \"seats\": 144, \"showAs\": \"19th D\\u00e1il\", \"uri\": \"/ie/oireachtas/house/dail/19\"}}, {\"esid\": \"data-houses-ieoireachtashouseseanad11\", \"house\": {\"chamberCode\": \"seanad\", \"chamberType\": \"house\", \"dateRange\": {\"end\": \"1969-07-24\", \"start\": \"1965-06-23\"}, \"houseCode\": \"seanad\", \"houseNo\": \"11\", \"houseType\": \"seanad\", \"seats\": 60, \"showAs\": \"11th Seanad\", \"uri\": \"/ie/oireachtas/house/seanad/11\"}}, {\"esid\": \"data-houses-ieoireachtashousedail18\", \"house\": {\"chamberCode\": \"dail\", \"chamberType\": \"house\", \"dateRange\": {\"end\": \"1969-05-22\", \"start\": \"1965-04-21\"}, \"houseCode\": \"dail\", \"houseNo\": \"18\", \"houseType\": \"dail\", \"seats\": 144, \"showAs\": \"18th D\\u00e1il\", \"uri\": \"/ie/oireachtas/house/dail/18\"}}, {\"esid\": \"data-houses-ieoireachtashouseseanad10\", \"house\": {\"chamberCode\": \"seanad\", \"chamberType\": \"house\", \"dateRange\": {\"end\": \"1965-04-28\", \"start\": \"1961-12-14\"}, \"houseCode\": \"seanad\", \"houseNo\": \"10\", \"houseType\": \"seanad\", \"seats\": 60, \"showAs\": \"10th Seanad\", \"uri\": \"/ie/oireachtas/house/seanad/10\"}}, {\"esid\": \"data-houses-ieoireachtashousedail17\", \"house\": {\"chamberCode\": \"dail\", \"chamberType\": \"house\", \"dateRange\": {\"end\": \"1965-03-18\", \"start\": \"1961-10-11\"}, \"houseCode\": \"dail\", \"houseNo\": \"17\", \"houseType\": \"dail\", \"seats\": 144, \"showAs\": \"17th D\\u00e1il\", \"uri\": \"/ie/oireachtas/house/dail/17\"}}, {\"esid\": \"data-houses-ieoireachtashouseseanad9\", \"house\": {\"chamberCode\": \"seanad\", \"chamberType\": \"house\", \"dateRange\": {\"end\": \"1961-09-01\", \"start\": \"1957-05-22\"}, \"houseCode\": \"seanad\", \"houseNo\": \"9\", \"houseType\": \"seanad\", \"seats\": 60, \"showAs\": \"9th Seanad\", \"uri\": \"/ie/oireachtas/house/seanad/9\"}}, {\"esid\": \"data-houses-ieoireachtashousedail16\", \"house\": {\"chamberCode\": \"dail\", \"chamberType\": \"house\", \"dateRange\": {\"end\": \"1961-09-15\", \"start\": \"1957-03-20\"}, \"houseCode\": \"dail\", \"houseNo\": \"16\", \"houseType\": \"dail\", \"seats\": 147, \"showAs\": \"16th D\\u00e1il\", \"uri\": \"/ie/oireachtas/house/dail/16\"}}, {\"esid\": \"data-houses-ieoireachtashouseseanad8\", \"house\": {\"chamberCode\": \"seanad\", \"chamberType\": \"house\", \"dateRange\": {\"end\": \"1957-03-28\", \"start\": \"1954-07-22\"}, \"houseCode\": \"seanad\", \"houseNo\": \"8\", \"houseType\": \"seanad\", \"seats\": 60, \"showAs\": \"8th Seanad\", \"uri\": \"/ie/oireachtas/house/seanad/8\"}}, {\"esid\": \"data-houses-ieoireachtashousedail15\", \"house\": {\"chamberCode\": \"dail\", \"chamberType\": \"house\", \"dateRange\": {\"end\": \"1957-02-12\", \"start\": \"1954-06-02\"}, \"houseCode\": \"dail\", \"houseNo\": \"15\", \"houseType\": \"dail\", \"seats\": 147, \"showAs\": \"15th D\\u00e1il\", \"uri\": \"/ie/oireachtas/house/dail/15\"}}, {\"esid\": \"data-houses-ieoireachtashouseseanad7\", \"house\": {\"chamberCode\": \"seanad\", \"chamberType\": \"house\", \"dateRange\": {\"end\": \"1954-07-07\", \"start\": \"1951-08-14\"}, \"houseCode\": \"seanad\", \"houseNo\": \"7\", \"houseType\": \"seanad\", \"seats\": 60, \"showAs\": \"7th Seanad\", \"uri\": \"/ie/oireachtas/house/seanad/7\"}}, {\"esid\": \"data-houses-ieoireachtashousedail14\", \"house\": {\"chamberCode\": \"dail\", \"chamberType\": \"house\", \"dateRange\": {\"end\": \"1954-04-24\", \"start\": \"1951-06-13\"}, \"houseCode\": \"dail\", \"houseNo\": \"14\", \"houseType\": \"dail\", \"seats\": 147, \"showAs\": \"14th D\\u00e1il\", \"uri\": \"/ie/oireachtas/house/dail/14\"}}, {\"esid\": \"data-houses-ieoireachtashouseseanad6\", \"house\": {\"chamberCode\": \"seanad\", \"chamberType\": \"house\", \"dateRange\": {\"end\": \"1951-07-25\", \"start\": \"1948-04-21\"}, \"houseCode\": \"seanad\", \"houseNo\": \"6\", \"houseType\": \"seanad\", \"seats\": 60, \"showAs\": \"6th Seanad\", \"uri\": \"/ie/oireachtas/house/seanad/6\"}}, {\"esid\": \"data-houses-ieoireachtashousedail13\", \"house\": {\"chamberCode\": \"dail\", \"chamberType\": \"house\", \"dateRange\": {\"end\": \"1951-05-07\", \"start\": \"1948-02-18\"}, \"houseCode\": \"dail\", \"houseNo\": \"13\", \"houseType\": \"dail\", \"seats\": 147, \"showAs\": \"13th D\\u00e1il\", \"uri\": \"/ie/oireachtas/house/dail/13\"}}, {\"esid\": \"data-houses-ieoireachtashouseseanad5\", \"house\": {\"chamberCode\": \"seanad\", \"chamberType\": \"house\", \"dateRange\": {\"end\": \"1948-03-12\", \"start\": \"1944-08-18\"}, \"houseCode\": \"seanad\", \"houseNo\": \"5\", \"houseType\": \"seanad\", \"seats\": 60, \"showAs\": \"5th Seanad\", \"uri\": \"/ie/oireachtas/house/seanad/5\"}}, {\"esid\": \"data-houses-ieoireachtashousedail12\", \"house\": {\"chamberCode\": \"dail\", \"chamberType\": \"house\", \"dateRange\": {\"end\": \"1948-01-12\", \"start\": \"1944-06-09\"}, \"houseCode\": \"dail\", \"houseNo\": \"12\", \"houseType\": \"dail\", \"seats\": 138, \"showAs\": \"12th D\\u00e1il\", \"uri\": \"/ie/oireachtas/house/dail/12\"}}, {\"esid\": \"data-houses-ieoireachtashouseseanad4\", \"house\": {\"chamberCode\": \"seanad\", \"chamberType\": \"house\", \"dateRange\": {\"end\": \"1944-07-05\", \"start\": \"1943-09-08\"}, \"houseCode\": \"seanad\", \"houseNo\": \"4\", \"houseType\": \"seanad\", \"seats\": 60, \"showAs\": \"4th Seanad\", \"uri\": \"/ie/oireachtas/house/seanad/4\"}}, {\"esid\": \"data-houses-ieoireachtashousedail11\", \"house\": {\"chamberCode\": \"dail\", \"chamberType\": \"house\", \"dateRange\": {\"end\": \"1944-05-10\", \"start\": \"1943-07-01\"}, \"houseCode\": \"dail\", \"houseNo\": \"11\", \"houseType\": \"dail\", \"seats\": 138, \"showAs\": \"11th D\\u00e1il\", \"uri\": \"/ie/oireachtas/house/dail/11\"}}, {\"esid\": \"data-houses-ieoireachtashouseseanad3\", \"house\": {\"chamberCode\": \"seanad\", \"chamberType\": \"house\", \"dateRange\": {\"end\": \"1943-07-14\", \"start\": \"1938-09-07\"}, \"houseCode\": \"seanad\", \"houseNo\": \"3\", \"houseType\": \"seanad\", \"seats\": 60, \"showAs\": \"3rd Seanad\", \"uri\": \"/ie/oireachtas/house/seanad/3\"}}, {\"esid\": \"data-houses-ieoireachtashousedail10\", \"house\": {\"chamberCode\": \"dail\", \"chamberType\": \"house\", \"dateRange\": {\"end\": \"1943-05-31\", \"start\": \"1938-06-30\"}, \"houseCode\": \"dail\", \"houseNo\": \"10\", \"houseType\": \"dail\", \"seats\": 138, \"showAs\": \"10th D\\u00e1il\", \"uri\": \"/ie/oireachtas/house/dail/10\"}}, {\"esid\": \"data-houses-ieoireachtashouseseanad2\", \"house\": {\"chamberCode\": \"seanad\", \"chamberType\": \"house\", \"dateRange\": {\"end\": \"1938-07-22\", \"start\": \"1938-04-27\"}, \"houseCode\": \"seanad\", \"houseNo\": \"2\", \"houseType\": \"seanad\", \"seats\": 60, \"showAs\": \"2nd Seanad\", \"uri\": \"/ie/oireachtas/house/seanad/2\"}}, {\"esid\": \"data-houses-ieoireachtashousedail9\", \"house\": {\"chamberCode\": \"dail\", \"chamberType\": \"house\", \"dateRange\": {\"end\": \"1938-05-27\", \"start\": \"1937-07-21\"}, \"houseCode\": \"dail\", \"houseNo\": \"9\", \"houseType\": \"dail\", \"seats\": 138, \"showAs\": \"9th D\\u00e1il\", \"uri\": \"/ie/oireachtas/house/dail/9\"}}, {\"esid\": \"data-houses-ieoireachtashouseseanad1934\", \"house\": {\"chamberCode\": \"seanad\", \"chamberType\": \"house\", \"dateRange\": {\"end\": \"1936-05-29\", \"start\": \"1934-12-06\"}, \"houseCode\": \"seanad\", \"houseNo\": \"1934\", \"houseType\": \"seanad\", \"seats\": 60, \"showAs\": \"1934 Seanad\", \"uri\": \"/ie/oireachtas/house/seanad/1934\"}}, {\"esid\": \"data-houses-ieoireachtashousedail8\", \"house\": {\"chamberCode\": \"dail\", \"chamberType\": \"house\", \"dateRange\": {\"end\": \"1937-06-14\", \"start\": \"1933-02-08\"}, \"houseCode\": \"dail\", \"houseNo\": \"8\", \"houseType\": \"dail\", \"seats\": 153, \"showAs\": \"8th D\\u00e1il\", \"uri\": \"/ie/oireachtas/house/dail/8\"}}, {\"esid\": \"data-houses-ieoireachtashousedail7\", \"house\": {\"chamberCode\": \"dail\", \"chamberType\": \"house\", \"dateRange\": {\"end\": \"1933-01-02\", \"start\": \"1932-03-09\"}, \"houseCode\": \"dail\", \"houseNo\": \"7\", \"houseType\": \"dail\", \"seats\": 153, \"showAs\": \"7th D\\u00e1il\", \"uri\": \"/ie/oireachtas/house/dail/7\"}}, {\"esid\": \"data-houses-ieoireachtashouseseanad1931\", \"house\": {\"chamberCode\": \"seanad\", \"chamberType\": \"house\", \"dateRange\": {\"end\": \"1934-12-05\", \"start\": \"1931-12-06\"}, \"houseCode\": \"seanad\", \"houseNo\": \"1931\", \"houseType\": \"seanad\", \"seats\": 60, \"showAs\": \"1931 Seanad\", \"uri\": \"/ie/oireachtas/house/seanad/1931\"}}, {\"esid\": \"data-houses-ieoireachtashouseseanad1928\", \"house\": {\"chamberCode\": \"seanad\", \"chamberType\": \"house\", \"dateRange\": {\"end\": \"1931-12-05\", \"start\": \"1928-12-06\"}, \"houseCode\": \"seanad\", \"houseNo\": \"1928\", \"houseType\": \"seanad\", \"seats\": 60, \"showAs\": \"1928 Seanad\", \"uri\": \"/ie/oireachtas/house/seanad/1928\"}}, {\"esid\": \"data-houses-ieoireachtashousedail6\", \"house\": {\"chamberCode\": \"dail\", \"chamberType\": \"house\", \"dateRange\": {\"end\": \"1932-01-29\", \"start\": \"1927-10-11\"}, \"houseCode\": \"dail\", \"houseNo\": \"6\", \"houseType\": \"dail\", \"seats\": 153, \"showAs\": \"6th D\\u00e1il\", \"uri\": \"/ie/oireachtas/house/dail/6\"}}, {\"esid\": \"data-houses-ieoireachtashousedail5\", \"house\": {\"chamberCode\": \"dail\", \"chamberType\": \"house\", \"dateRange\": {\"end\": \"1927-08-25\", \"start\": \"1927-06-23\"}, \"houseCode\": \"dail\", \"houseNo\": \"5\", \"houseType\": \"dail\", \"seats\": 153, \"showAs\": \"5th D\\u00e1il\", \"uri\": \"/ie/oireachtas/house/dail/5\"}}, {\"esid\": \"data-houses-ieoireachtashouseseanad1925\", \"house\": {\"chamberCode\": \"seanad\", \"chamberType\": \"house\", \"dateRange\": {\"end\": \"1928-12-05\", \"start\": \"1925-12-06\"}, \"houseCode\": \"seanad\", \"houseNo\": \"1925\", \"houseType\": \"seanad\", \"seats\": 60, \"showAs\": \"1925 Seanad\", \"uri\": \"/ie/oireachtas/house/seanad/1925\"}}, {\"esid\": \"data-houses-ieoireachtashousedail4\", \"house\": {\"chamberCode\": \"dail\", \"chamberType\": \"house\", \"dateRange\": {\"end\": \"1927-05-23\", \"start\": \"1923-09-19\"}, \"houseCode\": \"dail\", \"houseNo\": \"4\", \"houseType\": \"dail\", \"seats\": 153, \"showAs\": \"4th D\\u00e1il\", \"uri\": \"/ie/oireachtas/house/dail/4\"}}, {\"esid\": \"data-houses-ieoireachtashouseseanad1922\", \"house\": {\"chamberCode\": \"seanad\", \"chamberType\": \"house\", \"dateRange\": {\"end\": \"1925-12-05\", \"start\": \"1922-12-06\"}, \"houseCode\": \"seanad\", \"houseNo\": \"1922\", \"houseType\": \"seanad\", \"seats\": 60, \"showAs\": \"1922 Seanad\", \"uri\": \"/ie/oireachtas/house/seanad/1922\"}}, {\"esid\": \"data-houses-ieoireachtashousedail3\", \"house\": {\"chamberCode\": \"dail\", \"chamberType\": \"house\", \"dateRange\": {\"end\": \"1923-08-09\", \"start\": \"1922-09-09\"}, \"houseCode\": \"dail\", \"houseNo\": \"3\", \"houseType\": \"dail\", \"seats\": 128, \"showAs\": \"3rd D\\u00e1il\", \"uri\": \"/ie/oireachtas/house/dail/3\"}}, {\"esid\": \"data-houses-ieoireachtashousedail2\", \"house\": {\"chamberCode\": \"dail\", \"chamberType\": \"house\", \"dateRange\": {\"end\": \"1922-06-16\", \"start\": \"1921-08-16\"}, \"houseCode\": \"dail\", \"houseNo\": \"2\", \"houseType\": \"dail\", \"seats\": 128, \"showAs\": \"2nd D\\u00e1il\", \"uri\": \"/ie/oireachtas/house/dail/2\"}}, {\"esid\": \"data-houses-ieoireachtashousedail1\", \"house\": {\"chamberCode\": \"dail\", \"chamberType\": \"house\", \"dateRange\": {\"end\": \"1921-05-10\", \"start\": \"1919-01-21\"}, \"houseCode\": \"dail\", \"houseNo\": \"1\", \"houseType\": \"dail\", \"seats\": 128, \"showAs\": \"1st D\\u00e1il\", \"uri\": \"/ie/oireachtas/house/dail/1\"}}]}))\n",
       "        });\n",
       "        "
      ]
     },
     "metadata": {},
     "output_type": "display_data"
    }
   ],
   "source": [
    "# preview houses\n",
    "with lzma.open('data/houses.json.xz', 'rb') as f:\n",
    "    house_preview = json.loads(f.read().decode('utf-8'))\n",
    "RenderJSON(house_preview)"
   ]
  },
  {
   "cell_type": "code",
   "execution_count": 13,
   "metadata": {},
   "outputs": [
    {
     "data": {
      "application/vnd.jupyter.widget-view+json": {
       "model_id": "72345615ff444cdb9e7b4006876683df"
      }
     },
     "metadata": {},
     "output_type": "display_data"
    },
    {
     "name": "stdout",
     "output_type": "stream",
     "text": [
      "\n"
     ]
    }
   ],
   "source": [
    "for chamber_id in tqdm_notebook(df_house['house.uri']):\n",
    "    cache_metadata('constituencies', chamber_id)\n",
    "    cache_metadata('parties', chamber_id)"
   ]
  },
  {
   "cell_type": "code",
   "execution_count": 14,
   "metadata": {},
   "outputs": [
    {
     "data": {
      "text/html": [
       "<style>\n",
       "          .renderjson a { text-decoration: none; }\n",
       "          .renderjson .disclosure { color: grey; text-decoration: none; }\n",
       "          .renderjson .syntax { color: grey; }\n",
       "          .renderjson .string { color: darkred; }\n",
       "          .renderjson .number { color: darkcyan; }\n",
       "          .renderjson .boolean { color: blueviolet; }\n",
       "          .renderjson .key    { color: darkblue; }\n",
       "          .renderjson .keyword { color: blue; }\n",
       "          .renderjson .object.syntax { color: lightseagreen; }\n",
       "          .renderjson .array.syntax  { color: orange; }\n",
       "          </style><div id=\"10903261-adda-43bd-902f-fc8f78795b2b\" style=\"height: 100%; width:100%;\"></div>"
      ]
     },
     "metadata": {},
     "output_type": "display_data"
    },
    {
     "data": {
      "application/javascript": [
       "\n",
       "          require([\"https://rawgit.com/caldwell/renderjson/master/renderjson.js\"], function() {\n",
       "          renderjson.set_show_to_level(1)\n",
       "          renderjson.set_sort_objects(true)\n",
       "          renderjson.set_icons('▶', '▼')\n",
       "          document.getElementById('10903261-adda-43bd-902f-fc8f78795b2b').appendChild(renderjson({\"constituenciesOrPanels\": [{\"constituencyOrPanel\": {\"representType\": \"constituency\", \"uri\": \"/ie/oireachtas/house/dail/32/constituency/Carlow-Kilkenny\", \"showAs\": \"Carlow-Kilkenny\", \"representCode\": \"Carlow-Kilkenny\"}}, {\"constituencyOrPanel\": {\"representType\": \"constituency\", \"uri\": \"/ie/oireachtas/house/dail/32/constituency/Cavan-Monaghan\", \"showAs\": \"Cavan-Monaghan\", \"representCode\": \"Cavan-Monaghan\"}}, {\"constituencyOrPanel\": {\"representType\": \"constituency\", \"uri\": \"/ie/oireachtas/house/dail/32/constituency/Clare\", \"showAs\": \"Clare\", \"representCode\": \"Clare\"}}, {\"constituencyOrPanel\": {\"representType\": \"constituency\", \"uri\": \"/ie/oireachtas/house/dail/32/constituency/Cork-East\", \"showAs\": \"Cork East\", \"representCode\": \"Cork-East\"}}, {\"constituencyOrPanel\": {\"representType\": \"constituency\", \"uri\": \"/ie/oireachtas/house/dail/32/constituency/Cork-North-Central\", \"showAs\": \"Cork North-Central\", \"representCode\": \"Cork-North-Central\"}}, {\"constituencyOrPanel\": {\"representType\": \"constituency\", \"uri\": \"/ie/oireachtas/house/dail/32/constituency/Cork-North-West\", \"showAs\": \"Cork North-West\", \"representCode\": \"Cork-North-West\"}}, {\"constituencyOrPanel\": {\"representType\": \"constituency\", \"uri\": \"/ie/oireachtas/house/dail/32/constituency/Cork-South-Central\", \"showAs\": \"Cork South-Central\", \"representCode\": \"Cork-South-Central\"}}, {\"constituencyOrPanel\": {\"representType\": \"constituency\", \"uri\": \"/ie/oireachtas/house/dail/32/constituency/Cork-South-West\", \"showAs\": \"Cork South-West\", \"representCode\": \"Cork-South-West\"}}, {\"constituencyOrPanel\": {\"representType\": \"constituency\", \"uri\": \"/ie/oireachtas/house/dail/32/constituency/Donegal\", \"showAs\": \"Donegal\", \"representCode\": \"Donegal\"}}, {\"constituencyOrPanel\": {\"representType\": \"constituency\", \"uri\": \"/ie/oireachtas/house/dail/32/constituency/Dublin-Bay-North\", \"showAs\": \"Dublin Bay North\", \"representCode\": \"Dublin-Bay-North\"}}, {\"constituencyOrPanel\": {\"representType\": \"constituency\", \"uri\": \"/ie/oireachtas/house/dail/32/constituency/Dublin-Bay-South\", \"showAs\": \"Dublin Bay South\", \"representCode\": \"Dublin-Bay-South\"}}, {\"constituencyOrPanel\": {\"representType\": \"constituency\", \"uri\": \"/ie/oireachtas/house/dail/32/constituency/Dublin-Central\", \"showAs\": \"Dublin Central\", \"representCode\": \"Dublin-Central\"}}, {\"constituencyOrPanel\": {\"representType\": \"constituency\", \"uri\": \"/ie/oireachtas/house/dail/32/constituency/Dublin-Fingal\", \"showAs\": \"Dublin Fingal\", \"representCode\": \"Dublin-Fingal\"}}, {\"constituencyOrPanel\": {\"representType\": \"constituency\", \"uri\": \"/ie/oireachtas/house/dail/32/constituency/Dublin-Mid-West\", \"showAs\": \"Dublin Mid-West\", \"representCode\": \"Dublin-Mid-West\"}}, {\"constituencyOrPanel\": {\"representType\": \"constituency\", \"uri\": \"/ie/oireachtas/house/dail/32/constituency/Dublin-North-West\", \"showAs\": \"Dublin North-West\", \"representCode\": \"Dublin-North-West\"}}, {\"constituencyOrPanel\": {\"representType\": \"constituency\", \"uri\": \"/ie/oireachtas/house/dail/32/constituency/Dublin-Rathdown\", \"showAs\": \"Dublin Rathdown\", \"representCode\": \"Dublin-Rathdown\"}}, {\"constituencyOrPanel\": {\"representType\": \"constituency\", \"uri\": \"/ie/oireachtas/house/dail/32/constituency/Dublin-South-Central\", \"showAs\": \"Dublin South-Central\", \"representCode\": \"Dublin-South-Central\"}}, {\"constituencyOrPanel\": {\"representType\": \"constituency\", \"uri\": \"/ie/oireachtas/house/dail/32/constituency/Dublin-South-West\", \"showAs\": \"Dublin South-West\", \"representCode\": \"Dublin-South-West\"}}, {\"constituencyOrPanel\": {\"representType\": \"constituency\", \"uri\": \"/ie/oireachtas/house/dail/32/constituency/Dublin-West\", \"showAs\": \"Dublin West\", \"representCode\": \"Dublin-West\"}}, {\"constituencyOrPanel\": {\"representType\": \"constituency\", \"uri\": \"/ie/oireachtas/house/dail/32/constituency/D\\u00fan-Laoghaire\", \"showAs\": \"D\\u00fan Laoghaire\", \"representCode\": \"D\\u00fan-Laoghaire\"}}, {\"constituencyOrPanel\": {\"representType\": \"constituency\", \"uri\": \"/ie/oireachtas/house/dail/32/constituency/Galway-East\", \"showAs\": \"Galway East\", \"representCode\": \"Galway-East\"}}, {\"constituencyOrPanel\": {\"representType\": \"constituency\", \"uri\": \"/ie/oireachtas/house/dail/32/constituency/Galway-West\", \"showAs\": \"Galway West\", \"representCode\": \"Galway-West\"}}, {\"constituencyOrPanel\": {\"representType\": \"constituency\", \"uri\": \"/ie/oireachtas/house/dail/32/constituency/Kerry\", \"showAs\": \"Kerry\", \"representCode\": \"Kerry\"}}, {\"constituencyOrPanel\": {\"representType\": \"constituency\", \"uri\": \"/ie/oireachtas/house/dail/32/constituency/Kildare-North\", \"showAs\": \"Kildare North\", \"representCode\": \"Kildare-North\"}}, {\"constituencyOrPanel\": {\"representType\": \"constituency\", \"uri\": \"/ie/oireachtas/house/dail/32/constituency/Kildare-South\", \"showAs\": \"Kildare South\", \"representCode\": \"Kildare-South\"}}, {\"constituencyOrPanel\": {\"representType\": \"constituency\", \"uri\": \"/ie/oireachtas/house/dail/32/constituency/Laois\", \"showAs\": \"Laois\", \"representCode\": \"Laois\"}}, {\"constituencyOrPanel\": {\"representType\": \"constituency\", \"uri\": \"/ie/oireachtas/house/dail/32/constituency/Limerick-City\", \"showAs\": \"Limerick City\", \"representCode\": \"Limerick-City\"}}, {\"constituencyOrPanel\": {\"representType\": \"constituency\", \"uri\": \"/ie/oireachtas/house/dail/32/constituency/Limerick-County\", \"showAs\": \"Limerick County\", \"representCode\": \"Limerick-County\"}}, {\"constituencyOrPanel\": {\"representType\": \"constituency\", \"uri\": \"/ie/oireachtas/house/dail/32/constituency/Longford-Westmeath\", \"showAs\": \"Longford-Westmeath\", \"representCode\": \"Longford-Westmeath\"}}, {\"constituencyOrPanel\": {\"representType\": \"constituency\", \"uri\": \"/ie/oireachtas/house/dail/32/constituency/Louth\", \"showAs\": \"Louth\", \"representCode\": \"Louth\"}}, {\"constituencyOrPanel\": {\"representType\": \"constituency\", \"uri\": \"/ie/oireachtas/house/dail/32/constituency/Mayo\", \"showAs\": \"Mayo\", \"representCode\": \"Mayo\"}}, {\"constituencyOrPanel\": {\"representType\": \"constituency\", \"uri\": \"/ie/oireachtas/house/dail/32/constituency/Meath-East\", \"showAs\": \"Meath East\", \"representCode\": \"Meath-East\"}}, {\"constituencyOrPanel\": {\"representType\": \"constituency\", \"uri\": \"/ie/oireachtas/house/dail/32/constituency/Meath-West\", \"showAs\": \"Meath West\", \"representCode\": \"Meath-West\"}}, {\"constituencyOrPanel\": {\"representType\": \"constituency\", \"uri\": \"/ie/oireachtas/house/dail/32/constituency/Offaly\", \"showAs\": \"Offaly\", \"representCode\": \"Offaly\"}}, {\"constituencyOrPanel\": {\"representType\": \"constituency\", \"uri\": \"/ie/oireachtas/house/dail/32/constituency/Roscommon-Galway\", \"showAs\": \"Roscommon-Galway\", \"representCode\": \"Roscommon-Galway\"}}, {\"constituencyOrPanel\": {\"representType\": \"constituency\", \"uri\": \"/ie/oireachtas/house/dail/32/constituency/Sligo-Leitrim\", \"showAs\": \"Sligo-Leitrim\", \"representCode\": \"Sligo-Leitrim\"}}, {\"constituencyOrPanel\": {\"representType\": \"constituency\", \"uri\": \"/ie/oireachtas/house/dail/32/constituency/Tipperary\", \"showAs\": \"Tipperary\", \"representCode\": \"Tipperary\"}}, {\"constituencyOrPanel\": {\"representType\": \"constituency\", \"uri\": \"/ie/oireachtas/house/dail/32/constituency/Waterford\", \"showAs\": \"Waterford\", \"representCode\": \"Waterford\"}}, {\"constituencyOrPanel\": {\"representType\": \"constituency\", \"uri\": \"/ie/oireachtas/house/dail/32/constituency/Wexford\", \"showAs\": \"Wexford\", \"representCode\": \"Wexford\"}}, {\"constituencyOrPanel\": {\"representType\": \"constituency\", \"uri\": \"/ie/oireachtas/house/dail/32/constituency/Wicklow\", \"showAs\": \"Wicklow\", \"representCode\": \"Wicklow\"}}], \"house\": {\"houseCode\": \"dail\", \"uri\": \"/ie/oireachtas/house/dail/32\", \"showAs\": \"32nd D\\u00e1il\", \"houseNo\": \"32\"}}))\n",
       "        });\n",
       "        "
      ]
     },
     "metadata": {},
     "output_type": "display_data"
    }
   ],
   "source": [
    "# preview constituency for dail\n",
    "with lzma.open('data/constituencies/dail_32.json.xz', 'rb') as f:\n",
    "    constituency_preview = json.loads(f.read().decode('utf-8'))\n",
    "RenderJSON(constituency_preview['results']['house'])"
   ]
  },
  {
   "cell_type": "code",
   "execution_count": 15,
   "metadata": {},
   "outputs": [
    {
     "data": {
      "text/html": [
       "<style>\n",
       "          .renderjson a { text-decoration: none; }\n",
       "          .renderjson .disclosure { color: grey; text-decoration: none; }\n",
       "          .renderjson .syntax { color: grey; }\n",
       "          .renderjson .string { color: darkred; }\n",
       "          .renderjson .number { color: darkcyan; }\n",
       "          .renderjson .boolean { color: blueviolet; }\n",
       "          .renderjson .key    { color: darkblue; }\n",
       "          .renderjson .keyword { color: blue; }\n",
       "          .renderjson .object.syntax { color: lightseagreen; }\n",
       "          .renderjson .array.syntax  { color: orange; }\n",
       "          </style><div id=\"192fa6f2-177f-49ae-ae6a-d13a719af264\" style=\"height: 100%; width:100%;\"></div>"
      ]
     },
     "metadata": {},
     "output_type": "display_data"
    },
    {
     "data": {
      "application/javascript": [
       "\n",
       "          require([\"https://rawgit.com/caldwell/renderjson/master/renderjson.js\"], function() {\n",
       "          renderjson.set_show_to_level(1)\n",
       "          renderjson.set_sort_objects(true)\n",
       "          renderjson.set_icons('▶', '▼')\n",
       "          document.getElementById('192fa6f2-177f-49ae-ae6a-d13a719af264').appendChild(renderjson({\"constituenciesOrPanels\": [{\"constituencyOrPanel\": {\"representType\": \"panel\", \"uri\": \"/ie/oireachtas/house/seanad/25/panel/Administrative-Panel\", \"showAs\": \"Administrative Panel\", \"representCode\": \"Administrative-Panel\"}}, {\"constituencyOrPanel\": {\"representType\": \"panel\", \"uri\": \"/ie/oireachtas/house/seanad/25/panel/Agricultural-Panel\", \"showAs\": \"Agricultural Panel\", \"representCode\": \"Agricultural-Panel\"}}, {\"constituencyOrPanel\": {\"representType\": \"panel\", \"uri\": \"/ie/oireachtas/house/seanad/25/panel/Cultural-and-Educational-Panel\", \"showAs\": \"Cultural and Educational Panel\", \"representCode\": \"Cultural-and-Educational-Panel\"}}, {\"constituencyOrPanel\": {\"representType\": \"panel\", \"uri\": \"/ie/oireachtas/house/seanad/25/panel/Industrial-and-Commercial-Panel\", \"showAs\": \"Industrial and Commercial Panel\", \"representCode\": \"Industrial-and-Commercial-Panel\"}}, {\"constituencyOrPanel\": {\"representType\": \"panel\", \"uri\": \"/ie/oireachtas/house/seanad/25/panel/Labour-Panel\", \"showAs\": \"Labour Panel\", \"representCode\": \"Labour-Panel\"}}, {\"constituencyOrPanel\": {\"representType\": \"panel\", \"uri\": \"/ie/oireachtas/house/seanad/25/panel/National-University-of-Ireland\", \"showAs\": \"National University of Ireland\", \"representCode\": \"National-University-of-Ireland\"}}, {\"constituencyOrPanel\": {\"representType\": \"panel\", \"uri\": \"/ie/oireachtas/house/seanad/25/panel/Nominated-by-the-Taoiseach\", \"showAs\": \"Nominated by the Taoiseach\", \"representCode\": \"Nominated-by-the-Taoiseach\"}}, {\"constituencyOrPanel\": {\"representType\": \"panel\", \"uri\": \"/ie/oireachtas/house/seanad/25/panel/University-of-Dublin\", \"showAs\": \"University of Dublin\", \"representCode\": \"University-of-Dublin\"}}], \"house\": {\"houseCode\": \"seanad\", \"uri\": \"/ie/oireachtas/house/seanad/25\", \"showAs\": \"25th Seanad\", \"houseNo\": \"25\"}}))\n",
       "        });\n",
       "        "
      ]
     },
     "metadata": {},
     "output_type": "display_data"
    }
   ],
   "source": [
    "# preview panel for seanad\n",
    "with lzma.open('data/constituencies/seanad_25.json.xz', 'rb') as f:\n",
    "    constituency_preview = json.loads(f.read().decode('utf-8'))\n",
    "RenderJSON(constituency_preview['results']['house'])"
   ]
  },
  {
   "cell_type": "code",
   "execution_count": 16,
   "metadata": {
    "collapsed": true
   },
   "outputs": [],
   "source": [
    "def meta_df(fname, field1, field2):\n",
    "    with lzma.open(fname, 'rb') as f:\n",
    "        data = json.loads(f.read().decode('utf-8'))\n",
    "        if 'results' not in data:\n",
    "            print(\"No Records for\", fname, '\\n', data)\n",
    "            return pd.DataFrame()\n",
    "        records = json.dumps([r for r in data['results']['house'][field1]])\n",
    "        df = pd.read_json(records, orient='records', dtype=False)\n",
    "        df = flatten_dataframe_columns(df, [field2])\n",
    "        return df"
   ]
  },
  {
   "cell_type": "code",
   "execution_count": 17,
   "metadata": {},
   "outputs": [
    {
     "name": "stdout",
     "output_type": "stream",
     "text": [
      "No Records for data/parties/dail_1.json.xz \n",
      " {'head': {'counts': {'partyCount': 0, 'resultCount': 0}, 'dateRange': {'start': '', 'end': ''}, 'lang': 'mul'}}\n"
     ]
    }
   ],
   "source": [
    "df_parties = pd.concat([meta_df(fname, 'parties', 'party') for fname in glob('data/parties/*.json.xz')])\n",
    "df_constituencies = pd.concat([meta_df(fname, 'constituenciesOrPanels', 'constituencyOrPanel') for fname in glob('data/constituencies/*.json.xz')])   \n",
    "\n",
    "df_parties.to_pickle('parties.p.xz', compression='xz')\n",
    "df_constituencies.to_pickle('constituencies.p.xz', compression='xz')"
   ]
  },
  {
   "cell_type": "code",
   "execution_count": 18,
   "metadata": {
    "scrolled": false
   },
   "outputs": [
    {
     "data": {
      "text/markdown": [
       "----------"
      ],
      "text/plain": [
       "<IPython.core.display.Markdown object>"
      ]
     },
     "metadata": {},
     "output_type": "display_data"
    },
    {
     "data": {
      "text/markdown": [
       "# house.chamberCode"
      ],
      "text/plain": [
       "<IPython.core.display.Markdown object>"
      ]
     },
     "metadata": {},
     "output_type": "display_data"
    },
    {
     "data": {
      "text/markdown": [
       "###  Stats:"
      ],
      "text/plain": [
       "<IPython.core.display.Markdown object>"
      ]
     },
     "metadata": {},
     "output_type": "display_data"
    },
    {
     "data": {
      "text/html": [
       "<div>\n",
       "<style>\n",
       "    .dataframe thead tr:only-child th {\n",
       "        text-align: right;\n",
       "    }\n",
       "\n",
       "    .dataframe thead th {\n",
       "        text-align: left;\n",
       "    }\n",
       "\n",
       "    .dataframe tbody tr th {\n",
       "        vertical-align: top;\n",
       "    }\n",
       "</style>\n",
       "<table border=\"1\" class=\"dataframe\">\n",
       "  <thead>\n",
       "    <tr style=\"text-align: right;\">\n",
       "      <th></th>\n",
       "      <th>house.chamberCode</th>\n",
       "    </tr>\n",
       "  </thead>\n",
       "  <tbody>\n",
       "    <tr>\n",
       "      <th>count</th>\n",
       "      <td>61</td>\n",
       "    </tr>\n",
       "    <tr>\n",
       "      <th>unique</th>\n",
       "      <td>2</td>\n",
       "    </tr>\n",
       "    <tr>\n",
       "      <th>top</th>\n",
       "      <td>dail</td>\n",
       "    </tr>\n",
       "    <tr>\n",
       "      <th>freq</th>\n",
       "      <td>32</td>\n",
       "    </tr>\n",
       "    <tr>\n",
       "      <th>missing</th>\n",
       "      <td>0</td>\n",
       "    </tr>\n",
       "  </tbody>\n",
       "</table>\n",
       "</div>"
      ],
      "text/plain": [
       "        house.chamberCode\n",
       "count                  61\n",
       "unique                  2\n",
       "top                  dail\n",
       "freq                   32\n",
       "missing                 0"
      ]
     },
     "metadata": {},
     "output_type": "display_data"
    },
    {
     "data": {
      "text/markdown": [
       "###  Top N:"
      ],
      "text/plain": [
       "<IPython.core.display.Markdown object>"
      ]
     },
     "metadata": {},
     "output_type": "display_data"
    },
    {
     "data": {
      "text/html": [
       "<div>\n",
       "<style>\n",
       "    .dataframe thead tr:only-child th {\n",
       "        text-align: right;\n",
       "    }\n",
       "\n",
       "    .dataframe thead th {\n",
       "        text-align: left;\n",
       "    }\n",
       "\n",
       "    .dataframe tbody tr th {\n",
       "        vertical-align: top;\n",
       "    }\n",
       "</style>\n",
       "<table border=\"1\" class=\"dataframe\">\n",
       "  <thead>\n",
       "    <tr style=\"text-align: right;\">\n",
       "      <th></th>\n",
       "      <th>house.chamberCode</th>\n",
       "    </tr>\n",
       "  </thead>\n",
       "  <tbody>\n",
       "    <tr>\n",
       "      <th>dail</th>\n",
       "      <td>32</td>\n",
       "    </tr>\n",
       "    <tr>\n",
       "      <th>seanad</th>\n",
       "      <td>29</td>\n",
       "    </tr>\n",
       "  </tbody>\n",
       "</table>\n",
       "</div>"
      ],
      "text/plain": [
       "        house.chamberCode\n",
       "dail                   32\n",
       "seanad                 29"
      ]
     },
     "metadata": {},
     "output_type": "display_data"
    },
    {
     "data": {
      "text/markdown": [
       "----------"
      ],
      "text/plain": [
       "<IPython.core.display.Markdown object>"
      ]
     },
     "metadata": {},
     "output_type": "display_data"
    },
    {
     "data": {
      "text/markdown": [
       "# house.chamberType"
      ],
      "text/plain": [
       "<IPython.core.display.Markdown object>"
      ]
     },
     "metadata": {},
     "output_type": "display_data"
    },
    {
     "data": {
      "text/markdown": [
       "###  Stats:"
      ],
      "text/plain": [
       "<IPython.core.display.Markdown object>"
      ]
     },
     "metadata": {},
     "output_type": "display_data"
    },
    {
     "data": {
      "text/html": [
       "<div>\n",
       "<style>\n",
       "    .dataframe thead tr:only-child th {\n",
       "        text-align: right;\n",
       "    }\n",
       "\n",
       "    .dataframe thead th {\n",
       "        text-align: left;\n",
       "    }\n",
       "\n",
       "    .dataframe tbody tr th {\n",
       "        vertical-align: top;\n",
       "    }\n",
       "</style>\n",
       "<table border=\"1\" class=\"dataframe\">\n",
       "  <thead>\n",
       "    <tr style=\"text-align: right;\">\n",
       "      <th></th>\n",
       "      <th>house.chamberType</th>\n",
       "    </tr>\n",
       "  </thead>\n",
       "  <tbody>\n",
       "    <tr>\n",
       "      <th>count</th>\n",
       "      <td>61</td>\n",
       "    </tr>\n",
       "    <tr>\n",
       "      <th>unique</th>\n",
       "      <td>1</td>\n",
       "    </tr>\n",
       "    <tr>\n",
       "      <th>top</th>\n",
       "      <td>house</td>\n",
       "    </tr>\n",
       "    <tr>\n",
       "      <th>freq</th>\n",
       "      <td>61</td>\n",
       "    </tr>\n",
       "    <tr>\n",
       "      <th>missing</th>\n",
       "      <td>0</td>\n",
       "    </tr>\n",
       "  </tbody>\n",
       "</table>\n",
       "</div>"
      ],
      "text/plain": [
       "        house.chamberType\n",
       "count                  61\n",
       "unique                  1\n",
       "top                 house\n",
       "freq                   61\n",
       "missing                 0"
      ]
     },
     "metadata": {},
     "output_type": "display_data"
    },
    {
     "data": {
      "text/markdown": [
       "###  Top N:"
      ],
      "text/plain": [
       "<IPython.core.display.Markdown object>"
      ]
     },
     "metadata": {},
     "output_type": "display_data"
    },
    {
     "data": {
      "text/html": [
       "<div>\n",
       "<style>\n",
       "    .dataframe thead tr:only-child th {\n",
       "        text-align: right;\n",
       "    }\n",
       "\n",
       "    .dataframe thead th {\n",
       "        text-align: left;\n",
       "    }\n",
       "\n",
       "    .dataframe tbody tr th {\n",
       "        vertical-align: top;\n",
       "    }\n",
       "</style>\n",
       "<table border=\"1\" class=\"dataframe\">\n",
       "  <thead>\n",
       "    <tr style=\"text-align: right;\">\n",
       "      <th></th>\n",
       "      <th>house.chamberType</th>\n",
       "    </tr>\n",
       "  </thead>\n",
       "  <tbody>\n",
       "    <tr>\n",
       "      <th>house</th>\n",
       "      <td>61</td>\n",
       "    </tr>\n",
       "  </tbody>\n",
       "</table>\n",
       "</div>"
      ],
      "text/plain": [
       "       house.chamberType\n",
       "house                 61"
      ]
     },
     "metadata": {},
     "output_type": "display_data"
    },
    {
     "data": {
      "text/markdown": [
       "----------"
      ],
      "text/plain": [
       "<IPython.core.display.Markdown object>"
      ]
     },
     "metadata": {},
     "output_type": "display_data"
    },
    {
     "data": {
      "text/markdown": [
       "# house.dateRange.end"
      ],
      "text/plain": [
       "<IPython.core.display.Markdown object>"
      ]
     },
     "metadata": {},
     "output_type": "display_data"
    },
    {
     "data": {
      "text/markdown": [
       "###  Stats:"
      ],
      "text/plain": [
       "<IPython.core.display.Markdown object>"
      ]
     },
     "metadata": {},
     "output_type": "display_data"
    },
    {
     "data": {
      "text/html": [
       "<div>\n",
       "<style>\n",
       "    .dataframe thead tr:only-child th {\n",
       "        text-align: right;\n",
       "    }\n",
       "\n",
       "    .dataframe thead th {\n",
       "        text-align: left;\n",
       "    }\n",
       "\n",
       "    .dataframe tbody tr th {\n",
       "        vertical-align: top;\n",
       "    }\n",
       "</style>\n",
       "<table border=\"1\" class=\"dataframe\">\n",
       "  <thead>\n",
       "    <tr style=\"text-align: right;\">\n",
       "      <th></th>\n",
       "      <th>house.dateRange.end</th>\n",
       "    </tr>\n",
       "  </thead>\n",
       "  <tbody>\n",
       "    <tr>\n",
       "      <th>count</th>\n",
       "      <td>59</td>\n",
       "    </tr>\n",
       "    <tr>\n",
       "      <th>unique</th>\n",
       "      <td>59</td>\n",
       "    </tr>\n",
       "    <tr>\n",
       "      <th>top</th>\n",
       "      <td>1938-07-22</td>\n",
       "    </tr>\n",
       "    <tr>\n",
       "      <th>freq</th>\n",
       "      <td>1</td>\n",
       "    </tr>\n",
       "    <tr>\n",
       "      <th>missing</th>\n",
       "      <td>2</td>\n",
       "    </tr>\n",
       "  </tbody>\n",
       "</table>\n",
       "</div>"
      ],
      "text/plain": [
       "        house.dateRange.end\n",
       "count                    59\n",
       "unique                   59\n",
       "top              1938-07-22\n",
       "freq                      1\n",
       "missing                   2"
      ]
     },
     "metadata": {},
     "output_type": "display_data"
    },
    {
     "data": {
      "text/markdown": [
       "###  Top N:"
      ],
      "text/plain": [
       "<IPython.core.display.Markdown object>"
      ]
     },
     "metadata": {},
     "output_type": "display_data"
    },
    {
     "data": {
      "text/html": [
       "<div>\n",
       "<style>\n",
       "    .dataframe thead tr:only-child th {\n",
       "        text-align: right;\n",
       "    }\n",
       "\n",
       "    .dataframe thead th {\n",
       "        text-align: left;\n",
       "    }\n",
       "\n",
       "    .dataframe tbody tr th {\n",
       "        vertical-align: top;\n",
       "    }\n",
       "</style>\n",
       "<table border=\"1\" class=\"dataframe\">\n",
       "  <thead>\n",
       "    <tr style=\"text-align: right;\">\n",
       "      <th></th>\n",
       "      <th>house.dateRange.end</th>\n",
       "    </tr>\n",
       "  </thead>\n",
       "  <tbody>\n",
       "    <tr>\n",
       "      <th>1938-07-22</th>\n",
       "      <td>1</td>\n",
       "    </tr>\n",
       "    <tr>\n",
       "      <th>1957-03-28</th>\n",
       "      <td>1</td>\n",
       "    </tr>\n",
       "    <tr>\n",
       "      <th>1961-09-01</th>\n",
       "      <td>1</td>\n",
       "    </tr>\n",
       "    <tr>\n",
       "      <th>1969-07-24</th>\n",
       "      <td>1</td>\n",
       "    </tr>\n",
       "    <tr>\n",
       "      <th>1989-05-25</th>\n",
       "      <td>1</td>\n",
       "    </tr>\n",
       "    <tr>\n",
       "      <th>1938-05-27</th>\n",
       "      <td>1</td>\n",
       "    </tr>\n",
       "    <tr>\n",
       "      <th>1982-11-04</th>\n",
       "      <td>1</td>\n",
       "    </tr>\n",
       "    <tr>\n",
       "      <th>1977-05-25</th>\n",
       "      <td>1</td>\n",
       "    </tr>\n",
       "    <tr>\n",
       "      <th>1944-05-10</th>\n",
       "      <td>1</td>\n",
       "    </tr>\n",
       "    <tr>\n",
       "      <th>1987-01-21</th>\n",
       "      <td>1</td>\n",
       "    </tr>\n",
       "  </tbody>\n",
       "</table>\n",
       "</div>"
      ],
      "text/plain": [
       "            house.dateRange.end\n",
       "1938-07-22                    1\n",
       "1957-03-28                    1\n",
       "1961-09-01                    1\n",
       "1969-07-24                    1\n",
       "1989-05-25                    1\n",
       "1938-05-27                    1\n",
       "1982-11-04                    1\n",
       "1977-05-25                    1\n",
       "1944-05-10                    1\n",
       "1987-01-21                    1"
      ]
     },
     "metadata": {},
     "output_type": "display_data"
    },
    {
     "data": {
      "text/markdown": [
       "----------"
      ],
      "text/plain": [
       "<IPython.core.display.Markdown object>"
      ]
     },
     "metadata": {},
     "output_type": "display_data"
    },
    {
     "data": {
      "text/markdown": [
       "# house.dateRange.start"
      ],
      "text/plain": [
       "<IPython.core.display.Markdown object>"
      ]
     },
     "metadata": {},
     "output_type": "display_data"
    },
    {
     "data": {
      "text/markdown": [
       "###  Stats:"
      ],
      "text/plain": [
       "<IPython.core.display.Markdown object>"
      ]
     },
     "metadata": {},
     "output_type": "display_data"
    },
    {
     "data": {
      "text/html": [
       "<div>\n",
       "<style>\n",
       "    .dataframe thead tr:only-child th {\n",
       "        text-align: right;\n",
       "    }\n",
       "\n",
       "    .dataframe thead th {\n",
       "        text-align: left;\n",
       "    }\n",
       "\n",
       "    .dataframe tbody tr th {\n",
       "        vertical-align: top;\n",
       "    }\n",
       "</style>\n",
       "<table border=\"1\" class=\"dataframe\">\n",
       "  <thead>\n",
       "    <tr style=\"text-align: right;\">\n",
       "      <th></th>\n",
       "      <th>house.dateRange.start</th>\n",
       "    </tr>\n",
       "  </thead>\n",
       "  <tbody>\n",
       "    <tr>\n",
       "      <th>count</th>\n",
       "      <td>61</td>\n",
       "    </tr>\n",
       "    <tr>\n",
       "      <th>unique</th>\n",
       "      <td>61</td>\n",
       "    </tr>\n",
       "    <tr>\n",
       "      <th>top</th>\n",
       "      <td>1948-04-21</td>\n",
       "    </tr>\n",
       "    <tr>\n",
       "      <th>freq</th>\n",
       "      <td>1</td>\n",
       "    </tr>\n",
       "    <tr>\n",
       "      <th>missing</th>\n",
       "      <td>0</td>\n",
       "    </tr>\n",
       "  </tbody>\n",
       "</table>\n",
       "</div>"
      ],
      "text/plain": [
       "        house.dateRange.start\n",
       "count                      61\n",
       "unique                     61\n",
       "top                1948-04-21\n",
       "freq                        1\n",
       "missing                     0"
      ]
     },
     "metadata": {},
     "output_type": "display_data"
    },
    {
     "data": {
      "text/markdown": [
       "###  Top N:"
      ],
      "text/plain": [
       "<IPython.core.display.Markdown object>"
      ]
     },
     "metadata": {},
     "output_type": "display_data"
    },
    {
     "data": {
      "text/html": [
       "<div>\n",
       "<style>\n",
       "    .dataframe thead tr:only-child th {\n",
       "        text-align: right;\n",
       "    }\n",
       "\n",
       "    .dataframe thead th {\n",
       "        text-align: left;\n",
       "    }\n",
       "\n",
       "    .dataframe tbody tr th {\n",
       "        vertical-align: top;\n",
       "    }\n",
       "</style>\n",
       "<table border=\"1\" class=\"dataframe\">\n",
       "  <thead>\n",
       "    <tr style=\"text-align: right;\">\n",
       "      <th></th>\n",
       "      <th>house.dateRange.start</th>\n",
       "    </tr>\n",
       "  </thead>\n",
       "  <tbody>\n",
       "    <tr>\n",
       "      <th>1948-04-21</th>\n",
       "      <td>1</td>\n",
       "    </tr>\n",
       "    <tr>\n",
       "      <th>1931-12-06</th>\n",
       "      <td>1</td>\n",
       "    </tr>\n",
       "    <tr>\n",
       "      <th>1944-08-18</th>\n",
       "      <td>1</td>\n",
       "    </tr>\n",
       "    <tr>\n",
       "      <th>1937-07-21</th>\n",
       "      <td>1</td>\n",
       "    </tr>\n",
       "    <tr>\n",
       "      <th>1977-07-05</th>\n",
       "      <td>1</td>\n",
       "    </tr>\n",
       "    <tr>\n",
       "      <th>1957-05-22</th>\n",
       "      <td>1</td>\n",
       "    </tr>\n",
       "    <tr>\n",
       "      <th>1954-06-02</th>\n",
       "      <td>1</td>\n",
       "    </tr>\n",
       "    <tr>\n",
       "      <th>2002-06-06</th>\n",
       "      <td>1</td>\n",
       "    </tr>\n",
       "    <tr>\n",
       "      <th>1932-03-09</th>\n",
       "      <td>1</td>\n",
       "    </tr>\n",
       "    <tr>\n",
       "      <th>1951-06-13</th>\n",
       "      <td>1</td>\n",
       "    </tr>\n",
       "  </tbody>\n",
       "</table>\n",
       "</div>"
      ],
      "text/plain": [
       "            house.dateRange.start\n",
       "1948-04-21                      1\n",
       "1931-12-06                      1\n",
       "1944-08-18                      1\n",
       "1937-07-21                      1\n",
       "1977-07-05                      1\n",
       "1957-05-22                      1\n",
       "1954-06-02                      1\n",
       "2002-06-06                      1\n",
       "1932-03-09                      1\n",
       "1951-06-13                      1"
      ]
     },
     "metadata": {},
     "output_type": "display_data"
    },
    {
     "data": {
      "text/markdown": [
       "----------"
      ],
      "text/plain": [
       "<IPython.core.display.Markdown object>"
      ]
     },
     "metadata": {},
     "output_type": "display_data"
    },
    {
     "data": {
      "text/markdown": [
       "# house.houseCode"
      ],
      "text/plain": [
       "<IPython.core.display.Markdown object>"
      ]
     },
     "metadata": {},
     "output_type": "display_data"
    },
    {
     "data": {
      "text/markdown": [
       "###  Stats:"
      ],
      "text/plain": [
       "<IPython.core.display.Markdown object>"
      ]
     },
     "metadata": {},
     "output_type": "display_data"
    },
    {
     "data": {
      "text/html": [
       "<div>\n",
       "<style>\n",
       "    .dataframe thead tr:only-child th {\n",
       "        text-align: right;\n",
       "    }\n",
       "\n",
       "    .dataframe thead th {\n",
       "        text-align: left;\n",
       "    }\n",
       "\n",
       "    .dataframe tbody tr th {\n",
       "        vertical-align: top;\n",
       "    }\n",
       "</style>\n",
       "<table border=\"1\" class=\"dataframe\">\n",
       "  <thead>\n",
       "    <tr style=\"text-align: right;\">\n",
       "      <th></th>\n",
       "      <th>house.houseCode</th>\n",
       "    </tr>\n",
       "  </thead>\n",
       "  <tbody>\n",
       "    <tr>\n",
       "      <th>count</th>\n",
       "      <td>61</td>\n",
       "    </tr>\n",
       "    <tr>\n",
       "      <th>unique</th>\n",
       "      <td>2</td>\n",
       "    </tr>\n",
       "    <tr>\n",
       "      <th>top</th>\n",
       "      <td>dail</td>\n",
       "    </tr>\n",
       "    <tr>\n",
       "      <th>freq</th>\n",
       "      <td>32</td>\n",
       "    </tr>\n",
       "    <tr>\n",
       "      <th>missing</th>\n",
       "      <td>0</td>\n",
       "    </tr>\n",
       "  </tbody>\n",
       "</table>\n",
       "</div>"
      ],
      "text/plain": [
       "        house.houseCode\n",
       "count                61\n",
       "unique                2\n",
       "top                dail\n",
       "freq                 32\n",
       "missing               0"
      ]
     },
     "metadata": {},
     "output_type": "display_data"
    },
    {
     "data": {
      "text/markdown": [
       "###  Top N:"
      ],
      "text/plain": [
       "<IPython.core.display.Markdown object>"
      ]
     },
     "metadata": {},
     "output_type": "display_data"
    },
    {
     "data": {
      "text/html": [
       "<div>\n",
       "<style>\n",
       "    .dataframe thead tr:only-child th {\n",
       "        text-align: right;\n",
       "    }\n",
       "\n",
       "    .dataframe thead th {\n",
       "        text-align: left;\n",
       "    }\n",
       "\n",
       "    .dataframe tbody tr th {\n",
       "        vertical-align: top;\n",
       "    }\n",
       "</style>\n",
       "<table border=\"1\" class=\"dataframe\">\n",
       "  <thead>\n",
       "    <tr style=\"text-align: right;\">\n",
       "      <th></th>\n",
       "      <th>house.houseCode</th>\n",
       "    </tr>\n",
       "  </thead>\n",
       "  <tbody>\n",
       "    <tr>\n",
       "      <th>dail</th>\n",
       "      <td>32</td>\n",
       "    </tr>\n",
       "    <tr>\n",
       "      <th>seanad</th>\n",
       "      <td>29</td>\n",
       "    </tr>\n",
       "  </tbody>\n",
       "</table>\n",
       "</div>"
      ],
      "text/plain": [
       "        house.houseCode\n",
       "dail                 32\n",
       "seanad               29"
      ]
     },
     "metadata": {},
     "output_type": "display_data"
    },
    {
     "data": {
      "text/markdown": [
       "----------"
      ],
      "text/plain": [
       "<IPython.core.display.Markdown object>"
      ]
     },
     "metadata": {},
     "output_type": "display_data"
    },
    {
     "data": {
      "text/markdown": [
       "# house.houseNo"
      ],
      "text/plain": [
       "<IPython.core.display.Markdown object>"
      ]
     },
     "metadata": {},
     "output_type": "display_data"
    },
    {
     "data": {
      "text/markdown": [
       "###  Stats:"
      ],
      "text/plain": [
       "<IPython.core.display.Markdown object>"
      ]
     },
     "metadata": {},
     "output_type": "display_data"
    },
    {
     "data": {
      "text/html": [
       "<div>\n",
       "<style>\n",
       "    .dataframe thead tr:only-child th {\n",
       "        text-align: right;\n",
       "    }\n",
       "\n",
       "    .dataframe thead th {\n",
       "        text-align: left;\n",
       "    }\n",
       "\n",
       "    .dataframe tbody tr th {\n",
       "        vertical-align: top;\n",
       "    }\n",
       "</style>\n",
       "<table border=\"1\" class=\"dataframe\">\n",
       "  <thead>\n",
       "    <tr style=\"text-align: right;\">\n",
       "      <th></th>\n",
       "      <th>house.houseNo</th>\n",
       "    </tr>\n",
       "  </thead>\n",
       "  <tbody>\n",
       "    <tr>\n",
       "      <th>count</th>\n",
       "      <td>61</td>\n",
       "    </tr>\n",
       "    <tr>\n",
       "      <th>unique</th>\n",
       "      <td>37</td>\n",
       "    </tr>\n",
       "    <tr>\n",
       "      <th>top</th>\n",
       "      <td>5</td>\n",
       "    </tr>\n",
       "    <tr>\n",
       "      <th>freq</th>\n",
       "      <td>2</td>\n",
       "    </tr>\n",
       "    <tr>\n",
       "      <th>missing</th>\n",
       "      <td>0</td>\n",
       "    </tr>\n",
       "  </tbody>\n",
       "</table>\n",
       "</div>"
      ],
      "text/plain": [
       "        house.houseNo\n",
       "count              61\n",
       "unique             37\n",
       "top                 5\n",
       "freq                2\n",
       "missing             0"
      ]
     },
     "metadata": {},
     "output_type": "display_data"
    },
    {
     "data": {
      "text/markdown": [
       "###  Top N:"
      ],
      "text/plain": [
       "<IPython.core.display.Markdown object>"
      ]
     },
     "metadata": {},
     "output_type": "display_data"
    },
    {
     "data": {
      "text/html": [
       "<div>\n",
       "<style>\n",
       "    .dataframe thead tr:only-child th {\n",
       "        text-align: right;\n",
       "    }\n",
       "\n",
       "    .dataframe thead th {\n",
       "        text-align: left;\n",
       "    }\n",
       "\n",
       "    .dataframe tbody tr th {\n",
       "        vertical-align: top;\n",
       "    }\n",
       "</style>\n",
       "<table border=\"1\" class=\"dataframe\">\n",
       "  <thead>\n",
       "    <tr style=\"text-align: right;\">\n",
       "      <th></th>\n",
       "      <th>house.houseNo</th>\n",
       "    </tr>\n",
       "  </thead>\n",
       "  <tbody>\n",
       "    <tr>\n",
       "      <th>5</th>\n",
       "      <td>2</td>\n",
       "    </tr>\n",
       "    <tr>\n",
       "      <th>3</th>\n",
       "      <td>2</td>\n",
       "    </tr>\n",
       "    <tr>\n",
       "      <th>19</th>\n",
       "      <td>2</td>\n",
       "    </tr>\n",
       "    <tr>\n",
       "      <th>20</th>\n",
       "      <td>2</td>\n",
       "    </tr>\n",
       "    <tr>\n",
       "      <th>6</th>\n",
       "      <td>2</td>\n",
       "    </tr>\n",
       "    <tr>\n",
       "      <th>9</th>\n",
       "      <td>2</td>\n",
       "    </tr>\n",
       "    <tr>\n",
       "      <th>23</th>\n",
       "      <td>2</td>\n",
       "    </tr>\n",
       "    <tr>\n",
       "      <th>25</th>\n",
       "      <td>2</td>\n",
       "    </tr>\n",
       "    <tr>\n",
       "      <th>18</th>\n",
       "      <td>2</td>\n",
       "    </tr>\n",
       "    <tr>\n",
       "      <th>11</th>\n",
       "      <td>2</td>\n",
       "    </tr>\n",
       "  </tbody>\n",
       "</table>\n",
       "</div>"
      ],
      "text/plain": [
       "    house.houseNo\n",
       "5               2\n",
       "3               2\n",
       "19              2\n",
       "20              2\n",
       "6               2\n",
       "9               2\n",
       "23              2\n",
       "25              2\n",
       "18              2\n",
       "11              2"
      ]
     },
     "metadata": {},
     "output_type": "display_data"
    },
    {
     "data": {
      "text/markdown": [
       "----------"
      ],
      "text/plain": [
       "<IPython.core.display.Markdown object>"
      ]
     },
     "metadata": {},
     "output_type": "display_data"
    },
    {
     "data": {
      "text/markdown": [
       "# house.houseType"
      ],
      "text/plain": [
       "<IPython.core.display.Markdown object>"
      ]
     },
     "metadata": {},
     "output_type": "display_data"
    },
    {
     "data": {
      "text/markdown": [
       "###  Stats:"
      ],
      "text/plain": [
       "<IPython.core.display.Markdown object>"
      ]
     },
     "metadata": {},
     "output_type": "display_data"
    },
    {
     "data": {
      "text/html": [
       "<div>\n",
       "<style>\n",
       "    .dataframe thead tr:only-child th {\n",
       "        text-align: right;\n",
       "    }\n",
       "\n",
       "    .dataframe thead th {\n",
       "        text-align: left;\n",
       "    }\n",
       "\n",
       "    .dataframe tbody tr th {\n",
       "        vertical-align: top;\n",
       "    }\n",
       "</style>\n",
       "<table border=\"1\" class=\"dataframe\">\n",
       "  <thead>\n",
       "    <tr style=\"text-align: right;\">\n",
       "      <th></th>\n",
       "      <th>house.houseType</th>\n",
       "    </tr>\n",
       "  </thead>\n",
       "  <tbody>\n",
       "    <tr>\n",
       "      <th>count</th>\n",
       "      <td>61</td>\n",
       "    </tr>\n",
       "    <tr>\n",
       "      <th>unique</th>\n",
       "      <td>2</td>\n",
       "    </tr>\n",
       "    <tr>\n",
       "      <th>top</th>\n",
       "      <td>dail</td>\n",
       "    </tr>\n",
       "    <tr>\n",
       "      <th>freq</th>\n",
       "      <td>32</td>\n",
       "    </tr>\n",
       "    <tr>\n",
       "      <th>missing</th>\n",
       "      <td>0</td>\n",
       "    </tr>\n",
       "  </tbody>\n",
       "</table>\n",
       "</div>"
      ],
      "text/plain": [
       "        house.houseType\n",
       "count                61\n",
       "unique                2\n",
       "top                dail\n",
       "freq                 32\n",
       "missing               0"
      ]
     },
     "metadata": {},
     "output_type": "display_data"
    },
    {
     "data": {
      "text/markdown": [
       "###  Top N:"
      ],
      "text/plain": [
       "<IPython.core.display.Markdown object>"
      ]
     },
     "metadata": {},
     "output_type": "display_data"
    },
    {
     "data": {
      "text/html": [
       "<div>\n",
       "<style>\n",
       "    .dataframe thead tr:only-child th {\n",
       "        text-align: right;\n",
       "    }\n",
       "\n",
       "    .dataframe thead th {\n",
       "        text-align: left;\n",
       "    }\n",
       "\n",
       "    .dataframe tbody tr th {\n",
       "        vertical-align: top;\n",
       "    }\n",
       "</style>\n",
       "<table border=\"1\" class=\"dataframe\">\n",
       "  <thead>\n",
       "    <tr style=\"text-align: right;\">\n",
       "      <th></th>\n",
       "      <th>house.houseType</th>\n",
       "    </tr>\n",
       "  </thead>\n",
       "  <tbody>\n",
       "    <tr>\n",
       "      <th>dail</th>\n",
       "      <td>32</td>\n",
       "    </tr>\n",
       "    <tr>\n",
       "      <th>seanad</th>\n",
       "      <td>29</td>\n",
       "    </tr>\n",
       "  </tbody>\n",
       "</table>\n",
       "</div>"
      ],
      "text/plain": [
       "        house.houseType\n",
       "dail                 32\n",
       "seanad               29"
      ]
     },
     "metadata": {},
     "output_type": "display_data"
    },
    {
     "data": {
      "text/markdown": [
       "----------"
      ],
      "text/plain": [
       "<IPython.core.display.Markdown object>"
      ]
     },
     "metadata": {},
     "output_type": "display_data"
    },
    {
     "data": {
      "text/markdown": [
       "# house.seats"
      ],
      "text/plain": [
       "<IPython.core.display.Markdown object>"
      ]
     },
     "metadata": {},
     "output_type": "display_data"
    },
    {
     "data": {
      "text/markdown": [
       "###  Stats:"
      ],
      "text/plain": [
       "<IPython.core.display.Markdown object>"
      ]
     },
     "metadata": {},
     "output_type": "display_data"
    },
    {
     "data": {
      "text/html": [
       "<div>\n",
       "<style>\n",
       "    .dataframe thead tr:only-child th {\n",
       "        text-align: right;\n",
       "    }\n",
       "\n",
       "    .dataframe thead th {\n",
       "        text-align: left;\n",
       "    }\n",
       "\n",
       "    .dataframe tbody tr th {\n",
       "        vertical-align: top;\n",
       "    }\n",
       "</style>\n",
       "<table border=\"1\" class=\"dataframe\">\n",
       "  <thead>\n",
       "    <tr style=\"text-align: right;\">\n",
       "      <th></th>\n",
       "      <th>house.seats</th>\n",
       "    </tr>\n",
       "  </thead>\n",
       "  <tbody>\n",
       "    <tr>\n",
       "      <th>count</th>\n",
       "      <td>61.000000</td>\n",
       "    </tr>\n",
       "    <tr>\n",
       "      <th>mean</th>\n",
       "      <td>107.721311</td>\n",
       "    </tr>\n",
       "    <tr>\n",
       "      <th>std</th>\n",
       "      <td>46.680521</td>\n",
       "    </tr>\n",
       "    <tr>\n",
       "      <th>min</th>\n",
       "      <td>60.000000</td>\n",
       "    </tr>\n",
       "    <tr>\n",
       "      <th>25%</th>\n",
       "      <td>60.000000</td>\n",
       "    </tr>\n",
       "    <tr>\n",
       "      <th>50%</th>\n",
       "      <td>128.000000</td>\n",
       "    </tr>\n",
       "    <tr>\n",
       "      <th>75%</th>\n",
       "      <td>153.000000</td>\n",
       "    </tr>\n",
       "    <tr>\n",
       "      <th>max</th>\n",
       "      <td>166.000000</td>\n",
       "    </tr>\n",
       "    <tr>\n",
       "      <th>missing</th>\n",
       "      <td>0.000000</td>\n",
       "    </tr>\n",
       "  </tbody>\n",
       "</table>\n",
       "</div>"
      ],
      "text/plain": [
       "         house.seats\n",
       "count      61.000000\n",
       "mean      107.721311\n",
       "std        46.680521\n",
       "min        60.000000\n",
       "25%        60.000000\n",
       "50%       128.000000\n",
       "75%       153.000000\n",
       "max       166.000000\n",
       "missing     0.000000"
      ]
     },
     "metadata": {},
     "output_type": "display_data"
    },
    {
     "data": {
      "text/markdown": [
       "###  Top N:"
      ],
      "text/plain": [
       "<IPython.core.display.Markdown object>"
      ]
     },
     "metadata": {},
     "output_type": "display_data"
    },
    {
     "data": {
      "text/html": [
       "<div>\n",
       "<style>\n",
       "    .dataframe thead tr:only-child th {\n",
       "        text-align: right;\n",
       "    }\n",
       "\n",
       "    .dataframe thead th {\n",
       "        text-align: left;\n",
       "    }\n",
       "\n",
       "    .dataframe tbody tr th {\n",
       "        vertical-align: top;\n",
       "    }\n",
       "</style>\n",
       "<table border=\"1\" class=\"dataframe\">\n",
       "  <thead>\n",
       "    <tr style=\"text-align: right;\">\n",
       "      <th></th>\n",
       "      <th>house.seats</th>\n",
       "    </tr>\n",
       "  </thead>\n",
       "  <tbody>\n",
       "    <tr>\n",
       "      <th>60</th>\n",
       "      <td>29</td>\n",
       "    </tr>\n",
       "    <tr>\n",
       "      <th>166</th>\n",
       "      <td>10</td>\n",
       "    </tr>\n",
       "    <tr>\n",
       "      <th>153</th>\n",
       "      <td>5</td>\n",
       "    </tr>\n",
       "    <tr>\n",
       "      <th>147</th>\n",
       "      <td>4</td>\n",
       "    </tr>\n",
       "    <tr>\n",
       "      <th>144</th>\n",
       "      <td>4</td>\n",
       "    </tr>\n",
       "    <tr>\n",
       "      <th>138</th>\n",
       "      <td>4</td>\n",
       "    </tr>\n",
       "    <tr>\n",
       "      <th>128</th>\n",
       "      <td>3</td>\n",
       "    </tr>\n",
       "    <tr>\n",
       "      <th>158</th>\n",
       "      <td>1</td>\n",
       "    </tr>\n",
       "    <tr>\n",
       "      <th>148</th>\n",
       "      <td>1</td>\n",
       "    </tr>\n",
       "  </tbody>\n",
       "</table>\n",
       "</div>"
      ],
      "text/plain": [
       "     house.seats\n",
       "60            29\n",
       "166           10\n",
       "153            5\n",
       "147            4\n",
       "144            4\n",
       "138            4\n",
       "128            3\n",
       "158            1\n",
       "148            1"
      ]
     },
     "metadata": {},
     "output_type": "display_data"
    },
    {
     "data": {
      "text/markdown": [
       "----------"
      ],
      "text/plain": [
       "<IPython.core.display.Markdown object>"
      ]
     },
     "metadata": {},
     "output_type": "display_data"
    },
    {
     "data": {
      "text/markdown": [
       "# house.showAs"
      ],
      "text/plain": [
       "<IPython.core.display.Markdown object>"
      ]
     },
     "metadata": {},
     "output_type": "display_data"
    },
    {
     "data": {
      "text/markdown": [
       "###  Stats:"
      ],
      "text/plain": [
       "<IPython.core.display.Markdown object>"
      ]
     },
     "metadata": {},
     "output_type": "display_data"
    },
    {
     "data": {
      "text/html": [
       "<div>\n",
       "<style>\n",
       "    .dataframe thead tr:only-child th {\n",
       "        text-align: right;\n",
       "    }\n",
       "\n",
       "    .dataframe thead th {\n",
       "        text-align: left;\n",
       "    }\n",
       "\n",
       "    .dataframe tbody tr th {\n",
       "        vertical-align: top;\n",
       "    }\n",
       "</style>\n",
       "<table border=\"1\" class=\"dataframe\">\n",
       "  <thead>\n",
       "    <tr style=\"text-align: right;\">\n",
       "      <th></th>\n",
       "      <th>house.showAs</th>\n",
       "    </tr>\n",
       "  </thead>\n",
       "  <tbody>\n",
       "    <tr>\n",
       "      <th>count</th>\n",
       "      <td>61</td>\n",
       "    </tr>\n",
       "    <tr>\n",
       "      <th>unique</th>\n",
       "      <td>61</td>\n",
       "    </tr>\n",
       "    <tr>\n",
       "      <th>top</th>\n",
       "      <td>23rd Seanad</td>\n",
       "    </tr>\n",
       "    <tr>\n",
       "      <th>freq</th>\n",
       "      <td>1</td>\n",
       "    </tr>\n",
       "    <tr>\n",
       "      <th>missing</th>\n",
       "      <td>0</td>\n",
       "    </tr>\n",
       "  </tbody>\n",
       "</table>\n",
       "</div>"
      ],
      "text/plain": [
       "        house.showAs\n",
       "count             61\n",
       "unique            61\n",
       "top      23rd Seanad\n",
       "freq               1\n",
       "missing            0"
      ]
     },
     "metadata": {},
     "output_type": "display_data"
    },
    {
     "data": {
      "text/markdown": [
       "###  Top N:"
      ],
      "text/plain": [
       "<IPython.core.display.Markdown object>"
      ]
     },
     "metadata": {},
     "output_type": "display_data"
    },
    {
     "data": {
      "text/html": [
       "<div>\n",
       "<style>\n",
       "    .dataframe thead tr:only-child th {\n",
       "        text-align: right;\n",
       "    }\n",
       "\n",
       "    .dataframe thead th {\n",
       "        text-align: left;\n",
       "    }\n",
       "\n",
       "    .dataframe tbody tr th {\n",
       "        vertical-align: top;\n",
       "    }\n",
       "</style>\n",
       "<table border=\"1\" class=\"dataframe\">\n",
       "  <thead>\n",
       "    <tr style=\"text-align: right;\">\n",
       "      <th></th>\n",
       "      <th>house.showAs</th>\n",
       "    </tr>\n",
       "  </thead>\n",
       "  <tbody>\n",
       "    <tr>\n",
       "      <th>23rd Seanad</th>\n",
       "      <td>1</td>\n",
       "    </tr>\n",
       "    <tr>\n",
       "      <th>2nd Dáil</th>\n",
       "      <td>1</td>\n",
       "    </tr>\n",
       "    <tr>\n",
       "      <th>21st Seanad</th>\n",
       "      <td>1</td>\n",
       "    </tr>\n",
       "    <tr>\n",
       "      <th>1934 Seanad</th>\n",
       "      <td>1</td>\n",
       "    </tr>\n",
       "    <tr>\n",
       "      <th>14th Seanad</th>\n",
       "      <td>1</td>\n",
       "    </tr>\n",
       "    <tr>\n",
       "      <th>5th Dáil</th>\n",
       "      <td>1</td>\n",
       "    </tr>\n",
       "    <tr>\n",
       "      <th>1922 Seanad</th>\n",
       "      <td>1</td>\n",
       "    </tr>\n",
       "    <tr>\n",
       "      <th>15th Seanad</th>\n",
       "      <td>1</td>\n",
       "    </tr>\n",
       "    <tr>\n",
       "      <th>4th Seanad</th>\n",
       "      <td>1</td>\n",
       "    </tr>\n",
       "    <tr>\n",
       "      <th>22nd Seanad</th>\n",
       "      <td>1</td>\n",
       "    </tr>\n",
       "  </tbody>\n",
       "</table>\n",
       "</div>"
      ],
      "text/plain": [
       "             house.showAs\n",
       "23rd Seanad             1\n",
       "2nd Dáil                1\n",
       "21st Seanad             1\n",
       "1934 Seanad             1\n",
       "14th Seanad             1\n",
       "5th Dáil                1\n",
       "1922 Seanad             1\n",
       "15th Seanad             1\n",
       "4th Seanad              1\n",
       "22nd Seanad             1"
      ]
     },
     "metadata": {},
     "output_type": "display_data"
    },
    {
     "data": {
      "text/markdown": [
       "----------"
      ],
      "text/plain": [
       "<IPython.core.display.Markdown object>"
      ]
     },
     "metadata": {},
     "output_type": "display_data"
    },
    {
     "data": {
      "text/markdown": [
       "# house.uri"
      ],
      "text/plain": [
       "<IPython.core.display.Markdown object>"
      ]
     },
     "metadata": {},
     "output_type": "display_data"
    },
    {
     "data": {
      "text/markdown": [
       "###  Stats:"
      ],
      "text/plain": [
       "<IPython.core.display.Markdown object>"
      ]
     },
     "metadata": {},
     "output_type": "display_data"
    },
    {
     "data": {
      "text/html": [
       "<div>\n",
       "<style>\n",
       "    .dataframe thead tr:only-child th {\n",
       "        text-align: right;\n",
       "    }\n",
       "\n",
       "    .dataframe thead th {\n",
       "        text-align: left;\n",
       "    }\n",
       "\n",
       "    .dataframe tbody tr th {\n",
       "        vertical-align: top;\n",
       "    }\n",
       "</style>\n",
       "<table border=\"1\" class=\"dataframe\">\n",
       "  <thead>\n",
       "    <tr style=\"text-align: right;\">\n",
       "      <th></th>\n",
       "      <th>house.uri</th>\n",
       "    </tr>\n",
       "  </thead>\n",
       "  <tbody>\n",
       "    <tr>\n",
       "      <th>count</th>\n",
       "      <td>61</td>\n",
       "    </tr>\n",
       "    <tr>\n",
       "      <th>unique</th>\n",
       "      <td>61</td>\n",
       "    </tr>\n",
       "    <tr>\n",
       "      <th>top</th>\n",
       "      <td>/ie/oireachtas/house/dail/8</td>\n",
       "    </tr>\n",
       "    <tr>\n",
       "      <th>freq</th>\n",
       "      <td>1</td>\n",
       "    </tr>\n",
       "    <tr>\n",
       "      <th>missing</th>\n",
       "      <td>0</td>\n",
       "    </tr>\n",
       "  </tbody>\n",
       "</table>\n",
       "</div>"
      ],
      "text/plain": [
       "                           house.uri\n",
       "count                             61\n",
       "unique                            61\n",
       "top      /ie/oireachtas/house/dail/8\n",
       "freq                               1\n",
       "missing                            0"
      ]
     },
     "metadata": {},
     "output_type": "display_data"
    },
    {
     "data": {
      "text/markdown": [
       "###  Top N:"
      ],
      "text/plain": [
       "<IPython.core.display.Markdown object>"
      ]
     },
     "metadata": {},
     "output_type": "display_data"
    },
    {
     "data": {
      "text/html": [
       "<div>\n",
       "<style>\n",
       "    .dataframe thead tr:only-child th {\n",
       "        text-align: right;\n",
       "    }\n",
       "\n",
       "    .dataframe thead th {\n",
       "        text-align: left;\n",
       "    }\n",
       "\n",
       "    .dataframe tbody tr th {\n",
       "        vertical-align: top;\n",
       "    }\n",
       "</style>\n",
       "<table border=\"1\" class=\"dataframe\">\n",
       "  <thead>\n",
       "    <tr style=\"text-align: right;\">\n",
       "      <th></th>\n",
       "      <th>house.uri</th>\n",
       "    </tr>\n",
       "  </thead>\n",
       "  <tbody>\n",
       "    <tr>\n",
       "      <th>/ie/oireachtas/house/dail/8</th>\n",
       "      <td>1</td>\n",
       "    </tr>\n",
       "    <tr>\n",
       "      <th>/ie/oireachtas/house/dail/1</th>\n",
       "      <td>1</td>\n",
       "    </tr>\n",
       "    <tr>\n",
       "      <th>/ie/oireachtas/house/seanad/5</th>\n",
       "      <td>1</td>\n",
       "    </tr>\n",
       "    <tr>\n",
       "      <th>/ie/oireachtas/house/dail/13</th>\n",
       "      <td>1</td>\n",
       "    </tr>\n",
       "    <tr>\n",
       "      <th>/ie/oireachtas/house/seanad/20</th>\n",
       "      <td>1</td>\n",
       "    </tr>\n",
       "    <tr>\n",
       "      <th>/ie/oireachtas/house/dail/9</th>\n",
       "      <td>1</td>\n",
       "    </tr>\n",
       "    <tr>\n",
       "      <th>/ie/oireachtas/house/dail/24</th>\n",
       "      <td>1</td>\n",
       "    </tr>\n",
       "    <tr>\n",
       "      <th>/ie/oireachtas/house/dail/11</th>\n",
       "      <td>1</td>\n",
       "    </tr>\n",
       "    <tr>\n",
       "      <th>/ie/oireachtas/house/dail/12</th>\n",
       "      <td>1</td>\n",
       "    </tr>\n",
       "    <tr>\n",
       "      <th>/ie/oireachtas/house/dail/31</th>\n",
       "      <td>1</td>\n",
       "    </tr>\n",
       "  </tbody>\n",
       "</table>\n",
       "</div>"
      ],
      "text/plain": [
       "                                house.uri\n",
       "/ie/oireachtas/house/dail/8             1\n",
       "/ie/oireachtas/house/dail/1             1\n",
       "/ie/oireachtas/house/seanad/5           1\n",
       "/ie/oireachtas/house/dail/13            1\n",
       "/ie/oireachtas/house/seanad/20          1\n",
       "/ie/oireachtas/house/dail/9             1\n",
       "/ie/oireachtas/house/dail/24            1\n",
       "/ie/oireachtas/house/dail/11            1\n",
       "/ie/oireachtas/house/dail/12            1\n",
       "/ie/oireachtas/house/dail/31            1"
      ]
     },
     "metadata": {},
     "output_type": "display_data"
    },
    {
     "data": {
      "text/markdown": [
       "----------"
      ],
      "text/plain": [
       "<IPython.core.display.Markdown object>"
      ]
     },
     "metadata": {},
     "output_type": "display_data"
    },
    {
     "data": {
      "text/markdown": [
       "# esid"
      ],
      "text/plain": [
       "<IPython.core.display.Markdown object>"
      ]
     },
     "metadata": {},
     "output_type": "display_data"
    },
    {
     "data": {
      "text/markdown": [
       "###  Stats:"
      ],
      "text/plain": [
       "<IPython.core.display.Markdown object>"
      ]
     },
     "metadata": {},
     "output_type": "display_data"
    },
    {
     "data": {
      "text/html": [
       "<div>\n",
       "<style>\n",
       "    .dataframe thead tr:only-child th {\n",
       "        text-align: right;\n",
       "    }\n",
       "\n",
       "    .dataframe thead th {\n",
       "        text-align: left;\n",
       "    }\n",
       "\n",
       "    .dataframe tbody tr th {\n",
       "        vertical-align: top;\n",
       "    }\n",
       "</style>\n",
       "<table border=\"1\" class=\"dataframe\">\n",
       "  <thead>\n",
       "    <tr style=\"text-align: right;\">\n",
       "      <th></th>\n",
       "      <th>esid</th>\n",
       "    </tr>\n",
       "  </thead>\n",
       "  <tbody>\n",
       "    <tr>\n",
       "      <th>count</th>\n",
       "      <td>61</td>\n",
       "    </tr>\n",
       "    <tr>\n",
       "      <th>unique</th>\n",
       "      <td>61</td>\n",
       "    </tr>\n",
       "    <tr>\n",
       "      <th>top</th>\n",
       "      <td>data-houses-ieoireachtashousedail31</td>\n",
       "    </tr>\n",
       "    <tr>\n",
       "      <th>freq</th>\n",
       "      <td>1</td>\n",
       "    </tr>\n",
       "    <tr>\n",
       "      <th>missing</th>\n",
       "      <td>0</td>\n",
       "    </tr>\n",
       "  </tbody>\n",
       "</table>\n",
       "</div>"
      ],
      "text/plain": [
       "                                        esid\n",
       "count                                     61\n",
       "unique                                    61\n",
       "top      data-houses-ieoireachtashousedail31\n",
       "freq                                       1\n",
       "missing                                    0"
      ]
     },
     "metadata": {},
     "output_type": "display_data"
    },
    {
     "data": {
      "text/markdown": [
       "###  Top N:"
      ],
      "text/plain": [
       "<IPython.core.display.Markdown object>"
      ]
     },
     "metadata": {},
     "output_type": "display_data"
    },
    {
     "data": {
      "text/html": [
       "<div>\n",
       "<style>\n",
       "    .dataframe thead tr:only-child th {\n",
       "        text-align: right;\n",
       "    }\n",
       "\n",
       "    .dataframe thead th {\n",
       "        text-align: left;\n",
       "    }\n",
       "\n",
       "    .dataframe tbody tr th {\n",
       "        vertical-align: top;\n",
       "    }\n",
       "</style>\n",
       "<table border=\"1\" class=\"dataframe\">\n",
       "  <thead>\n",
       "    <tr style=\"text-align: right;\">\n",
       "      <th></th>\n",
       "      <th>esid</th>\n",
       "    </tr>\n",
       "  </thead>\n",
       "  <tbody>\n",
       "    <tr>\n",
       "      <th>data-houses-ieoireachtashousedail31</th>\n",
       "      <td>1</td>\n",
       "    </tr>\n",
       "    <tr>\n",
       "      <th>data-houses-ieoireachtashouseseanad1928</th>\n",
       "      <td>1</td>\n",
       "    </tr>\n",
       "    <tr>\n",
       "      <th>data-houses-ieoireachtashousedail1</th>\n",
       "      <td>1</td>\n",
       "    </tr>\n",
       "    <tr>\n",
       "      <th>data-houses-ieoireachtashousedail14</th>\n",
       "      <td>1</td>\n",
       "    </tr>\n",
       "    <tr>\n",
       "      <th>data-houses-ieoireachtashouseseanad11</th>\n",
       "      <td>1</td>\n",
       "    </tr>\n",
       "    <tr>\n",
       "      <th>data-houses-ieoireachtashouseseanad9</th>\n",
       "      <td>1</td>\n",
       "    </tr>\n",
       "    <tr>\n",
       "      <th>data-houses-ieoireachtashouseseanad10</th>\n",
       "      <td>1</td>\n",
       "    </tr>\n",
       "    <tr>\n",
       "      <th>data-houses-ieoireachtashousedail8</th>\n",
       "      <td>1</td>\n",
       "    </tr>\n",
       "    <tr>\n",
       "      <th>data-houses-ieoireachtashousedail2</th>\n",
       "      <td>1</td>\n",
       "    </tr>\n",
       "    <tr>\n",
       "      <th>data-houses-ieoireachtashousedail3</th>\n",
       "      <td>1</td>\n",
       "    </tr>\n",
       "  </tbody>\n",
       "</table>\n",
       "</div>"
      ],
      "text/plain": [
       "                                         esid\n",
       "data-houses-ieoireachtashousedail31         1\n",
       "data-houses-ieoireachtashouseseanad1928     1\n",
       "data-houses-ieoireachtashousedail1          1\n",
       "data-houses-ieoireachtashousedail14         1\n",
       "data-houses-ieoireachtashouseseanad11       1\n",
       "data-houses-ieoireachtashouseseanad9        1\n",
       "data-houses-ieoireachtashouseseanad10       1\n",
       "data-houses-ieoireachtashousedail8          1\n",
       "data-houses-ieoireachtashousedail2          1\n",
       "data-houses-ieoireachtashousedail3          1"
      ]
     },
     "metadata": {},
     "output_type": "display_data"
    },
    {
     "data": {
      "text/markdown": [
       "----------"
      ],
      "text/plain": [
       "<IPython.core.display.Markdown object>"
      ]
     },
     "metadata": {},
     "output_type": "display_data"
    },
    {
     "data": {
      "text/markdown": [
       "# party.partyCode"
      ],
      "text/plain": [
       "<IPython.core.display.Markdown object>"
      ]
     },
     "metadata": {},
     "output_type": "display_data"
    },
    {
     "data": {
      "text/markdown": [
       "###  Stats:"
      ],
      "text/plain": [
       "<IPython.core.display.Markdown object>"
      ]
     },
     "metadata": {},
     "output_type": "display_data"
    },
    {
     "data": {
      "text/html": [
       "<div>\n",
       "<style>\n",
       "    .dataframe thead tr:only-child th {\n",
       "        text-align: right;\n",
       "    }\n",
       "\n",
       "    .dataframe thead th {\n",
       "        text-align: left;\n",
       "    }\n",
       "\n",
       "    .dataframe tbody tr th {\n",
       "        vertical-align: top;\n",
       "    }\n",
       "</style>\n",
       "<table border=\"1\" class=\"dataframe\">\n",
       "  <thead>\n",
       "    <tr style=\"text-align: right;\">\n",
       "      <th></th>\n",
       "      <th>party.partyCode</th>\n",
       "    </tr>\n",
       "  </thead>\n",
       "  <tbody>\n",
       "    <tr>\n",
       "      <th>count</th>\n",
       "      <td>356</td>\n",
       "    </tr>\n",
       "    <tr>\n",
       "      <th>unique</th>\n",
       "      <td>35</td>\n",
       "    </tr>\n",
       "    <tr>\n",
       "      <th>top</th>\n",
       "      <td>Independent</td>\n",
       "    </tr>\n",
       "    <tr>\n",
       "      <th>freq</th>\n",
       "      <td>59</td>\n",
       "    </tr>\n",
       "    <tr>\n",
       "      <th>missing</th>\n",
       "      <td>0</td>\n",
       "    </tr>\n",
       "  </tbody>\n",
       "</table>\n",
       "</div>"
      ],
      "text/plain": [
       "        party.partyCode\n",
       "count               356\n",
       "unique               35\n",
       "top         Independent\n",
       "freq                 59\n",
       "missing               0"
      ]
     },
     "metadata": {},
     "output_type": "display_data"
    },
    {
     "data": {
      "text/markdown": [
       "###  Top N:"
      ],
      "text/plain": [
       "<IPython.core.display.Markdown object>"
      ]
     },
     "metadata": {},
     "output_type": "display_data"
    },
    {
     "data": {
      "text/html": [
       "<div>\n",
       "<style>\n",
       "    .dataframe thead tr:only-child th {\n",
       "        text-align: right;\n",
       "    }\n",
       "\n",
       "    .dataframe thead th {\n",
       "        text-align: left;\n",
       "    }\n",
       "\n",
       "    .dataframe tbody tr th {\n",
       "        vertical-align: top;\n",
       "    }\n",
       "</style>\n",
       "<table border=\"1\" class=\"dataframe\">\n",
       "  <thead>\n",
       "    <tr style=\"text-align: right;\">\n",
       "      <th></th>\n",
       "      <th>party.partyCode</th>\n",
       "    </tr>\n",
       "  </thead>\n",
       "  <tbody>\n",
       "    <tr>\n",
       "      <th>Independent</th>\n",
       "      <td>59</td>\n",
       "    </tr>\n",
       "    <tr>\n",
       "      <th>Labour_Party</th>\n",
       "      <td>57</td>\n",
       "    </tr>\n",
       "    <tr>\n",
       "      <th>Fianna_Fáil</th>\n",
       "      <td>55</td>\n",
       "    </tr>\n",
       "    <tr>\n",
       "      <th>Fine_Gael</th>\n",
       "      <td>49</td>\n",
       "    </tr>\n",
       "    <tr>\n",
       "      <th>Ceann_Comhairle</th>\n",
       "      <td>26</td>\n",
       "    </tr>\n",
       "    <tr>\n",
       "      <th>Clann_na_Talmhan</th>\n",
       "      <td>14</td>\n",
       "    </tr>\n",
       "    <tr>\n",
       "      <th>Progressive_Democrats</th>\n",
       "      <td>12</td>\n",
       "    </tr>\n",
       "    <tr>\n",
       "      <th>Sinn_Féin</th>\n",
       "      <td>12</td>\n",
       "    </tr>\n",
       "    <tr>\n",
       "      <th>Cumann_na_nGaedheal</th>\n",
       "      <td>9</td>\n",
       "    </tr>\n",
       "    <tr>\n",
       "      <th>Clann_na_Poblachta</th>\n",
       "      <td>8</td>\n",
       "    </tr>\n",
       "  </tbody>\n",
       "</table>\n",
       "</div>"
      ],
      "text/plain": [
       "                       party.partyCode\n",
       "Independent                         59\n",
       "Labour_Party                        57\n",
       "Fianna_Fáil                         55\n",
       "Fine_Gael                           49\n",
       "Ceann_Comhairle                     26\n",
       "Clann_na_Talmhan                    14\n",
       "Progressive_Democrats               12\n",
       "Sinn_Féin                           12\n",
       "Cumann_na_nGaedheal                  9\n",
       "Clann_na_Poblachta                   8"
      ]
     },
     "metadata": {},
     "output_type": "display_data"
    },
    {
     "data": {
      "text/markdown": [
       "----------"
      ],
      "text/plain": [
       "<IPython.core.display.Markdown object>"
      ]
     },
     "metadata": {},
     "output_type": "display_data"
    },
    {
     "data": {
      "text/markdown": [
       "# party.showAs"
      ],
      "text/plain": [
       "<IPython.core.display.Markdown object>"
      ]
     },
     "metadata": {},
     "output_type": "display_data"
    },
    {
     "data": {
      "text/markdown": [
       "###  Stats:"
      ],
      "text/plain": [
       "<IPython.core.display.Markdown object>"
      ]
     },
     "metadata": {},
     "output_type": "display_data"
    },
    {
     "data": {
      "text/html": [
       "<div>\n",
       "<style>\n",
       "    .dataframe thead tr:only-child th {\n",
       "        text-align: right;\n",
       "    }\n",
       "\n",
       "    .dataframe thead th {\n",
       "        text-align: left;\n",
       "    }\n",
       "\n",
       "    .dataframe tbody tr th {\n",
       "        vertical-align: top;\n",
       "    }\n",
       "</style>\n",
       "<table border=\"1\" class=\"dataframe\">\n",
       "  <thead>\n",
       "    <tr style=\"text-align: right;\">\n",
       "      <th></th>\n",
       "      <th>party.showAs</th>\n",
       "    </tr>\n",
       "  </thead>\n",
       "  <tbody>\n",
       "    <tr>\n",
       "      <th>count</th>\n",
       "      <td>356</td>\n",
       "    </tr>\n",
       "    <tr>\n",
       "      <th>unique</th>\n",
       "      <td>35</td>\n",
       "    </tr>\n",
       "    <tr>\n",
       "      <th>top</th>\n",
       "      <td>Independent</td>\n",
       "    </tr>\n",
       "    <tr>\n",
       "      <th>freq</th>\n",
       "      <td>59</td>\n",
       "    </tr>\n",
       "    <tr>\n",
       "      <th>missing</th>\n",
       "      <td>0</td>\n",
       "    </tr>\n",
       "  </tbody>\n",
       "</table>\n",
       "</div>"
      ],
      "text/plain": [
       "        party.showAs\n",
       "count            356\n",
       "unique            35\n",
       "top      Independent\n",
       "freq              59\n",
       "missing            0"
      ]
     },
     "metadata": {},
     "output_type": "display_data"
    },
    {
     "data": {
      "text/markdown": [
       "###  Top N:"
      ],
      "text/plain": [
       "<IPython.core.display.Markdown object>"
      ]
     },
     "metadata": {},
     "output_type": "display_data"
    },
    {
     "data": {
      "text/html": [
       "<div>\n",
       "<style>\n",
       "    .dataframe thead tr:only-child th {\n",
       "        text-align: right;\n",
       "    }\n",
       "\n",
       "    .dataframe thead th {\n",
       "        text-align: left;\n",
       "    }\n",
       "\n",
       "    .dataframe tbody tr th {\n",
       "        vertical-align: top;\n",
       "    }\n",
       "</style>\n",
       "<table border=\"1\" class=\"dataframe\">\n",
       "  <thead>\n",
       "    <tr style=\"text-align: right;\">\n",
       "      <th></th>\n",
       "      <th>party.showAs</th>\n",
       "    </tr>\n",
       "  </thead>\n",
       "  <tbody>\n",
       "    <tr>\n",
       "      <th>Independent</th>\n",
       "      <td>59</td>\n",
       "    </tr>\n",
       "    <tr>\n",
       "      <th>Labour Party</th>\n",
       "      <td>57</td>\n",
       "    </tr>\n",
       "    <tr>\n",
       "      <th>Fianna Fáil</th>\n",
       "      <td>55</td>\n",
       "    </tr>\n",
       "    <tr>\n",
       "      <th>Fine Gael</th>\n",
       "      <td>49</td>\n",
       "    </tr>\n",
       "    <tr>\n",
       "      <th>Ceann Comhairle</th>\n",
       "      <td>26</td>\n",
       "    </tr>\n",
       "    <tr>\n",
       "      <th>Clann na Talmhan</th>\n",
       "      <td>14</td>\n",
       "    </tr>\n",
       "    <tr>\n",
       "      <th>Progressive Democrats</th>\n",
       "      <td>12</td>\n",
       "    </tr>\n",
       "    <tr>\n",
       "      <th>Sinn Féin</th>\n",
       "      <td>12</td>\n",
       "    </tr>\n",
       "    <tr>\n",
       "      <th>Cumann na nGaedheal</th>\n",
       "      <td>9</td>\n",
       "    </tr>\n",
       "    <tr>\n",
       "      <th>Clann na Poblachta</th>\n",
       "      <td>8</td>\n",
       "    </tr>\n",
       "  </tbody>\n",
       "</table>\n",
       "</div>"
      ],
      "text/plain": [
       "                       party.showAs\n",
       "Independent                      59\n",
       "Labour Party                     57\n",
       "Fianna Fáil                      55\n",
       "Fine Gael                        49\n",
       "Ceann Comhairle                  26\n",
       "Clann na Talmhan                 14\n",
       "Progressive Democrats            12\n",
       "Sinn Féin                        12\n",
       "Cumann na nGaedheal               9\n",
       "Clann na Poblachta                8"
      ]
     },
     "metadata": {},
     "output_type": "display_data"
    },
    {
     "data": {
      "text/markdown": [
       "----------"
      ],
      "text/plain": [
       "<IPython.core.display.Markdown object>"
      ]
     },
     "metadata": {},
     "output_type": "display_data"
    },
    {
     "data": {
      "text/markdown": [
       "# party.uri"
      ],
      "text/plain": [
       "<IPython.core.display.Markdown object>"
      ]
     },
     "metadata": {},
     "output_type": "display_data"
    },
    {
     "data": {
      "text/markdown": [
       "###  Stats:"
      ],
      "text/plain": [
       "<IPython.core.display.Markdown object>"
      ]
     },
     "metadata": {},
     "output_type": "display_data"
    },
    {
     "data": {
      "text/html": [
       "<div>\n",
       "<style>\n",
       "    .dataframe thead tr:only-child th {\n",
       "        text-align: right;\n",
       "    }\n",
       "\n",
       "    .dataframe thead th {\n",
       "        text-align: left;\n",
       "    }\n",
       "\n",
       "    .dataframe tbody tr th {\n",
       "        vertical-align: top;\n",
       "    }\n",
       "</style>\n",
       "<table border=\"1\" class=\"dataframe\">\n",
       "  <thead>\n",
       "    <tr style=\"text-align: right;\">\n",
       "      <th></th>\n",
       "      <th>party.uri</th>\n",
       "    </tr>\n",
       "  </thead>\n",
       "  <tbody>\n",
       "    <tr>\n",
       "      <th>count</th>\n",
       "      <td>356</td>\n",
       "    </tr>\n",
       "    <tr>\n",
       "      <th>unique</th>\n",
       "      <td>356</td>\n",
       "    </tr>\n",
       "    <tr>\n",
       "      <th>top</th>\n",
       "      <td>/ie/oireachtas/party/dail/27/Fianna_Fáil</td>\n",
       "    </tr>\n",
       "    <tr>\n",
       "      <th>freq</th>\n",
       "      <td>1</td>\n",
       "    </tr>\n",
       "    <tr>\n",
       "      <th>missing</th>\n",
       "      <td>0</td>\n",
       "    </tr>\n",
       "  </tbody>\n",
       "</table>\n",
       "</div>"
      ],
      "text/plain": [
       "                                        party.uri\n",
       "count                                         356\n",
       "unique                                        356\n",
       "top      /ie/oireachtas/party/dail/27/Fianna_Fáil\n",
       "freq                                            1\n",
       "missing                                         0"
      ]
     },
     "metadata": {},
     "output_type": "display_data"
    },
    {
     "data": {
      "text/markdown": [
       "###  Top N:"
      ],
      "text/plain": [
       "<IPython.core.display.Markdown object>"
      ]
     },
     "metadata": {},
     "output_type": "display_data"
    },
    {
     "data": {
      "text/html": [
       "<div>\n",
       "<style>\n",
       "    .dataframe thead tr:only-child th {\n",
       "        text-align: right;\n",
       "    }\n",
       "\n",
       "    .dataframe thead th {\n",
       "        text-align: left;\n",
       "    }\n",
       "\n",
       "    .dataframe tbody tr th {\n",
       "        vertical-align: top;\n",
       "    }\n",
       "</style>\n",
       "<table border=\"1\" class=\"dataframe\">\n",
       "  <thead>\n",
       "    <tr style=\"text-align: right;\">\n",
       "      <th></th>\n",
       "      <th>party.uri</th>\n",
       "    </tr>\n",
       "  </thead>\n",
       "  <tbody>\n",
       "    <tr>\n",
       "      <th>/ie/oireachtas/party/dail/27/Fianna_Fáil</th>\n",
       "      <td>1</td>\n",
       "    </tr>\n",
       "    <tr>\n",
       "      <th>/ie/oireachtas/party/dail/7/Independent</th>\n",
       "      <td>1</td>\n",
       "    </tr>\n",
       "    <tr>\n",
       "      <th>/ie/oireachtas/party/dail/17/Labour_Party</th>\n",
       "      <td>1</td>\n",
       "    </tr>\n",
       "    <tr>\n",
       "      <th>/ie/oireachtas/party/dail/10/Fianna_Fáil</th>\n",
       "      <td>1</td>\n",
       "    </tr>\n",
       "    <tr>\n",
       "      <th>/ie/oireachtas/party/seanad/23/Fianna_Fáil</th>\n",
       "      <td>1</td>\n",
       "    </tr>\n",
       "    <tr>\n",
       "      <th>/ie/oireachtas/party/dail/6/Independent</th>\n",
       "      <td>1</td>\n",
       "    </tr>\n",
       "    <tr>\n",
       "      <th>/ie/oireachtas/party/seanad/4/Clann_na_Talmhan</th>\n",
       "      <td>1</td>\n",
       "    </tr>\n",
       "    <tr>\n",
       "      <th>/ie/oireachtas/party/dail/10/Ceann_Comhairle</th>\n",
       "      <td>1</td>\n",
       "    </tr>\n",
       "    <tr>\n",
       "      <th>/ie/oireachtas/party/dail/16/Clann_na_Talmhan</th>\n",
       "      <td>1</td>\n",
       "    </tr>\n",
       "    <tr>\n",
       "      <th>/ie/oireachtas/party/seanad/25/Independent</th>\n",
       "      <td>1</td>\n",
       "    </tr>\n",
       "  </tbody>\n",
       "</table>\n",
       "</div>"
      ],
      "text/plain": [
       "                                                party.uri\n",
       "/ie/oireachtas/party/dail/27/Fianna_Fáil                1\n",
       "/ie/oireachtas/party/dail/7/Independent                 1\n",
       "/ie/oireachtas/party/dail/17/Labour_Party               1\n",
       "/ie/oireachtas/party/dail/10/Fianna_Fáil                1\n",
       "/ie/oireachtas/party/seanad/23/Fianna_Fáil              1\n",
       "/ie/oireachtas/party/dail/6/Independent                 1\n",
       "/ie/oireachtas/party/seanad/4/Clann_na_Talmhan          1\n",
       "/ie/oireachtas/party/dail/10/Ceann_Comhairle            1\n",
       "/ie/oireachtas/party/dail/16/Clann_na_Talmhan           1\n",
       "/ie/oireachtas/party/seanad/25/Independent              1"
      ]
     },
     "metadata": {},
     "output_type": "display_data"
    },
    {
     "data": {
      "text/markdown": [
       "----------"
      ],
      "text/plain": [
       "<IPython.core.display.Markdown object>"
      ]
     },
     "metadata": {},
     "output_type": "display_data"
    },
    {
     "data": {
      "text/markdown": [
       "# constituencyOrPanel.representCode"
      ],
      "text/plain": [
       "<IPython.core.display.Markdown object>"
      ]
     },
     "metadata": {},
     "output_type": "display_data"
    },
    {
     "data": {
      "text/markdown": [
       "###  Stats:"
      ],
      "text/plain": [
       "<IPython.core.display.Markdown object>"
      ]
     },
     "metadata": {},
     "output_type": "display_data"
    },
    {
     "data": {
      "text/html": [
       "<div>\n",
       "<style>\n",
       "    .dataframe thead tr:only-child th {\n",
       "        text-align: right;\n",
       "    }\n",
       "\n",
       "    .dataframe thead th {\n",
       "        text-align: left;\n",
       "    }\n",
       "\n",
       "    .dataframe tbody tr th {\n",
       "        vertical-align: top;\n",
       "    }\n",
       "</style>\n",
       "<table border=\"1\" class=\"dataframe\">\n",
       "  <thead>\n",
       "    <tr style=\"text-align: right;\">\n",
       "      <th></th>\n",
       "      <th>constituencyOrPanel.representCode</th>\n",
       "    </tr>\n",
       "  </thead>\n",
       "  <tbody>\n",
       "    <tr>\n",
       "      <th>count</th>\n",
       "      <td>1436</td>\n",
       "    </tr>\n",
       "    <tr>\n",
       "      <th>unique</th>\n",
       "      <td>198</td>\n",
       "    </tr>\n",
       "    <tr>\n",
       "      <th>top</th>\n",
       "      <td>National-University-of-Ireland</td>\n",
       "    </tr>\n",
       "    <tr>\n",
       "      <th>freq</th>\n",
       "      <td>32</td>\n",
       "    </tr>\n",
       "    <tr>\n",
       "      <th>missing</th>\n",
       "      <td>0</td>\n",
       "    </tr>\n",
       "  </tbody>\n",
       "</table>\n",
       "</div>"
      ],
      "text/plain": [
       "        constituencyOrPanel.representCode\n",
       "count                                1436\n",
       "unique                                198\n",
       "top        National-University-of-Ireland\n",
       "freq                                   32\n",
       "missing                                 0"
      ]
     },
     "metadata": {},
     "output_type": "display_data"
    },
    {
     "data": {
      "text/markdown": [
       "###  Top N:"
      ],
      "text/plain": [
       "<IPython.core.display.Markdown object>"
      ]
     },
     "metadata": {},
     "output_type": "display_data"
    },
    {
     "data": {
      "text/html": [
       "<div>\n",
       "<style>\n",
       "    .dataframe thead tr:only-child th {\n",
       "        text-align: right;\n",
       "    }\n",
       "\n",
       "    .dataframe thead th {\n",
       "        text-align: left;\n",
       "    }\n",
       "\n",
       "    .dataframe tbody tr th {\n",
       "        vertical-align: top;\n",
       "    }\n",
       "</style>\n",
       "<table border=\"1\" class=\"dataframe\">\n",
       "  <thead>\n",
       "    <tr style=\"text-align: right;\">\n",
       "      <th></th>\n",
       "      <th>constituencyOrPanel.representCode</th>\n",
       "    </tr>\n",
       "  </thead>\n",
       "  <tbody>\n",
       "    <tr>\n",
       "      <th>National-University-of-Ireland</th>\n",
       "      <td>32</td>\n",
       "    </tr>\n",
       "    <tr>\n",
       "      <th>Wexford</th>\n",
       "      <td>31</td>\n",
       "    </tr>\n",
       "    <tr>\n",
       "      <th>Clare</th>\n",
       "      <td>31</td>\n",
       "    </tr>\n",
       "    <tr>\n",
       "      <th>Louth</th>\n",
       "      <td>30</td>\n",
       "    </tr>\n",
       "    <tr>\n",
       "      <th>Wicklow</th>\n",
       "      <td>29</td>\n",
       "    </tr>\n",
       "    <tr>\n",
       "      <th>Waterford</th>\n",
       "      <td>29</td>\n",
       "    </tr>\n",
       "    <tr>\n",
       "      <th>Carlow–Kilkenny</th>\n",
       "      <td>26</td>\n",
       "    </tr>\n",
       "    <tr>\n",
       "      <th>University-of-Dublin</th>\n",
       "      <td>25</td>\n",
       "    </tr>\n",
       "    <tr>\n",
       "      <th>Labour-Panel</th>\n",
       "      <td>24</td>\n",
       "    </tr>\n",
       "    <tr>\n",
       "      <th>Galway-West</th>\n",
       "      <td>24</td>\n",
       "    </tr>\n",
       "  </tbody>\n",
       "</table>\n",
       "</div>"
      ],
      "text/plain": [
       "                                constituencyOrPanel.representCode\n",
       "National-University-of-Ireland                                 32\n",
       "Wexford                                                        31\n",
       "Clare                                                          31\n",
       "Louth                                                          30\n",
       "Wicklow                                                        29\n",
       "Waterford                                                      29\n",
       "Carlow–Kilkenny                                                26\n",
       "University-of-Dublin                                           25\n",
       "Labour-Panel                                                   24\n",
       "Galway-West                                                    24"
      ]
     },
     "metadata": {},
     "output_type": "display_data"
    },
    {
     "data": {
      "text/markdown": [
       "----------"
      ],
      "text/plain": [
       "<IPython.core.display.Markdown object>"
      ]
     },
     "metadata": {},
     "output_type": "display_data"
    },
    {
     "data": {
      "text/markdown": [
       "# constituencyOrPanel.representType"
      ],
      "text/plain": [
       "<IPython.core.display.Markdown object>"
      ]
     },
     "metadata": {},
     "output_type": "display_data"
    },
    {
     "data": {
      "text/markdown": [
       "###  Stats:"
      ],
      "text/plain": [
       "<IPython.core.display.Markdown object>"
      ]
     },
     "metadata": {},
     "output_type": "display_data"
    },
    {
     "data": {
      "text/html": [
       "<div>\n",
       "<style>\n",
       "    .dataframe thead tr:only-child th {\n",
       "        text-align: right;\n",
       "    }\n",
       "\n",
       "    .dataframe thead th {\n",
       "        text-align: left;\n",
       "    }\n",
       "\n",
       "    .dataframe tbody tr th {\n",
       "        vertical-align: top;\n",
       "    }\n",
       "</style>\n",
       "<table border=\"1\" class=\"dataframe\">\n",
       "  <thead>\n",
       "    <tr style=\"text-align: right;\">\n",
       "      <th></th>\n",
       "      <th>constituencyOrPanel.representType</th>\n",
       "    </tr>\n",
       "  </thead>\n",
       "  <tbody>\n",
       "    <tr>\n",
       "      <th>count</th>\n",
       "      <td>1436</td>\n",
       "    </tr>\n",
       "    <tr>\n",
       "      <th>unique</th>\n",
       "      <td>2</td>\n",
       "    </tr>\n",
       "    <tr>\n",
       "      <th>top</th>\n",
       "      <td>constituency</td>\n",
       "    </tr>\n",
       "    <tr>\n",
       "      <th>freq</th>\n",
       "      <td>1236</td>\n",
       "    </tr>\n",
       "    <tr>\n",
       "      <th>missing</th>\n",
       "      <td>0</td>\n",
       "    </tr>\n",
       "  </tbody>\n",
       "</table>\n",
       "</div>"
      ],
      "text/plain": [
       "        constituencyOrPanel.representType\n",
       "count                                1436\n",
       "unique                                  2\n",
       "top                          constituency\n",
       "freq                                 1236\n",
       "missing                                 0"
      ]
     },
     "metadata": {},
     "output_type": "display_data"
    },
    {
     "data": {
      "text/markdown": [
       "###  Top N:"
      ],
      "text/plain": [
       "<IPython.core.display.Markdown object>"
      ]
     },
     "metadata": {},
     "output_type": "display_data"
    },
    {
     "data": {
      "text/html": [
       "<div>\n",
       "<style>\n",
       "    .dataframe thead tr:only-child th {\n",
       "        text-align: right;\n",
       "    }\n",
       "\n",
       "    .dataframe thead th {\n",
       "        text-align: left;\n",
       "    }\n",
       "\n",
       "    .dataframe tbody tr th {\n",
       "        vertical-align: top;\n",
       "    }\n",
       "</style>\n",
       "<table border=\"1\" class=\"dataframe\">\n",
       "  <thead>\n",
       "    <tr style=\"text-align: right;\">\n",
       "      <th></th>\n",
       "      <th>constituencyOrPanel.representType</th>\n",
       "    </tr>\n",
       "  </thead>\n",
       "  <tbody>\n",
       "    <tr>\n",
       "      <th>constituency</th>\n",
       "      <td>1236</td>\n",
       "    </tr>\n",
       "    <tr>\n",
       "      <th>panel</th>\n",
       "      <td>200</td>\n",
       "    </tr>\n",
       "  </tbody>\n",
       "</table>\n",
       "</div>"
      ],
      "text/plain": [
       "              constituencyOrPanel.representType\n",
       "constituency                               1236\n",
       "panel                                       200"
      ]
     },
     "metadata": {},
     "output_type": "display_data"
    },
    {
     "data": {
      "text/markdown": [
       "----------"
      ],
      "text/plain": [
       "<IPython.core.display.Markdown object>"
      ]
     },
     "metadata": {},
     "output_type": "display_data"
    },
    {
     "data": {
      "text/markdown": [
       "# constituencyOrPanel.showAs"
      ],
      "text/plain": [
       "<IPython.core.display.Markdown object>"
      ]
     },
     "metadata": {},
     "output_type": "display_data"
    },
    {
     "data": {
      "text/markdown": [
       "###  Stats:"
      ],
      "text/plain": [
       "<IPython.core.display.Markdown object>"
      ]
     },
     "metadata": {},
     "output_type": "display_data"
    },
    {
     "data": {
      "text/html": [
       "<div>\n",
       "<style>\n",
       "    .dataframe thead tr:only-child th {\n",
       "        text-align: right;\n",
       "    }\n",
       "\n",
       "    .dataframe thead th {\n",
       "        text-align: left;\n",
       "    }\n",
       "\n",
       "    .dataframe tbody tr th {\n",
       "        vertical-align: top;\n",
       "    }\n",
       "</style>\n",
       "<table border=\"1\" class=\"dataframe\">\n",
       "  <thead>\n",
       "    <tr style=\"text-align: right;\">\n",
       "      <th></th>\n",
       "      <th>constituencyOrPanel.showAs</th>\n",
       "    </tr>\n",
       "  </thead>\n",
       "  <tbody>\n",
       "    <tr>\n",
       "      <th>count</th>\n",
       "      <td>1436</td>\n",
       "    </tr>\n",
       "    <tr>\n",
       "      <th>unique</th>\n",
       "      <td>198</td>\n",
       "    </tr>\n",
       "    <tr>\n",
       "      <th>top</th>\n",
       "      <td>National University of Ireland</td>\n",
       "    </tr>\n",
       "    <tr>\n",
       "      <th>freq</th>\n",
       "      <td>32</td>\n",
       "    </tr>\n",
       "    <tr>\n",
       "      <th>missing</th>\n",
       "      <td>0</td>\n",
       "    </tr>\n",
       "  </tbody>\n",
       "</table>\n",
       "</div>"
      ],
      "text/plain": [
       "             constituencyOrPanel.showAs\n",
       "count                              1436\n",
       "unique                              198\n",
       "top      National University of Ireland\n",
       "freq                                 32\n",
       "missing                               0"
      ]
     },
     "metadata": {},
     "output_type": "display_data"
    },
    {
     "data": {
      "text/markdown": [
       "###  Top N:"
      ],
      "text/plain": [
       "<IPython.core.display.Markdown object>"
      ]
     },
     "metadata": {},
     "output_type": "display_data"
    },
    {
     "data": {
      "text/html": [
       "<div>\n",
       "<style>\n",
       "    .dataframe thead tr:only-child th {\n",
       "        text-align: right;\n",
       "    }\n",
       "\n",
       "    .dataframe thead th {\n",
       "        text-align: left;\n",
       "    }\n",
       "\n",
       "    .dataframe tbody tr th {\n",
       "        vertical-align: top;\n",
       "    }\n",
       "</style>\n",
       "<table border=\"1\" class=\"dataframe\">\n",
       "  <thead>\n",
       "    <tr style=\"text-align: right;\">\n",
       "      <th></th>\n",
       "      <th>constituencyOrPanel.showAs</th>\n",
       "    </tr>\n",
       "  </thead>\n",
       "  <tbody>\n",
       "    <tr>\n",
       "      <th>National University of Ireland</th>\n",
       "      <td>32</td>\n",
       "    </tr>\n",
       "    <tr>\n",
       "      <th>Wexford</th>\n",
       "      <td>31</td>\n",
       "    </tr>\n",
       "    <tr>\n",
       "      <th>Clare</th>\n",
       "      <td>31</td>\n",
       "    </tr>\n",
       "    <tr>\n",
       "      <th>Louth</th>\n",
       "      <td>30</td>\n",
       "    </tr>\n",
       "    <tr>\n",
       "      <th>Waterford</th>\n",
       "      <td>29</td>\n",
       "    </tr>\n",
       "    <tr>\n",
       "      <th>Wicklow</th>\n",
       "      <td>29</td>\n",
       "    </tr>\n",
       "    <tr>\n",
       "      <th>Carlow–Kilkenny</th>\n",
       "      <td>26</td>\n",
       "    </tr>\n",
       "    <tr>\n",
       "      <th>University of Dublin</th>\n",
       "      <td>25</td>\n",
       "    </tr>\n",
       "    <tr>\n",
       "      <th>Kerry South</th>\n",
       "      <td>24</td>\n",
       "    </tr>\n",
       "    <tr>\n",
       "      <th>Nominated by the Taoiseach</th>\n",
       "      <td>24</td>\n",
       "    </tr>\n",
       "  </tbody>\n",
       "</table>\n",
       "</div>"
      ],
      "text/plain": [
       "                                constituencyOrPanel.showAs\n",
       "National University of Ireland                          32\n",
       "Wexford                                                 31\n",
       "Clare                                                   31\n",
       "Louth                                                   30\n",
       "Waterford                                               29\n",
       "Wicklow                                                 29\n",
       "Carlow–Kilkenny                                         26\n",
       "University of Dublin                                    25\n",
       "Kerry South                                             24\n",
       "Nominated by the Taoiseach                              24"
      ]
     },
     "metadata": {},
     "output_type": "display_data"
    },
    {
     "data": {
      "text/markdown": [
       "----------"
      ],
      "text/plain": [
       "<IPython.core.display.Markdown object>"
      ]
     },
     "metadata": {},
     "output_type": "display_data"
    },
    {
     "data": {
      "text/markdown": [
       "# constituencyOrPanel.uri"
      ],
      "text/plain": [
       "<IPython.core.display.Markdown object>"
      ]
     },
     "metadata": {},
     "output_type": "display_data"
    },
    {
     "data": {
      "text/markdown": [
       "###  Stats:"
      ],
      "text/plain": [
       "<IPython.core.display.Markdown object>"
      ]
     },
     "metadata": {},
     "output_type": "display_data"
    },
    {
     "data": {
      "text/html": [
       "<div>\n",
       "<style>\n",
       "    .dataframe thead tr:only-child th {\n",
       "        text-align: right;\n",
       "    }\n",
       "\n",
       "    .dataframe thead th {\n",
       "        text-align: left;\n",
       "    }\n",
       "\n",
       "    .dataframe tbody tr th {\n",
       "        vertical-align: top;\n",
       "    }\n",
       "</style>\n",
       "<table border=\"1\" class=\"dataframe\">\n",
       "  <thead>\n",
       "    <tr style=\"text-align: right;\">\n",
       "      <th></th>\n",
       "      <th>constituencyOrPanel.uri</th>\n",
       "    </tr>\n",
       "  </thead>\n",
       "  <tbody>\n",
       "    <tr>\n",
       "      <th>count</th>\n",
       "      <td>1436</td>\n",
       "    </tr>\n",
       "    <tr>\n",
       "      <th>unique</th>\n",
       "      <td>1435</td>\n",
       "    </tr>\n",
       "    <tr>\n",
       "      <th>top</th>\n",
       "      <td>/ie/oireachtas/house/dail/3/constituency/Cavan</td>\n",
       "    </tr>\n",
       "    <tr>\n",
       "      <th>freq</th>\n",
       "      <td>2</td>\n",
       "    </tr>\n",
       "    <tr>\n",
       "      <th>missing</th>\n",
       "      <td>0</td>\n",
       "    </tr>\n",
       "  </tbody>\n",
       "</table>\n",
       "</div>"
      ],
      "text/plain": [
       "                                constituencyOrPanel.uri\n",
       "count                                              1436\n",
       "unique                                             1435\n",
       "top      /ie/oireachtas/house/dail/3/constituency/Cavan\n",
       "freq                                                  2\n",
       "missing                                               0"
      ]
     },
     "metadata": {},
     "output_type": "display_data"
    },
    {
     "data": {
      "text/markdown": [
       "###  Top N:"
      ],
      "text/plain": [
       "<IPython.core.display.Markdown object>"
      ]
     },
     "metadata": {},
     "output_type": "display_data"
    },
    {
     "data": {
      "text/html": [
       "<div>\n",
       "<style>\n",
       "    .dataframe thead tr:only-child th {\n",
       "        text-align: right;\n",
       "    }\n",
       "\n",
       "    .dataframe thead th {\n",
       "        text-align: left;\n",
       "    }\n",
       "\n",
       "    .dataframe tbody tr th {\n",
       "        vertical-align: top;\n",
       "    }\n",
       "</style>\n",
       "<table border=\"1\" class=\"dataframe\">\n",
       "  <thead>\n",
       "    <tr style=\"text-align: right;\">\n",
       "      <th></th>\n",
       "      <th>constituencyOrPanel.uri</th>\n",
       "    </tr>\n",
       "  </thead>\n",
       "  <tbody>\n",
       "    <tr>\n",
       "      <th>/ie/oireachtas/house/dail/3/constituency/Cavan</th>\n",
       "      <td>2</td>\n",
       "    </tr>\n",
       "    <tr>\n",
       "      <th>/ie/oireachtas/house/seanad/10/panel/University-of-Dublin</th>\n",
       "      <td>1</td>\n",
       "    </tr>\n",
       "    <tr>\n",
       "      <th>/ie/oireachtas/house/dail/18/constituency/Wexford</th>\n",
       "      <td>1</td>\n",
       "    </tr>\n",
       "    <tr>\n",
       "      <th>/ie/oireachtas/house/dail/10/constituency/Dublin-South</th>\n",
       "      <td>1</td>\n",
       "    </tr>\n",
       "    <tr>\n",
       "      <th>/ie/oireachtas/house/dail/21/constituency/Dublin-County-South</th>\n",
       "      <td>1</td>\n",
       "    </tr>\n",
       "    <tr>\n",
       "      <th>/ie/oireachtas/house/dail/26/constituency/Dublin-North–Central</th>\n",
       "      <td>1</td>\n",
       "    </tr>\n",
       "    <tr>\n",
       "      <th>/ie/oireachtas/house/dail/5/constituency/Cork-West</th>\n",
       "      <td>1</td>\n",
       "    </tr>\n",
       "    <tr>\n",
       "      <th>/ie/oireachtas/house/dail/24/constituency/Tipperary-South</th>\n",
       "      <td>1</td>\n",
       "    </tr>\n",
       "    <tr>\n",
       "      <th>/ie/oireachtas/house/seanad/12/panel/Nominated-by-the-Taoiseach</th>\n",
       "      <td>1</td>\n",
       "    </tr>\n",
       "    <tr>\n",
       "      <th>/ie/oireachtas/house/dail/17/constituency/Dublin-North–East</th>\n",
       "      <td>1</td>\n",
       "    </tr>\n",
       "  </tbody>\n",
       "</table>\n",
       "</div>"
      ],
      "text/plain": [
       "                                                    constituencyOrPanel.uri\n",
       "/ie/oireachtas/house/dail/3/constituency/Cavan                            2\n",
       "/ie/oireachtas/house/seanad/10/panel/University...                        1\n",
       "/ie/oireachtas/house/dail/18/constituency/Wexford                         1\n",
       "/ie/oireachtas/house/dail/10/constituency/Dubli...                        1\n",
       "/ie/oireachtas/house/dail/21/constituency/Dubli...                        1\n",
       "/ie/oireachtas/house/dail/26/constituency/Dubli...                        1\n",
       "/ie/oireachtas/house/dail/5/constituency/Cork-West                        1\n",
       "/ie/oireachtas/house/dail/24/constituency/Tippe...                        1\n",
       "/ie/oireachtas/house/seanad/12/panel/Nominated-...                        1\n",
       "/ie/oireachtas/house/dail/17/constituency/Dubli...                        1"
      ]
     },
     "metadata": {},
     "output_type": "display_data"
    }
   ],
   "source": [
    "describe_with_top_n(df_house)\n",
    "describe_with_top_n(df_parties)\n",
    "describe_with_top_n(df_constituencies)"
   ]
  },
  {
   "cell_type": "code",
   "execution_count": 25,
   "metadata": {
    "collapsed": true
   },
   "outputs": [],
   "source": []
  },
  {
   "cell_type": "code",
   "execution_count": null,
   "metadata": {
    "collapsed": true
   },
   "outputs": [],
   "source": []
  }
 ],
 "metadata": {
  "kernelspec": {
   "display_name": "Python 3",
   "language": "python",
   "name": "python3"
  },
  "language_info": {
   "codemirror_mode": {
    "name": "ipython",
    "version": 3
   },
   "file_extension": ".py",
   "mimetype": "text/x-python",
   "name": "python",
   "nbconvert_exporter": "python",
   "pygments_lexer": "ipython3",
   "version": "3.6.1"
  }
 },
 "nbformat": 4,
 "nbformat_minor": 2
}
